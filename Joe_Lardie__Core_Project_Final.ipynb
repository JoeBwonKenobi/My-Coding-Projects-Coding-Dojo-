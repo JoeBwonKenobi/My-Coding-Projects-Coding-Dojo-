{
  "nbformat": 4,
  "nbformat_minor": 0,
  "metadata": {
    "colab": {
      "provenance": [],
      "toc_visible": true,
      "authorship_tag": "ABX9TyMoGQfO52b1Frr7HNJiFdCh",
      "include_colab_link": true
    },
    "kernelspec": {
      "name": "python3",
      "display_name": "Python 3"
    },
    "language_info": {
      "name": "python"
    }
  },
  "cells": [
    {
      "cell_type": "markdown",
      "metadata": {
        "id": "view-in-github",
        "colab_type": "text"
      },
      "source": [
        "<a href=\"https://colab.research.google.com/github/JoeBwonKenobi/Sales-Prediction-Project/blob/main/Joe_Lardie__Core_Project_Final.ipynb\" target=\"_parent\"><img src=\"https://colab.research.google.com/assets/colab-badge.svg\" alt=\"Open In Colab\"/></a>"
      ]
    },
    {
      "cell_type": "markdown",
      "source": [
        "#**Sales Prediction Project**\n",
        "\n",
        "Joe Lardie\n",
        "\n",
        "Dec 2022"
      ],
      "metadata": {
        "id": "q7_KaPghJJ0R"
      }
    },
    {
      "cell_type": "markdown",
      "source": [
        "#**Overview of Project**"
      ],
      "metadata": {
        "id": "QCCGS2SY2Dfk"
      }
    },
    {
      "cell_type": "markdown",
      "source": [
        "#**Part 1**\n",
        "\n",
        "This is an overview of the steps you will need to complete for part one of the project. There are more detailed instructions for each section following the overview.\n",
        "\n",
        "1) Create a GitHub Account\n",
        "\n",
        "2) Set up a GitHub repository that will house your first portfolio project.\n",
        "\n",
        "3) Add Markdown cells with your name and section headers to the notebook.\n",
        "\n",
        "4) Add the Google Colab Notebook to your GitHub repository.\n",
        "\n",
        "5) Submit the link to your GitHub repo!"
      ],
      "metadata": {
        "id": "7Pq20Z__qAix"
      }
    },
    {
      "cell_type": "markdown",
      "source": [
        "#**Part 2**\n",
        "\n",
        "Your task is to use Pandas to load in the data and start exploring and cleaning it.  As data scientists, about 80% of our time is spent on data preparation - so this is a very important step!\n",
        "\n",
        "Download the data using this link: download the data. (Note: Original data source).\n",
        "Insert code below the heading \"Loading Data\"\n",
        "Use Pandas to read the sales prediction data set into Google Colab.\n",
        "Use df.info() and df.head() methods to preview the first rows of your data and a summary of your DataFrame's columns.\n",
        "Insert code below the heading \"Data Cleaning\"\n",
        "Explore the data - what do you need to do to clean this data? Clean it!\n",
        "Be sure to address each of the following tasks:\n",
        "1) How many rows and columns?\n",
        "\n",
        "2) What are the datatypes of each variable?\n",
        "\n",
        "3) Are there duplicates? If so, drop any duplicates.\n",
        "\n",
        "4) Identify missing values.\n",
        "\n",
        "5) Decide on how to address the missing values and do it! (This requires your judgement, so explain your choice).\n",
        "\n",
        "6) Confirm that there are no missing values after addressing them.\n",
        "\n",
        "7) Find and fix any inconsistent categories of data (example: fix cat, Cat, and cats so that they are consistent).\n",
        "\n",
        "8) For any numerical columns, obtain the summary statistics of each (min, max, mean).\n",
        "\n",
        "Here are a few resources to help you consider more advanced ways to deal with missing values in your dataset "
      ],
      "metadata": {
        "id": "vQCRNclgrAYg"
      }
    },
    {
      "cell_type": "markdown",
      "source": [
        "Link to the original dataset on Kaggle\n",
        "\n",
        "https://www.kaggle.com/datasets/ruchi798/data-science-job-salaries"
      ],
      "metadata": {
        "id": "zkcgB1XFsoEq"
      }
    },
    {
      "cell_type": "markdown",
      "source": [
        "# **Part 3**\n",
        "Your task is to complete any statistical analyses that might help you understand, explain, or model with your data.\n",
        "\n",
        "This must include at least one of each:\n",
        "\n",
        "Histogram to view the distributions of various features in your dataset.\n",
        "\n",
        "Boxplot to view statistical summaries of various features in your dataset.\n",
        "\n",
        "Heatmap of the correlation between features."
      ],
      "metadata": {
        "id": "KC8pci2P8yAa"
      }
    },
    {
      "cell_type": "markdown",
      "source": [
        "# **Part 4**\n",
        "your task is to build several data visualizations to help your stakeholders better understand trends in the data.\n",
        "\n",
        "Feel free to get creative with this week - this is your chance to set your project apart from others with exceptional visualizations and analyses.\n",
        "\n",
        "Build on your previous cleaning, exploration, and analysis.\n",
        "\n",
        "Create a minimum of two data visualizations that help others understand trends in the data (explanatory data analysis).\n",
        "\n",
        "Since these graphs are for reporting purposes, make sure they look nice by including titles, legends, etc."
      ],
      "metadata": {
        "id": "O9K4OaS09CKj"
      }
    },
    {
      "cell_type": "markdown",
      "source": [
        "##**Data Dictionary**"
      ],
      "metadata": {
        "id": "Mq31XnWTsqLE"
      }
    },
    {
      "cell_type": "markdown",
      "source": [
        "![DS Salaries Data Dictionary.png](data:image/png;base64,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)"
      ],
      "metadata": {
        "id": "zwiLmEkokflx"
      }
    },
    {
      "cell_type": "markdown",
      "source": [
        "##**Imports**"
      ],
      "metadata": {
        "id": "S7gr4jFryINz"
      }
    },
    {
      "cell_type": "code",
      "source": [
        "#Numpy\n",
        "import numpy as np\n",
        "from numpy import median\n",
        "\n",
        "#Pandas\n",
        "import pandas as pd\n",
        "\n",
        "#Seaborn\n",
        "import seaborn as sns\n",
        "\n",
        "#matplotlib\n",
        "import matplotlib.pyplot as plt\n",
        "\n",
        "#Preprocessor\n",
        "from numpy import median\n",
        "from sklearn.preprocessing import StandardScaler\n",
        "from sklearn.preprocessing import OneHotEncoder\n",
        "from sklearn.model_selection import train_test_split\n",
        "from sklearn.compose import make_column_selector\n",
        "from sklearn.compose import make_column_transformer\n",
        "from sklearn.impute import SimpleImputer\n",
        "from sklearn.pipeline import make_pipeline\n",
        "\n",
        "#Models\n",
        "from sklearn.tree import DecisionTreeRegressor\n",
        "from sklearn.linear_model import LinearRegression\n",
        "from sklearn.ensemble import RandomForestRegressor\n",
        "\n",
        "#Regression metrics\n",
        "from sklearn.metrics import r2_score\n",
        "from sklearn.metrics import mean_absolute_error\n",
        "from sklearn.metrics import mean_squared_error\n",
        "\n",
        "#Set global scikit-learn configuration\n",
        "from sklearn import set_config\n",
        "\n",
        "#Display estimators as a diagram\n",
        "set_config(display='diagram')"
      ],
      "metadata": {
        "id": "lityUlpPKZw7"
      },
      "execution_count": null,
      "outputs": []
    },
    {
      "cell_type": "markdown",
      "source": [
        "##**Loading Data**"
      ],
      "metadata": {
        "id": "siRKPlphyVni"
      }
    },
    {
      "cell_type": "code",
      "execution_count": null,
      "metadata": {
        "colab": {
          "base_uri": "https://localhost:8080/"
        },
        "id": "It8UdTOJFyrR",
        "outputId": "2bc094ec-eea1-46d8-f3c9-269f0d37574a"
      },
      "outputs": [
        {
          "output_type": "stream",
          "name": "stdout",
          "text": [
            "Drive already mounted at /content/drive/; to attempt to forcibly remount, call drive.mount(\"/content/drive/\", force_remount=True).\n"
          ]
        }
      ],
      "source": [
        "from google.colab import drive\n",
        "drive.mount('/content/drive/')\n"
      ]
    },
    {
      "cell_type": "code",
      "source": [
        "sales_df= pd.read_csv('/content/sales_predictions.csv')\n",
        "sales_df.info()\n",
        "sales_df.head()"
      ],
      "metadata": {
        "colab": {
          "base_uri": "https://localhost:8080/",
          "height": 707
        },
        "id": "edMeXfA-x4zo",
        "outputId": "e9e36cd6-2ff5-4393-b772-1e6d0fb9b350"
      },
      "execution_count": null,
      "outputs": [
        {
          "output_type": "stream",
          "name": "stdout",
          "text": [
            "<class 'pandas.core.frame.DataFrame'>\n",
            "RangeIndex: 8523 entries, 0 to 8522\n",
            "Data columns (total 12 columns):\n",
            " #   Column                     Non-Null Count  Dtype  \n",
            "---  ------                     --------------  -----  \n",
            " 0   Item_Identifier            8523 non-null   object \n",
            " 1   Item_Weight                7060 non-null   float64\n",
            " 2   Item_Fat_Content           8523 non-null   object \n",
            " 3   Item_Visibility            8523 non-null   float64\n",
            " 4   Item_Type                  8523 non-null   object \n",
            " 5   Item_MRP                   8523 non-null   float64\n",
            " 6   Outlet_Identifier          8523 non-null   object \n",
            " 7   Outlet_Establishment_Year  8523 non-null   int64  \n",
            " 8   Outlet_Size                6113 non-null   object \n",
            " 9   Outlet_Location_Type       8523 non-null   object \n",
            " 10  Outlet_Type                8523 non-null   object \n",
            " 11  Item_Outlet_Sales          8523 non-null   float64\n",
            "dtypes: float64(4), int64(1), object(7)\n",
            "memory usage: 799.2+ KB\n"
          ]
        },
        {
          "output_type": "execute_result",
          "data": {
            "text/plain": [
              "  Item_Identifier  Item_Weight Item_Fat_Content  Item_Visibility  \\\n",
              "0           FDA15         9.30          Low Fat         0.016047   \n",
              "1           DRC01         5.92          Regular         0.019278   \n",
              "2           FDN15        17.50          Low Fat         0.016760   \n",
              "3           FDX07        19.20          Regular         0.000000   \n",
              "4           NCD19         8.93          Low Fat         0.000000   \n",
              "\n",
              "               Item_Type  Item_MRP Outlet_Identifier  \\\n",
              "0                  Dairy  249.8092            OUT049   \n",
              "1            Soft Drinks   48.2692            OUT018   \n",
              "2                   Meat  141.6180            OUT049   \n",
              "3  Fruits and Vegetables  182.0950            OUT010   \n",
              "4              Household   53.8614            OUT013   \n",
              "\n",
              "   Outlet_Establishment_Year Outlet_Size Outlet_Location_Type  \\\n",
              "0                       1999      Medium               Tier 1   \n",
              "1                       2009      Medium               Tier 3   \n",
              "2                       1999      Medium               Tier 1   \n",
              "3                       1998         NaN               Tier 3   \n",
              "4                       1987        High               Tier 3   \n",
              "\n",
              "         Outlet_Type  Item_Outlet_Sales  \n",
              "0  Supermarket Type1          3735.1380  \n",
              "1  Supermarket Type2           443.4228  \n",
              "2  Supermarket Type1          2097.2700  \n",
              "3      Grocery Store           732.3800  \n",
              "4  Supermarket Type1           994.7052  "
            ],
            "text/html": [
              "\n",
              "  <div id=\"df-c439cb05-baff-4a7d-b3ee-dc1af77d8354\">\n",
              "    <div class=\"colab-df-container\">\n",
              "      <div>\n",
              "<style scoped>\n",
              "    .dataframe tbody tr th:only-of-type {\n",
              "        vertical-align: middle;\n",
              "    }\n",
              "\n",
              "    .dataframe tbody tr th {\n",
              "        vertical-align: top;\n",
              "    }\n",
              "\n",
              "    .dataframe thead th {\n",
              "        text-align: right;\n",
              "    }\n",
              "</style>\n",
              "<table border=\"1\" class=\"dataframe\">\n",
              "  <thead>\n",
              "    <tr style=\"text-align: right;\">\n",
              "      <th></th>\n",
              "      <th>Item_Identifier</th>\n",
              "      <th>Item_Weight</th>\n",
              "      <th>Item_Fat_Content</th>\n",
              "      <th>Item_Visibility</th>\n",
              "      <th>Item_Type</th>\n",
              "      <th>Item_MRP</th>\n",
              "      <th>Outlet_Identifier</th>\n",
              "      <th>Outlet_Establishment_Year</th>\n",
              "      <th>Outlet_Size</th>\n",
              "      <th>Outlet_Location_Type</th>\n",
              "      <th>Outlet_Type</th>\n",
              "      <th>Item_Outlet_Sales</th>\n",
              "    </tr>\n",
              "  </thead>\n",
              "  <tbody>\n",
              "    <tr>\n",
              "      <th>0</th>\n",
              "      <td>FDA15</td>\n",
              "      <td>9.30</td>\n",
              "      <td>Low Fat</td>\n",
              "      <td>0.016047</td>\n",
              "      <td>Dairy</td>\n",
              "      <td>249.8092</td>\n",
              "      <td>OUT049</td>\n",
              "      <td>1999</td>\n",
              "      <td>Medium</td>\n",
              "      <td>Tier 1</td>\n",
              "      <td>Supermarket Type1</td>\n",
              "      <td>3735.1380</td>\n",
              "    </tr>\n",
              "    <tr>\n",
              "      <th>1</th>\n",
              "      <td>DRC01</td>\n",
              "      <td>5.92</td>\n",
              "      <td>Regular</td>\n",
              "      <td>0.019278</td>\n",
              "      <td>Soft Drinks</td>\n",
              "      <td>48.2692</td>\n",
              "      <td>OUT018</td>\n",
              "      <td>2009</td>\n",
              "      <td>Medium</td>\n",
              "      <td>Tier 3</td>\n",
              "      <td>Supermarket Type2</td>\n",
              "      <td>443.4228</td>\n",
              "    </tr>\n",
              "    <tr>\n",
              "      <th>2</th>\n",
              "      <td>FDN15</td>\n",
              "      <td>17.50</td>\n",
              "      <td>Low Fat</td>\n",
              "      <td>0.016760</td>\n",
              "      <td>Meat</td>\n",
              "      <td>141.6180</td>\n",
              "      <td>OUT049</td>\n",
              "      <td>1999</td>\n",
              "      <td>Medium</td>\n",
              "      <td>Tier 1</td>\n",
              "      <td>Supermarket Type1</td>\n",
              "      <td>2097.2700</td>\n",
              "    </tr>\n",
              "    <tr>\n",
              "      <th>3</th>\n",
              "      <td>FDX07</td>\n",
              "      <td>19.20</td>\n",
              "      <td>Regular</td>\n",
              "      <td>0.000000</td>\n",
              "      <td>Fruits and Vegetables</td>\n",
              "      <td>182.0950</td>\n",
              "      <td>OUT010</td>\n",
              "      <td>1998</td>\n",
              "      <td>NaN</td>\n",
              "      <td>Tier 3</td>\n",
              "      <td>Grocery Store</td>\n",
              "      <td>732.3800</td>\n",
              "    </tr>\n",
              "    <tr>\n",
              "      <th>4</th>\n",
              "      <td>NCD19</td>\n",
              "      <td>8.93</td>\n",
              "      <td>Low Fat</td>\n",
              "      <td>0.000000</td>\n",
              "      <td>Household</td>\n",
              "      <td>53.8614</td>\n",
              "      <td>OUT013</td>\n",
              "      <td>1987</td>\n",
              "      <td>High</td>\n",
              "      <td>Tier 3</td>\n",
              "      <td>Supermarket Type1</td>\n",
              "      <td>994.7052</td>\n",
              "    </tr>\n",
              "  </tbody>\n",
              "</table>\n",
              "</div>\n",
              "      <button class=\"colab-df-convert\" onclick=\"convertToInteractive('df-c439cb05-baff-4a7d-b3ee-dc1af77d8354')\"\n",
              "              title=\"Convert this dataframe to an interactive table.\"\n",
              "              style=\"display:none;\">\n",
              "        \n",
              "  <svg xmlns=\"http://www.w3.org/2000/svg\" height=\"24px\"viewBox=\"0 0 24 24\"\n",
              "       width=\"24px\">\n",
              "    <path d=\"M0 0h24v24H0V0z\" fill=\"none\"/>\n",
              "    <path d=\"M18.56 5.44l.94 2.06.94-2.06 2.06-.94-2.06-.94-.94-2.06-.94 2.06-2.06.94zm-11 1L8.5 8.5l.94-2.06 2.06-.94-2.06-.94L8.5 2.5l-.94 2.06-2.06.94zm10 10l.94 2.06.94-2.06 2.06-.94-2.06-.94-.94-2.06-.94 2.06-2.06.94z\"/><path d=\"M17.41 7.96l-1.37-1.37c-.4-.4-.92-.59-1.43-.59-.52 0-1.04.2-1.43.59L10.3 9.45l-7.72 7.72c-.78.78-.78 2.05 0 2.83L4 21.41c.39.39.9.59 1.41.59.51 0 1.02-.2 1.41-.59l7.78-7.78 2.81-2.81c.8-.78.8-2.07 0-2.86zM5.41 20L4 18.59l7.72-7.72 1.47 1.35L5.41 20z\"/>\n",
              "  </svg>\n",
              "      </button>\n",
              "      \n",
              "  <style>\n",
              "    .colab-df-container {\n",
              "      display:flex;\n",
              "      flex-wrap:wrap;\n",
              "      gap: 12px;\n",
              "    }\n",
              "\n",
              "    .colab-df-convert {\n",
              "      background-color: #E8F0FE;\n",
              "      border: none;\n",
              "      border-radius: 50%;\n",
              "      cursor: pointer;\n",
              "      display: none;\n",
              "      fill: #1967D2;\n",
              "      height: 32px;\n",
              "      padding: 0 0 0 0;\n",
              "      width: 32px;\n",
              "    }\n",
              "\n",
              "    .colab-df-convert:hover {\n",
              "      background-color: #E2EBFA;\n",
              "      box-shadow: 0px 1px 2px rgba(60, 64, 67, 0.3), 0px 1px 3px 1px rgba(60, 64, 67, 0.15);\n",
              "      fill: #174EA6;\n",
              "    }\n",
              "\n",
              "    [theme=dark] .colab-df-convert {\n",
              "      background-color: #3B4455;\n",
              "      fill: #D2E3FC;\n",
              "    }\n",
              "\n",
              "    [theme=dark] .colab-df-convert:hover {\n",
              "      background-color: #434B5C;\n",
              "      box-shadow: 0px 1px 3px 1px rgba(0, 0, 0, 0.15);\n",
              "      filter: drop-shadow(0px 1px 2px rgba(0, 0, 0, 0.3));\n",
              "      fill: #FFFFFF;\n",
              "    }\n",
              "  </style>\n",
              "\n",
              "      <script>\n",
              "        const buttonEl =\n",
              "          document.querySelector('#df-c439cb05-baff-4a7d-b3ee-dc1af77d8354 button.colab-df-convert');\n",
              "        buttonEl.style.display =\n",
              "          google.colab.kernel.accessAllowed ? 'block' : 'none';\n",
              "\n",
              "        async function convertToInteractive(key) {\n",
              "          const element = document.querySelector('#df-c439cb05-baff-4a7d-b3ee-dc1af77d8354');\n",
              "          const dataTable =\n",
              "            await google.colab.kernel.invokeFunction('convertToInteractive',\n",
              "                                                     [key], {});\n",
              "          if (!dataTable) return;\n",
              "\n",
              "          const docLinkHtml = 'Like what you see? Visit the ' +\n",
              "            '<a target=\"_blank\" href=https://colab.research.google.com/notebooks/data_table.ipynb>data table notebook</a>'\n",
              "            + ' to learn more about interactive tables.';\n",
              "          element.innerHTML = '';\n",
              "          dataTable['output_type'] = 'display_data';\n",
              "          await google.colab.output.renderOutput(dataTable, element);\n",
              "          const docLink = document.createElement('div');\n",
              "          docLink.innerHTML = docLinkHtml;\n",
              "          element.appendChild(docLink);\n",
              "        }\n",
              "      </script>\n",
              "    </div>\n",
              "  </div>\n",
              "  "
            ]
          },
          "metadata": {},
          "execution_count": 3
        }
      ]
    },
    {
      "cell_type": "markdown",
      "source": [
        "##**Data Cleaning**"
      ],
      "metadata": {
        "id": "r40xour0yxHH"
      }
    },
    {
      "cell_type": "code",
      "source": [
        "#Rows & Column count: 12 colums and 8523 rows\n",
        "#Data types of each variable.\n",
        "sales_df.info()"
      ],
      "metadata": {
        "colab": {
          "base_uri": "https://localhost:8080/"
        },
        "id": "zc1rOEPRy2PH",
        "outputId": "30a5e016-c018-48e7-b4a2-32a436565d63"
      },
      "execution_count": null,
      "outputs": [
        {
          "output_type": "stream",
          "name": "stdout",
          "text": [
            "<class 'pandas.core.frame.DataFrame'>\n",
            "RangeIndex: 8523 entries, 0 to 8522\n",
            "Data columns (total 12 columns):\n",
            " #   Column                     Non-Null Count  Dtype  \n",
            "---  ------                     --------------  -----  \n",
            " 0   Item_Identifier            8523 non-null   object \n",
            " 1   Item_Weight                7060 non-null   float64\n",
            " 2   Item_Fat_Content           8523 non-null   object \n",
            " 3   Item_Visibility            8523 non-null   float64\n",
            " 4   Item_Type                  8523 non-null   object \n",
            " 5   Item_MRP                   8523 non-null   float64\n",
            " 6   Outlet_Identifier          8523 non-null   object \n",
            " 7   Outlet_Establishment_Year  8523 non-null   int64  \n",
            " 8   Outlet_Size                6113 non-null   object \n",
            " 9   Outlet_Location_Type       8523 non-null   object \n",
            " 10  Outlet_Type                8523 non-null   object \n",
            " 11  Item_Outlet_Sales          8523 non-null   float64\n",
            "dtypes: float64(4), int64(1), object(7)\n",
            "memory usage: 799.2+ KB\n"
          ]
        }
      ]
    },
    {
      "cell_type": "code",
      "source": [
        "#Number of Duplicates\n",
        "sales_df.duplicated().sum()"
      ],
      "metadata": {
        "colab": {
          "base_uri": "https://localhost:8080/"
        },
        "id": "DkPYXJgWzjiq",
        "outputId": "f66bd690-8bbf-48fc-835b-9a8b6e8fc7ec"
      },
      "execution_count": null,
      "outputs": [
        {
          "output_type": "execute_result",
          "data": {
            "text/plain": [
              "0"
            ]
          },
          "metadata": {},
          "execution_count": 5
        }
      ]
    },
    {
      "cell_type": "code",
      "source": [
        "sales_df[sales_df.isna().any(axis=1)]"
      ],
      "metadata": {
        "colab": {
          "base_uri": "https://localhost:8080/",
          "height": 661
        },
        "id": "fQ25f2UCzn_6",
        "outputId": "e838e1d1-94ea-4518-e8bd-139a4fd4629a"
      },
      "execution_count": null,
      "outputs": [
        {
          "output_type": "execute_result",
          "data": {
            "text/plain": [
              "     Item_Identifier  Item_Weight Item_Fat_Content  Item_Visibility  \\\n",
              "3              FDX07        19.20          Regular         0.000000   \n",
              "7              FDP10          NaN          Low Fat         0.127470   \n",
              "8              FDH17        16.20          Regular         0.016687   \n",
              "9              FDU28        19.20          Regular         0.094450   \n",
              "18             DRI11          NaN          Low Fat         0.034238   \n",
              "...              ...          ...              ...              ...   \n",
              "8504           NCN18          NaN          Low Fat         0.124111   \n",
              "8508           FDW31        11.35          Regular         0.043246   \n",
              "8509           FDG45         8.10          Low Fat         0.214306   \n",
              "8514           FDA01        15.00          Regular         0.054489   \n",
              "8519           FDS36         8.38          Regular         0.046982   \n",
              "\n",
              "                  Item_Type  Item_MRP Outlet_Identifier  \\\n",
              "3     Fruits and Vegetables  182.0950            OUT010   \n",
              "7               Snack Foods  107.7622            OUT027   \n",
              "8              Frozen Foods   96.9726            OUT045   \n",
              "9              Frozen Foods  187.8214            OUT017   \n",
              "18              Hard Drinks  113.2834            OUT027   \n",
              "...                     ...       ...               ...   \n",
              "8504              Household  111.7544            OUT027   \n",
              "8508  Fruits and Vegetables  199.4742            OUT045   \n",
              "8509  Fruits and Vegetables  213.9902            OUT010   \n",
              "8514                 Canned   57.5904            OUT045   \n",
              "8519           Baking Goods  108.1570            OUT045   \n",
              "\n",
              "      Outlet_Establishment_Year Outlet_Size Outlet_Location_Type  \\\n",
              "3                          1998         NaN               Tier 3   \n",
              "7                          1985      Medium               Tier 3   \n",
              "8                          2002         NaN               Tier 2   \n",
              "9                          2007         NaN               Tier 2   \n",
              "18                         1985      Medium               Tier 3   \n",
              "...                         ...         ...                  ...   \n",
              "8504                       1985      Medium               Tier 3   \n",
              "8508                       2002         NaN               Tier 2   \n",
              "8509                       1998         NaN               Tier 3   \n",
              "8514                       2002         NaN               Tier 2   \n",
              "8519                       2002         NaN               Tier 2   \n",
              "\n",
              "            Outlet_Type  Item_Outlet_Sales  \n",
              "3         Grocery Store           732.3800  \n",
              "7     Supermarket Type3          4022.7636  \n",
              "8     Supermarket Type1          1076.5986  \n",
              "9     Supermarket Type1          4710.5350  \n",
              "18    Supermarket Type3          2303.6680  \n",
              "...                 ...                ...  \n",
              "8504  Supermarket Type3          4138.6128  \n",
              "8508  Supermarket Type1          2587.9646  \n",
              "8509      Grocery Store           424.7804  \n",
              "8514  Supermarket Type1           468.7232  \n",
              "8519  Supermarket Type1           549.2850  \n",
              "\n",
              "[3873 rows x 12 columns]"
            ],
            "text/html": [
              "\n",
              "  <div id=\"df-0c1b9693-d9d8-4300-b18e-801a82e86d18\">\n",
              "    <div class=\"colab-df-container\">\n",
              "      <div>\n",
              "<style scoped>\n",
              "    .dataframe tbody tr th:only-of-type {\n",
              "        vertical-align: middle;\n",
              "    }\n",
              "\n",
              "    .dataframe tbody tr th {\n",
              "        vertical-align: top;\n",
              "    }\n",
              "\n",
              "    .dataframe thead th {\n",
              "        text-align: right;\n",
              "    }\n",
              "</style>\n",
              "<table border=\"1\" class=\"dataframe\">\n",
              "  <thead>\n",
              "    <tr style=\"text-align: right;\">\n",
              "      <th></th>\n",
              "      <th>Item_Identifier</th>\n",
              "      <th>Item_Weight</th>\n",
              "      <th>Item_Fat_Content</th>\n",
              "      <th>Item_Visibility</th>\n",
              "      <th>Item_Type</th>\n",
              "      <th>Item_MRP</th>\n",
              "      <th>Outlet_Identifier</th>\n",
              "      <th>Outlet_Establishment_Year</th>\n",
              "      <th>Outlet_Size</th>\n",
              "      <th>Outlet_Location_Type</th>\n",
              "      <th>Outlet_Type</th>\n",
              "      <th>Item_Outlet_Sales</th>\n",
              "    </tr>\n",
              "  </thead>\n",
              "  <tbody>\n",
              "    <tr>\n",
              "      <th>3</th>\n",
              "      <td>FDX07</td>\n",
              "      <td>19.20</td>\n",
              "      <td>Regular</td>\n",
              "      <td>0.000000</td>\n",
              "      <td>Fruits and Vegetables</td>\n",
              "      <td>182.0950</td>\n",
              "      <td>OUT010</td>\n",
              "      <td>1998</td>\n",
              "      <td>NaN</td>\n",
              "      <td>Tier 3</td>\n",
              "      <td>Grocery Store</td>\n",
              "      <td>732.3800</td>\n",
              "    </tr>\n",
              "    <tr>\n",
              "      <th>7</th>\n",
              "      <td>FDP10</td>\n",
              "      <td>NaN</td>\n",
              "      <td>Low Fat</td>\n",
              "      <td>0.127470</td>\n",
              "      <td>Snack Foods</td>\n",
              "      <td>107.7622</td>\n",
              "      <td>OUT027</td>\n",
              "      <td>1985</td>\n",
              "      <td>Medium</td>\n",
              "      <td>Tier 3</td>\n",
              "      <td>Supermarket Type3</td>\n",
              "      <td>4022.7636</td>\n",
              "    </tr>\n",
              "    <tr>\n",
              "      <th>8</th>\n",
              "      <td>FDH17</td>\n",
              "      <td>16.20</td>\n",
              "      <td>Regular</td>\n",
              "      <td>0.016687</td>\n",
              "      <td>Frozen Foods</td>\n",
              "      <td>96.9726</td>\n",
              "      <td>OUT045</td>\n",
              "      <td>2002</td>\n",
              "      <td>NaN</td>\n",
              "      <td>Tier 2</td>\n",
              "      <td>Supermarket Type1</td>\n",
              "      <td>1076.5986</td>\n",
              "    </tr>\n",
              "    <tr>\n",
              "      <th>9</th>\n",
              "      <td>FDU28</td>\n",
              "      <td>19.20</td>\n",
              "      <td>Regular</td>\n",
              "      <td>0.094450</td>\n",
              "      <td>Frozen Foods</td>\n",
              "      <td>187.8214</td>\n",
              "      <td>OUT017</td>\n",
              "      <td>2007</td>\n",
              "      <td>NaN</td>\n",
              "      <td>Tier 2</td>\n",
              "      <td>Supermarket Type1</td>\n",
              "      <td>4710.5350</td>\n",
              "    </tr>\n",
              "    <tr>\n",
              "      <th>18</th>\n",
              "      <td>DRI11</td>\n",
              "      <td>NaN</td>\n",
              "      <td>Low Fat</td>\n",
              "      <td>0.034238</td>\n",
              "      <td>Hard Drinks</td>\n",
              "      <td>113.2834</td>\n",
              "      <td>OUT027</td>\n",
              "      <td>1985</td>\n",
              "      <td>Medium</td>\n",
              "      <td>Tier 3</td>\n",
              "      <td>Supermarket Type3</td>\n",
              "      <td>2303.6680</td>\n",
              "    </tr>\n",
              "    <tr>\n",
              "      <th>...</th>\n",
              "      <td>...</td>\n",
              "      <td>...</td>\n",
              "      <td>...</td>\n",
              "      <td>...</td>\n",
              "      <td>...</td>\n",
              "      <td>...</td>\n",
              "      <td>...</td>\n",
              "      <td>...</td>\n",
              "      <td>...</td>\n",
              "      <td>...</td>\n",
              "      <td>...</td>\n",
              "      <td>...</td>\n",
              "    </tr>\n",
              "    <tr>\n",
              "      <th>8504</th>\n",
              "      <td>NCN18</td>\n",
              "      <td>NaN</td>\n",
              "      <td>Low Fat</td>\n",
              "      <td>0.124111</td>\n",
              "      <td>Household</td>\n",
              "      <td>111.7544</td>\n",
              "      <td>OUT027</td>\n",
              "      <td>1985</td>\n",
              "      <td>Medium</td>\n",
              "      <td>Tier 3</td>\n",
              "      <td>Supermarket Type3</td>\n",
              "      <td>4138.6128</td>\n",
              "    </tr>\n",
              "    <tr>\n",
              "      <th>8508</th>\n",
              "      <td>FDW31</td>\n",
              "      <td>11.35</td>\n",
              "      <td>Regular</td>\n",
              "      <td>0.043246</td>\n",
              "      <td>Fruits and Vegetables</td>\n",
              "      <td>199.4742</td>\n",
              "      <td>OUT045</td>\n",
              "      <td>2002</td>\n",
              "      <td>NaN</td>\n",
              "      <td>Tier 2</td>\n",
              "      <td>Supermarket Type1</td>\n",
              "      <td>2587.9646</td>\n",
              "    </tr>\n",
              "    <tr>\n",
              "      <th>8509</th>\n",
              "      <td>FDG45</td>\n",
              "      <td>8.10</td>\n",
              "      <td>Low Fat</td>\n",
              "      <td>0.214306</td>\n",
              "      <td>Fruits and Vegetables</td>\n",
              "      <td>213.9902</td>\n",
              "      <td>OUT010</td>\n",
              "      <td>1998</td>\n",
              "      <td>NaN</td>\n",
              "      <td>Tier 3</td>\n",
              "      <td>Grocery Store</td>\n",
              "      <td>424.7804</td>\n",
              "    </tr>\n",
              "    <tr>\n",
              "      <th>8514</th>\n",
              "      <td>FDA01</td>\n",
              "      <td>15.00</td>\n",
              "      <td>Regular</td>\n",
              "      <td>0.054489</td>\n",
              "      <td>Canned</td>\n",
              "      <td>57.5904</td>\n",
              "      <td>OUT045</td>\n",
              "      <td>2002</td>\n",
              "      <td>NaN</td>\n",
              "      <td>Tier 2</td>\n",
              "      <td>Supermarket Type1</td>\n",
              "      <td>468.7232</td>\n",
              "    </tr>\n",
              "    <tr>\n",
              "      <th>8519</th>\n",
              "      <td>FDS36</td>\n",
              "      <td>8.38</td>\n",
              "      <td>Regular</td>\n",
              "      <td>0.046982</td>\n",
              "      <td>Baking Goods</td>\n",
              "      <td>108.1570</td>\n",
              "      <td>OUT045</td>\n",
              "      <td>2002</td>\n",
              "      <td>NaN</td>\n",
              "      <td>Tier 2</td>\n",
              "      <td>Supermarket Type1</td>\n",
              "      <td>549.2850</td>\n",
              "    </tr>\n",
              "  </tbody>\n",
              "</table>\n",
              "<p>3873 rows × 12 columns</p>\n",
              "</div>\n",
              "      <button class=\"colab-df-convert\" onclick=\"convertToInteractive('df-0c1b9693-d9d8-4300-b18e-801a82e86d18')\"\n",
              "              title=\"Convert this dataframe to an interactive table.\"\n",
              "              style=\"display:none;\">\n",
              "        \n",
              "  <svg xmlns=\"http://www.w3.org/2000/svg\" height=\"24px\"viewBox=\"0 0 24 24\"\n",
              "       width=\"24px\">\n",
              "    <path d=\"M0 0h24v24H0V0z\" fill=\"none\"/>\n",
              "    <path d=\"M18.56 5.44l.94 2.06.94-2.06 2.06-.94-2.06-.94-.94-2.06-.94 2.06-2.06.94zm-11 1L8.5 8.5l.94-2.06 2.06-.94-2.06-.94L8.5 2.5l-.94 2.06-2.06.94zm10 10l.94 2.06.94-2.06 2.06-.94-2.06-.94-.94-2.06-.94 2.06-2.06.94z\"/><path d=\"M17.41 7.96l-1.37-1.37c-.4-.4-.92-.59-1.43-.59-.52 0-1.04.2-1.43.59L10.3 9.45l-7.72 7.72c-.78.78-.78 2.05 0 2.83L4 21.41c.39.39.9.59 1.41.59.51 0 1.02-.2 1.41-.59l7.78-7.78 2.81-2.81c.8-.78.8-2.07 0-2.86zM5.41 20L4 18.59l7.72-7.72 1.47 1.35L5.41 20z\"/>\n",
              "  </svg>\n",
              "      </button>\n",
              "      \n",
              "  <style>\n",
              "    .colab-df-container {\n",
              "      display:flex;\n",
              "      flex-wrap:wrap;\n",
              "      gap: 12px;\n",
              "    }\n",
              "\n",
              "    .colab-df-convert {\n",
              "      background-color: #E8F0FE;\n",
              "      border: none;\n",
              "      border-radius: 50%;\n",
              "      cursor: pointer;\n",
              "      display: none;\n",
              "      fill: #1967D2;\n",
              "      height: 32px;\n",
              "      padding: 0 0 0 0;\n",
              "      width: 32px;\n",
              "    }\n",
              "\n",
              "    .colab-df-convert:hover {\n",
              "      background-color: #E2EBFA;\n",
              "      box-shadow: 0px 1px 2px rgba(60, 64, 67, 0.3), 0px 1px 3px 1px rgba(60, 64, 67, 0.15);\n",
              "      fill: #174EA6;\n",
              "    }\n",
              "\n",
              "    [theme=dark] .colab-df-convert {\n",
              "      background-color: #3B4455;\n",
              "      fill: #D2E3FC;\n",
              "    }\n",
              "\n",
              "    [theme=dark] .colab-df-convert:hover {\n",
              "      background-color: #434B5C;\n",
              "      box-shadow: 0px 1px 3px 1px rgba(0, 0, 0, 0.15);\n",
              "      filter: drop-shadow(0px 1px 2px rgba(0, 0, 0, 0.3));\n",
              "      fill: #FFFFFF;\n",
              "    }\n",
              "  </style>\n",
              "\n",
              "      <script>\n",
              "        const buttonEl =\n",
              "          document.querySelector('#df-0c1b9693-d9d8-4300-b18e-801a82e86d18 button.colab-df-convert');\n",
              "        buttonEl.style.display =\n",
              "          google.colab.kernel.accessAllowed ? 'block' : 'none';\n",
              "\n",
              "        async function convertToInteractive(key) {\n",
              "          const element = document.querySelector('#df-0c1b9693-d9d8-4300-b18e-801a82e86d18');\n",
              "          const dataTable =\n",
              "            await google.colab.kernel.invokeFunction('convertToInteractive',\n",
              "                                                     [key], {});\n",
              "          if (!dataTable) return;\n",
              "\n",
              "          const docLinkHtml = 'Like what you see? Visit the ' +\n",
              "            '<a target=\"_blank\" href=https://colab.research.google.com/notebooks/data_table.ipynb>data table notebook</a>'\n",
              "            + ' to learn more about interactive tables.';\n",
              "          element.innerHTML = '';\n",
              "          dataTable['output_type'] = 'display_data';\n",
              "          await google.colab.output.renderOutput(dataTable, element);\n",
              "          const docLink = document.createElement('div');\n",
              "          docLink.innerHTML = docLinkHtml;\n",
              "          element.appendChild(docLink);\n",
              "        }\n",
              "      </script>\n",
              "    </div>\n",
              "  </div>\n",
              "  "
            ]
          },
          "metadata": {},
          "execution_count": 6
        }
      ]
    },
    {
      "cell_type": "code",
      "source": [
        "#Addressing missing values\n",
        "sales_df['Item_Weight'].fillna(value = median, inplace = True)\n",
        "sales_df"
      ],
      "metadata": {
        "colab": {
          "base_uri": "https://localhost:8080/",
          "height": 661
        },
        "id": "g4Bnt92OzqPY",
        "outputId": "2e09e8e0-ae52-45f7-ce0c-7cecb67dee0a"
      },
      "execution_count": null,
      "outputs": [
        {
          "output_type": "execute_result",
          "data": {
            "text/plain": [
              "     Item_Identifier Item_Weight Item_Fat_Content  Item_Visibility  \\\n",
              "0              FDA15         9.3          Low Fat         0.016047   \n",
              "1              DRC01        5.92          Regular         0.019278   \n",
              "2              FDN15        17.5          Low Fat         0.016760   \n",
              "3              FDX07        19.2          Regular         0.000000   \n",
              "4              NCD19        8.93          Low Fat         0.000000   \n",
              "...              ...         ...              ...              ...   \n",
              "8518           FDF22       6.865          Low Fat         0.056783   \n",
              "8519           FDS36        8.38          Regular         0.046982   \n",
              "8520           NCJ29        10.6          Low Fat         0.035186   \n",
              "8521           FDN46        7.21          Regular         0.145221   \n",
              "8522           DRG01        14.8          Low Fat         0.044878   \n",
              "\n",
              "                  Item_Type  Item_MRP Outlet_Identifier  \\\n",
              "0                     Dairy  249.8092            OUT049   \n",
              "1               Soft Drinks   48.2692            OUT018   \n",
              "2                      Meat  141.6180            OUT049   \n",
              "3     Fruits and Vegetables  182.0950            OUT010   \n",
              "4                 Household   53.8614            OUT013   \n",
              "...                     ...       ...               ...   \n",
              "8518            Snack Foods  214.5218            OUT013   \n",
              "8519           Baking Goods  108.1570            OUT045   \n",
              "8520     Health and Hygiene   85.1224            OUT035   \n",
              "8521            Snack Foods  103.1332            OUT018   \n",
              "8522            Soft Drinks   75.4670            OUT046   \n",
              "\n",
              "      Outlet_Establishment_Year Outlet_Size Outlet_Location_Type  \\\n",
              "0                          1999      Medium               Tier 1   \n",
              "1                          2009      Medium               Tier 3   \n",
              "2                          1999      Medium               Tier 1   \n",
              "3                          1998         NaN               Tier 3   \n",
              "4                          1987        High               Tier 3   \n",
              "...                         ...         ...                  ...   \n",
              "8518                       1987        High               Tier 3   \n",
              "8519                       2002         NaN               Tier 2   \n",
              "8520                       2004       Small               Tier 2   \n",
              "8521                       2009      Medium               Tier 3   \n",
              "8522                       1997       Small               Tier 1   \n",
              "\n",
              "            Outlet_Type  Item_Outlet_Sales  \n",
              "0     Supermarket Type1          3735.1380  \n",
              "1     Supermarket Type2           443.4228  \n",
              "2     Supermarket Type1          2097.2700  \n",
              "3         Grocery Store           732.3800  \n",
              "4     Supermarket Type1           994.7052  \n",
              "...                 ...                ...  \n",
              "8518  Supermarket Type1          2778.3834  \n",
              "8519  Supermarket Type1           549.2850  \n",
              "8520  Supermarket Type1          1193.1136  \n",
              "8521  Supermarket Type2          1845.5976  \n",
              "8522  Supermarket Type1           765.6700  \n",
              "\n",
              "[8523 rows x 12 columns]"
            ],
            "text/html": [
              "\n",
              "  <div id=\"df-29675369-155c-4cd7-b49f-b19ffab456e3\">\n",
              "    <div class=\"colab-df-container\">\n",
              "      <div>\n",
              "<style scoped>\n",
              "    .dataframe tbody tr th:only-of-type {\n",
              "        vertical-align: middle;\n",
              "    }\n",
              "\n",
              "    .dataframe tbody tr th {\n",
              "        vertical-align: top;\n",
              "    }\n",
              "\n",
              "    .dataframe thead th {\n",
              "        text-align: right;\n",
              "    }\n",
              "</style>\n",
              "<table border=\"1\" class=\"dataframe\">\n",
              "  <thead>\n",
              "    <tr style=\"text-align: right;\">\n",
              "      <th></th>\n",
              "      <th>Item_Identifier</th>\n",
              "      <th>Item_Weight</th>\n",
              "      <th>Item_Fat_Content</th>\n",
              "      <th>Item_Visibility</th>\n",
              "      <th>Item_Type</th>\n",
              "      <th>Item_MRP</th>\n",
              "      <th>Outlet_Identifier</th>\n",
              "      <th>Outlet_Establishment_Year</th>\n",
              "      <th>Outlet_Size</th>\n",
              "      <th>Outlet_Location_Type</th>\n",
              "      <th>Outlet_Type</th>\n",
              "      <th>Item_Outlet_Sales</th>\n",
              "    </tr>\n",
              "  </thead>\n",
              "  <tbody>\n",
              "    <tr>\n",
              "      <th>0</th>\n",
              "      <td>FDA15</td>\n",
              "      <td>9.3</td>\n",
              "      <td>Low Fat</td>\n",
              "      <td>0.016047</td>\n",
              "      <td>Dairy</td>\n",
              "      <td>249.8092</td>\n",
              "      <td>OUT049</td>\n",
              "      <td>1999</td>\n",
              "      <td>Medium</td>\n",
              "      <td>Tier 1</td>\n",
              "      <td>Supermarket Type1</td>\n",
              "      <td>3735.1380</td>\n",
              "    </tr>\n",
              "    <tr>\n",
              "      <th>1</th>\n",
              "      <td>DRC01</td>\n",
              "      <td>5.92</td>\n",
              "      <td>Regular</td>\n",
              "      <td>0.019278</td>\n",
              "      <td>Soft Drinks</td>\n",
              "      <td>48.2692</td>\n",
              "      <td>OUT018</td>\n",
              "      <td>2009</td>\n",
              "      <td>Medium</td>\n",
              "      <td>Tier 3</td>\n",
              "      <td>Supermarket Type2</td>\n",
              "      <td>443.4228</td>\n",
              "    </tr>\n",
              "    <tr>\n",
              "      <th>2</th>\n",
              "      <td>FDN15</td>\n",
              "      <td>17.5</td>\n",
              "      <td>Low Fat</td>\n",
              "      <td>0.016760</td>\n",
              "      <td>Meat</td>\n",
              "      <td>141.6180</td>\n",
              "      <td>OUT049</td>\n",
              "      <td>1999</td>\n",
              "      <td>Medium</td>\n",
              "      <td>Tier 1</td>\n",
              "      <td>Supermarket Type1</td>\n",
              "      <td>2097.2700</td>\n",
              "    </tr>\n",
              "    <tr>\n",
              "      <th>3</th>\n",
              "      <td>FDX07</td>\n",
              "      <td>19.2</td>\n",
              "      <td>Regular</td>\n",
              "      <td>0.000000</td>\n",
              "      <td>Fruits and Vegetables</td>\n",
              "      <td>182.0950</td>\n",
              "      <td>OUT010</td>\n",
              "      <td>1998</td>\n",
              "      <td>NaN</td>\n",
              "      <td>Tier 3</td>\n",
              "      <td>Grocery Store</td>\n",
              "      <td>732.3800</td>\n",
              "    </tr>\n",
              "    <tr>\n",
              "      <th>4</th>\n",
              "      <td>NCD19</td>\n",
              "      <td>8.93</td>\n",
              "      <td>Low Fat</td>\n",
              "      <td>0.000000</td>\n",
              "      <td>Household</td>\n",
              "      <td>53.8614</td>\n",
              "      <td>OUT013</td>\n",
              "      <td>1987</td>\n",
              "      <td>High</td>\n",
              "      <td>Tier 3</td>\n",
              "      <td>Supermarket Type1</td>\n",
              "      <td>994.7052</td>\n",
              "    </tr>\n",
              "    <tr>\n",
              "      <th>...</th>\n",
              "      <td>...</td>\n",
              "      <td>...</td>\n",
              "      <td>...</td>\n",
              "      <td>...</td>\n",
              "      <td>...</td>\n",
              "      <td>...</td>\n",
              "      <td>...</td>\n",
              "      <td>...</td>\n",
              "      <td>...</td>\n",
              "      <td>...</td>\n",
              "      <td>...</td>\n",
              "      <td>...</td>\n",
              "    </tr>\n",
              "    <tr>\n",
              "      <th>8518</th>\n",
              "      <td>FDF22</td>\n",
              "      <td>6.865</td>\n",
              "      <td>Low Fat</td>\n",
              "      <td>0.056783</td>\n",
              "      <td>Snack Foods</td>\n",
              "      <td>214.5218</td>\n",
              "      <td>OUT013</td>\n",
              "      <td>1987</td>\n",
              "      <td>High</td>\n",
              "      <td>Tier 3</td>\n",
              "      <td>Supermarket Type1</td>\n",
              "      <td>2778.3834</td>\n",
              "    </tr>\n",
              "    <tr>\n",
              "      <th>8519</th>\n",
              "      <td>FDS36</td>\n",
              "      <td>8.38</td>\n",
              "      <td>Regular</td>\n",
              "      <td>0.046982</td>\n",
              "      <td>Baking Goods</td>\n",
              "      <td>108.1570</td>\n",
              "      <td>OUT045</td>\n",
              "      <td>2002</td>\n",
              "      <td>NaN</td>\n",
              "      <td>Tier 2</td>\n",
              "      <td>Supermarket Type1</td>\n",
              "      <td>549.2850</td>\n",
              "    </tr>\n",
              "    <tr>\n",
              "      <th>8520</th>\n",
              "      <td>NCJ29</td>\n",
              "      <td>10.6</td>\n",
              "      <td>Low Fat</td>\n",
              "      <td>0.035186</td>\n",
              "      <td>Health and Hygiene</td>\n",
              "      <td>85.1224</td>\n",
              "      <td>OUT035</td>\n",
              "      <td>2004</td>\n",
              "      <td>Small</td>\n",
              "      <td>Tier 2</td>\n",
              "      <td>Supermarket Type1</td>\n",
              "      <td>1193.1136</td>\n",
              "    </tr>\n",
              "    <tr>\n",
              "      <th>8521</th>\n",
              "      <td>FDN46</td>\n",
              "      <td>7.21</td>\n",
              "      <td>Regular</td>\n",
              "      <td>0.145221</td>\n",
              "      <td>Snack Foods</td>\n",
              "      <td>103.1332</td>\n",
              "      <td>OUT018</td>\n",
              "      <td>2009</td>\n",
              "      <td>Medium</td>\n",
              "      <td>Tier 3</td>\n",
              "      <td>Supermarket Type2</td>\n",
              "      <td>1845.5976</td>\n",
              "    </tr>\n",
              "    <tr>\n",
              "      <th>8522</th>\n",
              "      <td>DRG01</td>\n",
              "      <td>14.8</td>\n",
              "      <td>Low Fat</td>\n",
              "      <td>0.044878</td>\n",
              "      <td>Soft Drinks</td>\n",
              "      <td>75.4670</td>\n",
              "      <td>OUT046</td>\n",
              "      <td>1997</td>\n",
              "      <td>Small</td>\n",
              "      <td>Tier 1</td>\n",
              "      <td>Supermarket Type1</td>\n",
              "      <td>765.6700</td>\n",
              "    </tr>\n",
              "  </tbody>\n",
              "</table>\n",
              "<p>8523 rows × 12 columns</p>\n",
              "</div>\n",
              "      <button class=\"colab-df-convert\" onclick=\"convertToInteractive('df-29675369-155c-4cd7-b49f-b19ffab456e3')\"\n",
              "              title=\"Convert this dataframe to an interactive table.\"\n",
              "              style=\"display:none;\">\n",
              "        \n",
              "  <svg xmlns=\"http://www.w3.org/2000/svg\" height=\"24px\"viewBox=\"0 0 24 24\"\n",
              "       width=\"24px\">\n",
              "    <path d=\"M0 0h24v24H0V0z\" fill=\"none\"/>\n",
              "    <path d=\"M18.56 5.44l.94 2.06.94-2.06 2.06-.94-2.06-.94-.94-2.06-.94 2.06-2.06.94zm-11 1L8.5 8.5l.94-2.06 2.06-.94-2.06-.94L8.5 2.5l-.94 2.06-2.06.94zm10 10l.94 2.06.94-2.06 2.06-.94-2.06-.94-.94-2.06-.94 2.06-2.06.94z\"/><path d=\"M17.41 7.96l-1.37-1.37c-.4-.4-.92-.59-1.43-.59-.52 0-1.04.2-1.43.59L10.3 9.45l-7.72 7.72c-.78.78-.78 2.05 0 2.83L4 21.41c.39.39.9.59 1.41.59.51 0 1.02-.2 1.41-.59l7.78-7.78 2.81-2.81c.8-.78.8-2.07 0-2.86zM5.41 20L4 18.59l7.72-7.72 1.47 1.35L5.41 20z\"/>\n",
              "  </svg>\n",
              "      </button>\n",
              "      \n",
              "  <style>\n",
              "    .colab-df-container {\n",
              "      display:flex;\n",
              "      flex-wrap:wrap;\n",
              "      gap: 12px;\n",
              "    }\n",
              "\n",
              "    .colab-df-convert {\n",
              "      background-color: #E8F0FE;\n",
              "      border: none;\n",
              "      border-radius: 50%;\n",
              "      cursor: pointer;\n",
              "      display: none;\n",
              "      fill: #1967D2;\n",
              "      height: 32px;\n",
              "      padding: 0 0 0 0;\n",
              "      width: 32px;\n",
              "    }\n",
              "\n",
              "    .colab-df-convert:hover {\n",
              "      background-color: #E2EBFA;\n",
              "      box-shadow: 0px 1px 2px rgba(60, 64, 67, 0.3), 0px 1px 3px 1px rgba(60, 64, 67, 0.15);\n",
              "      fill: #174EA6;\n",
              "    }\n",
              "\n",
              "    [theme=dark] .colab-df-convert {\n",
              "      background-color: #3B4455;\n",
              "      fill: #D2E3FC;\n",
              "    }\n",
              "\n",
              "    [theme=dark] .colab-df-convert:hover {\n",
              "      background-color: #434B5C;\n",
              "      box-shadow: 0px 1px 3px 1px rgba(0, 0, 0, 0.15);\n",
              "      filter: drop-shadow(0px 1px 2px rgba(0, 0, 0, 0.3));\n",
              "      fill: #FFFFFF;\n",
              "    }\n",
              "  </style>\n",
              "\n",
              "      <script>\n",
              "        const buttonEl =\n",
              "          document.querySelector('#df-29675369-155c-4cd7-b49f-b19ffab456e3 button.colab-df-convert');\n",
              "        buttonEl.style.display =\n",
              "          google.colab.kernel.accessAllowed ? 'block' : 'none';\n",
              "\n",
              "        async function convertToInteractive(key) {\n",
              "          const element = document.querySelector('#df-29675369-155c-4cd7-b49f-b19ffab456e3');\n",
              "          const dataTable =\n",
              "            await google.colab.kernel.invokeFunction('convertToInteractive',\n",
              "                                                     [key], {});\n",
              "          if (!dataTable) return;\n",
              "\n",
              "          const docLinkHtml = 'Like what you see? Visit the ' +\n",
              "            '<a target=\"_blank\" href=https://colab.research.google.com/notebooks/data_table.ipynb>data table notebook</a>'\n",
              "            + ' to learn more about interactive tables.';\n",
              "          element.innerHTML = '';\n",
              "          dataTable['output_type'] = 'display_data';\n",
              "          await google.colab.output.renderOutput(dataTable, element);\n",
              "          const docLink = document.createElement('div');\n",
              "          docLink.innerHTML = docLinkHtml;\n",
              "          element.appendChild(docLink);\n",
              "        }\n",
              "      </script>\n",
              "    </div>\n",
              "  </div>\n",
              "  "
            ]
          },
          "metadata": {},
          "execution_count": 7
        }
      ]
    },
    {
      "cell_type": "code",
      "source": [
        "sales_df['Outlet_Size'].value_counts()"
      ],
      "metadata": {
        "colab": {
          "base_uri": "https://localhost:8080/"
        },
        "id": "ShgmJ3zOzt3P",
        "outputId": "f6f45f03-b123-40a8-c2e0-524697fe1ddb"
      },
      "execution_count": null,
      "outputs": [
        {
          "output_type": "execute_result",
          "data": {
            "text/plain": [
              "Medium    2793\n",
              "Small     2388\n",
              "High       932\n",
              "Name: Outlet_Size, dtype: int64"
            ]
          },
          "metadata": {},
          "execution_count": 8
        }
      ]
    },
    {
      "cell_type": "code",
      "source": [
        "#Confirm no missing values\n",
        "sales_df['Outlet_Size'].fillna(value = 'Medium', inplace =True)\n",
        "sales_df.isna().sum()"
      ],
      "metadata": {
        "colab": {
          "base_uri": "https://localhost:8080/"
        },
        "id": "A7b9_RcZz2nE",
        "outputId": "c9a73f0f-34bd-4114-fe12-770067049b18"
      },
      "execution_count": null,
      "outputs": [
        {
          "output_type": "execute_result",
          "data": {
            "text/plain": [
              "Item_Identifier              0\n",
              "Item_Weight                  0\n",
              "Item_Fat_Content             0\n",
              "Item_Visibility              0\n",
              "Item_Type                    0\n",
              "Item_MRP                     0\n",
              "Outlet_Identifier            0\n",
              "Outlet_Establishment_Year    0\n",
              "Outlet_Size                  0\n",
              "Outlet_Location_Type         0\n",
              "Outlet_Type                  0\n",
              "Item_Outlet_Sales            0\n",
              "dtype: int64"
            ]
          },
          "metadata": {},
          "execution_count": 9
        }
      ]
    },
    {
      "cell_type": "code",
      "source": [
        "sales_df"
      ],
      "metadata": {
        "colab": {
          "base_uri": "https://localhost:8080/",
          "height": 661
        },
        "id": "tjm2FKOlz8Tp",
        "outputId": "de7215b6-f1d8-4486-e044-c63508614ec5"
      },
      "execution_count": null,
      "outputs": [
        {
          "output_type": "execute_result",
          "data": {
            "text/plain": [
              "     Item_Identifier Item_Weight Item_Fat_Content  Item_Visibility  \\\n",
              "0              FDA15         9.3          Low Fat         0.016047   \n",
              "1              DRC01        5.92          Regular         0.019278   \n",
              "2              FDN15        17.5          Low Fat         0.016760   \n",
              "3              FDX07        19.2          Regular         0.000000   \n",
              "4              NCD19        8.93          Low Fat         0.000000   \n",
              "...              ...         ...              ...              ...   \n",
              "8518           FDF22       6.865          Low Fat         0.056783   \n",
              "8519           FDS36        8.38          Regular         0.046982   \n",
              "8520           NCJ29        10.6          Low Fat         0.035186   \n",
              "8521           FDN46        7.21          Regular         0.145221   \n",
              "8522           DRG01        14.8          Low Fat         0.044878   \n",
              "\n",
              "                  Item_Type  Item_MRP Outlet_Identifier  \\\n",
              "0                     Dairy  249.8092            OUT049   \n",
              "1               Soft Drinks   48.2692            OUT018   \n",
              "2                      Meat  141.6180            OUT049   \n",
              "3     Fruits and Vegetables  182.0950            OUT010   \n",
              "4                 Household   53.8614            OUT013   \n",
              "...                     ...       ...               ...   \n",
              "8518            Snack Foods  214.5218            OUT013   \n",
              "8519           Baking Goods  108.1570            OUT045   \n",
              "8520     Health and Hygiene   85.1224            OUT035   \n",
              "8521            Snack Foods  103.1332            OUT018   \n",
              "8522            Soft Drinks   75.4670            OUT046   \n",
              "\n",
              "      Outlet_Establishment_Year Outlet_Size Outlet_Location_Type  \\\n",
              "0                          1999      Medium               Tier 1   \n",
              "1                          2009      Medium               Tier 3   \n",
              "2                          1999      Medium               Tier 1   \n",
              "3                          1998      Medium               Tier 3   \n",
              "4                          1987        High               Tier 3   \n",
              "...                         ...         ...                  ...   \n",
              "8518                       1987        High               Tier 3   \n",
              "8519                       2002      Medium               Tier 2   \n",
              "8520                       2004       Small               Tier 2   \n",
              "8521                       2009      Medium               Tier 3   \n",
              "8522                       1997       Small               Tier 1   \n",
              "\n",
              "            Outlet_Type  Item_Outlet_Sales  \n",
              "0     Supermarket Type1          3735.1380  \n",
              "1     Supermarket Type2           443.4228  \n",
              "2     Supermarket Type1          2097.2700  \n",
              "3         Grocery Store           732.3800  \n",
              "4     Supermarket Type1           994.7052  \n",
              "...                 ...                ...  \n",
              "8518  Supermarket Type1          2778.3834  \n",
              "8519  Supermarket Type1           549.2850  \n",
              "8520  Supermarket Type1          1193.1136  \n",
              "8521  Supermarket Type2          1845.5976  \n",
              "8522  Supermarket Type1           765.6700  \n",
              "\n",
              "[8523 rows x 12 columns]"
            ],
            "text/html": [
              "\n",
              "  <div id=\"df-b2daaf84-52c2-4e91-97da-c1c7003d99d8\">\n",
              "    <div class=\"colab-df-container\">\n",
              "      <div>\n",
              "<style scoped>\n",
              "    .dataframe tbody tr th:only-of-type {\n",
              "        vertical-align: middle;\n",
              "    }\n",
              "\n",
              "    .dataframe tbody tr th {\n",
              "        vertical-align: top;\n",
              "    }\n",
              "\n",
              "    .dataframe thead th {\n",
              "        text-align: right;\n",
              "    }\n",
              "</style>\n",
              "<table border=\"1\" class=\"dataframe\">\n",
              "  <thead>\n",
              "    <tr style=\"text-align: right;\">\n",
              "      <th></th>\n",
              "      <th>Item_Identifier</th>\n",
              "      <th>Item_Weight</th>\n",
              "      <th>Item_Fat_Content</th>\n",
              "      <th>Item_Visibility</th>\n",
              "      <th>Item_Type</th>\n",
              "      <th>Item_MRP</th>\n",
              "      <th>Outlet_Identifier</th>\n",
              "      <th>Outlet_Establishment_Year</th>\n",
              "      <th>Outlet_Size</th>\n",
              "      <th>Outlet_Location_Type</th>\n",
              "      <th>Outlet_Type</th>\n",
              "      <th>Item_Outlet_Sales</th>\n",
              "    </tr>\n",
              "  </thead>\n",
              "  <tbody>\n",
              "    <tr>\n",
              "      <th>0</th>\n",
              "      <td>FDA15</td>\n",
              "      <td>9.3</td>\n",
              "      <td>Low Fat</td>\n",
              "      <td>0.016047</td>\n",
              "      <td>Dairy</td>\n",
              "      <td>249.8092</td>\n",
              "      <td>OUT049</td>\n",
              "      <td>1999</td>\n",
              "      <td>Medium</td>\n",
              "      <td>Tier 1</td>\n",
              "      <td>Supermarket Type1</td>\n",
              "      <td>3735.1380</td>\n",
              "    </tr>\n",
              "    <tr>\n",
              "      <th>1</th>\n",
              "      <td>DRC01</td>\n",
              "      <td>5.92</td>\n",
              "      <td>Regular</td>\n",
              "      <td>0.019278</td>\n",
              "      <td>Soft Drinks</td>\n",
              "      <td>48.2692</td>\n",
              "      <td>OUT018</td>\n",
              "      <td>2009</td>\n",
              "      <td>Medium</td>\n",
              "      <td>Tier 3</td>\n",
              "      <td>Supermarket Type2</td>\n",
              "      <td>443.4228</td>\n",
              "    </tr>\n",
              "    <tr>\n",
              "      <th>2</th>\n",
              "      <td>FDN15</td>\n",
              "      <td>17.5</td>\n",
              "      <td>Low Fat</td>\n",
              "      <td>0.016760</td>\n",
              "      <td>Meat</td>\n",
              "      <td>141.6180</td>\n",
              "      <td>OUT049</td>\n",
              "      <td>1999</td>\n",
              "      <td>Medium</td>\n",
              "      <td>Tier 1</td>\n",
              "      <td>Supermarket Type1</td>\n",
              "      <td>2097.2700</td>\n",
              "    </tr>\n",
              "    <tr>\n",
              "      <th>3</th>\n",
              "      <td>FDX07</td>\n",
              "      <td>19.2</td>\n",
              "      <td>Regular</td>\n",
              "      <td>0.000000</td>\n",
              "      <td>Fruits and Vegetables</td>\n",
              "      <td>182.0950</td>\n",
              "      <td>OUT010</td>\n",
              "      <td>1998</td>\n",
              "      <td>Medium</td>\n",
              "      <td>Tier 3</td>\n",
              "      <td>Grocery Store</td>\n",
              "      <td>732.3800</td>\n",
              "    </tr>\n",
              "    <tr>\n",
              "      <th>4</th>\n",
              "      <td>NCD19</td>\n",
              "      <td>8.93</td>\n",
              "      <td>Low Fat</td>\n",
              "      <td>0.000000</td>\n",
              "      <td>Household</td>\n",
              "      <td>53.8614</td>\n",
              "      <td>OUT013</td>\n",
              "      <td>1987</td>\n",
              "      <td>High</td>\n",
              "      <td>Tier 3</td>\n",
              "      <td>Supermarket Type1</td>\n",
              "      <td>994.7052</td>\n",
              "    </tr>\n",
              "    <tr>\n",
              "      <th>...</th>\n",
              "      <td>...</td>\n",
              "      <td>...</td>\n",
              "      <td>...</td>\n",
              "      <td>...</td>\n",
              "      <td>...</td>\n",
              "      <td>...</td>\n",
              "      <td>...</td>\n",
              "      <td>...</td>\n",
              "      <td>...</td>\n",
              "      <td>...</td>\n",
              "      <td>...</td>\n",
              "      <td>...</td>\n",
              "    </tr>\n",
              "    <tr>\n",
              "      <th>8518</th>\n",
              "      <td>FDF22</td>\n",
              "      <td>6.865</td>\n",
              "      <td>Low Fat</td>\n",
              "      <td>0.056783</td>\n",
              "      <td>Snack Foods</td>\n",
              "      <td>214.5218</td>\n",
              "      <td>OUT013</td>\n",
              "      <td>1987</td>\n",
              "      <td>High</td>\n",
              "      <td>Tier 3</td>\n",
              "      <td>Supermarket Type1</td>\n",
              "      <td>2778.3834</td>\n",
              "    </tr>\n",
              "    <tr>\n",
              "      <th>8519</th>\n",
              "      <td>FDS36</td>\n",
              "      <td>8.38</td>\n",
              "      <td>Regular</td>\n",
              "      <td>0.046982</td>\n",
              "      <td>Baking Goods</td>\n",
              "      <td>108.1570</td>\n",
              "      <td>OUT045</td>\n",
              "      <td>2002</td>\n",
              "      <td>Medium</td>\n",
              "      <td>Tier 2</td>\n",
              "      <td>Supermarket Type1</td>\n",
              "      <td>549.2850</td>\n",
              "    </tr>\n",
              "    <tr>\n",
              "      <th>8520</th>\n",
              "      <td>NCJ29</td>\n",
              "      <td>10.6</td>\n",
              "      <td>Low Fat</td>\n",
              "      <td>0.035186</td>\n",
              "      <td>Health and Hygiene</td>\n",
              "      <td>85.1224</td>\n",
              "      <td>OUT035</td>\n",
              "      <td>2004</td>\n",
              "      <td>Small</td>\n",
              "      <td>Tier 2</td>\n",
              "      <td>Supermarket Type1</td>\n",
              "      <td>1193.1136</td>\n",
              "    </tr>\n",
              "    <tr>\n",
              "      <th>8521</th>\n",
              "      <td>FDN46</td>\n",
              "      <td>7.21</td>\n",
              "      <td>Regular</td>\n",
              "      <td>0.145221</td>\n",
              "      <td>Snack Foods</td>\n",
              "      <td>103.1332</td>\n",
              "      <td>OUT018</td>\n",
              "      <td>2009</td>\n",
              "      <td>Medium</td>\n",
              "      <td>Tier 3</td>\n",
              "      <td>Supermarket Type2</td>\n",
              "      <td>1845.5976</td>\n",
              "    </tr>\n",
              "    <tr>\n",
              "      <th>8522</th>\n",
              "      <td>DRG01</td>\n",
              "      <td>14.8</td>\n",
              "      <td>Low Fat</td>\n",
              "      <td>0.044878</td>\n",
              "      <td>Soft Drinks</td>\n",
              "      <td>75.4670</td>\n",
              "      <td>OUT046</td>\n",
              "      <td>1997</td>\n",
              "      <td>Small</td>\n",
              "      <td>Tier 1</td>\n",
              "      <td>Supermarket Type1</td>\n",
              "      <td>765.6700</td>\n",
              "    </tr>\n",
              "  </tbody>\n",
              "</table>\n",
              "<p>8523 rows × 12 columns</p>\n",
              "</div>\n",
              "      <button class=\"colab-df-convert\" onclick=\"convertToInteractive('df-b2daaf84-52c2-4e91-97da-c1c7003d99d8')\"\n",
              "              title=\"Convert this dataframe to an interactive table.\"\n",
              "              style=\"display:none;\">\n",
              "        \n",
              "  <svg xmlns=\"http://www.w3.org/2000/svg\" height=\"24px\"viewBox=\"0 0 24 24\"\n",
              "       width=\"24px\">\n",
              "    <path d=\"M0 0h24v24H0V0z\" fill=\"none\"/>\n",
              "    <path d=\"M18.56 5.44l.94 2.06.94-2.06 2.06-.94-2.06-.94-.94-2.06-.94 2.06-2.06.94zm-11 1L8.5 8.5l.94-2.06 2.06-.94-2.06-.94L8.5 2.5l-.94 2.06-2.06.94zm10 10l.94 2.06.94-2.06 2.06-.94-2.06-.94-.94-2.06-.94 2.06-2.06.94z\"/><path d=\"M17.41 7.96l-1.37-1.37c-.4-.4-.92-.59-1.43-.59-.52 0-1.04.2-1.43.59L10.3 9.45l-7.72 7.72c-.78.78-.78 2.05 0 2.83L4 21.41c.39.39.9.59 1.41.59.51 0 1.02-.2 1.41-.59l7.78-7.78 2.81-2.81c.8-.78.8-2.07 0-2.86zM5.41 20L4 18.59l7.72-7.72 1.47 1.35L5.41 20z\"/>\n",
              "  </svg>\n",
              "      </button>\n",
              "      \n",
              "  <style>\n",
              "    .colab-df-container {\n",
              "      display:flex;\n",
              "      flex-wrap:wrap;\n",
              "      gap: 12px;\n",
              "    }\n",
              "\n",
              "    .colab-df-convert {\n",
              "      background-color: #E8F0FE;\n",
              "      border: none;\n",
              "      border-radius: 50%;\n",
              "      cursor: pointer;\n",
              "      display: none;\n",
              "      fill: #1967D2;\n",
              "      height: 32px;\n",
              "      padding: 0 0 0 0;\n",
              "      width: 32px;\n",
              "    }\n",
              "\n",
              "    .colab-df-convert:hover {\n",
              "      background-color: #E2EBFA;\n",
              "      box-shadow: 0px 1px 2px rgba(60, 64, 67, 0.3), 0px 1px 3px 1px rgba(60, 64, 67, 0.15);\n",
              "      fill: #174EA6;\n",
              "    }\n",
              "\n",
              "    [theme=dark] .colab-df-convert {\n",
              "      background-color: #3B4455;\n",
              "      fill: #D2E3FC;\n",
              "    }\n",
              "\n",
              "    [theme=dark] .colab-df-convert:hover {\n",
              "      background-color: #434B5C;\n",
              "      box-shadow: 0px 1px 3px 1px rgba(0, 0, 0, 0.15);\n",
              "      filter: drop-shadow(0px 1px 2px rgba(0, 0, 0, 0.3));\n",
              "      fill: #FFFFFF;\n",
              "    }\n",
              "  </style>\n",
              "\n",
              "      <script>\n",
              "        const buttonEl =\n",
              "          document.querySelector('#df-b2daaf84-52c2-4e91-97da-c1c7003d99d8 button.colab-df-convert');\n",
              "        buttonEl.style.display =\n",
              "          google.colab.kernel.accessAllowed ? 'block' : 'none';\n",
              "\n",
              "        async function convertToInteractive(key) {\n",
              "          const element = document.querySelector('#df-b2daaf84-52c2-4e91-97da-c1c7003d99d8');\n",
              "          const dataTable =\n",
              "            await google.colab.kernel.invokeFunction('convertToInteractive',\n",
              "                                                     [key], {});\n",
              "          if (!dataTable) return;\n",
              "\n",
              "          const docLinkHtml = 'Like what you see? Visit the ' +\n",
              "            '<a target=\"_blank\" href=https://colab.research.google.com/notebooks/data_table.ipynb>data table notebook</a>'\n",
              "            + ' to learn more about interactive tables.';\n",
              "          element.innerHTML = '';\n",
              "          dataTable['output_type'] = 'display_data';\n",
              "          await google.colab.output.renderOutput(dataTable, element);\n",
              "          const docLink = document.createElement('div');\n",
              "          docLink.innerHTML = docLinkHtml;\n",
              "          element.appendChild(docLink);\n",
              "        }\n",
              "      </script>\n",
              "    </div>\n",
              "  </div>\n",
              "  "
            ]
          },
          "metadata": {},
          "execution_count": 10
        }
      ]
    },
    {
      "cell_type": "code",
      "source": [
        "#Find any inconsistancies\n",
        "sales_df['Item_Fat_Content'].value_counts()"
      ],
      "metadata": {
        "colab": {
          "base_uri": "https://localhost:8080/"
        },
        "id": "1xc-sDDM0CBl",
        "outputId": "04f42501-9c22-405d-ef3d-d80063951911"
      },
      "execution_count": null,
      "outputs": [
        {
          "output_type": "execute_result",
          "data": {
            "text/plain": [
              "Low Fat    5089\n",
              "Regular    2889\n",
              "LF          316\n",
              "reg         117\n",
              "low fat     112\n",
              "Name: Item_Fat_Content, dtype: int64"
            ]
          },
          "metadata": {},
          "execution_count": 11
        }
      ]
    },
    {
      "cell_type": "code",
      "source": [
        "#Fixing the inconsistancies\n",
        "sales_df.replace({'LF': 'Low Fat','reg': 'Regular','low fat': 'Low Fat'}, inplace = True)\n",
        "sales_df['Item_Fat_Content'].value_counts()"
      ],
      "metadata": {
        "colab": {
          "base_uri": "https://localhost:8080/"
        },
        "id": "suiVIvwZ0E-h",
        "outputId": "77a1eb8c-2b75-48c0-c0ca-c19cbaa6233b"
      },
      "execution_count": null,
      "outputs": [
        {
          "output_type": "execute_result",
          "data": {
            "text/plain": [
              "Low Fat    5517\n",
              "Regular    3006\n",
              "Name: Item_Fat_Content, dtype: int64"
            ]
          },
          "metadata": {},
          "execution_count": 12
        }
      ]
    },
    {
      "cell_type": "code",
      "source": [
        "#Searching through coloumns for inconsistancies\n",
        "sales_df['Item_Type'].value_counts()"
      ],
      "metadata": {
        "colab": {
          "base_uri": "https://localhost:8080/"
        },
        "id": "2aIdKuIY0LRx",
        "outputId": "1eae1f09-2d0b-4008-d21c-d61f44937a39"
      },
      "execution_count": null,
      "outputs": [
        {
          "output_type": "execute_result",
          "data": {
            "text/plain": [
              "Fruits and Vegetables    1232\n",
              "Snack Foods              1200\n",
              "Household                 910\n",
              "Frozen Foods              856\n",
              "Dairy                     682\n",
              "Canned                    649\n",
              "Baking Goods              648\n",
              "Health and Hygiene        520\n",
              "Soft Drinks               445\n",
              "Meat                      425\n",
              "Breads                    251\n",
              "Hard Drinks               214\n",
              "Others                    169\n",
              "Starchy Foods             148\n",
              "Breakfast                 110\n",
              "Seafood                    64\n",
              "Name: Item_Type, dtype: int64"
            ]
          },
          "metadata": {},
          "execution_count": 13
        }
      ]
    },
    {
      "cell_type": "code",
      "source": [
        "#Continued search\n",
        "sales_df['Outlet_Establishment_Year'].value_counts()"
      ],
      "metadata": {
        "colab": {
          "base_uri": "https://localhost:8080/"
        },
        "id": "h4euVwOv0PwG",
        "outputId": "d25eced0-d800-4d61-cbd8-ef8b12daadab"
      },
      "execution_count": null,
      "outputs": [
        {
          "output_type": "execute_result",
          "data": {
            "text/plain": [
              "1985    1463\n",
              "1987     932\n",
              "1999     930\n",
              "1997     930\n",
              "2004     930\n",
              "2002     929\n",
              "2009     928\n",
              "2007     926\n",
              "1998     555\n",
              "Name: Outlet_Establishment_Year, dtype: int64"
            ]
          },
          "metadata": {},
          "execution_count": 14
        }
      ]
    },
    {
      "cell_type": "code",
      "source": [
        "#Continued search\n",
        "sales_df['Outlet_Location_Type'].value_counts()"
      ],
      "metadata": {
        "colab": {
          "base_uri": "https://localhost:8080/"
        },
        "id": "qfqI8gnb0TGG",
        "outputId": "fbfe985a-63ba-473c-c64b-db2ce0347b01"
      },
      "execution_count": null,
      "outputs": [
        {
          "output_type": "execute_result",
          "data": {
            "text/plain": [
              "Tier 3    3350\n",
              "Tier 2    2785\n",
              "Tier 1    2388\n",
              "Name: Outlet_Location_Type, dtype: int64"
            ]
          },
          "metadata": {},
          "execution_count": 15
        }
      ]
    },
    {
      "cell_type": "code",
      "source": [
        "#continued search\n",
        "sales_df['Outlet_Type'].value_counts()"
      ],
      "metadata": {
        "colab": {
          "base_uri": "https://localhost:8080/"
        },
        "id": "smWRGBhN0VE3",
        "outputId": "c75aa766-0b6d-4e76-86e7-db07641daec5"
      },
      "execution_count": null,
      "outputs": [
        {
          "output_type": "execute_result",
          "data": {
            "text/plain": [
              "Supermarket Type1    5577\n",
              "Grocery Store        1083\n",
              "Supermarket Type3     935\n",
              "Supermarket Type2     928\n",
              "Name: Outlet_Type, dtype: int64"
            ]
          },
          "metadata": {},
          "execution_count": 16
        }
      ]
    },
    {
      "cell_type": "code",
      "source": [
        "#Summary data for min, max, mean\n",
        "sales_df.describe()"
      ],
      "metadata": {
        "colab": {
          "base_uri": "https://localhost:8080/",
          "height": 300
        },
        "id": "bXHJhaAJ0Yh5",
        "outputId": "0bd1053b-d41f-4765-f9d1-12f0e569b760"
      },
      "execution_count": null,
      "outputs": [
        {
          "output_type": "execute_result",
          "data": {
            "text/plain": [
              "       Item_Visibility     Item_MRP  Outlet_Establishment_Year  \\\n",
              "count      8523.000000  8523.000000                8523.000000   \n",
              "mean          0.066132   140.992782                1997.831867   \n",
              "std           0.051598    62.275067                   8.371760   \n",
              "min           0.000000    31.290000                1985.000000   \n",
              "25%           0.026989    93.826500                1987.000000   \n",
              "50%           0.053931   143.012800                1999.000000   \n",
              "75%           0.094585   185.643700                2004.000000   \n",
              "max           0.328391   266.888400                2009.000000   \n",
              "\n",
              "       Item_Outlet_Sales  \n",
              "count        8523.000000  \n",
              "mean         2181.288914  \n",
              "std          1706.499616  \n",
              "min            33.290000  \n",
              "25%           834.247400  \n",
              "50%          1794.331000  \n",
              "75%          3101.296400  \n",
              "max         13086.964800  "
            ],
            "text/html": [
              "\n",
              "  <div id=\"df-ece85993-363e-421b-aaeb-5a805fdf75d4\">\n",
              "    <div class=\"colab-df-container\">\n",
              "      <div>\n",
              "<style scoped>\n",
              "    .dataframe tbody tr th:only-of-type {\n",
              "        vertical-align: middle;\n",
              "    }\n",
              "\n",
              "    .dataframe tbody tr th {\n",
              "        vertical-align: top;\n",
              "    }\n",
              "\n",
              "    .dataframe thead th {\n",
              "        text-align: right;\n",
              "    }\n",
              "</style>\n",
              "<table border=\"1\" class=\"dataframe\">\n",
              "  <thead>\n",
              "    <tr style=\"text-align: right;\">\n",
              "      <th></th>\n",
              "      <th>Item_Visibility</th>\n",
              "      <th>Item_MRP</th>\n",
              "      <th>Outlet_Establishment_Year</th>\n",
              "      <th>Item_Outlet_Sales</th>\n",
              "    </tr>\n",
              "  </thead>\n",
              "  <tbody>\n",
              "    <tr>\n",
              "      <th>count</th>\n",
              "      <td>8523.000000</td>\n",
              "      <td>8523.000000</td>\n",
              "      <td>8523.000000</td>\n",
              "      <td>8523.000000</td>\n",
              "    </tr>\n",
              "    <tr>\n",
              "      <th>mean</th>\n",
              "      <td>0.066132</td>\n",
              "      <td>140.992782</td>\n",
              "      <td>1997.831867</td>\n",
              "      <td>2181.288914</td>\n",
              "    </tr>\n",
              "    <tr>\n",
              "      <th>std</th>\n",
              "      <td>0.051598</td>\n",
              "      <td>62.275067</td>\n",
              "      <td>8.371760</td>\n",
              "      <td>1706.499616</td>\n",
              "    </tr>\n",
              "    <tr>\n",
              "      <th>min</th>\n",
              "      <td>0.000000</td>\n",
              "      <td>31.290000</td>\n",
              "      <td>1985.000000</td>\n",
              "      <td>33.290000</td>\n",
              "    </tr>\n",
              "    <tr>\n",
              "      <th>25%</th>\n",
              "      <td>0.026989</td>\n",
              "      <td>93.826500</td>\n",
              "      <td>1987.000000</td>\n",
              "      <td>834.247400</td>\n",
              "    </tr>\n",
              "    <tr>\n",
              "      <th>50%</th>\n",
              "      <td>0.053931</td>\n",
              "      <td>143.012800</td>\n",
              "      <td>1999.000000</td>\n",
              "      <td>1794.331000</td>\n",
              "    </tr>\n",
              "    <tr>\n",
              "      <th>75%</th>\n",
              "      <td>0.094585</td>\n",
              "      <td>185.643700</td>\n",
              "      <td>2004.000000</td>\n",
              "      <td>3101.296400</td>\n",
              "    </tr>\n",
              "    <tr>\n",
              "      <th>max</th>\n",
              "      <td>0.328391</td>\n",
              "      <td>266.888400</td>\n",
              "      <td>2009.000000</td>\n",
              "      <td>13086.964800</td>\n",
              "    </tr>\n",
              "  </tbody>\n",
              "</table>\n",
              "</div>\n",
              "      <button class=\"colab-df-convert\" onclick=\"convertToInteractive('df-ece85993-363e-421b-aaeb-5a805fdf75d4')\"\n",
              "              title=\"Convert this dataframe to an interactive table.\"\n",
              "              style=\"display:none;\">\n",
              "        \n",
              "  <svg xmlns=\"http://www.w3.org/2000/svg\" height=\"24px\"viewBox=\"0 0 24 24\"\n",
              "       width=\"24px\">\n",
              "    <path d=\"M0 0h24v24H0V0z\" fill=\"none\"/>\n",
              "    <path d=\"M18.56 5.44l.94 2.06.94-2.06 2.06-.94-2.06-.94-.94-2.06-.94 2.06-2.06.94zm-11 1L8.5 8.5l.94-2.06 2.06-.94-2.06-.94L8.5 2.5l-.94 2.06-2.06.94zm10 10l.94 2.06.94-2.06 2.06-.94-2.06-.94-.94-2.06-.94 2.06-2.06.94z\"/><path d=\"M17.41 7.96l-1.37-1.37c-.4-.4-.92-.59-1.43-.59-.52 0-1.04.2-1.43.59L10.3 9.45l-7.72 7.72c-.78.78-.78 2.05 0 2.83L4 21.41c.39.39.9.59 1.41.59.51 0 1.02-.2 1.41-.59l7.78-7.78 2.81-2.81c.8-.78.8-2.07 0-2.86zM5.41 20L4 18.59l7.72-7.72 1.47 1.35L5.41 20z\"/>\n",
              "  </svg>\n",
              "      </button>\n",
              "      \n",
              "  <style>\n",
              "    .colab-df-container {\n",
              "      display:flex;\n",
              "      flex-wrap:wrap;\n",
              "      gap: 12px;\n",
              "    }\n",
              "\n",
              "    .colab-df-convert {\n",
              "      background-color: #E8F0FE;\n",
              "      border: none;\n",
              "      border-radius: 50%;\n",
              "      cursor: pointer;\n",
              "      display: none;\n",
              "      fill: #1967D2;\n",
              "      height: 32px;\n",
              "      padding: 0 0 0 0;\n",
              "      width: 32px;\n",
              "    }\n",
              "\n",
              "    .colab-df-convert:hover {\n",
              "      background-color: #E2EBFA;\n",
              "      box-shadow: 0px 1px 2px rgba(60, 64, 67, 0.3), 0px 1px 3px 1px rgba(60, 64, 67, 0.15);\n",
              "      fill: #174EA6;\n",
              "    }\n",
              "\n",
              "    [theme=dark] .colab-df-convert {\n",
              "      background-color: #3B4455;\n",
              "      fill: #D2E3FC;\n",
              "    }\n",
              "\n",
              "    [theme=dark] .colab-df-convert:hover {\n",
              "      background-color: #434B5C;\n",
              "      box-shadow: 0px 1px 3px 1px rgba(0, 0, 0, 0.15);\n",
              "      filter: drop-shadow(0px 1px 2px rgba(0, 0, 0, 0.3));\n",
              "      fill: #FFFFFF;\n",
              "    }\n",
              "  </style>\n",
              "\n",
              "      <script>\n",
              "        const buttonEl =\n",
              "          document.querySelector('#df-ece85993-363e-421b-aaeb-5a805fdf75d4 button.colab-df-convert');\n",
              "        buttonEl.style.display =\n",
              "          google.colab.kernel.accessAllowed ? 'block' : 'none';\n",
              "\n",
              "        async function convertToInteractive(key) {\n",
              "          const element = document.querySelector('#df-ece85993-363e-421b-aaeb-5a805fdf75d4');\n",
              "          const dataTable =\n",
              "            await google.colab.kernel.invokeFunction('convertToInteractive',\n",
              "                                                     [key], {});\n",
              "          if (!dataTable) return;\n",
              "\n",
              "          const docLinkHtml = 'Like what you see? Visit the ' +\n",
              "            '<a target=\"_blank\" href=https://colab.research.google.com/notebooks/data_table.ipynb>data table notebook</a>'\n",
              "            + ' to learn more about interactive tables.';\n",
              "          element.innerHTML = '';\n",
              "          dataTable['output_type'] = 'display_data';\n",
              "          await google.colab.output.renderOutput(dataTable, element);\n",
              "          const docLink = document.createElement('div');\n",
              "          docLink.innerHTML = docLinkHtml;\n",
              "          element.appendChild(docLink);\n",
              "        }\n",
              "      </script>\n",
              "    </div>\n",
              "  </div>\n",
              "  "
            ]
          },
          "metadata": {},
          "execution_count": 17
        }
      ]
    },
    {
      "cell_type": "markdown",
      "source": [
        "#**Part 3**\n",
        "\n",
        "Your task is to complete any statistical analyses that might help you understand, explain, or model with your data.\n",
        "\n",
        "This must include at least one of each:\n",
        "\n",
        "Histogram to view the distributions of various features in your dataset.\n",
        "\n",
        "Boxplot to view statistical summaries of various features in your dataset.\n",
        "\n",
        "Heatmap of the correlation between features."
      ],
      "metadata": {
        "id": "_v2uAHOg1j9Z"
      }
    },
    {
      "cell_type": "markdown",
      "source": [
        "###**Exploritory Visuals**"
      ],
      "metadata": {
        "id": "oRIlFLTN0vfV"
      }
    },
    {
      "cell_type": "markdown",
      "source": [
        "###**Creating a Histogram**"
      ],
      "metadata": {
        "id": "ZSPUwQBc03Uz"
      }
    },
    {
      "cell_type": "code",
      "source": [
        "#Histograms:\n",
        "sales_df.hist(figsize=(8,8));"
      ],
      "metadata": {
        "colab": {
          "base_uri": "https://localhost:8080/",
          "height": 499
        },
        "id": "0gD_l7N_0eHo",
        "outputId": "59660497-d54a-4cd9-b476-8d84b7e18d63"
      },
      "execution_count": null,
      "outputs": [
        {
          "output_type": "display_data",
          "data": {
            "text/plain": [
              "<Figure size 576x576 with 4 Axes>"
            ],
            "image/png": "[encoded data removed]"
          },
          "metadata": {
            "needs_background": "light"
          }
        }
      ]
    },
    {
      "cell_type": "code",
      "source": [
        "#Create a histogram for Item Visibility\n",
        "sns.histplot(data=sales_df, x='Item_Visibility');"
      ],
      "metadata": {
        "colab": {
          "base_uri": "https://localhost:8080/",
          "height": 280
        },
        "id": "8_d0TNR31I9Y",
        "outputId": "d099e138-76b5-4031-a396-ef6b9e4bdd0f"
      },
      "execution_count": null,
      "outputs": [
        {
          "output_type": "display_data",
          "data": {
            "text/plain": [
              "<Figure size 432x288 with 1 Axes>"
            ],
            "image/png": "[encoded data removed]"
          },
          "metadata": {
            "needs_background": "light"
          }
        }
      ]
    },
    {
      "cell_type": "markdown",
      "source": [
        "- Item visibilty is skewed to the right. It is positively skewed more toward the mean than the mode and median. The mode is less than 600."
      ],
      "metadata": {
        "id": "OMjIgIJn3Mzv"
      }
    },
    {
      "cell_type": "code",
      "source": [
        "#Create a histogram for Item MRP\n",
        "sns.histplot(data=sales_df, x='Item_MRP');"
      ],
      "metadata": {
        "colab": {
          "base_uri": "https://localhost:8080/",
          "height": 280
        },
        "id": "UzKJbCmN3OO_",
        "outputId": "99010b73-d7bd-4b0f-e783-2a07d873f2b9"
      },
      "execution_count": null,
      "outputs": [
        {
          "output_type": "display_data",
          "data": {
            "text/plain": [
              "<Figure size 432x288 with 1 Axes>"
            ],
            "image/png": "[encoded data removed]"
          },
          "metadata": {
            "needs_background": "light"
          }
        }
      ]
    },
    {
      "cell_type": "markdown",
      "source": [
        "- Item MRP has non-symetric bimodal distribution. Item MRP has two modes. The first is 475 the second at 455."
      ],
      "metadata": {
        "id": "J17CMdWm3UWW"
      }
    },
    {
      "cell_type": "code",
      "source": [
        "#Create a histogram for Item Outlet Sales\n",
        "sns.histplot(data=sales_df, x='Item_Outlet_Sales');"
      ],
      "metadata": {
        "colab": {
          "base_uri": "https://localhost:8080/",
          "height": 280
        },
        "id": "F53ga6N53WRY",
        "outputId": "56f76be4-b102-43d6-ecdc-c4337a29a89b"
      },
      "execution_count": null,
      "outputs": [
        {
          "output_type": "display_data",
          "data": {
            "text/plain": [
              "<Figure size 432x288 with 1 Axes>"
            ],
            "image/png": "[encoded data removed]"
          },
          "metadata": {
            "needs_background": "light"
          }
        }
      ]
    },
    {
      "cell_type": "markdown",
      "source": [
        "- Item outlet sales is right skewed. It is positively skewed more towards the mean, than the mode or median. The mode is greater then 600."
      ],
      "metadata": {
        "id": "ZyU6ufGr3dqV"
      }
    },
    {
      "cell_type": "markdown",
      "source": [
        "###**Explanitory Visuals**"
      ],
      "metadata": {
        "id": "YzVd-ivA33Eg"
      }
    },
    {
      "cell_type": "markdown",
      "source": [
        "###**Creating a boxplot**"
      ],
      "metadata": {
        "id": "pyuV27lX4JzW"
      }
    },
    {
      "cell_type": "code",
      "source": [
        "fig,ax=plt.subplots(figsize= (5,6))\n",
        "sns.boxplot(data=sales_df, y= 'Item_Visibility');"
      ],
      "metadata": {
        "colab": {
          "base_uri": "https://localhost:8080/",
          "height": 361
        },
        "id": "0-0FGleX4DQU",
        "outputId": "ac13485d-885d-4c3a-9140-0e9a8c1db646"
      },
      "execution_count": null,
      "outputs": [
        {
          "output_type": "display_data",
          "data": {
            "text/plain": [
              "<Figure size 360x432 with 1 Axes>"
            ],
            "image/png": "[encoded data removed]"
          },
          "metadata": {
            "needs_background": "light"
          }
        }
      ]
    },
    {
      "cell_type": "markdown",
      "source": [
        "- Item visibility has a median of about .05. It also has multiple outliers above .20."
      ],
      "metadata": {
        "id": "gzeXywy84Udq"
      }
    },
    {
      "cell_type": "code",
      "source": [
        "fig,ax=plt.subplots(figsize= (5,6))\n",
        "sns.boxplot(data=sales_df, y= 'Item_MRP');"
      ],
      "metadata": {
        "colab": {
          "base_uri": "https://localhost:8080/",
          "height": 361
        },
        "id": "tf0Dfbt14V5d",
        "outputId": "62bbb558-f1a3-436b-c9a2-66278bfcd12c"
      },
      "execution_count": null,
      "outputs": [
        {
          "output_type": "display_data",
          "data": {
            "text/plain": [
              "<Figure size 360x432 with 1 Axes>"
            ],
            "image/png": "[encoded data removed]"
          },
          "metadata": {
            "needs_background": "light"
          }
        }
      ]
    },
    {
      "cell_type": "markdown",
      "source": [
        "- Item MRP has a median of about 140 and has no outliers."
      ],
      "metadata": {
        "id": "Q4AFVxsW4dhE"
      }
    },
    {
      "cell_type": "code",
      "source": [
        "fig,ax=plt.subplots(figsize= (5,6))\n",
        "sns.boxplot(data=sales_df, y= 'Outlet_Establishment_Year');"
      ],
      "metadata": {
        "colab": {
          "base_uri": "https://localhost:8080/",
          "height": 362
        },
        "id": "0g6gyxn44e8H",
        "outputId": "b5df98ee-956c-4d8c-b260-4994e62bdfb7"
      },
      "execution_count": null,
      "outputs": [
        {
          "output_type": "display_data",
          "data": {
            "text/plain": [
              "<Figure size 360x432 with 1 Axes>"
            ],
            "image/png": "[encoded data removed]"
          },
          "metadata": {
            "needs_background": "light"
          }
        }
      ]
    },
    {
      "cell_type": "markdown",
      "source": [
        "- Outlet Establishment Year has a median below 2000 with no outliers."
      ],
      "metadata": {
        "id": "EKyEfPwF4miC"
      }
    },
    {
      "cell_type": "code",
      "source": [
        "fig,ax=plt.subplots(figsize= (5,6))\n",
        "sns.boxplot(data=sales_df, y= 'Item_Outlet_Sales');"
      ],
      "metadata": {
        "colab": {
          "base_uri": "https://localhost:8080/",
          "height": 361
        },
        "id": "KqrpCsmj4oA_",
        "outputId": "9aa72210-570c-4fc7-c35e-8c4f849d2fdc"
      },
      "execution_count": null,
      "outputs": [
        {
          "output_type": "display_data",
          "data": {
            "text/plain": [
              "<Figure size 360x432 with 1 Axes>"
            ],
            "image/png": "[encoded data removed]"
          },
          "metadata": {
            "needs_background": "light"
          }
        }
      ]
    },
    {
      "cell_type": "markdown",
      "source": [
        "- Item outlet sales has a median of about 1900, and multiple outliers above 6000."
      ],
      "metadata": {
        "id": "ej502nld4uwO"
      }
    },
    {
      "cell_type": "code",
      "source": [
        "#Create a heatmap of the dataframe.\n",
        "sales_df.corr()\n",
        "corr=sales_df.corr()\n",
        "sns.heatmap(corr, cmap = 'Oranges');"
      ],
      "metadata": {
        "colab": {
          "base_uri": "https://localhost:8080/",
          "height": 392
        },
        "id": "5-s0j9hV42EE",
        "outputId": "878a751c-1b9c-4f36-c007-d3ebe752663c"
      },
      "execution_count": null,
      "outputs": [
        {
          "output_type": "display_data",
          "data": {
            "text/plain": [
              "<Figure size 432x288 with 2 Axes>"
            ],
            "image/png": "[encoded data removed]"
          },
          "metadata": {
            "needs_background": "light"
          }
        }
      ]
    },
    {
      "cell_type": "markdown",
      "source": [
        "#**Part 4**"
      ],
      "metadata": {
        "id": "GY19Pt087HcL"
      }
    },
    {
      "cell_type": "markdown",
      "source": [
        "###**Other Explanitory Visuals**"
      ],
      "metadata": {
        "id": "SAClR23G-hOi"
      }
    },
    {
      "cell_type": "markdown",
      "source": [
        "- your task is to build several data visualizations to help your stakeholders better understand trends in the data. \n",
        "- Feel free to get creative with this week - this is your chance to set your project apart from others with exceptional visualizations and analyses.\n",
        "\n",
        "- Build on your previous cleaning, exploration, and analysis.\n",
        "\n",
        "- Create a minimum of two data visualizations that help others understand trends in the data (explanatory data analysis).\n",
        "- Since these graphs are for reporting purposes, make sure they look nice by including titles, legends, etc."
      ],
      "metadata": {
        "id": "0nbBGNZx7XlX"
      }
    },
    {
      "cell_type": "code",
      "source": [
        "# Set the figure size\n",
        "plt.figure(figsize=(25, 10));\n",
        "\n",
        "# Reorder this data frame\n",
        "df = sales_df.sort_values(['Item_Outlet_Sales'], ascending=False).reset_index(drop=True);\n",
        "\n",
        "# Make a barplot\n",
        "sns.barplot(\n",
        "    x=\"Item_Type\", \n",
        "    y=\"Item_Outlet_Sales\", \n",
        "    data=df, \n",
        "    estimator=sum, \n",
        "    ci=None, \n",
        "    order =['Fruits and Vegetables','Snack Foods','Household','Frozen Foods','Dairy','Canned','Baking Goods', 'Health and Hygiene','Meat','Soft Drinks','Breads','Hard Drinks','Starchy Foods','Others','Breakfast','Seafood'],\n",
        "    color='Blue');\n",
        "# Add title and axis names\n",
        "plt.xticks(rotation=45, fontsize = 12, fontweight = 'bold', ha = 'right');\n",
        "plt.title('Top Selling Item Types',fontweight='bold', color = 'Black', fontsize='30', horizontalalignment='center');\n",
        "plt.xlabel('Item Type',fontweight='bold', fontsize='17', horizontalalignment='right');\n",
        "plt.ylabel('Total Sales',fontweight='bold', fontsize='17', horizontalalignment='right');\n",
        "plt.show()\n"
      ],
      "metadata": {
        "colab": {
          "base_uri": "https://localhost:8080/",
          "height": 766
        },
        "id": "6_lH0b2vA7Ey",
        "outputId": "636bce32-658c-4f6b-e62f-0b6c6530ccfc"
      },
      "execution_count": null,
      "outputs": [
        {
          "output_type": "display_data",
          "data": {
            "text/plain": [
              "<Figure size 1800x720 with 1 Axes>"
            ],
            "image/png": "[encoded data removed]"
          },
          "metadata": {
            "needs_background": "light"
          }
        }
      ]
    },
    {
      "cell_type": "markdown",
      "source": [
        "**Interpretation:**\n",
        "\n",
        "- The top selling Item type was fruits and vegtables, closely followed by snack \n",
        "\n",
        "foods. Dairy placed fifth infront of canned foods. while breakfast and seafood \n",
        "\n",
        "were the two lowest."
      ],
      "metadata": {
        "id": "jOLt6Kil9Auf"
      }
    },
    {
      "cell_type": "code",
      "source": [
        "# Set the figure size\n",
        "plt.figure(figsize=(22, 10));\n",
        "\n",
        "# Reorder this data frame\n",
        "df = sales_df.sort_values(['Outlet_Location_Type'], ascending=False).reset_index(drop=True);\n",
        "\n",
        "# Make a barplot\n",
        "sns.barplot(\n",
        "    x=\"Outlet_Location_Type\", \n",
        "    y=\"Item_Outlet_Sales\", \n",
        "    data=df, \n",
        "    estimator=sum, \n",
        "    ci=None, \n",
        "    color='green');\n",
        "# Add title and axis names\n",
        "plt.xticks(rotation=45, fontsize = 12, fontweight = 'bold', ha = 'right');\n",
        "plt.title('Top Selling Oulet Types',fontweight='bold', color = 'Black', fontsize='30', horizontalalignment='center');\n",
        "plt.xlabel('Outlet Type',fontweight='bold', fontsize='17', horizontalalignment='right');\n",
        "plt.ylabel('Outlet Sales',fontweight='bold', fontsize='17', horizontalalignment='right');\n",
        "plt.show()"
      ],
      "metadata": {
        "colab": {
          "base_uri": "https://localhost:8080/",
          "height": 669
        },
        "id": "hnyazw5JHiGX",
        "outputId": "eed2163b-e095-49f4-f2ba-b3f88a3cf9d8"
      },
      "execution_count": null,
      "outputs": [
        {
          "output_type": "display_data",
          "data": {
            "text/plain": [
              "<Figure size 1584x720 with 1 Axes>"
            ],
            "image/png": "[encoded data removed]"
          },
          "metadata": {
            "needs_background": "light"
          }
        }
      ]
    },
    {
      "cell_type": "markdown",
      "source": [
        "Interpretation:\n",
        "- Here we see that the top selling outlet type was that of tier 3, followed by tier 2, and then tier 1 was the lowest selling outlet type."
      ],
      "metadata": {
        "id": "IBMjDYGuMgFE"
      }
    },
    {
      "cell_type": "markdown",
      "source": [
        "#**Part 5**"
      ],
      "metadata": {
        "id": "ZKDMJ25DxxRt"
      }
    },
    {
      "cell_type": "markdown",
      "source": [
        "###**Loading Data**"
      ],
      "metadata": {
        "id": "08q3bor3Kg-U"
      }
    },
    {
      "cell_type": "code",
      "source": [
        "#load Data\n",
        "df= pd.read_csv('/content/sales_predictions.csv')\n",
        "df.head()"
      ],
      "metadata": {
        "colab": {
          "base_uri": "https://localhost:8080/",
          "height": 357
        },
        "id": "tLZkASNUKlXX",
        "outputId": "adff7dc3-df79-4259-b5f1-eaa2a1f3f012"
      },
      "execution_count": null,
      "outputs": [
        {
          "output_type": "execute_result",
          "data": {
            "text/plain": [
              "  Item_Identifier  Item_Weight Item_Fat_Content  Item_Visibility  \\\n",
              "0           FDA15         9.30          Low Fat         0.016047   \n",
              "1           DRC01         5.92          Regular         0.019278   \n",
              "2           FDN15        17.50          Low Fat         0.016760   \n",
              "3           FDX07        19.20          Regular         0.000000   \n",
              "4           NCD19         8.93          Low Fat         0.000000   \n",
              "\n",
              "               Item_Type  Item_MRP Outlet_Identifier  \\\n",
              "0                  Dairy  249.8092            OUT049   \n",
              "1            Soft Drinks   48.2692            OUT018   \n",
              "2                   Meat  141.6180            OUT049   \n",
              "3  Fruits and Vegetables  182.0950            OUT010   \n",
              "4              Household   53.8614            OUT013   \n",
              "\n",
              "   Outlet_Establishment_Year Outlet_Size Outlet_Location_Type  \\\n",
              "0                       1999      Medium               Tier 1   \n",
              "1                       2009      Medium               Tier 3   \n",
              "2                       1999      Medium               Tier 1   \n",
              "3                       1998         NaN               Tier 3   \n",
              "4                       1987        High               Tier 3   \n",
              "\n",
              "         Outlet_Type  Item_Outlet_Sales  \n",
              "0  Supermarket Type1          3735.1380  \n",
              "1  Supermarket Type2           443.4228  \n",
              "2  Supermarket Type1          2097.2700  \n",
              "3      Grocery Store           732.3800  \n",
              "4  Supermarket Type1           994.7052  "
            ],
            "text/html": [
              "\n",
              "  <div id=\"df-74d1752f-5a42-4279-b277-6ff8b582e2ce\">\n",
              "    <div class=\"colab-df-container\">\n",
              "      <div>\n",
              "<style scoped>\n",
              "    .dataframe tbody tr th:only-of-type {\n",
              "        vertical-align: middle;\n",
              "    }\n",
              "\n",
              "    .dataframe tbody tr th {\n",
              "        vertical-align: top;\n",
              "    }\n",
              "\n",
              "    .dataframe thead th {\n",
              "        text-align: right;\n",
              "    }\n",
              "</style>\n",
              "<table border=\"1\" class=\"dataframe\">\n",
              "  <thead>\n",
              "    <tr style=\"text-align: right;\">\n",
              "      <th></th>\n",
              "      <th>Item_Identifier</th>\n",
              "      <th>Item_Weight</th>\n",
              "      <th>Item_Fat_Content</th>\n",
              "      <th>Item_Visibility</th>\n",
              "      <th>Item_Type</th>\n",
              "      <th>Item_MRP</th>\n",
              "      <th>Outlet_Identifier</th>\n",
              "      <th>Outlet_Establishment_Year</th>\n",
              "      <th>Outlet_Size</th>\n",
              "      <th>Outlet_Location_Type</th>\n",
              "      <th>Outlet_Type</th>\n",
              "      <th>Item_Outlet_Sales</th>\n",
              "    </tr>\n",
              "  </thead>\n",
              "  <tbody>\n",
              "    <tr>\n",
              "      <th>0</th>\n",
              "      <td>FDA15</td>\n",
              "      <td>9.30</td>\n",
              "      <td>Low Fat</td>\n",
              "      <td>0.016047</td>\n",
              "      <td>Dairy</td>\n",
              "      <td>249.8092</td>\n",
              "      <td>OUT049</td>\n",
              "      <td>1999</td>\n",
              "      <td>Medium</td>\n",
              "      <td>Tier 1</td>\n",
              "      <td>Supermarket Type1</td>\n",
              "      <td>3735.1380</td>\n",
              "    </tr>\n",
              "    <tr>\n",
              "      <th>1</th>\n",
              "      <td>DRC01</td>\n",
              "      <td>5.92</td>\n",
              "      <td>Regular</td>\n",
              "      <td>0.019278</td>\n",
              "      <td>Soft Drinks</td>\n",
              "      <td>48.2692</td>\n",
              "      <td>OUT018</td>\n",
              "      <td>2009</td>\n",
              "      <td>Medium</td>\n",
              "      <td>Tier 3</td>\n",
              "      <td>Supermarket Type2</td>\n",
              "      <td>443.4228</td>\n",
              "    </tr>\n",
              "    <tr>\n",
              "      <th>2</th>\n",
              "      <td>FDN15</td>\n",
              "      <td>17.50</td>\n",
              "      <td>Low Fat</td>\n",
              "      <td>0.016760</td>\n",
              "      <td>Meat</td>\n",
              "      <td>141.6180</td>\n",
              "      <td>OUT049</td>\n",
              "      <td>1999</td>\n",
              "      <td>Medium</td>\n",
              "      <td>Tier 1</td>\n",
              "      <td>Supermarket Type1</td>\n",
              "      <td>2097.2700</td>\n",
              "    </tr>\n",
              "    <tr>\n",
              "      <th>3</th>\n",
              "      <td>FDX07</td>\n",
              "      <td>19.20</td>\n",
              "      <td>Regular</td>\n",
              "      <td>0.000000</td>\n",
              "      <td>Fruits and Vegetables</td>\n",
              "      <td>182.0950</td>\n",
              "      <td>OUT010</td>\n",
              "      <td>1998</td>\n",
              "      <td>NaN</td>\n",
              "      <td>Tier 3</td>\n",
              "      <td>Grocery Store</td>\n",
              "      <td>732.3800</td>\n",
              "    </tr>\n",
              "    <tr>\n",
              "      <th>4</th>\n",
              "      <td>NCD19</td>\n",
              "      <td>8.93</td>\n",
              "      <td>Low Fat</td>\n",
              "      <td>0.000000</td>\n",
              "      <td>Household</td>\n",
              "      <td>53.8614</td>\n",
              "      <td>OUT013</td>\n",
              "      <td>1987</td>\n",
              "      <td>High</td>\n",
              "      <td>Tier 3</td>\n",
              "      <td>Supermarket Type1</td>\n",
              "      <td>994.7052</td>\n",
              "    </tr>\n",
              "  </tbody>\n",
              "</table>\n",
              "</div>\n",
              "      <button class=\"colab-df-convert\" onclick=\"convertToInteractive('df-74d1752f-5a42-4279-b277-6ff8b582e2ce')\"\n",
              "              title=\"Convert this dataframe to an interactive table.\"\n",
              "              style=\"display:none;\">\n",
              "        \n",
              "  <svg xmlns=\"http://www.w3.org/2000/svg\" height=\"24px\"viewBox=\"0 0 24 24\"\n",
              "       width=\"24px\">\n",
              "    <path d=\"M0 0h24v24H0V0z\" fill=\"none\"/>\n",
              "    <path d=\"M18.56 5.44l.94 2.06.94-2.06 2.06-.94-2.06-.94-.94-2.06-.94 2.06-2.06.94zm-11 1L8.5 8.5l.94-2.06 2.06-.94-2.06-.94L8.5 2.5l-.94 2.06-2.06.94zm10 10l.94 2.06.94-2.06 2.06-.94-2.06-.94-.94-2.06-.94 2.06-2.06.94z\"/><path d=\"M17.41 7.96l-1.37-1.37c-.4-.4-.92-.59-1.43-.59-.52 0-1.04.2-1.43.59L10.3 9.45l-7.72 7.72c-.78.78-.78 2.05 0 2.83L4 21.41c.39.39.9.59 1.41.59.51 0 1.02-.2 1.41-.59l7.78-7.78 2.81-2.81c.8-.78.8-2.07 0-2.86zM5.41 20L4 18.59l7.72-7.72 1.47 1.35L5.41 20z\"/>\n",
              "  </svg>\n",
              "      </button>\n",
              "      \n",
              "  <style>\n",
              "    .colab-df-container {\n",
              "      display:flex;\n",
              "      flex-wrap:wrap;\n",
              "      gap: 12px;\n",
              "    }\n",
              "\n",
              "    .colab-df-convert {\n",
              "      background-color: #E8F0FE;\n",
              "      border: none;\n",
              "      border-radius: 50%;\n",
              "      cursor: pointer;\n",
              "      display: none;\n",
              "      fill: #1967D2;\n",
              "      height: 32px;\n",
              "      padding: 0 0 0 0;\n",
              "      width: 32px;\n",
              "    }\n",
              "\n",
              "    .colab-df-convert:hover {\n",
              "      background-color: #E2EBFA;\n",
              "      box-shadow: 0px 1px 2px rgba(60, 64, 67, 0.3), 0px 1px 3px 1px rgba(60, 64, 67, 0.15);\n",
              "      fill: #174EA6;\n",
              "    }\n",
              "\n",
              "    [theme=dark] .colab-df-convert {\n",
              "      background-color: #3B4455;\n",
              "      fill: #D2E3FC;\n",
              "    }\n",
              "\n",
              "    [theme=dark] .colab-df-convert:hover {\n",
              "      background-color: #434B5C;\n",
              "      box-shadow: 0px 1px 3px 1px rgba(0, 0, 0, 0.15);\n",
              "      filter: drop-shadow(0px 1px 2px rgba(0, 0, 0, 0.3));\n",
              "      fill: #FFFFFF;\n",
              "    }\n",
              "  </style>\n",
              "\n",
              "      <script>\n",
              "        const buttonEl =\n",
              "          document.querySelector('#df-74d1752f-5a42-4279-b277-6ff8b582e2ce button.colab-df-convert');\n",
              "        buttonEl.style.display =\n",
              "          google.colab.kernel.accessAllowed ? 'block' : 'none';\n",
              "\n",
              "        async function convertToInteractive(key) {\n",
              "          const element = document.querySelector('#df-74d1752f-5a42-4279-b277-6ff8b582e2ce');\n",
              "          const dataTable =\n",
              "            await google.colab.kernel.invokeFunction('convertToInteractive',\n",
              "                                                     [key], {});\n",
              "          if (!dataTable) return;\n",
              "\n",
              "          const docLinkHtml = 'Like what you see? Visit the ' +\n",
              "            '<a target=\"_blank\" href=https://colab.research.google.com/notebooks/data_table.ipynb>data table notebook</a>'\n",
              "            + ' to learn more about interactive tables.';\n",
              "          element.innerHTML = '';\n",
              "          dataTable['output_type'] = 'display_data';\n",
              "          await google.colab.output.renderOutput(dataTable, element);\n",
              "          const docLink = document.createElement('div');\n",
              "          docLink.innerHTML = docLinkHtml;\n",
              "          element.appendChild(docLink);\n",
              "        }\n",
              "      </script>\n",
              "    </div>\n",
              "  </div>\n",
              "  "
            ]
          },
          "metadata": {},
          "execution_count": 30
        }
      ]
    },
    {
      "cell_type": "code",
      "source": [
        "# dataFrame info\n",
        "df.info()"
      ],
      "metadata": {
        "colab": {
          "base_uri": "https://localhost:8080/"
        },
        "id": "VHypErhUMGvh",
        "outputId": "871258cd-036c-4711-d984-2bc4e921da7a"
      },
      "execution_count": null,
      "outputs": [
        {
          "output_type": "stream",
          "name": "stdout",
          "text": [
            "<class 'pandas.core.frame.DataFrame'>\n",
            "RangeIndex: 8523 entries, 0 to 8522\n",
            "Data columns (total 12 columns):\n",
            " #   Column                     Non-Null Count  Dtype  \n",
            "---  ------                     --------------  -----  \n",
            " 0   Item_Identifier            8523 non-null   object \n",
            " 1   Item_Weight                7060 non-null   float64\n",
            " 2   Item_Fat_Content           8523 non-null   object \n",
            " 3   Item_Visibility            8523 non-null   float64\n",
            " 4   Item_Type                  8523 non-null   object \n",
            " 5   Item_MRP                   8523 non-null   float64\n",
            " 6   Outlet_Identifier          8523 non-null   object \n",
            " 7   Outlet_Establishment_Year  8523 non-null   int64  \n",
            " 8   Outlet_Size                6113 non-null   object \n",
            " 9   Outlet_Location_Type       8523 non-null   object \n",
            " 10  Outlet_Type                8523 non-null   object \n",
            " 11  Item_Outlet_Sales          8523 non-null   float64\n",
            "dtypes: float64(4), int64(1), object(7)\n",
            "memory usage: 799.2+ KB\n"
          ]
        }
      ]
    },
    {
      "cell_type": "code",
      "source": [
        "#Creating a copy of the DataFrame\n",
        "eda_ml = df.copy()"
      ],
      "metadata": {
        "id": "yRzWS_Y8RS-9"
      },
      "execution_count": null,
      "outputs": []
    },
    {
      "cell_type": "code",
      "source": [
        "#Print missing values\n",
        "eda_ml.isna().sum()"
      ],
      "metadata": {
        "colab": {
          "base_uri": "https://localhost:8080/"
        },
        "id": "GBSFoBFsMPHf",
        "outputId": "4795cb97-40b9-454a-a628-11360adce561"
      },
      "execution_count": null,
      "outputs": [
        {
          "output_type": "execute_result",
          "data": {
            "text/plain": [
              "Item_Identifier                 0\n",
              "Item_Weight                  1463\n",
              "Item_Fat_Content                0\n",
              "Item_Visibility                 0\n",
              "Item_Type                       0\n",
              "Item_MRP                        0\n",
              "Outlet_Identifier               0\n",
              "Outlet_Establishment_Year       0\n",
              "Outlet_Size                  2410\n",
              "Outlet_Location_Type            0\n",
              "Outlet_Type                     0\n",
              "Item_Outlet_Sales               0\n",
              "dtype: int64"
            ]
          },
          "metadata": {},
          "execution_count": 33
        }
      ]
    },
    {
      "cell_type": "code",
      "source": [
        "eda_ml.duplicated().sum()"
      ],
      "metadata": {
        "colab": {
          "base_uri": "https://localhost:8080/"
        },
        "id": "7Yp1jn-zMZ9R",
        "outputId": "d341d9b7-6e9e-4492-82a6-6fd2d458b84c"
      },
      "execution_count": null,
      "outputs": [
        {
          "output_type": "execute_result",
          "data": {
            "text/plain": [
              "0"
            ]
          },
          "metadata": {},
          "execution_count": 34
        }
      ]
    },
    {
      "cell_type": "markdown",
      "source": [
        "There are no duplicates"
      ],
      "metadata": {
        "id": "yLFGdemDR0-6"
      }
    },
    {
      "cell_type": "code",
      "source": [
        "#Display descriptive stats for all columns\n",
        "eda_ml.describe(include='all')"
      ],
      "metadata": {
        "colab": {
          "base_uri": "https://localhost:8080/",
          "height": 475
        },
        "id": "iUjshe6TSF_T",
        "outputId": "880d6b43-f6be-4bca-ec42-766da1b772ff"
      },
      "execution_count": null,
      "outputs": [
        {
          "output_type": "execute_result",
          "data": {
            "text/plain": [
              "       Item_Identifier  Item_Weight Item_Fat_Content  Item_Visibility  \\\n",
              "count             8523  7060.000000             8523      8523.000000   \n",
              "unique            1559          NaN                5              NaN   \n",
              "top              FDW13          NaN          Low Fat              NaN   \n",
              "freq                10          NaN             5089              NaN   \n",
              "mean               NaN    12.857645              NaN         0.066132   \n",
              "std                NaN     4.643456              NaN         0.051598   \n",
              "min                NaN     4.555000              NaN         0.000000   \n",
              "25%                NaN     8.773750              NaN         0.026989   \n",
              "50%                NaN    12.600000              NaN         0.053931   \n",
              "75%                NaN    16.850000              NaN         0.094585   \n",
              "max                NaN    21.350000              NaN         0.328391   \n",
              "\n",
              "                    Item_Type     Item_MRP Outlet_Identifier  \\\n",
              "count                    8523  8523.000000              8523   \n",
              "unique                     16          NaN                10   \n",
              "top     Fruits and Vegetables          NaN            OUT027   \n",
              "freq                     1232          NaN               935   \n",
              "mean                      NaN   140.992782               NaN   \n",
              "std                       NaN    62.275067               NaN   \n",
              "min                       NaN    31.290000               NaN   \n",
              "25%                       NaN    93.826500               NaN   \n",
              "50%                       NaN   143.012800               NaN   \n",
              "75%                       NaN   185.643700               NaN   \n",
              "max                       NaN   266.888400               NaN   \n",
              "\n",
              "        Outlet_Establishment_Year Outlet_Size Outlet_Location_Type  \\\n",
              "count                 8523.000000        6113                 8523   \n",
              "unique                        NaN           3                    3   \n",
              "top                           NaN      Medium               Tier 3   \n",
              "freq                          NaN        2793                 3350   \n",
              "mean                  1997.831867         NaN                  NaN   \n",
              "std                      8.371760         NaN                  NaN   \n",
              "min                   1985.000000         NaN                  NaN   \n",
              "25%                   1987.000000         NaN                  NaN   \n",
              "50%                   1999.000000         NaN                  NaN   \n",
              "75%                   2004.000000         NaN                  NaN   \n",
              "max                   2009.000000         NaN                  NaN   \n",
              "\n",
              "              Outlet_Type  Item_Outlet_Sales  \n",
              "count                8523        8523.000000  \n",
              "unique                  4                NaN  \n",
              "top     Supermarket Type1                NaN  \n",
              "freq                 5577                NaN  \n",
              "mean                  NaN        2181.288914  \n",
              "std                   NaN        1706.499616  \n",
              "min                   NaN          33.290000  \n",
              "25%                   NaN         834.247400  \n",
              "50%                   NaN        1794.331000  \n",
              "75%                   NaN        3101.296400  \n",
              "max                   NaN       13086.964800  "
            ],
            "text/html": [
              "\n",
              "  <div id=\"df-555795ae-bf3b-4197-aeca-fbd6724e2e9e\">\n",
              "    <div class=\"colab-df-container\">\n",
              "      <div>\n",
              "<style scoped>\n",
              "    .dataframe tbody tr th:only-of-type {\n",
              "        vertical-align: middle;\n",
              "    }\n",
              "\n",
              "    .dataframe tbody tr th {\n",
              "        vertical-align: top;\n",
              "    }\n",
              "\n",
              "    .dataframe thead th {\n",
              "        text-align: right;\n",
              "    }\n",
              "</style>\n",
              "<table border=\"1\" class=\"dataframe\">\n",
              "  <thead>\n",
              "    <tr style=\"text-align: right;\">\n",
              "      <th></th>\n",
              "      <th>Item_Identifier</th>\n",
              "      <th>Item_Weight</th>\n",
              "      <th>Item_Fat_Content</th>\n",
              "      <th>Item_Visibility</th>\n",
              "      <th>Item_Type</th>\n",
              "      <th>Item_MRP</th>\n",
              "      <th>Outlet_Identifier</th>\n",
              "      <th>Outlet_Establishment_Year</th>\n",
              "      <th>Outlet_Size</th>\n",
              "      <th>Outlet_Location_Type</th>\n",
              "      <th>Outlet_Type</th>\n",
              "      <th>Item_Outlet_Sales</th>\n",
              "    </tr>\n",
              "  </thead>\n",
              "  <tbody>\n",
              "    <tr>\n",
              "      <th>count</th>\n",
              "      <td>8523</td>\n",
              "      <td>7060.000000</td>\n",
              "      <td>8523</td>\n",
              "      <td>8523.000000</td>\n",
              "      <td>8523</td>\n",
              "      <td>8523.000000</td>\n",
              "      <td>8523</td>\n",
              "      <td>8523.000000</td>\n",
              "      <td>6113</td>\n",
              "      <td>8523</td>\n",
              "      <td>8523</td>\n",
              "      <td>8523.000000</td>\n",
              "    </tr>\n",
              "    <tr>\n",
              "      <th>unique</th>\n",
              "      <td>1559</td>\n",
              "      <td>NaN</td>\n",
              "      <td>5</td>\n",
              "      <td>NaN</td>\n",
              "      <td>16</td>\n",
              "      <td>NaN</td>\n",
              "      <td>10</td>\n",
              "      <td>NaN</td>\n",
              "      <td>3</td>\n",
              "      <td>3</td>\n",
              "      <td>4</td>\n",
              "      <td>NaN</td>\n",
              "    </tr>\n",
              "    <tr>\n",
              "      <th>top</th>\n",
              "      <td>FDW13</td>\n",
              "      <td>NaN</td>\n",
              "      <td>Low Fat</td>\n",
              "      <td>NaN</td>\n",
              "      <td>Fruits and Vegetables</td>\n",
              "      <td>NaN</td>\n",
              "      <td>OUT027</td>\n",
              "      <td>NaN</td>\n",
              "      <td>Medium</td>\n",
              "      <td>Tier 3</td>\n",
              "      <td>Supermarket Type1</td>\n",
              "      <td>NaN</td>\n",
              "    </tr>\n",
              "    <tr>\n",
              "      <th>freq</th>\n",
              "      <td>10</td>\n",
              "      <td>NaN</td>\n",
              "      <td>5089</td>\n",
              "      <td>NaN</td>\n",
              "      <td>1232</td>\n",
              "      <td>NaN</td>\n",
              "      <td>935</td>\n",
              "      <td>NaN</td>\n",
              "      <td>2793</td>\n",
              "      <td>3350</td>\n",
              "      <td>5577</td>\n",
              "      <td>NaN</td>\n",
              "    </tr>\n",
              "    <tr>\n",
              "      <th>mean</th>\n",
              "      <td>NaN</td>\n",
              "      <td>12.857645</td>\n",
              "      <td>NaN</td>\n",
              "      <td>0.066132</td>\n",
              "      <td>NaN</td>\n",
              "      <td>140.992782</td>\n",
              "      <td>NaN</td>\n",
              "      <td>1997.831867</td>\n",
              "      <td>NaN</td>\n",
              "      <td>NaN</td>\n",
              "      <td>NaN</td>\n",
              "      <td>2181.288914</td>\n",
              "    </tr>\n",
              "    <tr>\n",
              "      <th>std</th>\n",
              "      <td>NaN</td>\n",
              "      <td>4.643456</td>\n",
              "      <td>NaN</td>\n",
              "      <td>0.051598</td>\n",
              "      <td>NaN</td>\n",
              "      <td>62.275067</td>\n",
              "      <td>NaN</td>\n",
              "      <td>8.371760</td>\n",
              "      <td>NaN</td>\n",
              "      <td>NaN</td>\n",
              "      <td>NaN</td>\n",
              "      <td>1706.499616</td>\n",
              "    </tr>\n",
              "    <tr>\n",
              "      <th>min</th>\n",
              "      <td>NaN</td>\n",
              "      <td>4.555000</td>\n",
              "      <td>NaN</td>\n",
              "      <td>0.000000</td>\n",
              "      <td>NaN</td>\n",
              "      <td>31.290000</td>\n",
              "      <td>NaN</td>\n",
              "      <td>1985.000000</td>\n",
              "      <td>NaN</td>\n",
              "      <td>NaN</td>\n",
              "      <td>NaN</td>\n",
              "      <td>33.290000</td>\n",
              "    </tr>\n",
              "    <tr>\n",
              "      <th>25%</th>\n",
              "      <td>NaN</td>\n",
              "      <td>8.773750</td>\n",
              "      <td>NaN</td>\n",
              "      <td>0.026989</td>\n",
              "      <td>NaN</td>\n",
              "      <td>93.826500</td>\n",
              "      <td>NaN</td>\n",
              "      <td>1987.000000</td>\n",
              "      <td>NaN</td>\n",
              "      <td>NaN</td>\n",
              "      <td>NaN</td>\n",
              "      <td>834.247400</td>\n",
              "    </tr>\n",
              "    <tr>\n",
              "      <th>50%</th>\n",
              "      <td>NaN</td>\n",
              "      <td>12.600000</td>\n",
              "      <td>NaN</td>\n",
              "      <td>0.053931</td>\n",
              "      <td>NaN</td>\n",
              "      <td>143.012800</td>\n",
              "      <td>NaN</td>\n",
              "      <td>1999.000000</td>\n",
              "      <td>NaN</td>\n",
              "      <td>NaN</td>\n",
              "      <td>NaN</td>\n",
              "      <td>1794.331000</td>\n",
              "    </tr>\n",
              "    <tr>\n",
              "      <th>75%</th>\n",
              "      <td>NaN</td>\n",
              "      <td>16.850000</td>\n",
              "      <td>NaN</td>\n",
              "      <td>0.094585</td>\n",
              "      <td>NaN</td>\n",
              "      <td>185.643700</td>\n",
              "      <td>NaN</td>\n",
              "      <td>2004.000000</td>\n",
              "      <td>NaN</td>\n",
              "      <td>NaN</td>\n",
              "      <td>NaN</td>\n",
              "      <td>3101.296400</td>\n",
              "    </tr>\n",
              "    <tr>\n",
              "      <th>max</th>\n",
              "      <td>NaN</td>\n",
              "      <td>21.350000</td>\n",
              "      <td>NaN</td>\n",
              "      <td>0.328391</td>\n",
              "      <td>NaN</td>\n",
              "      <td>266.888400</td>\n",
              "      <td>NaN</td>\n",
              "      <td>2009.000000</td>\n",
              "      <td>NaN</td>\n",
              "      <td>NaN</td>\n",
              "      <td>NaN</td>\n",
              "      <td>13086.964800</td>\n",
              "    </tr>\n",
              "  </tbody>\n",
              "</table>\n",
              "</div>\n",
              "      <button class=\"colab-df-convert\" onclick=\"convertToInteractive('df-555795ae-bf3b-4197-aeca-fbd6724e2e9e')\"\n",
              "              title=\"Convert this dataframe to an interactive table.\"\n",
              "              style=\"display:none;\">\n",
              "        \n",
              "  <svg xmlns=\"http://www.w3.org/2000/svg\" height=\"24px\"viewBox=\"0 0 24 24\"\n",
              "       width=\"24px\">\n",
              "    <path d=\"M0 0h24v24H0V0z\" fill=\"none\"/>\n",
              "    <path d=\"M18.56 5.44l.94 2.06.94-2.06 2.06-.94-2.06-.94-.94-2.06-.94 2.06-2.06.94zm-11 1L8.5 8.5l.94-2.06 2.06-.94-2.06-.94L8.5 2.5l-.94 2.06-2.06.94zm10 10l.94 2.06.94-2.06 2.06-.94-2.06-.94-.94-2.06-.94 2.06-2.06.94z\"/><path d=\"M17.41 7.96l-1.37-1.37c-.4-.4-.92-.59-1.43-.59-.52 0-1.04.2-1.43.59L10.3 9.45l-7.72 7.72c-.78.78-.78 2.05 0 2.83L4 21.41c.39.39.9.59 1.41.59.51 0 1.02-.2 1.41-.59l7.78-7.78 2.81-2.81c.8-.78.8-2.07 0-2.86zM5.41 20L4 18.59l7.72-7.72 1.47 1.35L5.41 20z\"/>\n",
              "  </svg>\n",
              "      </button>\n",
              "      \n",
              "  <style>\n",
              "    .colab-df-container {\n",
              "      display:flex;\n",
              "      flex-wrap:wrap;\n",
              "      gap: 12px;\n",
              "    }\n",
              "\n",
              "    .colab-df-convert {\n",
              "      background-color: #E8F0FE;\n",
              "      border: none;\n",
              "      border-radius: 50%;\n",
              "      cursor: pointer;\n",
              "      display: none;\n",
              "      fill: #1967D2;\n",
              "      height: 32px;\n",
              "      padding: 0 0 0 0;\n",
              "      width: 32px;\n",
              "    }\n",
              "\n",
              "    .colab-df-convert:hover {\n",
              "      background-color: #E2EBFA;\n",
              "      box-shadow: 0px 1px 2px rgba(60, 64, 67, 0.3), 0px 1px 3px 1px rgba(60, 64, 67, 0.15);\n",
              "      fill: #174EA6;\n",
              "    }\n",
              "\n",
              "    [theme=dark] .colab-df-convert {\n",
              "      background-color: #3B4455;\n",
              "      fill: #D2E3FC;\n",
              "    }\n",
              "\n",
              "    [theme=dark] .colab-df-convert:hover {\n",
              "      background-color: #434B5C;\n",
              "      box-shadow: 0px 1px 3px 1px rgba(0, 0, 0, 0.15);\n",
              "      filter: drop-shadow(0px 1px 2px rgba(0, 0, 0, 0.3));\n",
              "      fill: #FFFFFF;\n",
              "    }\n",
              "  </style>\n",
              "\n",
              "      <script>\n",
              "        const buttonEl =\n",
              "          document.querySelector('#df-555795ae-bf3b-4197-aeca-fbd6724e2e9e button.colab-df-convert');\n",
              "        buttonEl.style.display =\n",
              "          google.colab.kernel.accessAllowed ? 'block' : 'none';\n",
              "\n",
              "        async function convertToInteractive(key) {\n",
              "          const element = document.querySelector('#df-555795ae-bf3b-4197-aeca-fbd6724e2e9e');\n",
              "          const dataTable =\n",
              "            await google.colab.kernel.invokeFunction('convertToInteractive',\n",
              "                                                     [key], {});\n",
              "          if (!dataTable) return;\n",
              "\n",
              "          const docLinkHtml = 'Like what you see? Visit the ' +\n",
              "            '<a target=\"_blank\" href=https://colab.research.google.com/notebooks/data_table.ipynb>data table notebook</a>'\n",
              "            + ' to learn more about interactive tables.';\n",
              "          element.innerHTML = '';\n",
              "          dataTable['output_type'] = 'display_data';\n",
              "          await google.colab.output.renderOutput(dataTable, element);\n",
              "          const docLink = document.createElement('div');\n",
              "          docLink.innerHTML = docLinkHtml;\n",
              "          element.appendChild(docLink);\n",
              "        }\n",
              "      </script>\n",
              "    </div>\n",
              "  </div>\n",
              "  "
            ]
          },
          "metadata": {},
          "execution_count": 35
        }
      ]
    },
    {
      "cell_type": "markdown",
      "source": [
        "###**Split the data(Validation Split)**"
      ],
      "metadata": {
        "id": "VlmM-MN-NAzG"
      }
    },
    {
      "cell_type": "code",
      "source": [
        "#Split X and y\n",
        "X = eda_ml.drop(columns = 'Item_Outlet_Sales')\n",
        "y = eda_ml['Item_Outlet_Sales']"
      ],
      "metadata": {
        "id": "-NAyosCL0Jlk"
      },
      "execution_count": null,
      "outputs": []
    },
    {
      "cell_type": "code",
      "source": [
        "#Split training and test\n",
        "X_train, X_test, y_train, y_test = train_test_split(X, y, random_state=42)"
      ],
      "metadata": {
        "id": "cTItKzj90cmC"
      },
      "execution_count": null,
      "outputs": []
    },
    {
      "cell_type": "markdown",
      "source": [
        "###**Create a preprocessing object to prepare the dataset for Machine Learning**"
      ],
      "metadata": {
        "id": "zPBrldsx0s-g"
      }
    },
    {
      "cell_type": "code",
      "source": [
        "#Imputers\n",
        "freq_imputer = SimpleImputer(strategy='most_frequent')\n",
        "mean_imputer = SimpleImputer(strategy= 'mean')\n",
        "#Scaler\n",
        "scaler = StandardScaler()\n",
        "#OneHotEncoder\n",
        "ohe =OneHotEncoder(handle_unknown='ignore', sparse=False)"
      ],
      "metadata": {
        "id": "XG7oDL7j02oI"
      },
      "execution_count": null,
      "outputs": []
    },
    {
      "cell_type": "code",
      "source": [
        "#Create Selectors\n",
        "cat_selector = make_column_selector(dtype_include= 'object')\n",
        "num_selector = make_column_selector(dtype_include='number')"
      ],
      "metadata": {
        "id": "Ns53wYj21ciC"
      },
      "execution_count": null,
      "outputs": []
    },
    {
      "cell_type": "code",
      "source": [
        "# Numeric pipeline\n",
        "numeric_pipe = make_pipeline(mean_imputer, scaler)\n",
        "numeric_pipe"
      ],
      "metadata": {
        "colab": {
          "base_uri": "https://localhost:8080/",
          "height": 127
        },
        "id": "0YTOsIGVpvdw",
        "outputId": "e08cf803-666c-408d-f416-5f03b1eb8930"
      },
      "execution_count": null,
      "outputs": [
        {
          "output_type": "execute_result",
          "data": {
            "text/plain": [
              "Pipeline(steps=[('simpleimputer', SimpleImputer()),\n",
              "                ('standardscaler', StandardScaler())])"
            ],
            "text/html": [
              "<style>#sk-8dbdbe9c-c878-4bb1-8cfd-f130744c3f89 {color: black;background-color: white;}#sk-8dbdbe9c-c878-4bb1-8cfd-f130744c3f89 pre{padding: 0;}#sk-8dbdbe9c-c878-4bb1-8cfd-f130744c3f89 div.sk-toggleable {background-color: white;}#sk-8dbdbe9c-c878-4bb1-8cfd-f130744c3f89 label.sk-toggleable__label {cursor: pointer;display: block;width: 100%;margin-bottom: 0;padding: 0.3em;box-sizing: border-box;text-align: center;}#sk-8dbdbe9c-c878-4bb1-8cfd-f130744c3f89 label.sk-toggleable__label-arrow:before {content: \"▸\";float: left;margin-right: 0.25em;color: #696969;}#sk-8dbdbe9c-c878-4bb1-8cfd-f130744c3f89 label.sk-toggleable__label-arrow:hover:before {color: black;}#sk-8dbdbe9c-c878-4bb1-8cfd-f130744c3f89 div.sk-estimator:hover label.sk-toggleable__label-arrow:before {color: black;}#sk-8dbdbe9c-c878-4bb1-8cfd-f130744c3f89 div.sk-toggleable__content {max-height: 0;max-width: 0;overflow: hidden;text-align: left;background-color: #f0f8ff;}#sk-8dbdbe9c-c878-4bb1-8cfd-f130744c3f89 div.sk-toggleable__content pre {margin: 0.2em;color: black;border-radius: 0.25em;background-color: #f0f8ff;}#sk-8dbdbe9c-c878-4bb1-8cfd-f130744c3f89 input.sk-toggleable__control:checked~div.sk-toggleable__content {max-height: 200px;max-width: 100%;overflow: auto;}#sk-8dbdbe9c-c878-4bb1-8cfd-f130744c3f89 input.sk-toggleable__control:checked~label.sk-toggleable__label-arrow:before {content: \"▾\";}#sk-8dbdbe9c-c878-4bb1-8cfd-f130744c3f89 div.sk-estimator input.sk-toggleable__control:checked~label.sk-toggleable__label {background-color: #d4ebff;}#sk-8dbdbe9c-c878-4bb1-8cfd-f130744c3f89 div.sk-label input.sk-toggleable__control:checked~label.sk-toggleable__label {background-color: #d4ebff;}#sk-8dbdbe9c-c878-4bb1-8cfd-f130744c3f89 input.sk-hidden--visually {border: 0;clip: rect(1px 1px 1px 1px);clip: rect(1px, 1px, 1px, 1px);height: 1px;margin: -1px;overflow: hidden;padding: 0;position: absolute;width: 1px;}#sk-8dbdbe9c-c878-4bb1-8cfd-f130744c3f89 div.sk-estimator {font-family: monospace;background-color: #f0f8ff;border: 1px dotted black;border-radius: 0.25em;box-sizing: border-box;margin-bottom: 0.5em;}#sk-8dbdbe9c-c878-4bb1-8cfd-f130744c3f89 div.sk-estimator:hover {background-color: #d4ebff;}#sk-8dbdbe9c-c878-4bb1-8cfd-f130744c3f89 div.sk-parallel-item::after {content: \"\";width: 100%;border-bottom: 1px solid gray;flex-grow: 1;}#sk-8dbdbe9c-c878-4bb1-8cfd-f130744c3f89 div.sk-label:hover label.sk-toggleable__label {background-color: #d4ebff;}#sk-8dbdbe9c-c878-4bb1-8cfd-f130744c3f89 div.sk-serial::before {content: \"\";position: absolute;border-left: 1px solid gray;box-sizing: border-box;top: 2em;bottom: 0;left: 50%;}#sk-8dbdbe9c-c878-4bb1-8cfd-f130744c3f89 div.sk-serial {display: flex;flex-direction: column;align-items: center;background-color: white;padding-right: 0.2em;padding-left: 0.2em;}#sk-8dbdbe9c-c878-4bb1-8cfd-f130744c3f89 div.sk-item {z-index: 1;}#sk-8dbdbe9c-c878-4bb1-8cfd-f130744c3f89 div.sk-parallel {display: flex;align-items: stretch;justify-content: center;background-color: white;}#sk-8dbdbe9c-c878-4bb1-8cfd-f130744c3f89 div.sk-parallel::before {content: \"\";position: absolute;border-left: 1px solid gray;box-sizing: border-box;top: 2em;bottom: 0;left: 50%;}#sk-8dbdbe9c-c878-4bb1-8cfd-f130744c3f89 div.sk-parallel-item {display: flex;flex-direction: column;position: relative;background-color: white;}#sk-8dbdbe9c-c878-4bb1-8cfd-f130744c3f89 div.sk-parallel-item:first-child::after {align-self: flex-end;width: 50%;}#sk-8dbdbe9c-c878-4bb1-8cfd-f130744c3f89 div.sk-parallel-item:last-child::after {align-self: flex-start;width: 50%;}#sk-8dbdbe9c-c878-4bb1-8cfd-f130744c3f89 div.sk-parallel-item:only-child::after {width: 0;}#sk-8dbdbe9c-c878-4bb1-8cfd-f130744c3f89 div.sk-dashed-wrapped {border: 1px dashed gray;margin: 0 0.4em 0.5em 0.4em;box-sizing: border-box;padding-bottom: 0.4em;background-color: white;position: relative;}#sk-8dbdbe9c-c878-4bb1-8cfd-f130744c3f89 div.sk-label label {font-family: monospace;font-weight: bold;background-color: white;display: inline-block;line-height: 1.2em;}#sk-8dbdbe9c-c878-4bb1-8cfd-f130744c3f89 div.sk-label-container {position: relative;z-index: 2;text-align: center;}#sk-8dbdbe9c-c878-4bb1-8cfd-f130744c3f89 div.sk-container {/* jupyter's `normalize.less` sets `[hidden] { display: none; }` but bootstrap.min.css set `[hidden] { display: none !important; }` so we also need the `!important` here to be able to override the default hidden behavior on the sphinx rendered scikit-learn.org. See: https://github.com/scikit-learn/scikit-learn/issues/21755 */display: inline-block !important;position: relative;}#sk-8dbdbe9c-c878-4bb1-8cfd-f130744c3f89 div.sk-text-repr-fallback {display: none;}</style><div id=\"sk-8dbdbe9c-c878-4bb1-8cfd-f130744c3f89\" class=\"sk-top-container\"><div class=\"sk-text-repr-fallback\"><pre>Pipeline(steps=[(&#x27;simpleimputer&#x27;, SimpleImputer()),\n",
              "                (&#x27;standardscaler&#x27;, StandardScaler())])</pre><b>Please rerun this cell to show the HTML repr or trust the notebook.</b></div><div class=\"sk-container\" hidden><div class=\"sk-item sk-dashed-wrapped\"><div class=\"sk-label-container\"><div class=\"sk-label sk-toggleable\"><input class=\"sk-toggleable__control sk-hidden--visually\" id=\"f753d895-eb63-4763-9951-7c35c5afa6ea\" type=\"checkbox\" ><label for=\"f753d895-eb63-4763-9951-7c35c5afa6ea\" class=\"sk-toggleable__label sk-toggleable__label-arrow\">Pipeline</label><div class=\"sk-toggleable__content\"><pre>Pipeline(steps=[(&#x27;simpleimputer&#x27;, SimpleImputer()),\n",
              "                (&#x27;standardscaler&#x27;, StandardScaler())])</pre></div></div></div><div class=\"sk-serial\"><div class=\"sk-item\"><div class=\"sk-estimator sk-toggleable\"><input class=\"sk-toggleable__control sk-hidden--visually\" id=\"b3680462-a9d1-4bd2-ae64-5d5ea832b483\" type=\"checkbox\" ><label for=\"b3680462-a9d1-4bd2-ae64-5d5ea832b483\" class=\"sk-toggleable__label sk-toggleable__label-arrow\">SimpleImputer</label><div class=\"sk-toggleable__content\"><pre>SimpleImputer()</pre></div></div></div><div class=\"sk-item\"><div class=\"sk-estimator sk-toggleable\"><input class=\"sk-toggleable__control sk-hidden--visually\" id=\"4f8b078f-f18e-4d36-9e30-eeceab1f3548\" type=\"checkbox\" ><label for=\"4f8b078f-f18e-4d36-9e30-eeceab1f3548\" class=\"sk-toggleable__label sk-toggleable__label-arrow\">StandardScaler</label><div class=\"sk-toggleable__content\"><pre>StandardScaler()</pre></div></div></div></div></div></div></div>"
            ]
          },
          "metadata": {},
          "execution_count": 40
        }
      ]
    },
    {
      "cell_type": "code",
      "source": [
        "#cat pipe\n",
        "categorical_pipe = make_pipeline(freq_imputer, ohe)\n",
        "categorical_pipe"
      ],
      "metadata": {
        "colab": {
          "base_uri": "https://localhost:8080/",
          "height": 200
        },
        "id": "bz1u8ffLoVMs",
        "outputId": "59d24624-c809-4a14-a3c3-b3aa0e526e95"
      },
      "execution_count": null,
      "outputs": [
        {
          "output_type": "error",
          "ename": "NameError",
          "evalue": "ignored",
          "traceback": [
            "\u001b[0;31m---------------------------------------------------------------------------\u001b[0m",
            "\u001b[0;31mNameError\u001b[0m                                 Traceback (most recent call last)",
            "\u001b[0;32m<ipython-input-1-25f8f66811b3>\u001b[0m in \u001b[0;36m<module>\u001b[0;34m\u001b[0m\n\u001b[1;32m      1\u001b[0m \u001b[0;31m#cat pipe\u001b[0m\u001b[0;34m\u001b[0m\u001b[0;34m\u001b[0m\u001b[0;34m\u001b[0m\u001b[0m\n\u001b[0;32m----> 2\u001b[0;31m \u001b[0mcategorical_pipe\u001b[0m \u001b[0;34m=\u001b[0m \u001b[0mmake_pipeline\u001b[0m\u001b[0;34m(\u001b[0m\u001b[0mfreq_imputer\u001b[0m\u001b[0;34m,\u001b[0m \u001b[0mohe\u001b[0m\u001b[0;34m)\u001b[0m\u001b[0;34m\u001b[0m\u001b[0;34m\u001b[0m\u001b[0m\n\u001b[0m\u001b[1;32m      3\u001b[0m \u001b[0mcategorical_pipe\u001b[0m\u001b[0;34m\u001b[0m\u001b[0;34m\u001b[0m\u001b[0m\n",
            "\u001b[0;31mNameError\u001b[0m: name 'make_pipeline' is not defined"
          ]
        }
      ]
    },
    {
      "cell_type": "code",
      "source": [
        "#Make tuples for preprocessing the categorical and numeric columns\n",
        "num_tuple = (numeric_pipe, num_selector)\n",
        "cat_tuple = (categorical_pipe, cat_selector)"
      ],
      "metadata": {
        "id": "O06rdLTo1yV7"
      },
      "execution_count": null,
      "outputs": []
    },
    {
      "cell_type": "code",
      "source": [
        "#Create Column Transformer\n",
        "preprocessor= make_column_transformer(num_tuple, cat_tuple, remainder = 'passthrough')"
      ],
      "metadata": {
        "id": "IAig071A2Bs9"
      },
      "execution_count": null,
      "outputs": []
    },
    {
      "cell_type": "code",
      "source": [
        "preprocessor"
      ],
      "metadata": {
        "colab": {
          "base_uri": "https://localhost:8080/",
          "height": 153
        },
        "id": "hw-wX65TqsxN",
        "outputId": "aeca1e12-f71d-4c61-9bc2-a6f078053842"
      },
      "execution_count": null,
      "outputs": [
        {
          "output_type": "execute_result",
          "data": {
            "text/plain": [
              "ColumnTransformer(remainder='passthrough',\n",
              "                  transformers=[('pipeline-1',\n",
              "                                 Pipeline(steps=[('simpleimputer',\n",
              "                                                  SimpleImputer()),\n",
              "                                                 ('standardscaler',\n",
              "                                                  StandardScaler())]),\n",
              "                                 <sklearn.compose._column_transformer.make_column_selector object at 0x7f3c03315220>),\n",
              "                                ('pipeline-2',\n",
              "                                 Pipeline(steps=[('simpleimputer',\n",
              "                                                  SimpleImputer(strategy='most_frequent')),\n",
              "                                                 ('onehotencoder',\n",
              "                                                  OneHotEncoder(handle_unknown='ignore',\n",
              "                                                                sparse=False))]),\n",
              "                                 <sklearn.compose._column_transformer.make_column_selector object at 0x7f3c03315190>)])"
            ],
            "text/html": [
              "<style>#sk-d63d23f8-61a1-4a8f-aa0e-10ab619bc875 {color: black;background-color: white;}#sk-d63d23f8-61a1-4a8f-aa0e-10ab619bc875 pre{padding: 0;}#sk-d63d23f8-61a1-4a8f-aa0e-10ab619bc875 div.sk-toggleable {background-color: white;}#sk-d63d23f8-61a1-4a8f-aa0e-10ab619bc875 label.sk-toggleable__label {cursor: pointer;display: block;width: 100%;margin-bottom: 0;padding: 0.3em;box-sizing: border-box;text-align: center;}#sk-d63d23f8-61a1-4a8f-aa0e-10ab619bc875 label.sk-toggleable__label-arrow:before {content: \"▸\";float: left;margin-right: 0.25em;color: #696969;}#sk-d63d23f8-61a1-4a8f-aa0e-10ab619bc875 label.sk-toggleable__label-arrow:hover:before {color: black;}#sk-d63d23f8-61a1-4a8f-aa0e-10ab619bc875 div.sk-estimator:hover label.sk-toggleable__label-arrow:before {color: black;}#sk-d63d23f8-61a1-4a8f-aa0e-10ab619bc875 div.sk-toggleable__content {max-height: 0;max-width: 0;overflow: hidden;text-align: left;background-color: #f0f8ff;}#sk-d63d23f8-61a1-4a8f-aa0e-10ab619bc875 div.sk-toggleable__content pre {margin: 0.2em;color: black;border-radius: 0.25em;background-color: #f0f8ff;}#sk-d63d23f8-61a1-4a8f-aa0e-10ab619bc875 input.sk-toggleable__control:checked~div.sk-toggleable__content {max-height: 200px;max-width: 100%;overflow: auto;}#sk-d63d23f8-61a1-4a8f-aa0e-10ab619bc875 input.sk-toggleable__control:checked~label.sk-toggleable__label-arrow:before {content: \"▾\";}#sk-d63d23f8-61a1-4a8f-aa0e-10ab619bc875 div.sk-estimator input.sk-toggleable__control:checked~label.sk-toggleable__label {background-color: #d4ebff;}#sk-d63d23f8-61a1-4a8f-aa0e-10ab619bc875 div.sk-label input.sk-toggleable__control:checked~label.sk-toggleable__label {background-color: #d4ebff;}#sk-d63d23f8-61a1-4a8f-aa0e-10ab619bc875 input.sk-hidden--visually {border: 0;clip: rect(1px 1px 1px 1px);clip: rect(1px, 1px, 1px, 1px);height: 1px;margin: -1px;overflow: hidden;padding: 0;position: absolute;width: 1px;}#sk-d63d23f8-61a1-4a8f-aa0e-10ab619bc875 div.sk-estimator {font-family: monospace;background-color: #f0f8ff;border: 1px dotted black;border-radius: 0.25em;box-sizing: border-box;margin-bottom: 0.5em;}#sk-d63d23f8-61a1-4a8f-aa0e-10ab619bc875 div.sk-estimator:hover {background-color: #d4ebff;}#sk-d63d23f8-61a1-4a8f-aa0e-10ab619bc875 div.sk-parallel-item::after {content: \"\";width: 100%;border-bottom: 1px solid gray;flex-grow: 1;}#sk-d63d23f8-61a1-4a8f-aa0e-10ab619bc875 div.sk-label:hover label.sk-toggleable__label {background-color: #d4ebff;}#sk-d63d23f8-61a1-4a8f-aa0e-10ab619bc875 div.sk-serial::before {content: \"\";position: absolute;border-left: 1px solid gray;box-sizing: border-box;top: 2em;bottom: 0;left: 50%;}#sk-d63d23f8-61a1-4a8f-aa0e-10ab619bc875 div.sk-serial {display: flex;flex-direction: column;align-items: center;background-color: white;padding-right: 0.2em;padding-left: 0.2em;}#sk-d63d23f8-61a1-4a8f-aa0e-10ab619bc875 div.sk-item {z-index: 1;}#sk-d63d23f8-61a1-4a8f-aa0e-10ab619bc875 div.sk-parallel {display: flex;align-items: stretch;justify-content: center;background-color: white;}#sk-d63d23f8-61a1-4a8f-aa0e-10ab619bc875 div.sk-parallel::before {content: \"\";position: absolute;border-left: 1px solid gray;box-sizing: border-box;top: 2em;bottom: 0;left: 50%;}#sk-d63d23f8-61a1-4a8f-aa0e-10ab619bc875 div.sk-parallel-item {display: flex;flex-direction: column;position: relative;background-color: white;}#sk-d63d23f8-61a1-4a8f-aa0e-10ab619bc875 div.sk-parallel-item:first-child::after {align-self: flex-end;width: 50%;}#sk-d63d23f8-61a1-4a8f-aa0e-10ab619bc875 div.sk-parallel-item:last-child::after {align-self: flex-start;width: 50%;}#sk-d63d23f8-61a1-4a8f-aa0e-10ab619bc875 div.sk-parallel-item:only-child::after {width: 0;}#sk-d63d23f8-61a1-4a8f-aa0e-10ab619bc875 div.sk-dashed-wrapped {border: 1px dashed gray;margin: 0 0.4em 0.5em 0.4em;box-sizing: border-box;padding-bottom: 0.4em;background-color: white;position: relative;}#sk-d63d23f8-61a1-4a8f-aa0e-10ab619bc875 div.sk-label label {font-family: monospace;font-weight: bold;background-color: white;display: inline-block;line-height: 1.2em;}#sk-d63d23f8-61a1-4a8f-aa0e-10ab619bc875 div.sk-label-container {position: relative;z-index: 2;text-align: center;}#sk-d63d23f8-61a1-4a8f-aa0e-10ab619bc875 div.sk-container {/* jupyter's `normalize.less` sets `[hidden] { display: none; }` but bootstrap.min.css set `[hidden] { display: none !important; }` so we also need the `!important` here to be able to override the default hidden behavior on the sphinx rendered scikit-learn.org. See: https://github.com/scikit-learn/scikit-learn/issues/21755 */display: inline-block !important;position: relative;}#sk-d63d23f8-61a1-4a8f-aa0e-10ab619bc875 div.sk-text-repr-fallback {display: none;}</style><div id=\"sk-d63d23f8-61a1-4a8f-aa0e-10ab619bc875\" class=\"sk-top-container\"><div class=\"sk-text-repr-fallback\"><pre>ColumnTransformer(remainder=&#x27;passthrough&#x27;,\n",
              "                  transformers=[(&#x27;pipeline-1&#x27;,\n",
              "                                 Pipeline(steps=[(&#x27;simpleimputer&#x27;,\n",
              "                                                  SimpleImputer()),\n",
              "                                                 (&#x27;standardscaler&#x27;,\n",
              "                                                  StandardScaler())]),\n",
              "                                 &lt;sklearn.compose._column_transformer.make_column_selector object at 0x7f3c03315220&gt;),\n",
              "                                (&#x27;pipeline-2&#x27;,\n",
              "                                 Pipeline(steps=[(&#x27;simpleimputer&#x27;,\n",
              "                                                  SimpleImputer(strategy=&#x27;most_frequent&#x27;)),\n",
              "                                                 (&#x27;onehotencoder&#x27;,\n",
              "                                                  OneHotEncoder(handle_unknown=&#x27;ignore&#x27;,\n",
              "                                                                sparse=False))]),\n",
              "                                 &lt;sklearn.compose._column_transformer.make_column_selector object at 0x7f3c03315190&gt;)])</pre><b>Please rerun this cell to show the HTML repr or trust the notebook.</b></div><div class=\"sk-container\" hidden><div class=\"sk-item sk-dashed-wrapped\"><div class=\"sk-label-container\"><div class=\"sk-label sk-toggleable\"><input class=\"sk-toggleable__control sk-hidden--visually\" id=\"b3bc0e4d-8aae-4bcb-8da0-b6f96f64436c\" type=\"checkbox\" ><label for=\"b3bc0e4d-8aae-4bcb-8da0-b6f96f64436c\" class=\"sk-toggleable__label sk-toggleable__label-arrow\">ColumnTransformer</label><div class=\"sk-toggleable__content\"><pre>ColumnTransformer(remainder=&#x27;passthrough&#x27;,\n",
              "                  transformers=[(&#x27;pipeline-1&#x27;,\n",
              "                                 Pipeline(steps=[(&#x27;simpleimputer&#x27;,\n",
              "                                                  SimpleImputer()),\n",
              "                                                 (&#x27;standardscaler&#x27;,\n",
              "                                                  StandardScaler())]),\n",
              "                                 &lt;sklearn.compose._column_transformer.make_column_selector object at 0x7f3c03315220&gt;),\n",
              "                                (&#x27;pipeline-2&#x27;,\n",
              "                                 Pipeline(steps=[(&#x27;simpleimputer&#x27;,\n",
              "                                                  SimpleImputer(strategy=&#x27;most_frequent&#x27;)),\n",
              "                                                 (&#x27;onehotencoder&#x27;,\n",
              "                                                  OneHotEncoder(handle_unknown=&#x27;ignore&#x27;,\n",
              "                                                                sparse=False))]),\n",
              "                                 &lt;sklearn.compose._column_transformer.make_column_selector object at 0x7f3c03315190&gt;)])</pre></div></div></div><div class=\"sk-parallel\"><div class=\"sk-parallel-item\"><div class=\"sk-item\"><div class=\"sk-label-container\"><div class=\"sk-label sk-toggleable\"><input class=\"sk-toggleable__control sk-hidden--visually\" id=\"a851f212-d1f4-42c9-bba5-1a1f6cc45b11\" type=\"checkbox\" ><label for=\"a851f212-d1f4-42c9-bba5-1a1f6cc45b11\" class=\"sk-toggleable__label sk-toggleable__label-arrow\">pipeline-1</label><div class=\"sk-toggleable__content\"><pre>&lt;sklearn.compose._column_transformer.make_column_selector object at 0x7f3c03315220&gt;</pre></div></div></div><div class=\"sk-serial\"><div class=\"sk-item\"><div class=\"sk-serial\"><div class=\"sk-item\"><div class=\"sk-estimator sk-toggleable\"><input class=\"sk-toggleable__control sk-hidden--visually\" id=\"fa250eca-0d7c-4232-97ca-eb291c4147d9\" type=\"checkbox\" ><label for=\"fa250eca-0d7c-4232-97ca-eb291c4147d9\" class=\"sk-toggleable__label sk-toggleable__label-arrow\">SimpleImputer</label><div class=\"sk-toggleable__content\"><pre>SimpleImputer()</pre></div></div></div><div class=\"sk-item\"><div class=\"sk-estimator sk-toggleable\"><input class=\"sk-toggleable__control sk-hidden--visually\" id=\"c824fdd6-2df0-457c-8076-3c18599d819d\" type=\"checkbox\" ><label for=\"c824fdd6-2df0-457c-8076-3c18599d819d\" class=\"sk-toggleable__label sk-toggleable__label-arrow\">StandardScaler</label><div class=\"sk-toggleable__content\"><pre>StandardScaler()</pre></div></div></div></div></div></div></div></div><div class=\"sk-parallel-item\"><div class=\"sk-item\"><div class=\"sk-label-container\"><div class=\"sk-label sk-toggleable\"><input class=\"sk-toggleable__control sk-hidden--visually\" id=\"0255d4d3-2989-40a8-b07d-052b20686aab\" type=\"checkbox\" ><label for=\"0255d4d3-2989-40a8-b07d-052b20686aab\" class=\"sk-toggleable__label sk-toggleable__label-arrow\">pipeline-2</label><div class=\"sk-toggleable__content\"><pre>&lt;sklearn.compose._column_transformer.make_column_selector object at 0x7f3c03315190&gt;</pre></div></div></div><div class=\"sk-serial\"><div class=\"sk-item\"><div class=\"sk-serial\"><div class=\"sk-item\"><div class=\"sk-estimator sk-toggleable\"><input class=\"sk-toggleable__control sk-hidden--visually\" id=\"30620aaa-c9fe-4472-b771-c1b37ed15f15\" type=\"checkbox\" ><label for=\"30620aaa-c9fe-4472-b771-c1b37ed15f15\" class=\"sk-toggleable__label sk-toggleable__label-arrow\">SimpleImputer</label><div class=\"sk-toggleable__content\"><pre>SimpleImputer(strategy=&#x27;most_frequent&#x27;)</pre></div></div></div><div class=\"sk-item\"><div class=\"sk-estimator sk-toggleable\"><input class=\"sk-toggleable__control sk-hidden--visually\" id=\"d8c5cc4c-e4d5-43e8-ac4b-7cacb81af66d\" type=\"checkbox\" ><label for=\"d8c5cc4c-e4d5-43e8-ac4b-7cacb81af66d\" class=\"sk-toggleable__label sk-toggleable__label-arrow\">OneHotEncoder</label><div class=\"sk-toggleable__content\"><pre>OneHotEncoder(handle_unknown=&#x27;ignore&#x27;, sparse=False)</pre></div></div></div></div></div></div></div></div><div class=\"sk-parallel-item\"><div class=\"sk-item\"><div class=\"sk-label-container\"><div class=\"sk-label sk-toggleable\"><input class=\"sk-toggleable__control sk-hidden--visually\" id=\"07606e30-a615-4521-a46c-062a1265de53\" type=\"checkbox\" ><label for=\"07606e30-a615-4521-a46c-062a1265de53\" class=\"sk-toggleable__label sk-toggleable__label-arrow\">remainder</label><div class=\"sk-toggleable__content\"><pre></pre></div></div></div><div class=\"sk-serial\"><div class=\"sk-item\"><div class=\"sk-estimator sk-toggleable\"><input class=\"sk-toggleable__control sk-hidden--visually\" id=\"ad22f1e9-a12c-45c5-973a-b1c7f2d2c42c\" type=\"checkbox\" ><label for=\"ad22f1e9-a12c-45c5-973a-b1c7f2d2c42c\" class=\"sk-toggleable__label sk-toggleable__label-arrow\">passthrough</label><div class=\"sk-toggleable__content\"><pre>passthrough</pre></div></div></div></div></div></div></div></div></div></div>"
            ]
          },
          "metadata": {},
          "execution_count": 44
        }
      ]
    },
    {
      "cell_type": "code",
      "source": [
        "#Fit Transformer\n",
        "preprocessor.fit(X_train)"
      ],
      "metadata": {
        "colab": {
          "base_uri": "https://localhost:8080/",
          "height": 153
        },
        "id": "qU6UP3b_2TgW",
        "outputId": "632c782e-5457-45ce-baf1-2fb4d9ae7dfe"
      },
      "execution_count": null,
      "outputs": [
        {
          "output_type": "execute_result",
          "data": {
            "text/plain": [
              "ColumnTransformer(remainder='passthrough',\n",
              "                  transformers=[('pipeline-1',\n",
              "                                 Pipeline(steps=[('simpleimputer',\n",
              "                                                  SimpleImputer()),\n",
              "                                                 ('standardscaler',\n",
              "                                                  StandardScaler())]),\n",
              "                                 <sklearn.compose._column_transformer.make_column_selector object at 0x7f3c03315220>),\n",
              "                                ('pipeline-2',\n",
              "                                 Pipeline(steps=[('simpleimputer',\n",
              "                                                  SimpleImputer(strategy='most_frequent')),\n",
              "                                                 ('onehotencoder',\n",
              "                                                  OneHotEncoder(handle_unknown='ignore',\n",
              "                                                                sparse=False))]),\n",
              "                                 <sklearn.compose._column_transformer.make_column_selector object at 0x7f3c03315190>)])"
            ],
            "text/html": [
              "<style>#sk-8d854eae-6fb0-493c-878c-2e10411894c3 {color: black;background-color: white;}#sk-8d854eae-6fb0-493c-878c-2e10411894c3 pre{padding: 0;}#sk-8d854eae-6fb0-493c-878c-2e10411894c3 div.sk-toggleable {background-color: white;}#sk-8d854eae-6fb0-493c-878c-2e10411894c3 label.sk-toggleable__label {cursor: pointer;display: block;width: 100%;margin-bottom: 0;padding: 0.3em;box-sizing: border-box;text-align: center;}#sk-8d854eae-6fb0-493c-878c-2e10411894c3 label.sk-toggleable__label-arrow:before {content: \"▸\";float: left;margin-right: 0.25em;color: #696969;}#sk-8d854eae-6fb0-493c-878c-2e10411894c3 label.sk-toggleable__label-arrow:hover:before {color: black;}#sk-8d854eae-6fb0-493c-878c-2e10411894c3 div.sk-estimator:hover label.sk-toggleable__label-arrow:before {color: black;}#sk-8d854eae-6fb0-493c-878c-2e10411894c3 div.sk-toggleable__content {max-height: 0;max-width: 0;overflow: hidden;text-align: left;background-color: #f0f8ff;}#sk-8d854eae-6fb0-493c-878c-2e10411894c3 div.sk-toggleable__content pre {margin: 0.2em;color: black;border-radius: 0.25em;background-color: #f0f8ff;}#sk-8d854eae-6fb0-493c-878c-2e10411894c3 input.sk-toggleable__control:checked~div.sk-toggleable__content {max-height: 200px;max-width: 100%;overflow: auto;}#sk-8d854eae-6fb0-493c-878c-2e10411894c3 input.sk-toggleable__control:checked~label.sk-toggleable__label-arrow:before {content: \"▾\";}#sk-8d854eae-6fb0-493c-878c-2e10411894c3 div.sk-estimator input.sk-toggleable__control:checked~label.sk-toggleable__label {background-color: #d4ebff;}#sk-8d854eae-6fb0-493c-878c-2e10411894c3 div.sk-label input.sk-toggleable__control:checked~label.sk-toggleable__label {background-color: #d4ebff;}#sk-8d854eae-6fb0-493c-878c-2e10411894c3 input.sk-hidden--visually {border: 0;clip: rect(1px 1px 1px 1px);clip: rect(1px, 1px, 1px, 1px);height: 1px;margin: -1px;overflow: hidden;padding: 0;position: absolute;width: 1px;}#sk-8d854eae-6fb0-493c-878c-2e10411894c3 div.sk-estimator {font-family: monospace;background-color: #f0f8ff;border: 1px dotted black;border-radius: 0.25em;box-sizing: border-box;margin-bottom: 0.5em;}#sk-8d854eae-6fb0-493c-878c-2e10411894c3 div.sk-estimator:hover {background-color: #d4ebff;}#sk-8d854eae-6fb0-493c-878c-2e10411894c3 div.sk-parallel-item::after {content: \"\";width: 100%;border-bottom: 1px solid gray;flex-grow: 1;}#sk-8d854eae-6fb0-493c-878c-2e10411894c3 div.sk-label:hover label.sk-toggleable__label {background-color: #d4ebff;}#sk-8d854eae-6fb0-493c-878c-2e10411894c3 div.sk-serial::before {content: \"\";position: absolute;border-left: 1px solid gray;box-sizing: border-box;top: 2em;bottom: 0;left: 50%;}#sk-8d854eae-6fb0-493c-878c-2e10411894c3 div.sk-serial {display: flex;flex-direction: column;align-items: center;background-color: white;padding-right: 0.2em;padding-left: 0.2em;}#sk-8d854eae-6fb0-493c-878c-2e10411894c3 div.sk-item {z-index: 1;}#sk-8d854eae-6fb0-493c-878c-2e10411894c3 div.sk-parallel {display: flex;align-items: stretch;justify-content: center;background-color: white;}#sk-8d854eae-6fb0-493c-878c-2e10411894c3 div.sk-parallel::before {content: \"\";position: absolute;border-left: 1px solid gray;box-sizing: border-box;top: 2em;bottom: 0;left: 50%;}#sk-8d854eae-6fb0-493c-878c-2e10411894c3 div.sk-parallel-item {display: flex;flex-direction: column;position: relative;background-color: white;}#sk-8d854eae-6fb0-493c-878c-2e10411894c3 div.sk-parallel-item:first-child::after {align-self: flex-end;width: 50%;}#sk-8d854eae-6fb0-493c-878c-2e10411894c3 div.sk-parallel-item:last-child::after {align-self: flex-start;width: 50%;}#sk-8d854eae-6fb0-493c-878c-2e10411894c3 div.sk-parallel-item:only-child::after {width: 0;}#sk-8d854eae-6fb0-493c-878c-2e10411894c3 div.sk-dashed-wrapped {border: 1px dashed gray;margin: 0 0.4em 0.5em 0.4em;box-sizing: border-box;padding-bottom: 0.4em;background-color: white;position: relative;}#sk-8d854eae-6fb0-493c-878c-2e10411894c3 div.sk-label label {font-family: monospace;font-weight: bold;background-color: white;display: inline-block;line-height: 1.2em;}#sk-8d854eae-6fb0-493c-878c-2e10411894c3 div.sk-label-container {position: relative;z-index: 2;text-align: center;}#sk-8d854eae-6fb0-493c-878c-2e10411894c3 div.sk-container {/* jupyter's `normalize.less` sets `[hidden] { display: none; }` but bootstrap.min.css set `[hidden] { display: none !important; }` so we also need the `!important` here to be able to override the default hidden behavior on the sphinx rendered scikit-learn.org. See: https://github.com/scikit-learn/scikit-learn/issues/21755 */display: inline-block !important;position: relative;}#sk-8d854eae-6fb0-493c-878c-2e10411894c3 div.sk-text-repr-fallback {display: none;}</style><div id=\"sk-8d854eae-6fb0-493c-878c-2e10411894c3\" class=\"sk-top-container\"><div class=\"sk-text-repr-fallback\"><pre>ColumnTransformer(remainder=&#x27;passthrough&#x27;,\n",
              "                  transformers=[(&#x27;pipeline-1&#x27;,\n",
              "                                 Pipeline(steps=[(&#x27;simpleimputer&#x27;,\n",
              "                                                  SimpleImputer()),\n",
              "                                                 (&#x27;standardscaler&#x27;,\n",
              "                                                  StandardScaler())]),\n",
              "                                 &lt;sklearn.compose._column_transformer.make_column_selector object at 0x7f3c03315220&gt;),\n",
              "                                (&#x27;pipeline-2&#x27;,\n",
              "                                 Pipeline(steps=[(&#x27;simpleimputer&#x27;,\n",
              "                                                  SimpleImputer(strategy=&#x27;most_frequent&#x27;)),\n",
              "                                                 (&#x27;onehotencoder&#x27;,\n",
              "                                                  OneHotEncoder(handle_unknown=&#x27;ignore&#x27;,\n",
              "                                                                sparse=False))]),\n",
              "                                 &lt;sklearn.compose._column_transformer.make_column_selector object at 0x7f3c03315190&gt;)])</pre><b>Please rerun this cell to show the HTML repr or trust the notebook.</b></div><div class=\"sk-container\" hidden><div class=\"sk-item sk-dashed-wrapped\"><div class=\"sk-label-container\"><div class=\"sk-label sk-toggleable\"><input class=\"sk-toggleable__control sk-hidden--visually\" id=\"6268bae2-0aa4-4451-9e99-d8753b0d24a4\" type=\"checkbox\" ><label for=\"6268bae2-0aa4-4451-9e99-d8753b0d24a4\" class=\"sk-toggleable__label sk-toggleable__label-arrow\">ColumnTransformer</label><div class=\"sk-toggleable__content\"><pre>ColumnTransformer(remainder=&#x27;passthrough&#x27;,\n",
              "                  transformers=[(&#x27;pipeline-1&#x27;,\n",
              "                                 Pipeline(steps=[(&#x27;simpleimputer&#x27;,\n",
              "                                                  SimpleImputer()),\n",
              "                                                 (&#x27;standardscaler&#x27;,\n",
              "                                                  StandardScaler())]),\n",
              "                                 &lt;sklearn.compose._column_transformer.make_column_selector object at 0x7f3c03315220&gt;),\n",
              "                                (&#x27;pipeline-2&#x27;,\n",
              "                                 Pipeline(steps=[(&#x27;simpleimputer&#x27;,\n",
              "                                                  SimpleImputer(strategy=&#x27;most_frequent&#x27;)),\n",
              "                                                 (&#x27;onehotencoder&#x27;,\n",
              "                                                  OneHotEncoder(handle_unknown=&#x27;ignore&#x27;,\n",
              "                                                                sparse=False))]),\n",
              "                                 &lt;sklearn.compose._column_transformer.make_column_selector object at 0x7f3c03315190&gt;)])</pre></div></div></div><div class=\"sk-parallel\"><div class=\"sk-parallel-item\"><div class=\"sk-item\"><div class=\"sk-label-container\"><div class=\"sk-label sk-toggleable\"><input class=\"sk-toggleable__control sk-hidden--visually\" id=\"71f816ef-a9a8-4728-ac88-906c5cdecbd1\" type=\"checkbox\" ><label for=\"71f816ef-a9a8-4728-ac88-906c5cdecbd1\" class=\"sk-toggleable__label sk-toggleable__label-arrow\">pipeline-1</label><div class=\"sk-toggleable__content\"><pre>&lt;sklearn.compose._column_transformer.make_column_selector object at 0x7f3c03315220&gt;</pre></div></div></div><div class=\"sk-serial\"><div class=\"sk-item\"><div class=\"sk-serial\"><div class=\"sk-item\"><div class=\"sk-estimator sk-toggleable\"><input class=\"sk-toggleable__control sk-hidden--visually\" id=\"514f3865-ef1c-4c05-9c63-0073e9adfe61\" type=\"checkbox\" ><label for=\"514f3865-ef1c-4c05-9c63-0073e9adfe61\" class=\"sk-toggleable__label sk-toggleable__label-arrow\">SimpleImputer</label><div class=\"sk-toggleable__content\"><pre>SimpleImputer()</pre></div></div></div><div class=\"sk-item\"><div class=\"sk-estimator sk-toggleable\"><input class=\"sk-toggleable__control sk-hidden--visually\" id=\"b22c091f-ca22-4e2e-a31f-9b6d9742d375\" type=\"checkbox\" ><label for=\"b22c091f-ca22-4e2e-a31f-9b6d9742d375\" class=\"sk-toggleable__label sk-toggleable__label-arrow\">StandardScaler</label><div class=\"sk-toggleable__content\"><pre>StandardScaler()</pre></div></div></div></div></div></div></div></div><div class=\"sk-parallel-item\"><div class=\"sk-item\"><div class=\"sk-label-container\"><div class=\"sk-label sk-toggleable\"><input class=\"sk-toggleable__control sk-hidden--visually\" id=\"a2fa3234-3b63-4440-ba0a-1b1ac5bac374\" type=\"checkbox\" ><label for=\"a2fa3234-3b63-4440-ba0a-1b1ac5bac374\" class=\"sk-toggleable__label sk-toggleable__label-arrow\">pipeline-2</label><div class=\"sk-toggleable__content\"><pre>&lt;sklearn.compose._column_transformer.make_column_selector object at 0x7f3c03315190&gt;</pre></div></div></div><div class=\"sk-serial\"><div class=\"sk-item\"><div class=\"sk-serial\"><div class=\"sk-item\"><div class=\"sk-estimator sk-toggleable\"><input class=\"sk-toggleable__control sk-hidden--visually\" id=\"b1e38ed0-aaed-46a3-ac6a-86a87b4b2de2\" type=\"checkbox\" ><label for=\"b1e38ed0-aaed-46a3-ac6a-86a87b4b2de2\" class=\"sk-toggleable__label sk-toggleable__label-arrow\">SimpleImputer</label><div class=\"sk-toggleable__content\"><pre>SimpleImputer(strategy=&#x27;most_frequent&#x27;)</pre></div></div></div><div class=\"sk-item\"><div class=\"sk-estimator sk-toggleable\"><input class=\"sk-toggleable__control sk-hidden--visually\" id=\"50386fde-45b6-4ff2-9f5d-5297880b3dc4\" type=\"checkbox\" ><label for=\"50386fde-45b6-4ff2-9f5d-5297880b3dc4\" class=\"sk-toggleable__label sk-toggleable__label-arrow\">OneHotEncoder</label><div class=\"sk-toggleable__content\"><pre>OneHotEncoder(handle_unknown=&#x27;ignore&#x27;, sparse=False)</pre></div></div></div></div></div></div></div></div><div class=\"sk-parallel-item\"><div class=\"sk-item\"><div class=\"sk-label-container\"><div class=\"sk-label sk-toggleable\"><input class=\"sk-toggleable__control sk-hidden--visually\" id=\"866976d1-5ba0-4988-ad74-6b0d34b3766d\" type=\"checkbox\" ><label for=\"866976d1-5ba0-4988-ad74-6b0d34b3766d\" class=\"sk-toggleable__label sk-toggleable__label-arrow\">remainder</label><div class=\"sk-toggleable__content\"><pre>[]</pre></div></div></div><div class=\"sk-serial\"><div class=\"sk-item\"><div class=\"sk-estimator sk-toggleable\"><input class=\"sk-toggleable__control sk-hidden--visually\" id=\"6825e3ed-037d-4da6-a920-eea1f5fc59eb\" type=\"checkbox\" ><label for=\"6825e3ed-037d-4da6-a920-eea1f5fc59eb\" class=\"sk-toggleable__label sk-toggleable__label-arrow\">passthrough</label><div class=\"sk-toggleable__content\"><pre>passthrough</pre></div></div></div></div></div></div></div></div></div></div>"
            ]
          },
          "metadata": {},
          "execution_count": 45
        }
      ]
    },
    {
      "cell_type": "code",
      "source": [
        "#Transform\n",
        "X_train_processed = preprocessor.transform(X_train)\n",
        "X_test_processed = preprocessor.transform(X_test)"
      ],
      "metadata": {
        "id": "Mrzs5KGd2cGi"
      },
      "execution_count": null,
      "outputs": []
    },
    {
      "cell_type": "code",
      "source": [
        "# Check for missing values and that data is scaled and one-hot encoded\n",
        "print(np.isnan(X_train_processed).sum().sum(), 'missing values in training data')\n",
        "print(np.isnan(X_test_processed).sum().sum(), 'missing values in testing data')\n",
        "print('\\n')\n",
        "print('All data in X_train_processed are', X_train_processed.dtype)\n",
        "print('All data in X_test_processed are', X_test_processed.dtype)\n",
        "print('\\n')\n",
        "print('shape of data is', X_train_processed.shape)\n",
        "print('shape of data is', X_test_processed.shape)\n",
        "print('\\n')\n",
        "X_train_processed[:5]\n"
      ],
      "metadata": {
        "colab": {
          "base_uri": "https://localhost:8080/"
        },
        "id": "hmb8GUEP2qOx",
        "outputId": "14b0a820-0929-49ef-feb5-e042d33d1c0f"
      },
      "execution_count": null,
      "outputs": [
        {
          "output_type": "stream",
          "name": "stdout",
          "text": [
            "0 missing values in training data\n",
            "0 missing values in testing data\n",
            "\n",
            "\n",
            "All data in X_train_processed are float64\n",
            "All data in X_test_processed are float64\n",
            "\n",
            "\n",
            "shape of data is (6392, 1595)\n",
            "shape of data is (2131, 1595)\n",
            "\n",
            "\n"
          ]
        },
        {
          "output_type": "execute_result",
          "data": {
            "text/plain": [
              "array([[ 0.81724868, -0.71277507,  1.82810922, ...,  0.        ,\n",
              "         1.        ,  0.        ],\n",
              "       [ 0.5563395 , -1.29105225,  0.60336888, ...,  0.        ,\n",
              "         1.        ,  0.        ],\n",
              "       [-0.13151196,  1.81331864,  0.24454056, ...,  1.        ,\n",
              "         0.        ,  0.        ],\n",
              "       [-1.1692189 , -1.00493112, -0.95259072, ...,  1.        ,\n",
              "         0.        ,  0.        ],\n",
              "       [ 1.52881915, -0.96548425, -0.33646004, ...,  1.        ,\n",
              "         0.        ,  0.        ]])"
            ]
          },
          "metadata": {},
          "execution_count": 47
        }
      ]
    },
    {
      "cell_type": "markdown",
      "source": [
        "###**Regression Model and regression tree**\n",
        "\n",
        "This week, you will finalize your sales prediction project. The goal of this is to help the retailer understand the properties of products and outlets that play crucial roles in predicting sales.\n",
        "\n",
        "1. Your first task is to build a linear regression model to predict sales.\n",
        "\n",
        "Build a linear regression model.\n",
        "Evaluate the performance of your model based on r^2.\n",
        "Evaluate the performance of your model based on rmse.\n",
        "2. Your second task is to build a regression tree model to predict sales.\n",
        "\n",
        "Build a simple regression tree model.\n",
        "Compare the performance of your model based on r^2.\n",
        "Compare the performance of your model based on rmse.\n",
        "3. You now have tried 2 different models on your data set. You need to determine which model to implement.\n",
        "\n",
        "4. Overall, which model do you recommend?\n",
        "Justify your recommendation."
      ],
      "metadata": {
        "id": "6FCsKa8VmNgI"
      }
    },
    {
      "cell_type": "markdown",
      "source": [
        "#**Part 6**"
      ],
      "metadata": {
        "id": "OYOR2rWr-MLS"
      }
    },
    {
      "cell_type": "markdown",
      "source": [
        " Build a linear regression model to predict sales.\n",
        "\n",
        "1. Build a linear regression model.\n",
        "Evaluate the performance of your model based on r^2.\n",
        "Evaluate the performance of your model based on rmse.\n",
        "2. Your second task is to build a regression tree model to predict sales.\n",
        "\n",
        "  Build a simple regression tree model.\n",
        "  Compare the performance of your model based on r^2.\n",
        "  Compare the performance of your model based on rmse.\n",
        "\n",
        "3. You now have tried 2 different models on your data set. You need to determine which model to implement.\n",
        "\n",
        "Overall, which model do you recommend?\n",
        "Justify your recommendation."
      ],
      "metadata": {
        "id": "RakKaLbC_VyD"
      }
    },
    {
      "cell_type": "code",
      "source": [
        "#Preprocessor\n",
        "preprocessor"
      ],
      "metadata": {
        "colab": {
          "base_uri": "https://localhost:8080/",
          "height": 153
        },
        "id": "9ImMPgi5CLAH",
        "outputId": "b974bf7c-01c7-4888-b55b-00600150bed8"
      },
      "execution_count": null,
      "outputs": [
        {
          "output_type": "execute_result",
          "data": {
            "text/plain": [
              "ColumnTransformer(remainder='passthrough',\n",
              "                  transformers=[('pipeline-1',\n",
              "                                 Pipeline(steps=[('simpleimputer',\n",
              "                                                  SimpleImputer()),\n",
              "                                                 ('standardscaler',\n",
              "                                                  StandardScaler())]),\n",
              "                                 <sklearn.compose._column_transformer.make_column_selector object at 0x7f3c03315220>),\n",
              "                                ('pipeline-2',\n",
              "                                 Pipeline(steps=[('simpleimputer',\n",
              "                                                  SimpleImputer(strategy='most_frequent')),\n",
              "                                                 ('onehotencoder',\n",
              "                                                  OneHotEncoder(handle_unknown='ignore',\n",
              "                                                                sparse=False))]),\n",
              "                                 <sklearn.compose._column_transformer.make_column_selector object at 0x7f3c03315190>)])"
            ],
            "text/html": [
              "<style>#sk-bba53c04-1cce-4fa2-ae93-1d3252b4ba1f {color: black;background-color: white;}#sk-bba53c04-1cce-4fa2-ae93-1d3252b4ba1f pre{padding: 0;}#sk-bba53c04-1cce-4fa2-ae93-1d3252b4ba1f div.sk-toggleable {background-color: white;}#sk-bba53c04-1cce-4fa2-ae93-1d3252b4ba1f label.sk-toggleable__label {cursor: pointer;display: block;width: 100%;margin-bottom: 0;padding: 0.3em;box-sizing: border-box;text-align: center;}#sk-bba53c04-1cce-4fa2-ae93-1d3252b4ba1f label.sk-toggleable__label-arrow:before {content: \"▸\";float: left;margin-right: 0.25em;color: #696969;}#sk-bba53c04-1cce-4fa2-ae93-1d3252b4ba1f label.sk-toggleable__label-arrow:hover:before {color: black;}#sk-bba53c04-1cce-4fa2-ae93-1d3252b4ba1f div.sk-estimator:hover label.sk-toggleable__label-arrow:before {color: black;}#sk-bba53c04-1cce-4fa2-ae93-1d3252b4ba1f div.sk-toggleable__content {max-height: 0;max-width: 0;overflow: hidden;text-align: left;background-color: #f0f8ff;}#sk-bba53c04-1cce-4fa2-ae93-1d3252b4ba1f div.sk-toggleable__content pre {margin: 0.2em;color: black;border-radius: 0.25em;background-color: #f0f8ff;}#sk-bba53c04-1cce-4fa2-ae93-1d3252b4ba1f input.sk-toggleable__control:checked~div.sk-toggleable__content {max-height: 200px;max-width: 100%;overflow: auto;}#sk-bba53c04-1cce-4fa2-ae93-1d3252b4ba1f input.sk-toggleable__control:checked~label.sk-toggleable__label-arrow:before {content: \"▾\";}#sk-bba53c04-1cce-4fa2-ae93-1d3252b4ba1f div.sk-estimator input.sk-toggleable__control:checked~label.sk-toggleable__label {background-color: #d4ebff;}#sk-bba53c04-1cce-4fa2-ae93-1d3252b4ba1f div.sk-label input.sk-toggleable__control:checked~label.sk-toggleable__label {background-color: #d4ebff;}#sk-bba53c04-1cce-4fa2-ae93-1d3252b4ba1f input.sk-hidden--visually {border: 0;clip: rect(1px 1px 1px 1px);clip: rect(1px, 1px, 1px, 1px);height: 1px;margin: -1px;overflow: hidden;padding: 0;position: absolute;width: 1px;}#sk-bba53c04-1cce-4fa2-ae93-1d3252b4ba1f div.sk-estimator {font-family: monospace;background-color: #f0f8ff;border: 1px dotted black;border-radius: 0.25em;box-sizing: border-box;margin-bottom: 0.5em;}#sk-bba53c04-1cce-4fa2-ae93-1d3252b4ba1f div.sk-estimator:hover {background-color: #d4ebff;}#sk-bba53c04-1cce-4fa2-ae93-1d3252b4ba1f div.sk-parallel-item::after {content: \"\";width: 100%;border-bottom: 1px solid gray;flex-grow: 1;}#sk-bba53c04-1cce-4fa2-ae93-1d3252b4ba1f div.sk-label:hover label.sk-toggleable__label {background-color: #d4ebff;}#sk-bba53c04-1cce-4fa2-ae93-1d3252b4ba1f div.sk-serial::before {content: \"\";position: absolute;border-left: 1px solid gray;box-sizing: border-box;top: 2em;bottom: 0;left: 50%;}#sk-bba53c04-1cce-4fa2-ae93-1d3252b4ba1f div.sk-serial {display: flex;flex-direction: column;align-items: center;background-color: white;padding-right: 0.2em;padding-left: 0.2em;}#sk-bba53c04-1cce-4fa2-ae93-1d3252b4ba1f div.sk-item {z-index: 1;}#sk-bba53c04-1cce-4fa2-ae93-1d3252b4ba1f div.sk-parallel {display: flex;align-items: stretch;justify-content: center;background-color: white;}#sk-bba53c04-1cce-4fa2-ae93-1d3252b4ba1f div.sk-parallel::before {content: \"\";position: absolute;border-left: 1px solid gray;box-sizing: border-box;top: 2em;bottom: 0;left: 50%;}#sk-bba53c04-1cce-4fa2-ae93-1d3252b4ba1f div.sk-parallel-item {display: flex;flex-direction: column;position: relative;background-color: white;}#sk-bba53c04-1cce-4fa2-ae93-1d3252b4ba1f div.sk-parallel-item:first-child::after {align-self: flex-end;width: 50%;}#sk-bba53c04-1cce-4fa2-ae93-1d3252b4ba1f div.sk-parallel-item:last-child::after {align-self: flex-start;width: 50%;}#sk-bba53c04-1cce-4fa2-ae93-1d3252b4ba1f div.sk-parallel-item:only-child::after {width: 0;}#sk-bba53c04-1cce-4fa2-ae93-1d3252b4ba1f div.sk-dashed-wrapped {border: 1px dashed gray;margin: 0 0.4em 0.5em 0.4em;box-sizing: border-box;padding-bottom: 0.4em;background-color: white;position: relative;}#sk-bba53c04-1cce-4fa2-ae93-1d3252b4ba1f div.sk-label label {font-family: monospace;font-weight: bold;background-color: white;display: inline-block;line-height: 1.2em;}#sk-bba53c04-1cce-4fa2-ae93-1d3252b4ba1f div.sk-label-container {position: relative;z-index: 2;text-align: center;}#sk-bba53c04-1cce-4fa2-ae93-1d3252b4ba1f div.sk-container {/* jupyter's `normalize.less` sets `[hidden] { display: none; }` but bootstrap.min.css set `[hidden] { display: none !important; }` so we also need the `!important` here to be able to override the default hidden behavior on the sphinx rendered scikit-learn.org. See: https://github.com/scikit-learn/scikit-learn/issues/21755 */display: inline-block !important;position: relative;}#sk-bba53c04-1cce-4fa2-ae93-1d3252b4ba1f div.sk-text-repr-fallback {display: none;}</style><div id=\"sk-bba53c04-1cce-4fa2-ae93-1d3252b4ba1f\" class=\"sk-top-container\"><div class=\"sk-text-repr-fallback\"><pre>ColumnTransformer(remainder=&#x27;passthrough&#x27;,\n",
              "                  transformers=[(&#x27;pipeline-1&#x27;,\n",
              "                                 Pipeline(steps=[(&#x27;simpleimputer&#x27;,\n",
              "                                                  SimpleImputer()),\n",
              "                                                 (&#x27;standardscaler&#x27;,\n",
              "                                                  StandardScaler())]),\n",
              "                                 &lt;sklearn.compose._column_transformer.make_column_selector object at 0x7f3c03315220&gt;),\n",
              "                                (&#x27;pipeline-2&#x27;,\n",
              "                                 Pipeline(steps=[(&#x27;simpleimputer&#x27;,\n",
              "                                                  SimpleImputer(strategy=&#x27;most_frequent&#x27;)),\n",
              "                                                 (&#x27;onehotencoder&#x27;,\n",
              "                                                  OneHotEncoder(handle_unknown=&#x27;ignore&#x27;,\n",
              "                                                                sparse=False))]),\n",
              "                                 &lt;sklearn.compose._column_transformer.make_column_selector object at 0x7f3c03315190&gt;)])</pre><b>Please rerun this cell to show the HTML repr or trust the notebook.</b></div><div class=\"sk-container\" hidden><div class=\"sk-item sk-dashed-wrapped\"><div class=\"sk-label-container\"><div class=\"sk-label sk-toggleable\"><input class=\"sk-toggleable__control sk-hidden--visually\" id=\"a55e9086-a468-4d75-adf1-74e15ccbe1a3\" type=\"checkbox\" ><label for=\"a55e9086-a468-4d75-adf1-74e15ccbe1a3\" class=\"sk-toggleable__label sk-toggleable__label-arrow\">ColumnTransformer</label><div class=\"sk-toggleable__content\"><pre>ColumnTransformer(remainder=&#x27;passthrough&#x27;,\n",
              "                  transformers=[(&#x27;pipeline-1&#x27;,\n",
              "                                 Pipeline(steps=[(&#x27;simpleimputer&#x27;,\n",
              "                                                  SimpleImputer()),\n",
              "                                                 (&#x27;standardscaler&#x27;,\n",
              "                                                  StandardScaler())]),\n",
              "                                 &lt;sklearn.compose._column_transformer.make_column_selector object at 0x7f3c03315220&gt;),\n",
              "                                (&#x27;pipeline-2&#x27;,\n",
              "                                 Pipeline(steps=[(&#x27;simpleimputer&#x27;,\n",
              "                                                  SimpleImputer(strategy=&#x27;most_frequent&#x27;)),\n",
              "                                                 (&#x27;onehotencoder&#x27;,\n",
              "                                                  OneHotEncoder(handle_unknown=&#x27;ignore&#x27;,\n",
              "                                                                sparse=False))]),\n",
              "                                 &lt;sklearn.compose._column_transformer.make_column_selector object at 0x7f3c03315190&gt;)])</pre></div></div></div><div class=\"sk-parallel\"><div class=\"sk-parallel-item\"><div class=\"sk-item\"><div class=\"sk-label-container\"><div class=\"sk-label sk-toggleable\"><input class=\"sk-toggleable__control sk-hidden--visually\" id=\"2cbaa897-918f-4ee6-8441-9b705f5c56f9\" type=\"checkbox\" ><label for=\"2cbaa897-918f-4ee6-8441-9b705f5c56f9\" class=\"sk-toggleable__label sk-toggleable__label-arrow\">pipeline-1</label><div class=\"sk-toggleable__content\"><pre>&lt;sklearn.compose._column_transformer.make_column_selector object at 0x7f3c03315220&gt;</pre></div></div></div><div class=\"sk-serial\"><div class=\"sk-item\"><div class=\"sk-serial\"><div class=\"sk-item\"><div class=\"sk-estimator sk-toggleable\"><input class=\"sk-toggleable__control sk-hidden--visually\" id=\"b6b05f00-1459-45e0-84eb-ba0afd5f1aaf\" type=\"checkbox\" ><label for=\"b6b05f00-1459-45e0-84eb-ba0afd5f1aaf\" class=\"sk-toggleable__label sk-toggleable__label-arrow\">SimpleImputer</label><div class=\"sk-toggleable__content\"><pre>SimpleImputer()</pre></div></div></div><div class=\"sk-item\"><div class=\"sk-estimator sk-toggleable\"><input class=\"sk-toggleable__control sk-hidden--visually\" id=\"eeca695c-3c14-4ace-bc12-34903daf15dc\" type=\"checkbox\" ><label for=\"eeca695c-3c14-4ace-bc12-34903daf15dc\" class=\"sk-toggleable__label sk-toggleable__label-arrow\">StandardScaler</label><div class=\"sk-toggleable__content\"><pre>StandardScaler()</pre></div></div></div></div></div></div></div></div><div class=\"sk-parallel-item\"><div class=\"sk-item\"><div class=\"sk-label-container\"><div class=\"sk-label sk-toggleable\"><input class=\"sk-toggleable__control sk-hidden--visually\" id=\"77a00c5b-ebb6-4e81-9674-0e927f02ab56\" type=\"checkbox\" ><label for=\"77a00c5b-ebb6-4e81-9674-0e927f02ab56\" class=\"sk-toggleable__label sk-toggleable__label-arrow\">pipeline-2</label><div class=\"sk-toggleable__content\"><pre>&lt;sklearn.compose._column_transformer.make_column_selector object at 0x7f3c03315190&gt;</pre></div></div></div><div class=\"sk-serial\"><div class=\"sk-item\"><div class=\"sk-serial\"><div class=\"sk-item\"><div class=\"sk-estimator sk-toggleable\"><input class=\"sk-toggleable__control sk-hidden--visually\" id=\"ec694617-3be5-4cb5-9fa6-9b25f92228c2\" type=\"checkbox\" ><label for=\"ec694617-3be5-4cb5-9fa6-9b25f92228c2\" class=\"sk-toggleable__label sk-toggleable__label-arrow\">SimpleImputer</label><div class=\"sk-toggleable__content\"><pre>SimpleImputer(strategy=&#x27;most_frequent&#x27;)</pre></div></div></div><div class=\"sk-item\"><div class=\"sk-estimator sk-toggleable\"><input class=\"sk-toggleable__control sk-hidden--visually\" id=\"3a3b1dee-dae8-4e02-8cde-2d9fd6c9115e\" type=\"checkbox\" ><label for=\"3a3b1dee-dae8-4e02-8cde-2d9fd6c9115e\" class=\"sk-toggleable__label sk-toggleable__label-arrow\">OneHotEncoder</label><div class=\"sk-toggleable__content\"><pre>OneHotEncoder(handle_unknown=&#x27;ignore&#x27;, sparse=False)</pre></div></div></div></div></div></div></div></div><div class=\"sk-parallel-item\"><div class=\"sk-item\"><div class=\"sk-label-container\"><div class=\"sk-label sk-toggleable\"><input class=\"sk-toggleable__control sk-hidden--visually\" id=\"eb992402-4c29-4b6a-a0c0-e90ab1fea9ba\" type=\"checkbox\" ><label for=\"eb992402-4c29-4b6a-a0c0-e90ab1fea9ba\" class=\"sk-toggleable__label sk-toggleable__label-arrow\">remainder</label><div class=\"sk-toggleable__content\"><pre>[]</pre></div></div></div><div class=\"sk-serial\"><div class=\"sk-item\"><div class=\"sk-estimator sk-toggleable\"><input class=\"sk-toggleable__control sk-hidden--visually\" id=\"75eb6622-04eb-4a16-947a-0245abad5125\" type=\"checkbox\" ><label for=\"75eb6622-04eb-4a16-947a-0245abad5125\" class=\"sk-toggleable__label sk-toggleable__label-arrow\">passthrough</label><div class=\"sk-toggleable__content\"><pre>passthrough</pre></div></div></div></div></div></div></div></div></div></div>"
            ]
          },
          "metadata": {},
          "execution_count": 48
        }
      ]
    },
    {
      "cell_type": "code",
      "source": [
        "#Instantiate the model\n",
        "reg = LinearRegression()\n",
        "scaler = StandardScaler()"
      ],
      "metadata": {
        "id": "Dvo7Z9otDFdh"
      },
      "execution_count": null,
      "outputs": []
    },
    {
      "cell_type": "code",
      "source": [
        "#Create Model Pipeline \n",
        "reg_pipe = make_pipeline(scaler, reg)\n",
        "reg_pipe"
      ],
      "metadata": {
        "colab": {
          "base_uri": "https://localhost:8080/",
          "height": 127
        },
        "id": "T6UnM8-RDnCn",
        "outputId": "a3968b63-daf7-41fd-b155-c264fe690677"
      },
      "execution_count": null,
      "outputs": [
        {
          "output_type": "execute_result",
          "data": {
            "text/plain": [
              "Pipeline(steps=[('standardscaler', StandardScaler()),\n",
              "                ('linearregression', LinearRegression())])"
            ],
            "text/html": [
              "<style>#sk-9638f47b-d098-4dc8-93f6-3dbed4d41ddb {color: black;background-color: white;}#sk-9638f47b-d098-4dc8-93f6-3dbed4d41ddb pre{padding: 0;}#sk-9638f47b-d098-4dc8-93f6-3dbed4d41ddb div.sk-toggleable {background-color: white;}#sk-9638f47b-d098-4dc8-93f6-3dbed4d41ddb label.sk-toggleable__label {cursor: pointer;display: block;width: 100%;margin-bottom: 0;padding: 0.3em;box-sizing: border-box;text-align: center;}#sk-9638f47b-d098-4dc8-93f6-3dbed4d41ddb label.sk-toggleable__label-arrow:before {content: \"▸\";float: left;margin-right: 0.25em;color: #696969;}#sk-9638f47b-d098-4dc8-93f6-3dbed4d41ddb label.sk-toggleable__label-arrow:hover:before {color: black;}#sk-9638f47b-d098-4dc8-93f6-3dbed4d41ddb div.sk-estimator:hover label.sk-toggleable__label-arrow:before {color: black;}#sk-9638f47b-d098-4dc8-93f6-3dbed4d41ddb div.sk-toggleable__content {max-height: 0;max-width: 0;overflow: hidden;text-align: left;background-color: #f0f8ff;}#sk-9638f47b-d098-4dc8-93f6-3dbed4d41ddb div.sk-toggleable__content pre {margin: 0.2em;color: black;border-radius: 0.25em;background-color: #f0f8ff;}#sk-9638f47b-d098-4dc8-93f6-3dbed4d41ddb input.sk-toggleable__control:checked~div.sk-toggleable__content {max-height: 200px;max-width: 100%;overflow: auto;}#sk-9638f47b-d098-4dc8-93f6-3dbed4d41ddb input.sk-toggleable__control:checked~label.sk-toggleable__label-arrow:before {content: \"▾\";}#sk-9638f47b-d098-4dc8-93f6-3dbed4d41ddb div.sk-estimator input.sk-toggleable__control:checked~label.sk-toggleable__label {background-color: #d4ebff;}#sk-9638f47b-d098-4dc8-93f6-3dbed4d41ddb div.sk-label input.sk-toggleable__control:checked~label.sk-toggleable__label {background-color: #d4ebff;}#sk-9638f47b-d098-4dc8-93f6-3dbed4d41ddb input.sk-hidden--visually {border: 0;clip: rect(1px 1px 1px 1px);clip: rect(1px, 1px, 1px, 1px);height: 1px;margin: -1px;overflow: hidden;padding: 0;position: absolute;width: 1px;}#sk-9638f47b-d098-4dc8-93f6-3dbed4d41ddb div.sk-estimator {font-family: monospace;background-color: #f0f8ff;border: 1px dotted black;border-radius: 0.25em;box-sizing: border-box;margin-bottom: 0.5em;}#sk-9638f47b-d098-4dc8-93f6-3dbed4d41ddb div.sk-estimator:hover {background-color: #d4ebff;}#sk-9638f47b-d098-4dc8-93f6-3dbed4d41ddb div.sk-parallel-item::after {content: \"\";width: 100%;border-bottom: 1px solid gray;flex-grow: 1;}#sk-9638f47b-d098-4dc8-93f6-3dbed4d41ddb div.sk-label:hover label.sk-toggleable__label {background-color: #d4ebff;}#sk-9638f47b-d098-4dc8-93f6-3dbed4d41ddb div.sk-serial::before {content: \"\";position: absolute;border-left: 1px solid gray;box-sizing: border-box;top: 2em;bottom: 0;left: 50%;}#sk-9638f47b-d098-4dc8-93f6-3dbed4d41ddb div.sk-serial {display: flex;flex-direction: column;align-items: center;background-color: white;padding-right: 0.2em;padding-left: 0.2em;}#sk-9638f47b-d098-4dc8-93f6-3dbed4d41ddb div.sk-item {z-index: 1;}#sk-9638f47b-d098-4dc8-93f6-3dbed4d41ddb div.sk-parallel {display: flex;align-items: stretch;justify-content: center;background-color: white;}#sk-9638f47b-d098-4dc8-93f6-3dbed4d41ddb div.sk-parallel::before {content: \"\";position: absolute;border-left: 1px solid gray;box-sizing: border-box;top: 2em;bottom: 0;left: 50%;}#sk-9638f47b-d098-4dc8-93f6-3dbed4d41ddb div.sk-parallel-item {display: flex;flex-direction: column;position: relative;background-color: white;}#sk-9638f47b-d098-4dc8-93f6-3dbed4d41ddb div.sk-parallel-item:first-child::after {align-self: flex-end;width: 50%;}#sk-9638f47b-d098-4dc8-93f6-3dbed4d41ddb div.sk-parallel-item:last-child::after {align-self: flex-start;width: 50%;}#sk-9638f47b-d098-4dc8-93f6-3dbed4d41ddb div.sk-parallel-item:only-child::after {width: 0;}#sk-9638f47b-d098-4dc8-93f6-3dbed4d41ddb div.sk-dashed-wrapped {border: 1px dashed gray;margin: 0 0.4em 0.5em 0.4em;box-sizing: border-box;padding-bottom: 0.4em;background-color: white;position: relative;}#sk-9638f47b-d098-4dc8-93f6-3dbed4d41ddb div.sk-label label {font-family: monospace;font-weight: bold;background-color: white;display: inline-block;line-height: 1.2em;}#sk-9638f47b-d098-4dc8-93f6-3dbed4d41ddb div.sk-label-container {position: relative;z-index: 2;text-align: center;}#sk-9638f47b-d098-4dc8-93f6-3dbed4d41ddb div.sk-container {/* jupyter's `normalize.less` sets `[hidden] { display: none; }` but bootstrap.min.css set `[hidden] { display: none !important; }` so we also need the `!important` here to be able to override the default hidden behavior on the sphinx rendered scikit-learn.org. See: https://github.com/scikit-learn/scikit-learn/issues/21755 */display: inline-block !important;position: relative;}#sk-9638f47b-d098-4dc8-93f6-3dbed4d41ddb div.sk-text-repr-fallback {display: none;}</style><div id=\"sk-9638f47b-d098-4dc8-93f6-3dbed4d41ddb\" class=\"sk-top-container\"><div class=\"sk-text-repr-fallback\"><pre>Pipeline(steps=[(&#x27;standardscaler&#x27;, StandardScaler()),\n",
              "                (&#x27;linearregression&#x27;, LinearRegression())])</pre><b>Please rerun this cell to show the HTML repr or trust the notebook.</b></div><div class=\"sk-container\" hidden><div class=\"sk-item sk-dashed-wrapped\"><div class=\"sk-label-container\"><div class=\"sk-label sk-toggleable\"><input class=\"sk-toggleable__control sk-hidden--visually\" id=\"18a0c974-9c8d-4214-a056-6ee8c53e32f9\" type=\"checkbox\" ><label for=\"18a0c974-9c8d-4214-a056-6ee8c53e32f9\" class=\"sk-toggleable__label sk-toggleable__label-arrow\">Pipeline</label><div class=\"sk-toggleable__content\"><pre>Pipeline(steps=[(&#x27;standardscaler&#x27;, StandardScaler()),\n",
              "                (&#x27;linearregression&#x27;, LinearRegression())])</pre></div></div></div><div class=\"sk-serial\"><div class=\"sk-item\"><div class=\"sk-estimator sk-toggleable\"><input class=\"sk-toggleable__control sk-hidden--visually\" id=\"f3fa9f0e-d008-424e-b858-0ffcb2f1a5cd\" type=\"checkbox\" ><label for=\"f3fa9f0e-d008-424e-b858-0ffcb2f1a5cd\" class=\"sk-toggleable__label sk-toggleable__label-arrow\">StandardScaler</label><div class=\"sk-toggleable__content\"><pre>StandardScaler()</pre></div></div></div><div class=\"sk-item\"><div class=\"sk-estimator sk-toggleable\"><input class=\"sk-toggleable__control sk-hidden--visually\" id=\"ec5d2d15-5807-4305-abf9-b9f2668e4fed\" type=\"checkbox\" ><label for=\"ec5d2d15-5807-4305-abf9-b9f2668e4fed\" class=\"sk-toggleable__label sk-toggleable__label-arrow\">LinearRegression</label><div class=\"sk-toggleable__content\"><pre>LinearRegression()</pre></div></div></div></div></div></div></div>"
            ]
          },
          "metadata": {},
          "execution_count": 50
        }
      ]
    },
    {
      "cell_type": "code",
      "source": [
        "#Creating the model pipeline\n",
        "linreg_pipe = make_pipeline(preprocessor, LinearRegression())\n",
        "linreg_pipe.fit(X_train, y_train)"
      ],
      "metadata": {
        "colab": {
          "base_uri": "https://localhost:8080/",
          "height": 228
        },
        "id": "gOqSYjDRFExZ",
        "outputId": "edda28ab-74dd-4eab-d7b7-6659317366c0"
      },
      "execution_count": null,
      "outputs": [
        {
          "output_type": "execute_result",
          "data": {
            "text/plain": [
              "Pipeline(steps=[('columntransformer',\n",
              "                 ColumnTransformer(remainder='passthrough',\n",
              "                                   transformers=[('pipeline-1',\n",
              "                                                  Pipeline(steps=[('simpleimputer',\n",
              "                                                                   SimpleImputer()),\n",
              "                                                                  ('standardscaler',\n",
              "                                                                   StandardScaler())]),\n",
              "                                                  <sklearn.compose._column_transformer.make_column_selector object at 0x7f3c03315220>),\n",
              "                                                 ('pipeline-2',\n",
              "                                                  Pipeline(steps=[('simpleimputer',\n",
              "                                                                   SimpleImputer(strategy='most_frequent')),\n",
              "                                                                  ('onehotencoder',\n",
              "                                                                   OneHotEncoder(handle_unknown='ignore',\n",
              "                                                                                 sparse=False))]),\n",
              "                                                  <sklearn.compose._column_transformer.make_column_selector object at 0x7f3c03315190>)])),\n",
              "                ('linearregression', LinearRegression())])"
            ],
            "text/html": [
              "<style>#sk-0d871575-89ba-4bfd-961b-548ac54139c4 {color: black;background-color: white;}#sk-0d871575-89ba-4bfd-961b-548ac54139c4 pre{padding: 0;}#sk-0d871575-89ba-4bfd-961b-548ac54139c4 div.sk-toggleable {background-color: white;}#sk-0d871575-89ba-4bfd-961b-548ac54139c4 label.sk-toggleable__label {cursor: pointer;display: block;width: 100%;margin-bottom: 0;padding: 0.3em;box-sizing: border-box;text-align: center;}#sk-0d871575-89ba-4bfd-961b-548ac54139c4 label.sk-toggleable__label-arrow:before {content: \"▸\";float: left;margin-right: 0.25em;color: #696969;}#sk-0d871575-89ba-4bfd-961b-548ac54139c4 label.sk-toggleable__label-arrow:hover:before {color: black;}#sk-0d871575-89ba-4bfd-961b-548ac54139c4 div.sk-estimator:hover label.sk-toggleable__label-arrow:before {color: black;}#sk-0d871575-89ba-4bfd-961b-548ac54139c4 div.sk-toggleable__content {max-height: 0;max-width: 0;overflow: hidden;text-align: left;background-color: #f0f8ff;}#sk-0d871575-89ba-4bfd-961b-548ac54139c4 div.sk-toggleable__content pre {margin: 0.2em;color: black;border-radius: 0.25em;background-color: #f0f8ff;}#sk-0d871575-89ba-4bfd-961b-548ac54139c4 input.sk-toggleable__control:checked~div.sk-toggleable__content {max-height: 200px;max-width: 100%;overflow: auto;}#sk-0d871575-89ba-4bfd-961b-548ac54139c4 input.sk-toggleable__control:checked~label.sk-toggleable__label-arrow:before {content: \"▾\";}#sk-0d871575-89ba-4bfd-961b-548ac54139c4 div.sk-estimator input.sk-toggleable__control:checked~label.sk-toggleable__label {background-color: #d4ebff;}#sk-0d871575-89ba-4bfd-961b-548ac54139c4 div.sk-label input.sk-toggleable__control:checked~label.sk-toggleable__label {background-color: #d4ebff;}#sk-0d871575-89ba-4bfd-961b-548ac54139c4 input.sk-hidden--visually {border: 0;clip: rect(1px 1px 1px 1px);clip: rect(1px, 1px, 1px, 1px);height: 1px;margin: -1px;overflow: hidden;padding: 0;position: absolute;width: 1px;}#sk-0d871575-89ba-4bfd-961b-548ac54139c4 div.sk-estimator {font-family: monospace;background-color: #f0f8ff;border: 1px dotted black;border-radius: 0.25em;box-sizing: border-box;margin-bottom: 0.5em;}#sk-0d871575-89ba-4bfd-961b-548ac54139c4 div.sk-estimator:hover {background-color: #d4ebff;}#sk-0d871575-89ba-4bfd-961b-548ac54139c4 div.sk-parallel-item::after {content: \"\";width: 100%;border-bottom: 1px solid gray;flex-grow: 1;}#sk-0d871575-89ba-4bfd-961b-548ac54139c4 div.sk-label:hover label.sk-toggleable__label {background-color: #d4ebff;}#sk-0d871575-89ba-4bfd-961b-548ac54139c4 div.sk-serial::before {content: \"\";position: absolute;border-left: 1px solid gray;box-sizing: border-box;top: 2em;bottom: 0;left: 50%;}#sk-0d871575-89ba-4bfd-961b-548ac54139c4 div.sk-serial {display: flex;flex-direction: column;align-items: center;background-color: white;padding-right: 0.2em;padding-left: 0.2em;}#sk-0d871575-89ba-4bfd-961b-548ac54139c4 div.sk-item {z-index: 1;}#sk-0d871575-89ba-4bfd-961b-548ac54139c4 div.sk-parallel {display: flex;align-items: stretch;justify-content: center;background-color: white;}#sk-0d871575-89ba-4bfd-961b-548ac54139c4 div.sk-parallel::before {content: \"\";position: absolute;border-left: 1px solid gray;box-sizing: border-box;top: 2em;bottom: 0;left: 50%;}#sk-0d871575-89ba-4bfd-961b-548ac54139c4 div.sk-parallel-item {display: flex;flex-direction: column;position: relative;background-color: white;}#sk-0d871575-89ba-4bfd-961b-548ac54139c4 div.sk-parallel-item:first-child::after {align-self: flex-end;width: 50%;}#sk-0d871575-89ba-4bfd-961b-548ac54139c4 div.sk-parallel-item:last-child::after {align-self: flex-start;width: 50%;}#sk-0d871575-89ba-4bfd-961b-548ac54139c4 div.sk-parallel-item:only-child::after {width: 0;}#sk-0d871575-89ba-4bfd-961b-548ac54139c4 div.sk-dashed-wrapped {border: 1px dashed gray;margin: 0 0.4em 0.5em 0.4em;box-sizing: border-box;padding-bottom: 0.4em;background-color: white;position: relative;}#sk-0d871575-89ba-4bfd-961b-548ac54139c4 div.sk-label label {font-family: monospace;font-weight: bold;background-color: white;display: inline-block;line-height: 1.2em;}#sk-0d871575-89ba-4bfd-961b-548ac54139c4 div.sk-label-container {position: relative;z-index: 2;text-align: center;}#sk-0d871575-89ba-4bfd-961b-548ac54139c4 div.sk-container {/* jupyter's `normalize.less` sets `[hidden] { display: none; }` but bootstrap.min.css set `[hidden] { display: none !important; }` so we also need the `!important` here to be able to override the default hidden behavior on the sphinx rendered scikit-learn.org. See: https://github.com/scikit-learn/scikit-learn/issues/21755 */display: inline-block !important;position: relative;}#sk-0d871575-89ba-4bfd-961b-548ac54139c4 div.sk-text-repr-fallback {display: none;}</style><div id=\"sk-0d871575-89ba-4bfd-961b-548ac54139c4\" class=\"sk-top-container\"><div class=\"sk-text-repr-fallback\"><pre>Pipeline(steps=[(&#x27;columntransformer&#x27;,\n",
              "                 ColumnTransformer(remainder=&#x27;passthrough&#x27;,\n",
              "                                   transformers=[(&#x27;pipeline-1&#x27;,\n",
              "                                                  Pipeline(steps=[(&#x27;simpleimputer&#x27;,\n",
              "                                                                   SimpleImputer()),\n",
              "                                                                  (&#x27;standardscaler&#x27;,\n",
              "                                                                   StandardScaler())]),\n",
              "                                                  &lt;sklearn.compose._column_transformer.make_column_selector object at 0x7f3c03315220&gt;),\n",
              "                                                 (&#x27;pipeline-2&#x27;,\n",
              "                                                  Pipeline(steps=[(&#x27;simpleimputer&#x27;,\n",
              "                                                                   SimpleImputer(strategy=&#x27;most_frequent&#x27;)),\n",
              "                                                                  (&#x27;onehotencoder&#x27;,\n",
              "                                                                   OneHotEncoder(handle_unknown=&#x27;ignore&#x27;,\n",
              "                                                                                 sparse=False))]),\n",
              "                                                  &lt;sklearn.compose._column_transformer.make_column_selector object at 0x7f3c03315190&gt;)])),\n",
              "                (&#x27;linearregression&#x27;, LinearRegression())])</pre><b>Please rerun this cell to show the HTML repr or trust the notebook.</b></div><div class=\"sk-container\" hidden><div class=\"sk-item sk-dashed-wrapped\"><div class=\"sk-label-container\"><div class=\"sk-label sk-toggleable\"><input class=\"sk-toggleable__control sk-hidden--visually\" id=\"e64ff70b-860b-47d3-8f3a-d2424e88da6f\" type=\"checkbox\" ><label for=\"e64ff70b-860b-47d3-8f3a-d2424e88da6f\" class=\"sk-toggleable__label sk-toggleable__label-arrow\">Pipeline</label><div class=\"sk-toggleable__content\"><pre>Pipeline(steps=[(&#x27;columntransformer&#x27;,\n",
              "                 ColumnTransformer(remainder=&#x27;passthrough&#x27;,\n",
              "                                   transformers=[(&#x27;pipeline-1&#x27;,\n",
              "                                                  Pipeline(steps=[(&#x27;simpleimputer&#x27;,\n",
              "                                                                   SimpleImputer()),\n",
              "                                                                  (&#x27;standardscaler&#x27;,\n",
              "                                                                   StandardScaler())]),\n",
              "                                                  &lt;sklearn.compose._column_transformer.make_column_selector object at 0x7f3c03315220&gt;),\n",
              "                                                 (&#x27;pipeline-2&#x27;,\n",
              "                                                  Pipeline(steps=[(&#x27;simpleimputer&#x27;,\n",
              "                                                                   SimpleImputer(strategy=&#x27;most_frequent&#x27;)),\n",
              "                                                                  (&#x27;onehotencoder&#x27;,\n",
              "                                                                   OneHotEncoder(handle_unknown=&#x27;ignore&#x27;,\n",
              "                                                                                 sparse=False))]),\n",
              "                                                  &lt;sklearn.compose._column_transformer.make_column_selector object at 0x7f3c03315190&gt;)])),\n",
              "                (&#x27;linearregression&#x27;, LinearRegression())])</pre></div></div></div><div class=\"sk-serial\"><div class=\"sk-item sk-dashed-wrapped\"><div class=\"sk-label-container\"><div class=\"sk-label sk-toggleable\"><input class=\"sk-toggleable__control sk-hidden--visually\" id=\"47ca160b-b2fb-4fbd-a74d-97b2bb176b24\" type=\"checkbox\" ><label for=\"47ca160b-b2fb-4fbd-a74d-97b2bb176b24\" class=\"sk-toggleable__label sk-toggleable__label-arrow\">columntransformer: ColumnTransformer</label><div class=\"sk-toggleable__content\"><pre>ColumnTransformer(remainder=&#x27;passthrough&#x27;,\n",
              "                  transformers=[(&#x27;pipeline-1&#x27;,\n",
              "                                 Pipeline(steps=[(&#x27;simpleimputer&#x27;,\n",
              "                                                  SimpleImputer()),\n",
              "                                                 (&#x27;standardscaler&#x27;,\n",
              "                                                  StandardScaler())]),\n",
              "                                 &lt;sklearn.compose._column_transformer.make_column_selector object at 0x7f3c03315220&gt;),\n",
              "                                (&#x27;pipeline-2&#x27;,\n",
              "                                 Pipeline(steps=[(&#x27;simpleimputer&#x27;,\n",
              "                                                  SimpleImputer(strategy=&#x27;most_frequent&#x27;)),\n",
              "                                                 (&#x27;onehotencoder&#x27;,\n",
              "                                                  OneHotEncoder(handle_unknown=&#x27;ignore&#x27;,\n",
              "                                                                sparse=False))]),\n",
              "                                 &lt;sklearn.compose._column_transformer.make_column_selector object at 0x7f3c03315190&gt;)])</pre></div></div></div><div class=\"sk-parallel\"><div class=\"sk-parallel-item\"><div class=\"sk-item\"><div class=\"sk-label-container\"><div class=\"sk-label sk-toggleable\"><input class=\"sk-toggleable__control sk-hidden--visually\" id=\"9926613b-8774-43f9-a634-32393fdee381\" type=\"checkbox\" ><label for=\"9926613b-8774-43f9-a634-32393fdee381\" class=\"sk-toggleable__label sk-toggleable__label-arrow\">pipeline-1</label><div class=\"sk-toggleable__content\"><pre>&lt;sklearn.compose._column_transformer.make_column_selector object at 0x7f3c03315220&gt;</pre></div></div></div><div class=\"sk-serial\"><div class=\"sk-item\"><div class=\"sk-serial\"><div class=\"sk-item\"><div class=\"sk-estimator sk-toggleable\"><input class=\"sk-toggleable__control sk-hidden--visually\" id=\"a72f1401-0bc6-4978-bf74-cac84b4404c9\" type=\"checkbox\" ><label for=\"a72f1401-0bc6-4978-bf74-cac84b4404c9\" class=\"sk-toggleable__label sk-toggleable__label-arrow\">SimpleImputer</label><div class=\"sk-toggleable__content\"><pre>SimpleImputer()</pre></div></div></div><div class=\"sk-item\"><div class=\"sk-estimator sk-toggleable\"><input class=\"sk-toggleable__control sk-hidden--visually\" id=\"d7cd5cae-2cd4-40a7-ad84-416b0a601650\" type=\"checkbox\" ><label for=\"d7cd5cae-2cd4-40a7-ad84-416b0a601650\" class=\"sk-toggleable__label sk-toggleable__label-arrow\">StandardScaler</label><div class=\"sk-toggleable__content\"><pre>StandardScaler()</pre></div></div></div></div></div></div></div></div><div class=\"sk-parallel-item\"><div class=\"sk-item\"><div class=\"sk-label-container\"><div class=\"sk-label sk-toggleable\"><input class=\"sk-toggleable__control sk-hidden--visually\" id=\"abe8fdde-2674-46a4-a14d-0ce8404753d8\" type=\"checkbox\" ><label for=\"abe8fdde-2674-46a4-a14d-0ce8404753d8\" class=\"sk-toggleable__label sk-toggleable__label-arrow\">pipeline-2</label><div class=\"sk-toggleable__content\"><pre>&lt;sklearn.compose._column_transformer.make_column_selector object at 0x7f3c03315190&gt;</pre></div></div></div><div class=\"sk-serial\"><div class=\"sk-item\"><div class=\"sk-serial\"><div class=\"sk-item\"><div class=\"sk-estimator sk-toggleable\"><input class=\"sk-toggleable__control sk-hidden--visually\" id=\"ca75c5a1-70d7-450f-b2af-a4827581e01f\" type=\"checkbox\" ><label for=\"ca75c5a1-70d7-450f-b2af-a4827581e01f\" class=\"sk-toggleable__label sk-toggleable__label-arrow\">SimpleImputer</label><div class=\"sk-toggleable__content\"><pre>SimpleImputer(strategy=&#x27;most_frequent&#x27;)</pre></div></div></div><div class=\"sk-item\"><div class=\"sk-estimator sk-toggleable\"><input class=\"sk-toggleable__control sk-hidden--visually\" id=\"38a82cd6-4387-4389-a234-5865123b8da0\" type=\"checkbox\" ><label for=\"38a82cd6-4387-4389-a234-5865123b8da0\" class=\"sk-toggleable__label sk-toggleable__label-arrow\">OneHotEncoder</label><div class=\"sk-toggleable__content\"><pre>OneHotEncoder(handle_unknown=&#x27;ignore&#x27;, sparse=False)</pre></div></div></div></div></div></div></div></div><div class=\"sk-parallel-item\"><div class=\"sk-item\"><div class=\"sk-label-container\"><div class=\"sk-label sk-toggleable\"><input class=\"sk-toggleable__control sk-hidden--visually\" id=\"8d295e5e-6f9f-4aa4-ae36-0e9a79f4bab9\" type=\"checkbox\" ><label for=\"8d295e5e-6f9f-4aa4-ae36-0e9a79f4bab9\" class=\"sk-toggleable__label sk-toggleable__label-arrow\">remainder</label><div class=\"sk-toggleable__content\"><pre>[]</pre></div></div></div><div class=\"sk-serial\"><div class=\"sk-item\"><div class=\"sk-estimator sk-toggleable\"><input class=\"sk-toggleable__control sk-hidden--visually\" id=\"76b38368-a80b-45ae-b7ea-cd5ef08ed8ce\" type=\"checkbox\" ><label for=\"76b38368-a80b-45ae-b7ea-cd5ef08ed8ce\" class=\"sk-toggleable__label sk-toggleable__label-arrow\">passthrough</label><div class=\"sk-toggleable__content\"><pre>passthrough</pre></div></div></div></div></div></div></div></div><div class=\"sk-item\"><div class=\"sk-estimator sk-toggleable\"><input class=\"sk-toggleable__control sk-hidden--visually\" id=\"e44248ca-8d24-436b-b189-db0b1230e4f3\" type=\"checkbox\" ><label for=\"e44248ca-8d24-436b-b189-db0b1230e4f3\" class=\"sk-toggleable__label sk-toggleable__label-arrow\">LinearRegression</label><div class=\"sk-toggleable__content\"><pre>LinearRegression()</pre></div></div></div></div></div></div></div>"
            ]
          },
          "metadata": {},
          "execution_count": 51
        }
      ]
    },
    {
      "cell_type": "markdown",
      "source": [
        "###**y_hat Predictions**"
      ],
      "metadata": {
        "id": "wariBGaxK3ty"
      }
    },
    {
      "cell_type": "code",
      "source": [
        "# Get predictions to use to evaluate model\n",
        "y_hat_train = linreg_pipe.predict(X_train)\n",
        "y_hat_test = linreg_pipe.predict(X_test)"
      ],
      "metadata": {
        "id": "bNN_tgDbKqg6"
      },
      "execution_count": null,
      "outputs": []
    },
    {
      "cell_type": "code",
      "source": [
        "def evaluate_model(y_true, y_pred, split='training'):\n",
        "  \"\"\" prints RMSE, and R2 metrics, include which data split was evaluated\n",
        "  \n",
        "  Args:\n",
        "    y_true: y-train or y-test\n",
        "    y_pred: result of model.predict(X)\n",
        "    split: which data split is being evaluate ['training','test']\n",
        "  \"\"\"\n",
        "  \n",
        "  r2 = r2_score(y_true,y_pred)\n",
        "  mae = mean_absolute_error(y_true,y_pred)\n",
        "  mse = mean_squared_error(y_true, y_pred)\n",
        "  rmse = mean_squared_error(y_true,y_pred,squared=False)\n",
        "\n",
        "  \n",
        "  print(f'Results for {split} data:')\n",
        "  print(f\"  - R^2 = {round(r2,3)}\")\n",
        "  print(f\"  - MAE = {round(mae,3)}\")\n",
        "  print(f\"  - MSE = {round(mse,3)}\")\n",
        "  print(f\"  - RMSE = {round(rmse,3)}\")\n",
        "  print()"
      ],
      "metadata": {
        "id": "uVsz1r21MQN3"
      },
      "execution_count": null,
      "outputs": []
    },
    {
      "cell_type": "code",
      "source": [
        "## Evaluate model's performance\n",
        "evaluate_model(y_train, y_hat_train,split='training')\n",
        "evaluate_model(y_test, y_hat_test,split='testing')"
      ],
      "metadata": {
        "colab": {
          "base_uri": "https://localhost:8080/"
        },
        "id": "n-UQrwURMJMj",
        "outputId": "642d26a7-0910-4010-f238-07c4d09997d3"
      },
      "execution_count": null,
      "outputs": [
        {
          "output_type": "stream",
          "name": "stdout",
          "text": [
            "Results for training data:\n",
            "  - R^2 = 0.632\n",
            "  - MAE = 787.684\n",
            "  - MSE = 1090402.311\n",
            "  - RMSE = 1044.223\n",
            "\n",
            "Results for testing data:\n",
            "  - R^2 = -8.656163822130806e+20\n",
            "  - MAE = 3296404132227.802\n",
            "  - MSE = 2.3882159384792534e+27\n",
            "  - RMSE = 48869376284942.016\n",
            "\n"
          ]
        }
      ]
    },
    {
      "cell_type": "code",
      "source": [
        "## Make and fit model\n",
        "dec_tree_pipe = make_pipeline(preprocessor,DecisionTreeRegressor(random_state = 42))\n",
        "dec_tree_pipe.fit(X_train, y_train)\n"
      ],
      "metadata": {
        "colab": {
          "base_uri": "https://localhost:8080/",
          "height": 228
        },
        "id": "9l5RyfntMc77",
        "outputId": "96463655-892f-4178-bf16-f8d1ea0f587f"
      },
      "execution_count": null,
      "outputs": [
        {
          "output_type": "execute_result",
          "data": {
            "text/plain": [
              "Pipeline(steps=[('columntransformer',\n",
              "                 ColumnTransformer(remainder='passthrough',\n",
              "                                   transformers=[('pipeline-1',\n",
              "                                                  Pipeline(steps=[('simpleimputer',\n",
              "                                                                   SimpleImputer()),\n",
              "                                                                  ('standardscaler',\n",
              "                                                                   StandardScaler())]),\n",
              "                                                  <sklearn.compose._column_transformer.make_column_selector object at 0x7f3c03315220>),\n",
              "                                                 ('pipeline-2',\n",
              "                                                  Pipeline(steps=[('simpleimputer',\n",
              "                                                                   SimpleImputer(strategy='most_frequent')),\n",
              "                                                                  ('onehotencoder',\n",
              "                                                                   OneHotEncoder(handle_unknown='ignore',\n",
              "                                                                                 sparse=False))]),\n",
              "                                                  <sklearn.compose._column_transformer.make_column_selector object at 0x7f3c03315190>)])),\n",
              "                ('decisiontreeregressor',\n",
              "                 DecisionTreeRegressor(random_state=42))])"
            ],
            "text/html": [
              "<style>#sk-0f8abd48-ed3f-41e4-9872-cc1584aafaef {color: black;background-color: white;}#sk-0f8abd48-ed3f-41e4-9872-cc1584aafaef pre{padding: 0;}#sk-0f8abd48-ed3f-41e4-9872-cc1584aafaef div.sk-toggleable {background-color: white;}#sk-0f8abd48-ed3f-41e4-9872-cc1584aafaef label.sk-toggleable__label {cursor: pointer;display: block;width: 100%;margin-bottom: 0;padding: 0.3em;box-sizing: border-box;text-align: center;}#sk-0f8abd48-ed3f-41e4-9872-cc1584aafaef label.sk-toggleable__label-arrow:before {content: \"▸\";float: left;margin-right: 0.25em;color: #696969;}#sk-0f8abd48-ed3f-41e4-9872-cc1584aafaef label.sk-toggleable__label-arrow:hover:before {color: black;}#sk-0f8abd48-ed3f-41e4-9872-cc1584aafaef div.sk-estimator:hover label.sk-toggleable__label-arrow:before {color: black;}#sk-0f8abd48-ed3f-41e4-9872-cc1584aafaef div.sk-toggleable__content {max-height: 0;max-width: 0;overflow: hidden;text-align: left;background-color: #f0f8ff;}#sk-0f8abd48-ed3f-41e4-9872-cc1584aafaef div.sk-toggleable__content pre {margin: 0.2em;color: black;border-radius: 0.25em;background-color: #f0f8ff;}#sk-0f8abd48-ed3f-41e4-9872-cc1584aafaef input.sk-toggleable__control:checked~div.sk-toggleable__content {max-height: 200px;max-width: 100%;overflow: auto;}#sk-0f8abd48-ed3f-41e4-9872-cc1584aafaef input.sk-toggleable__control:checked~label.sk-toggleable__label-arrow:before {content: \"▾\";}#sk-0f8abd48-ed3f-41e4-9872-cc1584aafaef div.sk-estimator input.sk-toggleable__control:checked~label.sk-toggleable__label {background-color: #d4ebff;}#sk-0f8abd48-ed3f-41e4-9872-cc1584aafaef div.sk-label input.sk-toggleable__control:checked~label.sk-toggleable__label {background-color: #d4ebff;}#sk-0f8abd48-ed3f-41e4-9872-cc1584aafaef input.sk-hidden--visually {border: 0;clip: rect(1px 1px 1px 1px);clip: rect(1px, 1px, 1px, 1px);height: 1px;margin: -1px;overflow: hidden;padding: 0;position: absolute;width: 1px;}#sk-0f8abd48-ed3f-41e4-9872-cc1584aafaef div.sk-estimator {font-family: monospace;background-color: #f0f8ff;border: 1px dotted black;border-radius: 0.25em;box-sizing: border-box;margin-bottom: 0.5em;}#sk-0f8abd48-ed3f-41e4-9872-cc1584aafaef div.sk-estimator:hover {background-color: #d4ebff;}#sk-0f8abd48-ed3f-41e4-9872-cc1584aafaef div.sk-parallel-item::after {content: \"\";width: 100%;border-bottom: 1px solid gray;flex-grow: 1;}#sk-0f8abd48-ed3f-41e4-9872-cc1584aafaef div.sk-label:hover label.sk-toggleable__label {background-color: #d4ebff;}#sk-0f8abd48-ed3f-41e4-9872-cc1584aafaef div.sk-serial::before {content: \"\";position: absolute;border-left: 1px solid gray;box-sizing: border-box;top: 2em;bottom: 0;left: 50%;}#sk-0f8abd48-ed3f-41e4-9872-cc1584aafaef div.sk-serial {display: flex;flex-direction: column;align-items: center;background-color: white;padding-right: 0.2em;padding-left: 0.2em;}#sk-0f8abd48-ed3f-41e4-9872-cc1584aafaef div.sk-item {z-index: 1;}#sk-0f8abd48-ed3f-41e4-9872-cc1584aafaef div.sk-parallel {display: flex;align-items: stretch;justify-content: center;background-color: white;}#sk-0f8abd48-ed3f-41e4-9872-cc1584aafaef div.sk-parallel::before {content: \"\";position: absolute;border-left: 1px solid gray;box-sizing: border-box;top: 2em;bottom: 0;left: 50%;}#sk-0f8abd48-ed3f-41e4-9872-cc1584aafaef div.sk-parallel-item {display: flex;flex-direction: column;position: relative;background-color: white;}#sk-0f8abd48-ed3f-41e4-9872-cc1584aafaef div.sk-parallel-item:first-child::after {align-self: flex-end;width: 50%;}#sk-0f8abd48-ed3f-41e4-9872-cc1584aafaef div.sk-parallel-item:last-child::after {align-self: flex-start;width: 50%;}#sk-0f8abd48-ed3f-41e4-9872-cc1584aafaef div.sk-parallel-item:only-child::after {width: 0;}#sk-0f8abd48-ed3f-41e4-9872-cc1584aafaef div.sk-dashed-wrapped {border: 1px dashed gray;margin: 0 0.4em 0.5em 0.4em;box-sizing: border-box;padding-bottom: 0.4em;background-color: white;position: relative;}#sk-0f8abd48-ed3f-41e4-9872-cc1584aafaef div.sk-label label {font-family: monospace;font-weight: bold;background-color: white;display: inline-block;line-height: 1.2em;}#sk-0f8abd48-ed3f-41e4-9872-cc1584aafaef div.sk-label-container {position: relative;z-index: 2;text-align: center;}#sk-0f8abd48-ed3f-41e4-9872-cc1584aafaef div.sk-container {/* jupyter's `normalize.less` sets `[hidden] { display: none; }` but bootstrap.min.css set `[hidden] { display: none !important; }` so we also need the `!important` here to be able to override the default hidden behavior on the sphinx rendered scikit-learn.org. See: https://github.com/scikit-learn/scikit-learn/issues/21755 */display: inline-block !important;position: relative;}#sk-0f8abd48-ed3f-41e4-9872-cc1584aafaef div.sk-text-repr-fallback {display: none;}</style><div id=\"sk-0f8abd48-ed3f-41e4-9872-cc1584aafaef\" class=\"sk-top-container\"><div class=\"sk-text-repr-fallback\"><pre>Pipeline(steps=[(&#x27;columntransformer&#x27;,\n",
              "                 ColumnTransformer(remainder=&#x27;passthrough&#x27;,\n",
              "                                   transformers=[(&#x27;pipeline-1&#x27;,\n",
              "                                                  Pipeline(steps=[(&#x27;simpleimputer&#x27;,\n",
              "                                                                   SimpleImputer()),\n",
              "                                                                  (&#x27;standardscaler&#x27;,\n",
              "                                                                   StandardScaler())]),\n",
              "                                                  &lt;sklearn.compose._column_transformer.make_column_selector object at 0x7f3c03315220&gt;),\n",
              "                                                 (&#x27;pipeline-2&#x27;,\n",
              "                                                  Pipeline(steps=[(&#x27;simpleimputer&#x27;,\n",
              "                                                                   SimpleImputer(strategy=&#x27;most_frequent&#x27;)),\n",
              "                                                                  (&#x27;onehotencoder&#x27;,\n",
              "                                                                   OneHotEncoder(handle_unknown=&#x27;ignore&#x27;,\n",
              "                                                                                 sparse=False))]),\n",
              "                                                  &lt;sklearn.compose._column_transformer.make_column_selector object at 0x7f3c03315190&gt;)])),\n",
              "                (&#x27;decisiontreeregressor&#x27;,\n",
              "                 DecisionTreeRegressor(random_state=42))])</pre><b>Please rerun this cell to show the HTML repr or trust the notebook.</b></div><div class=\"sk-container\" hidden><div class=\"sk-item sk-dashed-wrapped\"><div class=\"sk-label-container\"><div class=\"sk-label sk-toggleable\"><input class=\"sk-toggleable__control sk-hidden--visually\" id=\"7fa46a93-952c-49c9-b393-f70597587e0e\" type=\"checkbox\" ><label for=\"7fa46a93-952c-49c9-b393-f70597587e0e\" class=\"sk-toggleable__label sk-toggleable__label-arrow\">Pipeline</label><div class=\"sk-toggleable__content\"><pre>Pipeline(steps=[(&#x27;columntransformer&#x27;,\n",
              "                 ColumnTransformer(remainder=&#x27;passthrough&#x27;,\n",
              "                                   transformers=[(&#x27;pipeline-1&#x27;,\n",
              "                                                  Pipeline(steps=[(&#x27;simpleimputer&#x27;,\n",
              "                                                                   SimpleImputer()),\n",
              "                                                                  (&#x27;standardscaler&#x27;,\n",
              "                                                                   StandardScaler())]),\n",
              "                                                  &lt;sklearn.compose._column_transformer.make_column_selector object at 0x7f3c03315220&gt;),\n",
              "                                                 (&#x27;pipeline-2&#x27;,\n",
              "                                                  Pipeline(steps=[(&#x27;simpleimputer&#x27;,\n",
              "                                                                   SimpleImputer(strategy=&#x27;most_frequent&#x27;)),\n",
              "                                                                  (&#x27;onehotencoder&#x27;,\n",
              "                                                                   OneHotEncoder(handle_unknown=&#x27;ignore&#x27;,\n",
              "                                                                                 sparse=False))]),\n",
              "                                                  &lt;sklearn.compose._column_transformer.make_column_selector object at 0x7f3c03315190&gt;)])),\n",
              "                (&#x27;decisiontreeregressor&#x27;,\n",
              "                 DecisionTreeRegressor(random_state=42))])</pre></div></div></div><div class=\"sk-serial\"><div class=\"sk-item sk-dashed-wrapped\"><div class=\"sk-label-container\"><div class=\"sk-label sk-toggleable\"><input class=\"sk-toggleable__control sk-hidden--visually\" id=\"c0d496bd-f445-41ac-830e-d566042b4e28\" type=\"checkbox\" ><label for=\"c0d496bd-f445-41ac-830e-d566042b4e28\" class=\"sk-toggleable__label sk-toggleable__label-arrow\">columntransformer: ColumnTransformer</label><div class=\"sk-toggleable__content\"><pre>ColumnTransformer(remainder=&#x27;passthrough&#x27;,\n",
              "                  transformers=[(&#x27;pipeline-1&#x27;,\n",
              "                                 Pipeline(steps=[(&#x27;simpleimputer&#x27;,\n",
              "                                                  SimpleImputer()),\n",
              "                                                 (&#x27;standardscaler&#x27;,\n",
              "                                                  StandardScaler())]),\n",
              "                                 &lt;sklearn.compose._column_transformer.make_column_selector object at 0x7f3c03315220&gt;),\n",
              "                                (&#x27;pipeline-2&#x27;,\n",
              "                                 Pipeline(steps=[(&#x27;simpleimputer&#x27;,\n",
              "                                                  SimpleImputer(strategy=&#x27;most_frequent&#x27;)),\n",
              "                                                 (&#x27;onehotencoder&#x27;,\n",
              "                                                  OneHotEncoder(handle_unknown=&#x27;ignore&#x27;,\n",
              "                                                                sparse=False))]),\n",
              "                                 &lt;sklearn.compose._column_transformer.make_column_selector object at 0x7f3c03315190&gt;)])</pre></div></div></div><div class=\"sk-parallel\"><div class=\"sk-parallel-item\"><div class=\"sk-item\"><div class=\"sk-label-container\"><div class=\"sk-label sk-toggleable\"><input class=\"sk-toggleable__control sk-hidden--visually\" id=\"cfec5994-83ff-4c33-9b31-bcf238588a8d\" type=\"checkbox\" ><label for=\"cfec5994-83ff-4c33-9b31-bcf238588a8d\" class=\"sk-toggleable__label sk-toggleable__label-arrow\">pipeline-1</label><div class=\"sk-toggleable__content\"><pre>&lt;sklearn.compose._column_transformer.make_column_selector object at 0x7f3c03315220&gt;</pre></div></div></div><div class=\"sk-serial\"><div class=\"sk-item\"><div class=\"sk-serial\"><div class=\"sk-item\"><div class=\"sk-estimator sk-toggleable\"><input class=\"sk-toggleable__control sk-hidden--visually\" id=\"1ff90fa8-824f-4706-a3cc-2ad23088f72c\" type=\"checkbox\" ><label for=\"1ff90fa8-824f-4706-a3cc-2ad23088f72c\" class=\"sk-toggleable__label sk-toggleable__label-arrow\">SimpleImputer</label><div class=\"sk-toggleable__content\"><pre>SimpleImputer()</pre></div></div></div><div class=\"sk-item\"><div class=\"sk-estimator sk-toggleable\"><input class=\"sk-toggleable__control sk-hidden--visually\" id=\"15c44fc7-8e21-440a-b889-e19f90bc2d8d\" type=\"checkbox\" ><label for=\"15c44fc7-8e21-440a-b889-e19f90bc2d8d\" class=\"sk-toggleable__label sk-toggleable__label-arrow\">StandardScaler</label><div class=\"sk-toggleable__content\"><pre>StandardScaler()</pre></div></div></div></div></div></div></div></div><div class=\"sk-parallel-item\"><div class=\"sk-item\"><div class=\"sk-label-container\"><div class=\"sk-label sk-toggleable\"><input class=\"sk-toggleable__control sk-hidden--visually\" id=\"0a71d64b-2dea-4109-95b2-0843dfeba7a0\" type=\"checkbox\" ><label for=\"0a71d64b-2dea-4109-95b2-0843dfeba7a0\" class=\"sk-toggleable__label sk-toggleable__label-arrow\">pipeline-2</label><div class=\"sk-toggleable__content\"><pre>&lt;sklearn.compose._column_transformer.make_column_selector object at 0x7f3c03315190&gt;</pre></div></div></div><div class=\"sk-serial\"><div class=\"sk-item\"><div class=\"sk-serial\"><div class=\"sk-item\"><div class=\"sk-estimator sk-toggleable\"><input class=\"sk-toggleable__control sk-hidden--visually\" id=\"d6a0ecee-42b4-4a22-9ead-07dfdf228289\" type=\"checkbox\" ><label for=\"d6a0ecee-42b4-4a22-9ead-07dfdf228289\" class=\"sk-toggleable__label sk-toggleable__label-arrow\">SimpleImputer</label><div class=\"sk-toggleable__content\"><pre>SimpleImputer(strategy=&#x27;most_frequent&#x27;)</pre></div></div></div><div class=\"sk-item\"><div class=\"sk-estimator sk-toggleable\"><input class=\"sk-toggleable__control sk-hidden--visually\" id=\"7e08ad98-7306-439b-999c-c88e749db6c9\" type=\"checkbox\" ><label for=\"7e08ad98-7306-439b-999c-c88e749db6c9\" class=\"sk-toggleable__label sk-toggleable__label-arrow\">OneHotEncoder</label><div class=\"sk-toggleable__content\"><pre>OneHotEncoder(handle_unknown=&#x27;ignore&#x27;, sparse=False)</pre></div></div></div></div></div></div></div></div><div class=\"sk-parallel-item\"><div class=\"sk-item\"><div class=\"sk-label-container\"><div class=\"sk-label sk-toggleable\"><input class=\"sk-toggleable__control sk-hidden--visually\" id=\"905cdaf5-9340-470a-91d1-6a1521ea2b3c\" type=\"checkbox\" ><label for=\"905cdaf5-9340-470a-91d1-6a1521ea2b3c\" class=\"sk-toggleable__label sk-toggleable__label-arrow\">remainder</label><div class=\"sk-toggleable__content\"><pre>[]</pre></div></div></div><div class=\"sk-serial\"><div class=\"sk-item\"><div class=\"sk-estimator sk-toggleable\"><input class=\"sk-toggleable__control sk-hidden--visually\" id=\"966342c6-984c-4935-84bd-e4ab115b3da0\" type=\"checkbox\" ><label for=\"966342c6-984c-4935-84bd-e4ab115b3da0\" class=\"sk-toggleable__label sk-toggleable__label-arrow\">passthrough</label><div class=\"sk-toggleable__content\"><pre>passthrough</pre></div></div></div></div></div></div></div></div><div class=\"sk-item\"><div class=\"sk-estimator sk-toggleable\"><input class=\"sk-toggleable__control sk-hidden--visually\" id=\"f6018bb7-d80e-46e8-a9fb-0f5cceca44e3\" type=\"checkbox\" ><label for=\"f6018bb7-d80e-46e8-a9fb-0f5cceca44e3\" class=\"sk-toggleable__label sk-toggleable__label-arrow\">DecisionTreeRegressor</label><div class=\"sk-toggleable__content\"><pre>DecisionTreeRegressor(random_state=42)</pre></div></div></div></div></div></div></div>"
            ]
          },
          "metadata": {},
          "execution_count": 55
        }
      ]
    },
    {
      "cell_type": "code",
      "source": [
        "#create a range of max_depth values\n",
        "depths = range(1, dec_tree_pipe['decisiontreeregressor'].get_depth())\n",
        "\n",
        "#create a dataframe to store train and test scores.\n",
        "scores = pd.DataFrame(columns=['Train', 'Test'], index=depths)\n",
        "\n",
        "#loop over the values in depths\n",
        "for n in depths:\n",
        "  #fit a new model with max_depth\n",
        "  tree = DecisionTreeRegressor(random_state = 42, max_depth=n)\n",
        "\n",
        "  #put the model into a pipeline\n",
        "  tree_pipe = make_pipeline(preprocessor, tree)\n",
        "  \n",
        "  #fit the model\n",
        "  tree_pipe.fit(X_train, y_train)\n",
        "  \n",
        "  #create prediction arrays\n",
        "  train_pred = tree_pipe.predict(X_train)\n",
        "  test_pred = tree_pipe.predict(X_test)\n",
        "  \n",
        "  #evaluate the model using R2 Score\n",
        "  train_r2score = r2_score(y_train, train_pred)\n",
        "  test_r2score = r2_score(y_test, test_pred)\n",
        "  \n",
        "  #store the scores in the scores dataframe\n",
        "  scores.loc[n, 'Train'] = train_r2score\n",
        "  scores.loc[n, 'Test'] = test_r2score"
      ],
      "metadata": {
        "id": "Wi17DkWQMr3v"
      },
      "execution_count": null,
      "outputs": []
    },
    {
      "cell_type": "markdown",
      "source": [
        "### Printing Out Scores from Decision Tree Loop"
      ],
      "metadata": {
        "id": "-5HDTA5ANP9a"
      }
    },
    {
      "cell_type": "code",
      "source": [
        "scores"
      ],
      "metadata": {
        "colab": {
          "base_uri": "https://localhost:8080/",
          "height": 423
        },
        "id": "rBlQWPe1NPlh",
        "outputId": "9ba8af93-52e8-44c4-f1e3-a39e9c11bcc6"
      },
      "execution_count": null,
      "outputs": [
        {
          "output_type": "execute_result",
          "data": {
            "text/plain": [
              "       Train      Test\n",
              "1   0.237797  0.229683\n",
              "2   0.431641  0.433778\n",
              "3   0.524218  0.524222\n",
              "4   0.582705  0.583937\n",
              "5   0.604207  0.596056\n",
              "..       ...       ...\n",
              "76  0.999978  0.231661\n",
              "77  0.999986  0.228608\n",
              "78  0.999994  0.230258\n",
              "79  0.999999  0.229625\n",
              "80       1.0  0.231652\n",
              "\n",
              "[80 rows x 2 columns]"
            ],
            "text/html": [
              "\n",
              "  <div id=\"df-92f231a3-180d-409f-8285-927b591bbf39\">\n",
              "    <div class=\"colab-df-container\">\n",
              "      <div>\n",
              "<style scoped>\n",
              "    .dataframe tbody tr th:only-of-type {\n",
              "        vertical-align: middle;\n",
              "    }\n",
              "\n",
              "    .dataframe tbody tr th {\n",
              "        vertical-align: top;\n",
              "    }\n",
              "\n",
              "    .dataframe thead th {\n",
              "        text-align: right;\n",
              "    }\n",
              "</style>\n",
              "<table border=\"1\" class=\"dataframe\">\n",
              "  <thead>\n",
              "    <tr style=\"text-align: right;\">\n",
              "      <th></th>\n",
              "      <th>Train</th>\n",
              "      <th>Test</th>\n",
              "    </tr>\n",
              "  </thead>\n",
              "  <tbody>\n",
              "    <tr>\n",
              "      <th>1</th>\n",
              "      <td>0.237797</td>\n",
              "      <td>0.229683</td>\n",
              "    </tr>\n",
              "    <tr>\n",
              "      <th>2</th>\n",
              "      <td>0.431641</td>\n",
              "      <td>0.433778</td>\n",
              "    </tr>\n",
              "    <tr>\n",
              "      <th>3</th>\n",
              "      <td>0.524218</td>\n",
              "      <td>0.524222</td>\n",
              "    </tr>\n",
              "    <tr>\n",
              "      <th>4</th>\n",
              "      <td>0.582705</td>\n",
              "      <td>0.583937</td>\n",
              "    </tr>\n",
              "    <tr>\n",
              "      <th>5</th>\n",
              "      <td>0.604207</td>\n",
              "      <td>0.596056</td>\n",
              "    </tr>\n",
              "    <tr>\n",
              "      <th>...</th>\n",
              "      <td>...</td>\n",
              "      <td>...</td>\n",
              "    </tr>\n",
              "    <tr>\n",
              "      <th>76</th>\n",
              "      <td>0.999978</td>\n",
              "      <td>0.231661</td>\n",
              "    </tr>\n",
              "    <tr>\n",
              "      <th>77</th>\n",
              "      <td>0.999986</td>\n",
              "      <td>0.228608</td>\n",
              "    </tr>\n",
              "    <tr>\n",
              "      <th>78</th>\n",
              "      <td>0.999994</td>\n",
              "      <td>0.230258</td>\n",
              "    </tr>\n",
              "    <tr>\n",
              "      <th>79</th>\n",
              "      <td>0.999999</td>\n",
              "      <td>0.229625</td>\n",
              "    </tr>\n",
              "    <tr>\n",
              "      <th>80</th>\n",
              "      <td>1.0</td>\n",
              "      <td>0.231652</td>\n",
              "    </tr>\n",
              "  </tbody>\n",
              "</table>\n",
              "<p>80 rows × 2 columns</p>\n",
              "</div>\n",
              "      <button class=\"colab-df-convert\" onclick=\"convertToInteractive('df-92f231a3-180d-409f-8285-927b591bbf39')\"\n",
              "              title=\"Convert this dataframe to an interactive table.\"\n",
              "              style=\"display:none;\">\n",
              "        \n",
              "  <svg xmlns=\"http://www.w3.org/2000/svg\" height=\"24px\"viewBox=\"0 0 24 24\"\n",
              "       width=\"24px\">\n",
              "    <path d=\"M0 0h24v24H0V0z\" fill=\"none\"/>\n",
              "    <path d=\"M18.56 5.44l.94 2.06.94-2.06 2.06-.94-2.06-.94-.94-2.06-.94 2.06-2.06.94zm-11 1L8.5 8.5l.94-2.06 2.06-.94-2.06-.94L8.5 2.5l-.94 2.06-2.06.94zm10 10l.94 2.06.94-2.06 2.06-.94-2.06-.94-.94-2.06-.94 2.06-2.06.94z\"/><path d=\"M17.41 7.96l-1.37-1.37c-.4-.4-.92-.59-1.43-.59-.52 0-1.04.2-1.43.59L10.3 9.45l-7.72 7.72c-.78.78-.78 2.05 0 2.83L4 21.41c.39.39.9.59 1.41.59.51 0 1.02-.2 1.41-.59l7.78-7.78 2.81-2.81c.8-.78.8-2.07 0-2.86zM5.41 20L4 18.59l7.72-7.72 1.47 1.35L5.41 20z\"/>\n",
              "  </svg>\n",
              "      </button>\n",
              "      \n",
              "  <style>\n",
              "    .colab-df-container {\n",
              "      display:flex;\n",
              "      flex-wrap:wrap;\n",
              "      gap: 12px;\n",
              "    }\n",
              "\n",
              "    .colab-df-convert {\n",
              "      background-color: #E8F0FE;\n",
              "      border: none;\n",
              "      border-radius: 50%;\n",
              "      cursor: pointer;\n",
              "      display: none;\n",
              "      fill: #1967D2;\n",
              "      height: 32px;\n",
              "      padding: 0 0 0 0;\n",
              "      width: 32px;\n",
              "    }\n",
              "\n",
              "    .colab-df-convert:hover {\n",
              "      background-color: #E2EBFA;\n",
              "      box-shadow: 0px 1px 2px rgba(60, 64, 67, 0.3), 0px 1px 3px 1px rgba(60, 64, 67, 0.15);\n",
              "      fill: #174EA6;\n",
              "    }\n",
              "\n",
              "    [theme=dark] .colab-df-convert {\n",
              "      background-color: #3B4455;\n",
              "      fill: #D2E3FC;\n",
              "    }\n",
              "\n",
              "    [theme=dark] .colab-df-convert:hover {\n",
              "      background-color: #434B5C;\n",
              "      box-shadow: 0px 1px 3px 1px rgba(0, 0, 0, 0.15);\n",
              "      filter: drop-shadow(0px 1px 2px rgba(0, 0, 0, 0.3));\n",
              "      fill: #FFFFFF;\n",
              "    }\n",
              "  </style>\n",
              "\n",
              "      <script>\n",
              "        const buttonEl =\n",
              "          document.querySelector('#df-92f231a3-180d-409f-8285-927b591bbf39 button.colab-df-convert');\n",
              "        buttonEl.style.display =\n",
              "          google.colab.kernel.accessAllowed ? 'block' : 'none';\n",
              "\n",
              "        async function convertToInteractive(key) {\n",
              "          const element = document.querySelector('#df-92f231a3-180d-409f-8285-927b591bbf39');\n",
              "          const dataTable =\n",
              "            await google.colab.kernel.invokeFunction('convertToInteractive',\n",
              "                                                     [key], {});\n",
              "          if (!dataTable) return;\n",
              "\n",
              "          const docLinkHtml = 'Like what you see? Visit the ' +\n",
              "            '<a target=\"_blank\" href=https://colab.research.google.com/notebooks/data_table.ipynb>data table notebook</a>'\n",
              "            + ' to learn more about interactive tables.';\n",
              "          element.innerHTML = '';\n",
              "          dataTable['output_type'] = 'display_data';\n",
              "          await google.colab.output.renderOutput(dataTable, element);\n",
              "          const docLink = document.createElement('div');\n",
              "          docLink.innerHTML = docLinkHtml;\n",
              "          element.appendChild(docLink);\n",
              "        }\n",
              "      </script>\n",
              "    </div>\n",
              "  </div>\n",
              "  "
            ]
          },
          "metadata": {},
          "execution_count": 57
        }
      ]
    },
    {
      "cell_type": "markdown",
      "source": [
        "###Plotting Scores for Decision Tree Train & Test Visually"
      ],
      "metadata": {
        "id": "z4uAwMmnNnGU"
      }
    },
    {
      "cell_type": "code",
      "source": [
        "#plot the scores to visually determine the best max_depth\n",
        "plt.plot(depths, scores['Train'], label = 'train')\n",
        "plt.plot(depths, scores['Test'], label = 'test')\n",
        "plt.ylabel('R2 Scores')\n",
        "plt.xlabel('Max Depths')\n",
        "plt.legend()\n",
        "plt.show()"
      ],
      "metadata": {
        "colab": {
          "base_uri": "https://localhost:8080/",
          "height": 279
        },
        "id": "0-kCBsZ2NmWC",
        "outputId": "81d9e93d-859a-417b-b5eb-3ed47f4364fb"
      },
      "execution_count": null,
      "outputs": [
        {
          "output_type": "display_data",
          "data": {
            "text/plain": [
              "<Figure size 432x288 with 1 Axes>"
            ],
            "image/png": "[encoded data removed]"
          },
          "metadata": {
            "needs_background": "light"
          }
        }
      ]
    },
    {
      "cell_type": "code",
      "source": [
        "#sort the dataframe by test scores and save the index (k) of the best score\n",
        "best_depth = scores.sort_values(by='Test', ascending=False).index[0]\n",
        "best_depth"
      ],
      "metadata": {
        "colab": {
          "base_uri": "https://localhost:8080/"
        },
        "id": "6We1PP-gNzAC",
        "outputId": "1b9e3189-fd15-42f6-dab7-3b033f2e17cc"
      },
      "execution_count": null,
      "outputs": [
        {
          "output_type": "execute_result",
          "data": {
            "text/plain": [
              "5"
            ]
          },
          "metadata": {},
          "execution_count": 59
        }
      ]
    },
    {
      "cell_type": "markdown",
      "source": [
        "###**Reevaluating Decision Tree Regressor Model**"
      ],
      "metadata": {
        "id": "7NaEPovON7NC"
      }
    },
    {
      "cell_type": "code",
      "source": [
        "best_tree = DecisionTreeRegressor(random_state = 42, max_depth=best_depth)\n",
        "\n",
        "best_tree_pipe = make_pipeline(preprocessor, best_tree)\n",
        "\n",
        "best_tree_pipe.fit(X_train, y_train)\n",
        "\n",
        "print('Training Scores for High Variance Decision Tree')\n",
        "evaluate_model(y_train, best_tree_pipe.predict(X_train), split = 'training')\n",
        "\n",
        "print('\\n')\n",
        "\n",
        "print('Testing Scores for High Variance Decision Tree')\n",
        "evaluate_model(y_test, best_tree_pipe.predict(X_test), split = 'testing')"
      ],
      "metadata": {
        "colab": {
          "base_uri": "https://localhost:8080/"
        },
        "id": "okIXIHD8OfzS",
        "outputId": "6683e901-cd55-4f7b-e99c-299220d72e19"
      },
      "execution_count": null,
      "outputs": [
        {
          "output_type": "stream",
          "name": "stdout",
          "text": [
            "Training Scores for High Variance Decision Tree\n",
            "Results for training data:\n",
            "  - R^2 = 0.604\n",
            "  - MAE = 761.978\n",
            "  - MSE = 1171332.784\n",
            "  - RMSE = 1082.281\n",
            "\n",
            "\n",
            "\n",
            "Testing Scores for High Variance Decision Tree\n",
            "Results for testing data:\n",
            "  - R^2 = 0.596\n",
            "  - MAE = 736.88\n",
            "  - MSE = 1114471.115\n",
            "  - RMSE = 1055.685\n",
            "\n"
          ]
        }
      ]
    },
    {
      "cell_type": "markdown",
      "source": [
        "##**Fitting Random Forest Regressor Model**\n",
        "\n"
      ],
      "metadata": {
        "id": "dlpjtPlsmCBe"
      }
    },
    {
      "cell_type": "code",
      "source": [
        "rf_tree_pipe = make_pipeline(preprocessor,RandomForestRegressor(random_state = 42))\n",
        "rf_tree_pipe.fit(X_train, y_train)\n",
        "\n",
        "## Get predictions for training and test data\n",
        "y_hat_train = rf_tree_pipe.predict(X_train)\n",
        "y_hat_test = rf_tree_pipe.predict(X_test)"
      ],
      "metadata": {
        "id": "HW8FDyCsmI53"
      },
      "execution_count": null,
      "outputs": []
    },
    {
      "cell_type": "markdown",
      "source": [
        "###**Random forest Regressior Model**"
      ],
      "metadata": {
        "id": "HJ8gnFNHnF_L"
      }
    },
    {
      "cell_type": "code",
      "source": [
        "## Evaluate model's performance\n",
        "evaluate_model(y_train, y_hat_train,split='training')\n",
        "evaluate_model(y_test, y_hat_test,split='testing')"
      ],
      "metadata": {
        "colab": {
          "base_uri": "https://localhost:8080/"
        },
        "id": "z166Mx8knPDF",
        "outputId": "3d62a6e8-8695-4ab8-8345-989d3603c3b3"
      },
      "execution_count": null,
      "outputs": [
        {
          "output_type": "stream",
          "name": "stdout",
          "text": [
            "Results for training data:\n",
            "  - R^2 = 0.938\n",
            "  - MAE = 296.898\n",
            "  - MSE = 183359.734\n",
            "  - RMSE = 428.205\n",
            "\n",
            "Results for testing data:\n",
            "  - R^2 = 0.551\n",
            "  - MAE = 772.986\n",
            "  - MSE = 1239893.293\n",
            "  - RMSE = 1113.505\n",
            "\n"
          ]
        }
      ]
    },
    {
      "cell_type": "markdown",
      "source": [
        "###**Untuned Random Forest Model Observations**\n",
        "\n",
        "- Here, we see improved results as far as the regression metrics and the \n",
        "\n",
        "  model's performance.\n",
        "- This model still has some bias. However, this model has improved performance \n",
        "\n",
        "   on the testing set.\n",
        "\n",
        "- For the R^2 score 56.0% of the variance is explained.\n",
        "\n",
        "- For the MAE the testing data is off by about $31,872.36."
      ],
      "metadata": {
        "id": "vatbAJJ7nY0M"
      }
    },
    {
      "cell_type": "markdown",
      "source": [
        "###**Creating a Loop to Tune n_estimators for Random Forest Regressor Model**"
      ],
      "metadata": {
        "id": "VTYBlwbjnwqf"
      }
    },
    {
      "cell_type": "code",
      "source": [
        "#create a range of max_depth values\n",
        "n_estimators = [86, 87, 88, 89, 90, 91, 92, 93, 94]\n",
        "\n",
        "#create a dataframe to store train and test scores.\n",
        "scores = pd.DataFrame(columns=['Train', 'Test'], index=n_estimators)\n",
        "\n",
        "#loop over the values in depths\n",
        "for n in n_estimators:\n",
        "  #fit a new model with max_depth\n",
        "  rf = RandomForestRegressor(random_state = 42, n_estimators=n, max_depth = 5)\n",
        "\n",
        "  #put the model into a pipeline\n",
        "  rf_pipe = make_pipeline(preprocessor, rf)\n",
        "  \n",
        "  #fit the model\n",
        "  rf_pipe.fit(X_train, y_train)\n",
        "  \n",
        "  #create prediction arrays\n",
        "  train_pred = rf_pipe.predict(X_train)\n",
        "  test_pred = rf_pipe.predict(X_test)\n",
        "  \n",
        "  #evaluate the model using R2 Score\n",
        "  train_r2score = r2_score(y_train, train_pred)\n",
        "  test_r2score = r2_score(y_test, test_pred)\n",
        "  \n",
        "  #store the scores in the scores dataframe\n",
        "  scores.loc[n, 'Train'] = train_r2score\n",
        "  scores.loc[n, 'Test'] = test_r2score"
      ],
      "metadata": {
        "id": "CiwCLWagn5za"
      },
      "execution_count": null,
      "outputs": []
    },
    {
      "cell_type": "markdown",
      "source": [
        "###**Plotting Scores for Random Forest Train & Test Visually**"
      ],
      "metadata": {
        "id": "IEwL_ZXjoBHA"
      }
    },
    {
      "cell_type": "code",
      "source": [
        "scores"
      ],
      "metadata": {
        "colab": {
          "base_uri": "https://localhost:8080/",
          "height": 331
        },
        "id": "Cz-NFqK9oFNQ",
        "outputId": "d4325a6f-50c6-44c5-a4ec-d37a2d35719b"
      },
      "execution_count": null,
      "outputs": [
        {
          "output_type": "execute_result",
          "data": {
            "text/plain": [
              "       Train      Test\n",
              "86  0.612266  0.603633\n",
              "87  0.612301  0.603752\n",
              "88   0.61229  0.603803\n",
              "89  0.612273  0.603771\n",
              "90  0.612245  0.603701\n",
              "91  0.612229  0.603713\n",
              "92  0.612176  0.603821\n",
              "93  0.612165  0.603777\n",
              "94  0.612155  0.603788"
            ],
            "text/html": [
              "\n",
              "  <div id=\"df-8a6da86a-9cc3-4165-a292-3a7503ebf7a0\">\n",
              "    <div class=\"colab-df-container\">\n",
              "      <div>\n",
              "<style scoped>\n",
              "    .dataframe tbody tr th:only-of-type {\n",
              "        vertical-align: middle;\n",
              "    }\n",
              "\n",
              "    .dataframe tbody tr th {\n",
              "        vertical-align: top;\n",
              "    }\n",
              "\n",
              "    .dataframe thead th {\n",
              "        text-align: right;\n",
              "    }\n",
              "</style>\n",
              "<table border=\"1\" class=\"dataframe\">\n",
              "  <thead>\n",
              "    <tr style=\"text-align: right;\">\n",
              "      <th></th>\n",
              "      <th>Train</th>\n",
              "      <th>Test</th>\n",
              "    </tr>\n",
              "  </thead>\n",
              "  <tbody>\n",
              "    <tr>\n",
              "      <th>86</th>\n",
              "      <td>0.612266</td>\n",
              "      <td>0.603633</td>\n",
              "    </tr>\n",
              "    <tr>\n",
              "      <th>87</th>\n",
              "      <td>0.612301</td>\n",
              "      <td>0.603752</td>\n",
              "    </tr>\n",
              "    <tr>\n",
              "      <th>88</th>\n",
              "      <td>0.61229</td>\n",
              "      <td>0.603803</td>\n",
              "    </tr>\n",
              "    <tr>\n",
              "      <th>89</th>\n",
              "      <td>0.612273</td>\n",
              "      <td>0.603771</td>\n",
              "    </tr>\n",
              "    <tr>\n",
              "      <th>90</th>\n",
              "      <td>0.612245</td>\n",
              "      <td>0.603701</td>\n",
              "    </tr>\n",
              "    <tr>\n",
              "      <th>91</th>\n",
              "      <td>0.612229</td>\n",
              "      <td>0.603713</td>\n",
              "    </tr>\n",
              "    <tr>\n",
              "      <th>92</th>\n",
              "      <td>0.612176</td>\n",
              "      <td>0.603821</td>\n",
              "    </tr>\n",
              "    <tr>\n",
              "      <th>93</th>\n",
              "      <td>0.612165</td>\n",
              "      <td>0.603777</td>\n",
              "    </tr>\n",
              "    <tr>\n",
              "      <th>94</th>\n",
              "      <td>0.612155</td>\n",
              "      <td>0.603788</td>\n",
              "    </tr>\n",
              "  </tbody>\n",
              "</table>\n",
              "</div>\n",
              "      <button class=\"colab-df-convert\" onclick=\"convertToInteractive('df-8a6da86a-9cc3-4165-a292-3a7503ebf7a0')\"\n",
              "              title=\"Convert this dataframe to an interactive table.\"\n",
              "              style=\"display:none;\">\n",
              "        \n",
              "  <svg xmlns=\"http://www.w3.org/2000/svg\" height=\"24px\"viewBox=\"0 0 24 24\"\n",
              "       width=\"24px\">\n",
              "    <path d=\"M0 0h24v24H0V0z\" fill=\"none\"/>\n",
              "    <path d=\"M18.56 5.44l.94 2.06.94-2.06 2.06-.94-2.06-.94-.94-2.06-.94 2.06-2.06.94zm-11 1L8.5 8.5l.94-2.06 2.06-.94-2.06-.94L8.5 2.5l-.94 2.06-2.06.94zm10 10l.94 2.06.94-2.06 2.06-.94-2.06-.94-.94-2.06-.94 2.06-2.06.94z\"/><path d=\"M17.41 7.96l-1.37-1.37c-.4-.4-.92-.59-1.43-.59-.52 0-1.04.2-1.43.59L10.3 9.45l-7.72 7.72c-.78.78-.78 2.05 0 2.83L4 21.41c.39.39.9.59 1.41.59.51 0 1.02-.2 1.41-.59l7.78-7.78 2.81-2.81c.8-.78.8-2.07 0-2.86zM5.41 20L4 18.59l7.72-7.72 1.47 1.35L5.41 20z\"/>\n",
              "  </svg>\n",
              "      </button>\n",
              "      \n",
              "  <style>\n",
              "    .colab-df-container {\n",
              "      display:flex;\n",
              "      flex-wrap:wrap;\n",
              "      gap: 12px;\n",
              "    }\n",
              "\n",
              "    .colab-df-convert {\n",
              "      background-color: #E8F0FE;\n",
              "      border: none;\n",
              "      border-radius: 50%;\n",
              "      cursor: pointer;\n",
              "      display: none;\n",
              "      fill: #1967D2;\n",
              "      height: 32px;\n",
              "      padding: 0 0 0 0;\n",
              "      width: 32px;\n",
              "    }\n",
              "\n",
              "    .colab-df-convert:hover {\n",
              "      background-color: #E2EBFA;\n",
              "      box-shadow: 0px 1px 2px rgba(60, 64, 67, 0.3), 0px 1px 3px 1px rgba(60, 64, 67, 0.15);\n",
              "      fill: #174EA6;\n",
              "    }\n",
              "\n",
              "    [theme=dark] .colab-df-convert {\n",
              "      background-color: #3B4455;\n",
              "      fill: #D2E3FC;\n",
              "    }\n",
              "\n",
              "    [theme=dark] .colab-df-convert:hover {\n",
              "      background-color: #434B5C;\n",
              "      box-shadow: 0px 1px 3px 1px rgba(0, 0, 0, 0.15);\n",
              "      filter: drop-shadow(0px 1px 2px rgba(0, 0, 0, 0.3));\n",
              "      fill: #FFFFFF;\n",
              "    }\n",
              "  </style>\n",
              "\n",
              "      <script>\n",
              "        const buttonEl =\n",
              "          document.querySelector('#df-8a6da86a-9cc3-4165-a292-3a7503ebf7a0 button.colab-df-convert');\n",
              "        buttonEl.style.display =\n",
              "          google.colab.kernel.accessAllowed ? 'block' : 'none';\n",
              "\n",
              "        async function convertToInteractive(key) {\n",
              "          const element = document.querySelector('#df-8a6da86a-9cc3-4165-a292-3a7503ebf7a0');\n",
              "          const dataTable =\n",
              "            await google.colab.kernel.invokeFunction('convertToInteractive',\n",
              "                                                     [key], {});\n",
              "          if (!dataTable) return;\n",
              "\n",
              "          const docLinkHtml = 'Like what you see? Visit the ' +\n",
              "            '<a target=\"_blank\" href=https://colab.research.google.com/notebooks/data_table.ipynb>data table notebook</a>'\n",
              "            + ' to learn more about interactive tables.';\n",
              "          element.innerHTML = '';\n",
              "          dataTable['output_type'] = 'display_data';\n",
              "          await google.colab.output.renderOutput(dataTable, element);\n",
              "          const docLink = document.createElement('div');\n",
              "          docLink.innerHTML = docLinkHtml;\n",
              "          element.appendChild(docLink);\n",
              "        }\n",
              "      </script>\n",
              "    </div>\n",
              "  </div>\n",
              "  "
            ]
          },
          "metadata": {},
          "execution_count": 64
        }
      ]
    },
    {
      "cell_type": "markdown",
      "source": [
        "###**Best n_estimators for Random Forest Model**"
      ],
      "metadata": {
        "id": "JEfBe9knoOVg"
      }
    },
    {
      "cell_type": "code",
      "source": [
        "best_estimators = scores.sort_values(by='Test', ascending=False).index[0]\n",
        "best_estimators"
      ],
      "metadata": {
        "colab": {
          "base_uri": "https://localhost:8080/"
        },
        "id": "FzuYZ1htoTx4",
        "outputId": "9029756d-12e1-48d9-9dc5-72fb6181b5ea"
      },
      "execution_count": null,
      "outputs": [
        {
          "output_type": "execute_result",
          "data": {
            "text/plain": [
              "92"
            ]
          },
          "metadata": {},
          "execution_count": 65
        }
      ]
    },
    {
      "cell_type": "markdown",
      "source": [
        "###**Reevaluating Random Forest Regressor Model**"
      ],
      "metadata": {
        "id": "yZzXalYvobsj"
      }
    },
    {
      "cell_type": "code",
      "source": [
        "best_rf = RandomForestRegressor(random_state = 42, n_estimators=best_estimators, max_depth=5)\n",
        "\n",
        "best_rf_pipe = make_pipeline(preprocessor, best_rf)\n",
        "\n",
        "best_rf_pipe.fit(X_train, y_train)\n",
        "\n",
        "print('Training Scores for High Variance Decision Tree')\n",
        "evaluate_model(y_train, best_rf_pipe.predict(X_train), split = 'training')\n",
        "\n",
        "print('\\n')\n",
        "\n",
        "print('Testing Scores for High Variance Decision Tree')\n",
        "evaluate_model(y_test, best_rf_pipe.predict(X_test), split = 'testing')"
      ],
      "metadata": {
        "colab": {
          "base_uri": "https://localhost:8080/"
        },
        "id": "W1Y8kxMtogxh",
        "outputId": "6cf8fafe-c57e-48db-ce2a-a2a44789f2c7"
      },
      "execution_count": null,
      "outputs": [
        {
          "output_type": "stream",
          "name": "stdout",
          "text": [
            "Training Scores for High Variance Decision Tree\n",
            "Results for training data:\n",
            "  - R^2 = 0.612\n",
            "  - MAE = 755.591\n",
            "  - MSE = 1147748.288\n",
            "  - RMSE = 1071.33\n",
            "\n",
            "\n",
            "\n",
            "Testing Scores for High Variance Decision Tree\n",
            "Results for testing data:\n",
            "  - R^2 = 0.604\n",
            "  - MAE = 728.039\n",
            "  - MSE = 1093048.694\n",
            "  - RMSE = 1045.49\n",
            "\n"
          ]
        }
      ]
    },
    {
      "cell_type": "markdown",
      "source": [
        "###**Tuned (n_estimators) Random Forest Model Observations**\n",
        "- We can see the best results as far as the regression metrics and the model's \n",
        "  performance.\n",
        "\n",
        "- This model still has some bias. However, this model has the best performance on the testing set.\n",
        "\n",
        "- For the R^2 score 56.3% of the variance is explained.\n",
        "For the MAE the testing score is off by about $31,998.94"
      ],
      "metadata": {
        "id": "VnBwwl4KorLo"
      }
    },
    {
      "cell_type": "markdown",
      "source": [
        "#**Overall Recommendation**"
      ],
      "metadata": {
        "id": "rsU4qSvspNmt"
      }
    },
    {
      "cell_type": "markdown",
      "source": [
        "Model performance\n",
        "\n",
        "- Overall, the best model is definately the tuned Random Forrest Regression \n",
        "\n",
        "  model. There was still some bias in the model, but by far it outperformed the linear regression model."
      ],
      "metadata": {
        "id": "SfYq8lzgpU60"
      }
    }
  ]
}