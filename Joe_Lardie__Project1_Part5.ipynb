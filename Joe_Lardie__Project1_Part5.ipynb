{
  "nbformat": 4,
  "nbformat_minor": 0,
  "metadata": {
    "colab": {
      "provenance": [],
      "authorship_tag": "ABX9TyPVKL+y3QLCPW0smAMTiKNk",
      "include_colab_link": true
    },
    "kernelspec": {
      "name": "python3",
      "display_name": "Python 3"
    },
    "language_info": {
      "name": "python"
    }
  },
  "cells": [
    {
      "cell_type": "markdown",
      "metadata": {
        "id": "view-in-github",
        "colab_type": "text"
      },
      "source": [
        "<a href=\"https://colab.research.google.com/github/JoeBwonKenobi/Project-1--Part-1-Joe-Lardie/blob/main/Joe_Lardie__Project1_Part5.ipynb\" target=\"_parent\"><img src=\"https://colab.research.google.com/assets/colab-badge.svg\" alt=\"Open In Colab\"/></a>"
      ]
    },
    {
      "cell_type": "markdown",
      "source": [
        "##**Sales Prediction Project**\n",
        "\n",
        "Joe Lardie\n",
        "\n",
        "Dec 2022"
      ],
      "metadata": {
        "id": "q7_KaPghJJ0R"
      }
    },
    {
      "cell_type": "markdown",
      "source": [
        "We will continue to work on your sales prediction project. The goal of this step is to help the retailer by using machine learning to make predictions about future sales based on the data provided.\n",
        "\n",
        "For Part 5, you will go back to your original, uncleaned, sales prediction dataset with the goal of preventing data leakage.\n",
        "\n",
        "You should reload the original data set here using pd.read_csv() to ensure there is no data leakage!\n",
        "\n",
        "Before splitting your data, you can drop duplicates and fix inconsistencies in categorical data.* (*There is a way to do this after the split, but for this project, you may perform this step before the split)\n",
        "Identify the features (X) and target (y): Assign the \"Item_Outlet_Sales\" column as your target and the rest of the relevant variables as your features matrix.\n",
        "Perform a train test split\n",
        "Create a preprocessing object to prepare the dataset for Machine Learning\n",
        "Make sure your imputation of missing values occurs after the train test split using SimpleImputer.\n",
        "Here is the Data Dictionary for this dataset:\n",
        "\n",
        "- Variable Name\tDescription\n",
        "- Item_Identifier\tUnique product ID\n",
        "- Item_Weight\tWeight of product\n",
        "- Item_Fat_Content\tWhether the product is low fat or regular\n",
        "- Item_Visibility\tThe percentage of total display area of all products in a store allocated to the particular product\n",
        "- Item_Type\tThe category to which the product belongs\n",
        "- Item_MRP\tMaximum Retail Price (list price) of the product\n",
        "- Outlet_Identifier\tUnique store ID\n",
        "- Outlet_Establishment_Year\tThe year in which store was established\n",
        "- Outlet_Size\tThe size of the store in terms of ground area covered\n",
        "- Outlet_Location_Type\tThe type of area in which the store is located\n",
        "- Outlet_Type\tWhether the outlet is a grocery store or some sort of supermarket\n",
        "- Item_Outlet_Sales\tSales of the product in the particular store. This is the target variable to be predicted.\n"
      ],
      "metadata": {
        "id": "fMmH7QfQIyiq"
      }
    },
    {
      "cell_type": "code",
      "execution_count": 1,
      "metadata": {
        "colab": {
          "base_uri": "https://localhost:8080/"
        },
        "id": "It8UdTOJFyrR",
        "outputId": "31468fd1-6925-4f64-c19d-ebe7af5637fe"
      },
      "outputs": [
        {
          "output_type": "stream",
          "name": "stdout",
          "text": [
            "Drive already mounted at /content/drive/; to attempt to forcibly remount, call drive.mount(\"/content/drive/\", force_remount=True).\n"
          ]
        }
      ],
      "source": [
        "from google.colab import drive\n",
        "drive.mount('/content/drive/')\n"
      ]
    },
    {
      "cell_type": "code",
      "source": [
        "import numpy as np\n",
        "import pandas as pd\n",
        "from sklearn.model_selection import train_test_split\n",
        "from sklearn.compose import make_column_selector, make_column_transformer\n",
        "from sklearn.preprocessing import StandardScaler, OneHotEncoder\n",
        "from sklearn.impute import SimpleImputer\n",
        "from sklearn import set_config\n",
        "from sklearn.pipeline import make_pipeline\n",
        "set_config(display='diagram')"
      ],
      "metadata": {
        "id": "lityUlpPKZw7"
      },
      "execution_count": 2,
      "outputs": []
    },
    {
      "cell_type": "markdown",
      "source": [
        "###**Loading Data**"
      ],
      "metadata": {
        "id": "08q3bor3Kg-U"
      }
    },
    {
      "cell_type": "code",
      "source": [
        "#load Data\n",
        "df= pd.read_csv('/content/sales_predictions.csv')\n",
        "df.head()"
      ],
      "metadata": {
        "colab": {
          "base_uri": "https://localhost:8080/",
          "height": 357
        },
        "id": "tLZkASNUKlXX",
        "outputId": "edc8b6b1-93a4-46e8-9467-9c77d8d94958"
      },
      "execution_count": 3,
      "outputs": [
        {
          "output_type": "execute_result",
          "data": {
            "text/plain": [
              "  Item_Identifier  Item_Weight Item_Fat_Content  Item_Visibility  \\\n",
              "0           FDA15         9.30          Low Fat         0.016047   \n",
              "1           DRC01         5.92          Regular         0.019278   \n",
              "2           FDN15        17.50          Low Fat         0.016760   \n",
              "3           FDX07        19.20          Regular         0.000000   \n",
              "4           NCD19         8.93          Low Fat         0.000000   \n",
              "\n",
              "               Item_Type  Item_MRP Outlet_Identifier  \\\n",
              "0                  Dairy  249.8092            OUT049   \n",
              "1            Soft Drinks   48.2692            OUT018   \n",
              "2                   Meat  141.6180            OUT049   \n",
              "3  Fruits and Vegetables  182.0950            OUT010   \n",
              "4              Household   53.8614            OUT013   \n",
              "\n",
              "   Outlet_Establishment_Year Outlet_Size Outlet_Location_Type  \\\n",
              "0                       1999      Medium               Tier 1   \n",
              "1                       2009      Medium               Tier 3   \n",
              "2                       1999      Medium               Tier 1   \n",
              "3                       1998         NaN               Tier 3   \n",
              "4                       1987        High               Tier 3   \n",
              "\n",
              "         Outlet_Type  Item_Outlet_Sales  \n",
              "0  Supermarket Type1          3735.1380  \n",
              "1  Supermarket Type2           443.4228  \n",
              "2  Supermarket Type1          2097.2700  \n",
              "3      Grocery Store           732.3800  \n",
              "4  Supermarket Type1           994.7052  "
            ],
            "text/html": [
              "\n",
              "  <div id=\"df-c64cfe9a-ba6f-4be3-a591-5ea2127f9798\">\n",
              "    <div class=\"colab-df-container\">\n",
              "      <div>\n",
              "<style scoped>\n",
              "    .dataframe tbody tr th:only-of-type {\n",
              "        vertical-align: middle;\n",
              "    }\n",
              "\n",
              "    .dataframe tbody tr th {\n",
              "        vertical-align: top;\n",
              "    }\n",
              "\n",
              "    .dataframe thead th {\n",
              "        text-align: right;\n",
              "    }\n",
              "</style>\n",
              "<table border=\"1\" class=\"dataframe\">\n",
              "  <thead>\n",
              "    <tr style=\"text-align: right;\">\n",
              "      <th></th>\n",
              "      <th>Item_Identifier</th>\n",
              "      <th>Item_Weight</th>\n",
              "      <th>Item_Fat_Content</th>\n",
              "      <th>Item_Visibility</th>\n",
              "      <th>Item_Type</th>\n",
              "      <th>Item_MRP</th>\n",
              "      <th>Outlet_Identifier</th>\n",
              "      <th>Outlet_Establishment_Year</th>\n",
              "      <th>Outlet_Size</th>\n",
              "      <th>Outlet_Location_Type</th>\n",
              "      <th>Outlet_Type</th>\n",
              "      <th>Item_Outlet_Sales</th>\n",
              "    </tr>\n",
              "  </thead>\n",
              "  <tbody>\n",
              "    <tr>\n",
              "      <th>0</th>\n",
              "      <td>FDA15</td>\n",
              "      <td>9.30</td>\n",
              "      <td>Low Fat</td>\n",
              "      <td>0.016047</td>\n",
              "      <td>Dairy</td>\n",
              "      <td>249.8092</td>\n",
              "      <td>OUT049</td>\n",
              "      <td>1999</td>\n",
              "      <td>Medium</td>\n",
              "      <td>Tier 1</td>\n",
              "      <td>Supermarket Type1</td>\n",
              "      <td>3735.1380</td>\n",
              "    </tr>\n",
              "    <tr>\n",
              "      <th>1</th>\n",
              "      <td>DRC01</td>\n",
              "      <td>5.92</td>\n",
              "      <td>Regular</td>\n",
              "      <td>0.019278</td>\n",
              "      <td>Soft Drinks</td>\n",
              "      <td>48.2692</td>\n",
              "      <td>OUT018</td>\n",
              "      <td>2009</td>\n",
              "      <td>Medium</td>\n",
              "      <td>Tier 3</td>\n",
              "      <td>Supermarket Type2</td>\n",
              "      <td>443.4228</td>\n",
              "    </tr>\n",
              "    <tr>\n",
              "      <th>2</th>\n",
              "      <td>FDN15</td>\n",
              "      <td>17.50</td>\n",
              "      <td>Low Fat</td>\n",
              "      <td>0.016760</td>\n",
              "      <td>Meat</td>\n",
              "      <td>141.6180</td>\n",
              "      <td>OUT049</td>\n",
              "      <td>1999</td>\n",
              "      <td>Medium</td>\n",
              "      <td>Tier 1</td>\n",
              "      <td>Supermarket Type1</td>\n",
              "      <td>2097.2700</td>\n",
              "    </tr>\n",
              "    <tr>\n",
              "      <th>3</th>\n",
              "      <td>FDX07</td>\n",
              "      <td>19.20</td>\n",
              "      <td>Regular</td>\n",
              "      <td>0.000000</td>\n",
              "      <td>Fruits and Vegetables</td>\n",
              "      <td>182.0950</td>\n",
              "      <td>OUT010</td>\n",
              "      <td>1998</td>\n",
              "      <td>NaN</td>\n",
              "      <td>Tier 3</td>\n",
              "      <td>Grocery Store</td>\n",
              "      <td>732.3800</td>\n",
              "    </tr>\n",
              "    <tr>\n",
              "      <th>4</th>\n",
              "      <td>NCD19</td>\n",
              "      <td>8.93</td>\n",
              "      <td>Low Fat</td>\n",
              "      <td>0.000000</td>\n",
              "      <td>Household</td>\n",
              "      <td>53.8614</td>\n",
              "      <td>OUT013</td>\n",
              "      <td>1987</td>\n",
              "      <td>High</td>\n",
              "      <td>Tier 3</td>\n",
              "      <td>Supermarket Type1</td>\n",
              "      <td>994.7052</td>\n",
              "    </tr>\n",
              "  </tbody>\n",
              "</table>\n",
              "</div>\n",
              "      <button class=\"colab-df-convert\" onclick=\"convertToInteractive('df-c64cfe9a-ba6f-4be3-a591-5ea2127f9798')\"\n",
              "              title=\"Convert this dataframe to an interactive table.\"\n",
              "              style=\"display:none;\">\n",
              "        \n",
              "  <svg xmlns=\"http://www.w3.org/2000/svg\" height=\"24px\"viewBox=\"0 0 24 24\"\n",
              "       width=\"24px\">\n",
              "    <path d=\"M0 0h24v24H0V0z\" fill=\"none\"/>\n",
              "    <path d=\"M18.56 5.44l.94 2.06.94-2.06 2.06-.94-2.06-.94-.94-2.06-.94 2.06-2.06.94zm-11 1L8.5 8.5l.94-2.06 2.06-.94-2.06-.94L8.5 2.5l-.94 2.06-2.06.94zm10 10l.94 2.06.94-2.06 2.06-.94-2.06-.94-.94-2.06-.94 2.06-2.06.94z\"/><path d=\"M17.41 7.96l-1.37-1.37c-.4-.4-.92-.59-1.43-.59-.52 0-1.04.2-1.43.59L10.3 9.45l-7.72 7.72c-.78.78-.78 2.05 0 2.83L4 21.41c.39.39.9.59 1.41.59.51 0 1.02-.2 1.41-.59l7.78-7.78 2.81-2.81c.8-.78.8-2.07 0-2.86zM5.41 20L4 18.59l7.72-7.72 1.47 1.35L5.41 20z\"/>\n",
              "  </svg>\n",
              "      </button>\n",
              "      \n",
              "  <style>\n",
              "    .colab-df-container {\n",
              "      display:flex;\n",
              "      flex-wrap:wrap;\n",
              "      gap: 12px;\n",
              "    }\n",
              "\n",
              "    .colab-df-convert {\n",
              "      background-color: #E8F0FE;\n",
              "      border: none;\n",
              "      border-radius: 50%;\n",
              "      cursor: pointer;\n",
              "      display: none;\n",
              "      fill: #1967D2;\n",
              "      height: 32px;\n",
              "      padding: 0 0 0 0;\n",
              "      width: 32px;\n",
              "    }\n",
              "\n",
              "    .colab-df-convert:hover {\n",
              "      background-color: #E2EBFA;\n",
              "      box-shadow: 0px 1px 2px rgba(60, 64, 67, 0.3), 0px 1px 3px 1px rgba(60, 64, 67, 0.15);\n",
              "      fill: #174EA6;\n",
              "    }\n",
              "\n",
              "    [theme=dark] .colab-df-convert {\n",
              "      background-color: #3B4455;\n",
              "      fill: #D2E3FC;\n",
              "    }\n",
              "\n",
              "    [theme=dark] .colab-df-convert:hover {\n",
              "      background-color: #434B5C;\n",
              "      box-shadow: 0px 1px 3px 1px rgba(0, 0, 0, 0.15);\n",
              "      filter: drop-shadow(0px 1px 2px rgba(0, 0, 0, 0.3));\n",
              "      fill: #FFFFFF;\n",
              "    }\n",
              "  </style>\n",
              "\n",
              "      <script>\n",
              "        const buttonEl =\n",
              "          document.querySelector('#df-c64cfe9a-ba6f-4be3-a591-5ea2127f9798 button.colab-df-convert');\n",
              "        buttonEl.style.display =\n",
              "          google.colab.kernel.accessAllowed ? 'block' : 'none';\n",
              "\n",
              "        async function convertToInteractive(key) {\n",
              "          const element = document.querySelector('#df-c64cfe9a-ba6f-4be3-a591-5ea2127f9798');\n",
              "          const dataTable =\n",
              "            await google.colab.kernel.invokeFunction('convertToInteractive',\n",
              "                                                     [key], {});\n",
              "          if (!dataTable) return;\n",
              "\n",
              "          const docLinkHtml = 'Like what you see? Visit the ' +\n",
              "            '<a target=\"_blank\" href=https://colab.research.google.com/notebooks/data_table.ipynb>data table notebook</a>'\n",
              "            + ' to learn more about interactive tables.';\n",
              "          element.innerHTML = '';\n",
              "          dataTable['output_type'] = 'display_data';\n",
              "          await google.colab.output.renderOutput(dataTable, element);\n",
              "          const docLink = document.createElement('div');\n",
              "          docLink.innerHTML = docLinkHtml;\n",
              "          element.appendChild(docLink);\n",
              "        }\n",
              "      </script>\n",
              "    </div>\n",
              "  </div>\n",
              "  "
            ]
          },
          "metadata": {},
          "execution_count": 3
        }
      ]
    },
    {
      "cell_type": "code",
      "source": [
        "# dataFrame info\n",
        "df.info()"
      ],
      "metadata": {
        "colab": {
          "base_uri": "https://localhost:8080/"
        },
        "id": "VHypErhUMGvh",
        "outputId": "810ac594-760a-4c2e-812a-347653931dcc"
      },
      "execution_count": 4,
      "outputs": [
        {
          "output_type": "stream",
          "name": "stdout",
          "text": [
            "<class 'pandas.core.frame.DataFrame'>\n",
            "RangeIndex: 8523 entries, 0 to 8522\n",
            "Data columns (total 12 columns):\n",
            " #   Column                     Non-Null Count  Dtype  \n",
            "---  ------                     --------------  -----  \n",
            " 0   Item_Identifier            8523 non-null   object \n",
            " 1   Item_Weight                7060 non-null   float64\n",
            " 2   Item_Fat_Content           8523 non-null   object \n",
            " 3   Item_Visibility            8523 non-null   float64\n",
            " 4   Item_Type                  8523 non-null   object \n",
            " 5   Item_MRP                   8523 non-null   float64\n",
            " 6   Outlet_Identifier          8523 non-null   object \n",
            " 7   Outlet_Establishment_Year  8523 non-null   int64  \n",
            " 8   Outlet_Size                6113 non-null   object \n",
            " 9   Outlet_Location_Type       8523 non-null   object \n",
            " 10  Outlet_Type                8523 non-null   object \n",
            " 11  Item_Outlet_Sales          8523 non-null   float64\n",
            "dtypes: float64(4), int64(1), object(7)\n",
            "memory usage: 799.2+ KB\n"
          ]
        }
      ]
    },
    {
      "cell_type": "code",
      "source": [
        "#Creating a copy of the DataFrame\n",
        "eda_ml = df.copy()"
      ],
      "metadata": {
        "id": "yRzWS_Y8RS-9"
      },
      "execution_count": 5,
      "outputs": []
    },
    {
      "cell_type": "code",
      "source": [
        "#Print missing values\n",
        "eda_ml.isna().sum()"
      ],
      "metadata": {
        "colab": {
          "base_uri": "https://localhost:8080/"
        },
        "id": "GBSFoBFsMPHf",
        "outputId": "69bf28ba-ed07-40d8-d5d0-c444da5fa3c5"
      },
      "execution_count": 6,
      "outputs": [
        {
          "output_type": "execute_result",
          "data": {
            "text/plain": [
              "Item_Identifier                 0\n",
              "Item_Weight                  1463\n",
              "Item_Fat_Content                0\n",
              "Item_Visibility                 0\n",
              "Item_Type                       0\n",
              "Item_MRP                        0\n",
              "Outlet_Identifier               0\n",
              "Outlet_Establishment_Year       0\n",
              "Outlet_Size                  2410\n",
              "Outlet_Location_Type            0\n",
              "Outlet_Type                     0\n",
              "Item_Outlet_Sales               0\n",
              "dtype: int64"
            ]
          },
          "metadata": {},
          "execution_count": 6
        }
      ]
    },
    {
      "cell_type": "code",
      "source": [
        "eda_ml.duplicated().sum()"
      ],
      "metadata": {
        "colab": {
          "base_uri": "https://localhost:8080/"
        },
        "id": "7Yp1jn-zMZ9R",
        "outputId": "316de69b-8a67-4c1e-bccf-441bdf7ec134"
      },
      "execution_count": 7,
      "outputs": [
        {
          "output_type": "execute_result",
          "data": {
            "text/plain": [
              "0"
            ]
          },
          "metadata": {},
          "execution_count": 7
        }
      ]
    },
    {
      "cell_type": "markdown",
      "source": [
        "There are no duplicates"
      ],
      "metadata": {
        "id": "yLFGdemDR0-6"
      }
    },
    {
      "cell_type": "code",
      "source": [
        "#Display descriptive stats for all columns\n",
        "eda_ml.describe(include='all')"
      ],
      "metadata": {
        "colab": {
          "base_uri": "https://localhost:8080/",
          "height": 475
        },
        "id": "iUjshe6TSF_T",
        "outputId": "6b6c6270-972e-4181-8f16-c700087fe0fa"
      },
      "execution_count": 9,
      "outputs": [
        {
          "output_type": "execute_result",
          "data": {
            "text/plain": [
              "       Item_Identifier  Item_Weight Item_Fat_Content  Item_Visibility  \\\n",
              "count             8523  7060.000000             8523      8523.000000   \n",
              "unique            1559          NaN                5              NaN   \n",
              "top              FDW13          NaN          Low Fat              NaN   \n",
              "freq                10          NaN             5089              NaN   \n",
              "mean               NaN    12.857645              NaN         0.066132   \n",
              "std                NaN     4.643456              NaN         0.051598   \n",
              "min                NaN     4.555000              NaN         0.000000   \n",
              "25%                NaN     8.773750              NaN         0.026989   \n",
              "50%                NaN    12.600000              NaN         0.053931   \n",
              "75%                NaN    16.850000              NaN         0.094585   \n",
              "max                NaN    21.350000              NaN         0.328391   \n",
              "\n",
              "                    Item_Type     Item_MRP Outlet_Identifier  \\\n",
              "count                    8523  8523.000000              8523   \n",
              "unique                     16          NaN                10   \n",
              "top     Fruits and Vegetables          NaN            OUT027   \n",
              "freq                     1232          NaN               935   \n",
              "mean                      NaN   140.992782               NaN   \n",
              "std                       NaN    62.275067               NaN   \n",
              "min                       NaN    31.290000               NaN   \n",
              "25%                       NaN    93.826500               NaN   \n",
              "50%                       NaN   143.012800               NaN   \n",
              "75%                       NaN   185.643700               NaN   \n",
              "max                       NaN   266.888400               NaN   \n",
              "\n",
              "        Outlet_Establishment_Year Outlet_Size Outlet_Location_Type  \\\n",
              "count                 8523.000000        6113                 8523   \n",
              "unique                        NaN           3                    3   \n",
              "top                           NaN      Medium               Tier 3   \n",
              "freq                          NaN        2793                 3350   \n",
              "mean                  1997.831867         NaN                  NaN   \n",
              "std                      8.371760         NaN                  NaN   \n",
              "min                   1985.000000         NaN                  NaN   \n",
              "25%                   1987.000000         NaN                  NaN   \n",
              "50%                   1999.000000         NaN                  NaN   \n",
              "75%                   2004.000000         NaN                  NaN   \n",
              "max                   2009.000000         NaN                  NaN   \n",
              "\n",
              "              Outlet_Type  Item_Outlet_Sales  \n",
              "count                8523        8523.000000  \n",
              "unique                  4                NaN  \n",
              "top     Supermarket Type1                NaN  \n",
              "freq                 5577                NaN  \n",
              "mean                  NaN        2181.288914  \n",
              "std                   NaN        1706.499616  \n",
              "min                   NaN          33.290000  \n",
              "25%                   NaN         834.247400  \n",
              "50%                   NaN        1794.331000  \n",
              "75%                   NaN        3101.296400  \n",
              "max                   NaN       13086.964800  "
            ],
            "text/html": [
              "\n",
              "  <div id=\"df-897b23e4-ab2c-48a4-b996-a77a48e70267\">\n",
              "    <div class=\"colab-df-container\">\n",
              "      <div>\n",
              "<style scoped>\n",
              "    .dataframe tbody tr th:only-of-type {\n",
              "        vertical-align: middle;\n",
              "    }\n",
              "\n",
              "    .dataframe tbody tr th {\n",
              "        vertical-align: top;\n",
              "    }\n",
              "\n",
              "    .dataframe thead th {\n",
              "        text-align: right;\n",
              "    }\n",
              "</style>\n",
              "<table border=\"1\" class=\"dataframe\">\n",
              "  <thead>\n",
              "    <tr style=\"text-align: right;\">\n",
              "      <th></th>\n",
              "      <th>Item_Identifier</th>\n",
              "      <th>Item_Weight</th>\n",
              "      <th>Item_Fat_Content</th>\n",
              "      <th>Item_Visibility</th>\n",
              "      <th>Item_Type</th>\n",
              "      <th>Item_MRP</th>\n",
              "      <th>Outlet_Identifier</th>\n",
              "      <th>Outlet_Establishment_Year</th>\n",
              "      <th>Outlet_Size</th>\n",
              "      <th>Outlet_Location_Type</th>\n",
              "      <th>Outlet_Type</th>\n",
              "      <th>Item_Outlet_Sales</th>\n",
              "    </tr>\n",
              "  </thead>\n",
              "  <tbody>\n",
              "    <tr>\n",
              "      <th>count</th>\n",
              "      <td>8523</td>\n",
              "      <td>7060.000000</td>\n",
              "      <td>8523</td>\n",
              "      <td>8523.000000</td>\n",
              "      <td>8523</td>\n",
              "      <td>8523.000000</td>\n",
              "      <td>8523</td>\n",
              "      <td>8523.000000</td>\n",
              "      <td>6113</td>\n",
              "      <td>8523</td>\n",
              "      <td>8523</td>\n",
              "      <td>8523.000000</td>\n",
              "    </tr>\n",
              "    <tr>\n",
              "      <th>unique</th>\n",
              "      <td>1559</td>\n",
              "      <td>NaN</td>\n",
              "      <td>5</td>\n",
              "      <td>NaN</td>\n",
              "      <td>16</td>\n",
              "      <td>NaN</td>\n",
              "      <td>10</td>\n",
              "      <td>NaN</td>\n",
              "      <td>3</td>\n",
              "      <td>3</td>\n",
              "      <td>4</td>\n",
              "      <td>NaN</td>\n",
              "    </tr>\n",
              "    <tr>\n",
              "      <th>top</th>\n",
              "      <td>FDW13</td>\n",
              "      <td>NaN</td>\n",
              "      <td>Low Fat</td>\n",
              "      <td>NaN</td>\n",
              "      <td>Fruits and Vegetables</td>\n",
              "      <td>NaN</td>\n",
              "      <td>OUT027</td>\n",
              "      <td>NaN</td>\n",
              "      <td>Medium</td>\n",
              "      <td>Tier 3</td>\n",
              "      <td>Supermarket Type1</td>\n",
              "      <td>NaN</td>\n",
              "    </tr>\n",
              "    <tr>\n",
              "      <th>freq</th>\n",
              "      <td>10</td>\n",
              "      <td>NaN</td>\n",
              "      <td>5089</td>\n",
              "      <td>NaN</td>\n",
              "      <td>1232</td>\n",
              "      <td>NaN</td>\n",
              "      <td>935</td>\n",
              "      <td>NaN</td>\n",
              "      <td>2793</td>\n",
              "      <td>3350</td>\n",
              "      <td>5577</td>\n",
              "      <td>NaN</td>\n",
              "    </tr>\n",
              "    <tr>\n",
              "      <th>mean</th>\n",
              "      <td>NaN</td>\n",
              "      <td>12.857645</td>\n",
              "      <td>NaN</td>\n",
              "      <td>0.066132</td>\n",
              "      <td>NaN</td>\n",
              "      <td>140.992782</td>\n",
              "      <td>NaN</td>\n",
              "      <td>1997.831867</td>\n",
              "      <td>NaN</td>\n",
              "      <td>NaN</td>\n",
              "      <td>NaN</td>\n",
              "      <td>2181.288914</td>\n",
              "    </tr>\n",
              "    <tr>\n",
              "      <th>std</th>\n",
              "      <td>NaN</td>\n",
              "      <td>4.643456</td>\n",
              "      <td>NaN</td>\n",
              "      <td>0.051598</td>\n",
              "      <td>NaN</td>\n",
              "      <td>62.275067</td>\n",
              "      <td>NaN</td>\n",
              "      <td>8.371760</td>\n",
              "      <td>NaN</td>\n",
              "      <td>NaN</td>\n",
              "      <td>NaN</td>\n",
              "      <td>1706.499616</td>\n",
              "    </tr>\n",
              "    <tr>\n",
              "      <th>min</th>\n",
              "      <td>NaN</td>\n",
              "      <td>4.555000</td>\n",
              "      <td>NaN</td>\n",
              "      <td>0.000000</td>\n",
              "      <td>NaN</td>\n",
              "      <td>31.290000</td>\n",
              "      <td>NaN</td>\n",
              "      <td>1985.000000</td>\n",
              "      <td>NaN</td>\n",
              "      <td>NaN</td>\n",
              "      <td>NaN</td>\n",
              "      <td>33.290000</td>\n",
              "    </tr>\n",
              "    <tr>\n",
              "      <th>25%</th>\n",
              "      <td>NaN</td>\n",
              "      <td>8.773750</td>\n",
              "      <td>NaN</td>\n",
              "      <td>0.026989</td>\n",
              "      <td>NaN</td>\n",
              "      <td>93.826500</td>\n",
              "      <td>NaN</td>\n",
              "      <td>1987.000000</td>\n",
              "      <td>NaN</td>\n",
              "      <td>NaN</td>\n",
              "      <td>NaN</td>\n",
              "      <td>834.247400</td>\n",
              "    </tr>\n",
              "    <tr>\n",
              "      <th>50%</th>\n",
              "      <td>NaN</td>\n",
              "      <td>12.600000</td>\n",
              "      <td>NaN</td>\n",
              "      <td>0.053931</td>\n",
              "      <td>NaN</td>\n",
              "      <td>143.012800</td>\n",
              "      <td>NaN</td>\n",
              "      <td>1999.000000</td>\n",
              "      <td>NaN</td>\n",
              "      <td>NaN</td>\n",
              "      <td>NaN</td>\n",
              "      <td>1794.331000</td>\n",
              "    </tr>\n",
              "    <tr>\n",
              "      <th>75%</th>\n",
              "      <td>NaN</td>\n",
              "      <td>16.850000</td>\n",
              "      <td>NaN</td>\n",
              "      <td>0.094585</td>\n",
              "      <td>NaN</td>\n",
              "      <td>185.643700</td>\n",
              "      <td>NaN</td>\n",
              "      <td>2004.000000</td>\n",
              "      <td>NaN</td>\n",
              "      <td>NaN</td>\n",
              "      <td>NaN</td>\n",
              "      <td>3101.296400</td>\n",
              "    </tr>\n",
              "    <tr>\n",
              "      <th>max</th>\n",
              "      <td>NaN</td>\n",
              "      <td>21.350000</td>\n",
              "      <td>NaN</td>\n",
              "      <td>0.328391</td>\n",
              "      <td>NaN</td>\n",
              "      <td>266.888400</td>\n",
              "      <td>NaN</td>\n",
              "      <td>2009.000000</td>\n",
              "      <td>NaN</td>\n",
              "      <td>NaN</td>\n",
              "      <td>NaN</td>\n",
              "      <td>13086.964800</td>\n",
              "    </tr>\n",
              "  </tbody>\n",
              "</table>\n",
              "</div>\n",
              "      <button class=\"colab-df-convert\" onclick=\"convertToInteractive('df-897b23e4-ab2c-48a4-b996-a77a48e70267')\"\n",
              "              title=\"Convert this dataframe to an interactive table.\"\n",
              "              style=\"display:none;\">\n",
              "        \n",
              "  <svg xmlns=\"http://www.w3.org/2000/svg\" height=\"24px\"viewBox=\"0 0 24 24\"\n",
              "       width=\"24px\">\n",
              "    <path d=\"M0 0h24v24H0V0z\" fill=\"none\"/>\n",
              "    <path d=\"M18.56 5.44l.94 2.06.94-2.06 2.06-.94-2.06-.94-.94-2.06-.94 2.06-2.06.94zm-11 1L8.5 8.5l.94-2.06 2.06-.94-2.06-.94L8.5 2.5l-.94 2.06-2.06.94zm10 10l.94 2.06.94-2.06 2.06-.94-2.06-.94-.94-2.06-.94 2.06-2.06.94z\"/><path d=\"M17.41 7.96l-1.37-1.37c-.4-.4-.92-.59-1.43-.59-.52 0-1.04.2-1.43.59L10.3 9.45l-7.72 7.72c-.78.78-.78 2.05 0 2.83L4 21.41c.39.39.9.59 1.41.59.51 0 1.02-.2 1.41-.59l7.78-7.78 2.81-2.81c.8-.78.8-2.07 0-2.86zM5.41 20L4 18.59l7.72-7.72 1.47 1.35L5.41 20z\"/>\n",
              "  </svg>\n",
              "      </button>\n",
              "      \n",
              "  <style>\n",
              "    .colab-df-container {\n",
              "      display:flex;\n",
              "      flex-wrap:wrap;\n",
              "      gap: 12px;\n",
              "    }\n",
              "\n",
              "    .colab-df-convert {\n",
              "      background-color: #E8F0FE;\n",
              "      border: none;\n",
              "      border-radius: 50%;\n",
              "      cursor: pointer;\n",
              "      display: none;\n",
              "      fill: #1967D2;\n",
              "      height: 32px;\n",
              "      padding: 0 0 0 0;\n",
              "      width: 32px;\n",
              "    }\n",
              "\n",
              "    .colab-df-convert:hover {\n",
              "      background-color: #E2EBFA;\n",
              "      box-shadow: 0px 1px 2px rgba(60, 64, 67, 0.3), 0px 1px 3px 1px rgba(60, 64, 67, 0.15);\n",
              "      fill: #174EA6;\n",
              "    }\n",
              "\n",
              "    [theme=dark] .colab-df-convert {\n",
              "      background-color: #3B4455;\n",
              "      fill: #D2E3FC;\n",
              "    }\n",
              "\n",
              "    [theme=dark] .colab-df-convert:hover {\n",
              "      background-color: #434B5C;\n",
              "      box-shadow: 0px 1px 3px 1px rgba(0, 0, 0, 0.15);\n",
              "      filter: drop-shadow(0px 1px 2px rgba(0, 0, 0, 0.3));\n",
              "      fill: #FFFFFF;\n",
              "    }\n",
              "  </style>\n",
              "\n",
              "      <script>\n",
              "        const buttonEl =\n",
              "          document.querySelector('#df-897b23e4-ab2c-48a4-b996-a77a48e70267 button.colab-df-convert');\n",
              "        buttonEl.style.display =\n",
              "          google.colab.kernel.accessAllowed ? 'block' : 'none';\n",
              "\n",
              "        async function convertToInteractive(key) {\n",
              "          const element = document.querySelector('#df-897b23e4-ab2c-48a4-b996-a77a48e70267');\n",
              "          const dataTable =\n",
              "            await google.colab.kernel.invokeFunction('convertToInteractive',\n",
              "                                                     [key], {});\n",
              "          if (!dataTable) return;\n",
              "\n",
              "          const docLinkHtml = 'Like what you see? Visit the ' +\n",
              "            '<a target=\"_blank\" href=https://colab.research.google.com/notebooks/data_table.ipynb>data table notebook</a>'\n",
              "            + ' to learn more about interactive tables.';\n",
              "          element.innerHTML = '';\n",
              "          dataTable['output_type'] = 'display_data';\n",
              "          await google.colab.output.renderOutput(dataTable, element);\n",
              "          const docLink = document.createElement('div');\n",
              "          docLink.innerHTML = docLinkHtml;\n",
              "          element.appendChild(docLink);\n",
              "        }\n",
              "      </script>\n",
              "    </div>\n",
              "  </div>\n",
              "  "
            ]
          },
          "metadata": {},
          "execution_count": 9
        }
      ]
    },
    {
      "cell_type": "markdown",
      "source": [
        "###**Split the data(Validation Split)**"
      ],
      "metadata": {
        "id": "VlmM-MN-NAzG"
      }
    },
    {
      "cell_type": "code",
      "source": [
        "#Split X and y\n",
        "X = eda_ml.drop(columns = 'Item_Outlet_Sales')\n",
        "y = eda_ml['Item_Outlet_Sales']"
      ],
      "metadata": {
        "id": "-NAyosCL0Jlk"
      },
      "execution_count": 10,
      "outputs": []
    },
    {
      "cell_type": "code",
      "source": [
        "#Split training and test\n",
        "X_train, X_test, y_train, y_test = train_test_split(X, y, random_state=42)"
      ],
      "metadata": {
        "id": "cTItKzj90cmC"
      },
      "execution_count": 11,
      "outputs": []
    },
    {
      "cell_type": "markdown",
      "source": [
        "###**Create a preprocessing object to prepare the dataset for Machine Learning**"
      ],
      "metadata": {
        "id": "zPBrldsx0s-g"
      }
    },
    {
      "cell_type": "code",
      "source": [
        "#Imputers\n",
        "freq_imputer = SimpleImputer(strategy='most_frequent')\n",
        "mean_imputer = SimpleImputer(strategy= 'mean')\n",
        "#Scaler\n",
        "scaler = StandardScaler()\n",
        "#OneHotEncoder\n",
        "ohe =OneHotEncoder(handle_unknown='ignore', sparse=False)"
      ],
      "metadata": {
        "id": "XG7oDL7j02oI"
      },
      "execution_count": 12,
      "outputs": []
    },
    {
      "cell_type": "code",
      "source": [
        "#Create Selectors\n",
        "cat_selector = make_column_selector(dtype_include= 'object')\n",
        "num_selector = make_column_selector(dtype_include='number')"
      ],
      "metadata": {
        "id": "Ns53wYj21ciC"
      },
      "execution_count": 13,
      "outputs": []
    },
    {
      "cell_type": "code",
      "source": [
        "# Numeric pipeline\n",
        "numeric_pipe = make_pipeline(mean_imputer, scaler)\n",
        "numeric_pipe"
      ],
      "metadata": {
        "colab": {
          "base_uri": "https://localhost:8080/",
          "height": 127
        },
        "id": "0YTOsIGVpvdw",
        "outputId": "1573e952-c40a-498c-ef81-e09e1e811306"
      },
      "execution_count": 14,
      "outputs": [
        {
          "output_type": "execute_result",
          "data": {
            "text/plain": [
              "Pipeline(steps=[('simpleimputer', SimpleImputer()),\n",
              "                ('standardscaler', StandardScaler())])"
            ],
            "text/html": [
              "<style>#sk-27c923f3-c70c-49bb-bb53-e4fa3b3f96ff {color: black;background-color: white;}#sk-27c923f3-c70c-49bb-bb53-e4fa3b3f96ff pre{padding: 0;}#sk-27c923f3-c70c-49bb-bb53-e4fa3b3f96ff div.sk-toggleable {background-color: white;}#sk-27c923f3-c70c-49bb-bb53-e4fa3b3f96ff label.sk-toggleable__label {cursor: pointer;display: block;width: 100%;margin-bottom: 0;padding: 0.3em;box-sizing: border-box;text-align: center;}#sk-27c923f3-c70c-49bb-bb53-e4fa3b3f96ff label.sk-toggleable__label-arrow:before {content: \"▸\";float: left;margin-right: 0.25em;color: #696969;}#sk-27c923f3-c70c-49bb-bb53-e4fa3b3f96ff label.sk-toggleable__label-arrow:hover:before {color: black;}#sk-27c923f3-c70c-49bb-bb53-e4fa3b3f96ff div.sk-estimator:hover label.sk-toggleable__label-arrow:before {color: black;}#sk-27c923f3-c70c-49bb-bb53-e4fa3b3f96ff div.sk-toggleable__content {max-height: 0;max-width: 0;overflow: hidden;text-align: left;background-color: #f0f8ff;}#sk-27c923f3-c70c-49bb-bb53-e4fa3b3f96ff div.sk-toggleable__content pre {margin: 0.2em;color: black;border-radius: 0.25em;background-color: #f0f8ff;}#sk-27c923f3-c70c-49bb-bb53-e4fa3b3f96ff input.sk-toggleable__control:checked~div.sk-toggleable__content {max-height: 200px;max-width: 100%;overflow: auto;}#sk-27c923f3-c70c-49bb-bb53-e4fa3b3f96ff input.sk-toggleable__control:checked~label.sk-toggleable__label-arrow:before {content: \"▾\";}#sk-27c923f3-c70c-49bb-bb53-e4fa3b3f96ff div.sk-estimator input.sk-toggleable__control:checked~label.sk-toggleable__label {background-color: #d4ebff;}#sk-27c923f3-c70c-49bb-bb53-e4fa3b3f96ff div.sk-label input.sk-toggleable__control:checked~label.sk-toggleable__label {background-color: #d4ebff;}#sk-27c923f3-c70c-49bb-bb53-e4fa3b3f96ff input.sk-hidden--visually {border: 0;clip: rect(1px 1px 1px 1px);clip: rect(1px, 1px, 1px, 1px);height: 1px;margin: -1px;overflow: hidden;padding: 0;position: absolute;width: 1px;}#sk-27c923f3-c70c-49bb-bb53-e4fa3b3f96ff div.sk-estimator {font-family: monospace;background-color: #f0f8ff;border: 1px dotted black;border-radius: 0.25em;box-sizing: border-box;margin-bottom: 0.5em;}#sk-27c923f3-c70c-49bb-bb53-e4fa3b3f96ff div.sk-estimator:hover {background-color: #d4ebff;}#sk-27c923f3-c70c-49bb-bb53-e4fa3b3f96ff div.sk-parallel-item::after {content: \"\";width: 100%;border-bottom: 1px solid gray;flex-grow: 1;}#sk-27c923f3-c70c-49bb-bb53-e4fa3b3f96ff div.sk-label:hover label.sk-toggleable__label {background-color: #d4ebff;}#sk-27c923f3-c70c-49bb-bb53-e4fa3b3f96ff div.sk-serial::before {content: \"\";position: absolute;border-left: 1px solid gray;box-sizing: border-box;top: 2em;bottom: 0;left: 50%;}#sk-27c923f3-c70c-49bb-bb53-e4fa3b3f96ff div.sk-serial {display: flex;flex-direction: column;align-items: center;background-color: white;padding-right: 0.2em;padding-left: 0.2em;}#sk-27c923f3-c70c-49bb-bb53-e4fa3b3f96ff div.sk-item {z-index: 1;}#sk-27c923f3-c70c-49bb-bb53-e4fa3b3f96ff div.sk-parallel {display: flex;align-items: stretch;justify-content: center;background-color: white;}#sk-27c923f3-c70c-49bb-bb53-e4fa3b3f96ff div.sk-parallel::before {content: \"\";position: absolute;border-left: 1px solid gray;box-sizing: border-box;top: 2em;bottom: 0;left: 50%;}#sk-27c923f3-c70c-49bb-bb53-e4fa3b3f96ff div.sk-parallel-item {display: flex;flex-direction: column;position: relative;background-color: white;}#sk-27c923f3-c70c-49bb-bb53-e4fa3b3f96ff div.sk-parallel-item:first-child::after {align-self: flex-end;width: 50%;}#sk-27c923f3-c70c-49bb-bb53-e4fa3b3f96ff div.sk-parallel-item:last-child::after {align-self: flex-start;width: 50%;}#sk-27c923f3-c70c-49bb-bb53-e4fa3b3f96ff div.sk-parallel-item:only-child::after {width: 0;}#sk-27c923f3-c70c-49bb-bb53-e4fa3b3f96ff div.sk-dashed-wrapped {border: 1px dashed gray;margin: 0 0.4em 0.5em 0.4em;box-sizing: border-box;padding-bottom: 0.4em;background-color: white;position: relative;}#sk-27c923f3-c70c-49bb-bb53-e4fa3b3f96ff div.sk-label label {font-family: monospace;font-weight: bold;background-color: white;display: inline-block;line-height: 1.2em;}#sk-27c923f3-c70c-49bb-bb53-e4fa3b3f96ff div.sk-label-container {position: relative;z-index: 2;text-align: center;}#sk-27c923f3-c70c-49bb-bb53-e4fa3b3f96ff div.sk-container {/* jupyter's `normalize.less` sets `[hidden] { display: none; }` but bootstrap.min.css set `[hidden] { display: none !important; }` so we also need the `!important` here to be able to override the default hidden behavior on the sphinx rendered scikit-learn.org. See: https://github.com/scikit-learn/scikit-learn/issues/21755 */display: inline-block !important;position: relative;}#sk-27c923f3-c70c-49bb-bb53-e4fa3b3f96ff div.sk-text-repr-fallback {display: none;}</style><div id=\"sk-27c923f3-c70c-49bb-bb53-e4fa3b3f96ff\" class=\"sk-top-container\"><div class=\"sk-text-repr-fallback\"><pre>Pipeline(steps=[(&#x27;simpleimputer&#x27;, SimpleImputer()),\n",
              "                (&#x27;standardscaler&#x27;, StandardScaler())])</pre><b>Please rerun this cell to show the HTML repr or trust the notebook.</b></div><div class=\"sk-container\" hidden><div class=\"sk-item sk-dashed-wrapped\"><div class=\"sk-label-container\"><div class=\"sk-label sk-toggleable\"><input class=\"sk-toggleable__control sk-hidden--visually\" id=\"cb732533-0fd6-42b3-920b-34e64ef23369\" type=\"checkbox\" ><label for=\"cb732533-0fd6-42b3-920b-34e64ef23369\" class=\"sk-toggleable__label sk-toggleable__label-arrow\">Pipeline</label><div class=\"sk-toggleable__content\"><pre>Pipeline(steps=[(&#x27;simpleimputer&#x27;, SimpleImputer()),\n",
              "                (&#x27;standardscaler&#x27;, StandardScaler())])</pre></div></div></div><div class=\"sk-serial\"><div class=\"sk-item\"><div class=\"sk-estimator sk-toggleable\"><input class=\"sk-toggleable__control sk-hidden--visually\" id=\"df96695e-9261-4f91-8731-6f5378deecdd\" type=\"checkbox\" ><label for=\"df96695e-9261-4f91-8731-6f5378deecdd\" class=\"sk-toggleable__label sk-toggleable__label-arrow\">SimpleImputer</label><div class=\"sk-toggleable__content\"><pre>SimpleImputer()</pre></div></div></div><div class=\"sk-item\"><div class=\"sk-estimator sk-toggleable\"><input class=\"sk-toggleable__control sk-hidden--visually\" id=\"3d59a8d2-9f17-42ae-a5ab-88160c9b7e43\" type=\"checkbox\" ><label for=\"3d59a8d2-9f17-42ae-a5ab-88160c9b7e43\" class=\"sk-toggleable__label sk-toggleable__label-arrow\">StandardScaler</label><div class=\"sk-toggleable__content\"><pre>StandardScaler()</pre></div></div></div></div></div></div></div>"
            ]
          },
          "metadata": {},
          "execution_count": 14
        }
      ]
    },
    {
      "cell_type": "code",
      "source": [
        "#cat pipe\n",
        "categorical_pipe = make_pipeline(freq_imputer, ohe)\n",
        "categorical_pipe"
      ],
      "metadata": {
        "colab": {
          "base_uri": "https://localhost:8080/",
          "height": 127
        },
        "id": "bz1u8ffLoVMs",
        "outputId": "282e2c5c-ad31-4528-b282-6b0cb2fd8b22"
      },
      "execution_count": 15,
      "outputs": [
        {
          "output_type": "execute_result",
          "data": {
            "text/plain": [
              "Pipeline(steps=[('simpleimputer', SimpleImputer(strategy='most_frequent')),\n",
              "                ('onehotencoder',\n",
              "                 OneHotEncoder(handle_unknown='ignore', sparse=False))])"
            ],
            "text/html": [
              "<style>#sk-aa5d771f-a198-4abd-a75d-771a1188f28c {color: black;background-color: white;}#sk-aa5d771f-a198-4abd-a75d-771a1188f28c pre{padding: 0;}#sk-aa5d771f-a198-4abd-a75d-771a1188f28c div.sk-toggleable {background-color: white;}#sk-aa5d771f-a198-4abd-a75d-771a1188f28c label.sk-toggleable__label {cursor: pointer;display: block;width: 100%;margin-bottom: 0;padding: 0.3em;box-sizing: border-box;text-align: center;}#sk-aa5d771f-a198-4abd-a75d-771a1188f28c label.sk-toggleable__label-arrow:before {content: \"▸\";float: left;margin-right: 0.25em;color: #696969;}#sk-aa5d771f-a198-4abd-a75d-771a1188f28c label.sk-toggleable__label-arrow:hover:before {color: black;}#sk-aa5d771f-a198-4abd-a75d-771a1188f28c div.sk-estimator:hover label.sk-toggleable__label-arrow:before {color: black;}#sk-aa5d771f-a198-4abd-a75d-771a1188f28c div.sk-toggleable__content {max-height: 0;max-width: 0;overflow: hidden;text-align: left;background-color: #f0f8ff;}#sk-aa5d771f-a198-4abd-a75d-771a1188f28c div.sk-toggleable__content pre {margin: 0.2em;color: black;border-radius: 0.25em;background-color: #f0f8ff;}#sk-aa5d771f-a198-4abd-a75d-771a1188f28c input.sk-toggleable__control:checked~div.sk-toggleable__content {max-height: 200px;max-width: 100%;overflow: auto;}#sk-aa5d771f-a198-4abd-a75d-771a1188f28c input.sk-toggleable__control:checked~label.sk-toggleable__label-arrow:before {content: \"▾\";}#sk-aa5d771f-a198-4abd-a75d-771a1188f28c div.sk-estimator input.sk-toggleable__control:checked~label.sk-toggleable__label {background-color: #d4ebff;}#sk-aa5d771f-a198-4abd-a75d-771a1188f28c div.sk-label input.sk-toggleable__control:checked~label.sk-toggleable__label {background-color: #d4ebff;}#sk-aa5d771f-a198-4abd-a75d-771a1188f28c input.sk-hidden--visually {border: 0;clip: rect(1px 1px 1px 1px);clip: rect(1px, 1px, 1px, 1px);height: 1px;margin: -1px;overflow: hidden;padding: 0;position: absolute;width: 1px;}#sk-aa5d771f-a198-4abd-a75d-771a1188f28c div.sk-estimator {font-family: monospace;background-color: #f0f8ff;border: 1px dotted black;border-radius: 0.25em;box-sizing: border-box;margin-bottom: 0.5em;}#sk-aa5d771f-a198-4abd-a75d-771a1188f28c div.sk-estimator:hover {background-color: #d4ebff;}#sk-aa5d771f-a198-4abd-a75d-771a1188f28c div.sk-parallel-item::after {content: \"\";width: 100%;border-bottom: 1px solid gray;flex-grow: 1;}#sk-aa5d771f-a198-4abd-a75d-771a1188f28c div.sk-label:hover label.sk-toggleable__label {background-color: #d4ebff;}#sk-aa5d771f-a198-4abd-a75d-771a1188f28c div.sk-serial::before {content: \"\";position: absolute;border-left: 1px solid gray;box-sizing: border-box;top: 2em;bottom: 0;left: 50%;}#sk-aa5d771f-a198-4abd-a75d-771a1188f28c div.sk-serial {display: flex;flex-direction: column;align-items: center;background-color: white;padding-right: 0.2em;padding-left: 0.2em;}#sk-aa5d771f-a198-4abd-a75d-771a1188f28c div.sk-item {z-index: 1;}#sk-aa5d771f-a198-4abd-a75d-771a1188f28c div.sk-parallel {display: flex;align-items: stretch;justify-content: center;background-color: white;}#sk-aa5d771f-a198-4abd-a75d-771a1188f28c div.sk-parallel::before {content: \"\";position: absolute;border-left: 1px solid gray;box-sizing: border-box;top: 2em;bottom: 0;left: 50%;}#sk-aa5d771f-a198-4abd-a75d-771a1188f28c div.sk-parallel-item {display: flex;flex-direction: column;position: relative;background-color: white;}#sk-aa5d771f-a198-4abd-a75d-771a1188f28c div.sk-parallel-item:first-child::after {align-self: flex-end;width: 50%;}#sk-aa5d771f-a198-4abd-a75d-771a1188f28c div.sk-parallel-item:last-child::after {align-self: flex-start;width: 50%;}#sk-aa5d771f-a198-4abd-a75d-771a1188f28c div.sk-parallel-item:only-child::after {width: 0;}#sk-aa5d771f-a198-4abd-a75d-771a1188f28c div.sk-dashed-wrapped {border: 1px dashed gray;margin: 0 0.4em 0.5em 0.4em;box-sizing: border-box;padding-bottom: 0.4em;background-color: white;position: relative;}#sk-aa5d771f-a198-4abd-a75d-771a1188f28c div.sk-label label {font-family: monospace;font-weight: bold;background-color: white;display: inline-block;line-height: 1.2em;}#sk-aa5d771f-a198-4abd-a75d-771a1188f28c div.sk-label-container {position: relative;z-index: 2;text-align: center;}#sk-aa5d771f-a198-4abd-a75d-771a1188f28c div.sk-container {/* jupyter's `normalize.less` sets `[hidden] { display: none; }` but bootstrap.min.css set `[hidden] { display: none !important; }` so we also need the `!important` here to be able to override the default hidden behavior on the sphinx rendered scikit-learn.org. See: https://github.com/scikit-learn/scikit-learn/issues/21755 */display: inline-block !important;position: relative;}#sk-aa5d771f-a198-4abd-a75d-771a1188f28c div.sk-text-repr-fallback {display: none;}</style><div id=\"sk-aa5d771f-a198-4abd-a75d-771a1188f28c\" class=\"sk-top-container\"><div class=\"sk-text-repr-fallback\"><pre>Pipeline(steps=[(&#x27;simpleimputer&#x27;, SimpleImputer(strategy=&#x27;most_frequent&#x27;)),\n",
              "                (&#x27;onehotencoder&#x27;,\n",
              "                 OneHotEncoder(handle_unknown=&#x27;ignore&#x27;, sparse=False))])</pre><b>Please rerun this cell to show the HTML repr or trust the notebook.</b></div><div class=\"sk-container\" hidden><div class=\"sk-item sk-dashed-wrapped\"><div class=\"sk-label-container\"><div class=\"sk-label sk-toggleable\"><input class=\"sk-toggleable__control sk-hidden--visually\" id=\"cb456b07-b67c-4181-b9fb-fbf73ed445f7\" type=\"checkbox\" ><label for=\"cb456b07-b67c-4181-b9fb-fbf73ed445f7\" class=\"sk-toggleable__label sk-toggleable__label-arrow\">Pipeline</label><div class=\"sk-toggleable__content\"><pre>Pipeline(steps=[(&#x27;simpleimputer&#x27;, SimpleImputer(strategy=&#x27;most_frequent&#x27;)),\n",
              "                (&#x27;onehotencoder&#x27;,\n",
              "                 OneHotEncoder(handle_unknown=&#x27;ignore&#x27;, sparse=False))])</pre></div></div></div><div class=\"sk-serial\"><div class=\"sk-item\"><div class=\"sk-estimator sk-toggleable\"><input class=\"sk-toggleable__control sk-hidden--visually\" id=\"7cc34e9e-bfc5-43c0-b7d4-633b34452e19\" type=\"checkbox\" ><label for=\"7cc34e9e-bfc5-43c0-b7d4-633b34452e19\" class=\"sk-toggleable__label sk-toggleable__label-arrow\">SimpleImputer</label><div class=\"sk-toggleable__content\"><pre>SimpleImputer(strategy=&#x27;most_frequent&#x27;)</pre></div></div></div><div class=\"sk-item\"><div class=\"sk-estimator sk-toggleable\"><input class=\"sk-toggleable__control sk-hidden--visually\" id=\"39f13020-bed4-4300-94ef-d3c39d823112\" type=\"checkbox\" ><label for=\"39f13020-bed4-4300-94ef-d3c39d823112\" class=\"sk-toggleable__label sk-toggleable__label-arrow\">OneHotEncoder</label><div class=\"sk-toggleable__content\"><pre>OneHotEncoder(handle_unknown=&#x27;ignore&#x27;, sparse=False)</pre></div></div></div></div></div></div></div>"
            ]
          },
          "metadata": {},
          "execution_count": 15
        }
      ]
    },
    {
      "cell_type": "code",
      "source": [
        "#Make tuples for preprocessing the categorical and numeric columns\n",
        "num_tuple = (numeric_pipe, num_selector)\n",
        "cat_tuple = (categorical_pipe, cat_selector)"
      ],
      "metadata": {
        "id": "O06rdLTo1yV7"
      },
      "execution_count": 16,
      "outputs": []
    },
    {
      "cell_type": "code",
      "source": [
        "#Create Column Transformer\n",
        "preprocessor= make_column_transformer(num_tuple, cat_tuple, remainder = 'passthrough')"
      ],
      "metadata": {
        "id": "IAig071A2Bs9"
      },
      "execution_count": 17,
      "outputs": []
    },
    {
      "cell_type": "code",
      "source": [
        "preprocessor"
      ],
      "metadata": {
        "colab": {
          "base_uri": "https://localhost:8080/",
          "height": 153
        },
        "id": "hw-wX65TqsxN",
        "outputId": "f6e72aa2-1f08-459e-9040-4dd4b5d89efe"
      },
      "execution_count": 18,
      "outputs": [
        {
          "output_type": "execute_result",
          "data": {
            "text/plain": [
              "ColumnTransformer(remainder='passthrough',\n",
              "                  transformers=[('pipeline-1',\n",
              "                                 Pipeline(steps=[('simpleimputer',\n",
              "                                                  SimpleImputer()),\n",
              "                                                 ('standardscaler',\n",
              "                                                  StandardScaler())]),\n",
              "                                 <sklearn.compose._column_transformer.make_column_selector object at 0x7fa1af8e7130>),\n",
              "                                ('pipeline-2',\n",
              "                                 Pipeline(steps=[('simpleimputer',\n",
              "                                                  SimpleImputer(strategy='most_frequent')),\n",
              "                                                 ('onehotencoder',\n",
              "                                                  OneHotEncoder(handle_unknown='ignore',\n",
              "                                                                sparse=False))]),\n",
              "                                 <sklearn.compose._column_transformer.make_column_selector object at 0x7fa1af8e7370>)])"
            ],
            "text/html": [
              "<style>#sk-60109e0e-3239-4b42-8a7e-ff4471c78f05 {color: black;background-color: white;}#sk-60109e0e-3239-4b42-8a7e-ff4471c78f05 pre{padding: 0;}#sk-60109e0e-3239-4b42-8a7e-ff4471c78f05 div.sk-toggleable {background-color: white;}#sk-60109e0e-3239-4b42-8a7e-ff4471c78f05 label.sk-toggleable__label {cursor: pointer;display: block;width: 100%;margin-bottom: 0;padding: 0.3em;box-sizing: border-box;text-align: center;}#sk-60109e0e-3239-4b42-8a7e-ff4471c78f05 label.sk-toggleable__label-arrow:before {content: \"▸\";float: left;margin-right: 0.25em;color: #696969;}#sk-60109e0e-3239-4b42-8a7e-ff4471c78f05 label.sk-toggleable__label-arrow:hover:before {color: black;}#sk-60109e0e-3239-4b42-8a7e-ff4471c78f05 div.sk-estimator:hover label.sk-toggleable__label-arrow:before {color: black;}#sk-60109e0e-3239-4b42-8a7e-ff4471c78f05 div.sk-toggleable__content {max-height: 0;max-width: 0;overflow: hidden;text-align: left;background-color: #f0f8ff;}#sk-60109e0e-3239-4b42-8a7e-ff4471c78f05 div.sk-toggleable__content pre {margin: 0.2em;color: black;border-radius: 0.25em;background-color: #f0f8ff;}#sk-60109e0e-3239-4b42-8a7e-ff4471c78f05 input.sk-toggleable__control:checked~div.sk-toggleable__content {max-height: 200px;max-width: 100%;overflow: auto;}#sk-60109e0e-3239-4b42-8a7e-ff4471c78f05 input.sk-toggleable__control:checked~label.sk-toggleable__label-arrow:before {content: \"▾\";}#sk-60109e0e-3239-4b42-8a7e-ff4471c78f05 div.sk-estimator input.sk-toggleable__control:checked~label.sk-toggleable__label {background-color: #d4ebff;}#sk-60109e0e-3239-4b42-8a7e-ff4471c78f05 div.sk-label input.sk-toggleable__control:checked~label.sk-toggleable__label {background-color: #d4ebff;}#sk-60109e0e-3239-4b42-8a7e-ff4471c78f05 input.sk-hidden--visually {border: 0;clip: rect(1px 1px 1px 1px);clip: rect(1px, 1px, 1px, 1px);height: 1px;margin: -1px;overflow: hidden;padding: 0;position: absolute;width: 1px;}#sk-60109e0e-3239-4b42-8a7e-ff4471c78f05 div.sk-estimator {font-family: monospace;background-color: #f0f8ff;border: 1px dotted black;border-radius: 0.25em;box-sizing: border-box;margin-bottom: 0.5em;}#sk-60109e0e-3239-4b42-8a7e-ff4471c78f05 div.sk-estimator:hover {background-color: #d4ebff;}#sk-60109e0e-3239-4b42-8a7e-ff4471c78f05 div.sk-parallel-item::after {content: \"\";width: 100%;border-bottom: 1px solid gray;flex-grow: 1;}#sk-60109e0e-3239-4b42-8a7e-ff4471c78f05 div.sk-label:hover label.sk-toggleable__label {background-color: #d4ebff;}#sk-60109e0e-3239-4b42-8a7e-ff4471c78f05 div.sk-serial::before {content: \"\";position: absolute;border-left: 1px solid gray;box-sizing: border-box;top: 2em;bottom: 0;left: 50%;}#sk-60109e0e-3239-4b42-8a7e-ff4471c78f05 div.sk-serial {display: flex;flex-direction: column;align-items: center;background-color: white;padding-right: 0.2em;padding-left: 0.2em;}#sk-60109e0e-3239-4b42-8a7e-ff4471c78f05 div.sk-item {z-index: 1;}#sk-60109e0e-3239-4b42-8a7e-ff4471c78f05 div.sk-parallel {display: flex;align-items: stretch;justify-content: center;background-color: white;}#sk-60109e0e-3239-4b42-8a7e-ff4471c78f05 div.sk-parallel::before {content: \"\";position: absolute;border-left: 1px solid gray;box-sizing: border-box;top: 2em;bottom: 0;left: 50%;}#sk-60109e0e-3239-4b42-8a7e-ff4471c78f05 div.sk-parallel-item {display: flex;flex-direction: column;position: relative;background-color: white;}#sk-60109e0e-3239-4b42-8a7e-ff4471c78f05 div.sk-parallel-item:first-child::after {align-self: flex-end;width: 50%;}#sk-60109e0e-3239-4b42-8a7e-ff4471c78f05 div.sk-parallel-item:last-child::after {align-self: flex-start;width: 50%;}#sk-60109e0e-3239-4b42-8a7e-ff4471c78f05 div.sk-parallel-item:only-child::after {width: 0;}#sk-60109e0e-3239-4b42-8a7e-ff4471c78f05 div.sk-dashed-wrapped {border: 1px dashed gray;margin: 0 0.4em 0.5em 0.4em;box-sizing: border-box;padding-bottom: 0.4em;background-color: white;position: relative;}#sk-60109e0e-3239-4b42-8a7e-ff4471c78f05 div.sk-label label {font-family: monospace;font-weight: bold;background-color: white;display: inline-block;line-height: 1.2em;}#sk-60109e0e-3239-4b42-8a7e-ff4471c78f05 div.sk-label-container {position: relative;z-index: 2;text-align: center;}#sk-60109e0e-3239-4b42-8a7e-ff4471c78f05 div.sk-container {/* jupyter's `normalize.less` sets `[hidden] { display: none; }` but bootstrap.min.css set `[hidden] { display: none !important; }` so we also need the `!important` here to be able to override the default hidden behavior on the sphinx rendered scikit-learn.org. See: https://github.com/scikit-learn/scikit-learn/issues/21755 */display: inline-block !important;position: relative;}#sk-60109e0e-3239-4b42-8a7e-ff4471c78f05 div.sk-text-repr-fallback {display: none;}</style><div id=\"sk-60109e0e-3239-4b42-8a7e-ff4471c78f05\" class=\"sk-top-container\"><div class=\"sk-text-repr-fallback\"><pre>ColumnTransformer(remainder=&#x27;passthrough&#x27;,\n",
              "                  transformers=[(&#x27;pipeline-1&#x27;,\n",
              "                                 Pipeline(steps=[(&#x27;simpleimputer&#x27;,\n",
              "                                                  SimpleImputer()),\n",
              "                                                 (&#x27;standardscaler&#x27;,\n",
              "                                                  StandardScaler())]),\n",
              "                                 &lt;sklearn.compose._column_transformer.make_column_selector object at 0x7fa1af8e7130&gt;),\n",
              "                                (&#x27;pipeline-2&#x27;,\n",
              "                                 Pipeline(steps=[(&#x27;simpleimputer&#x27;,\n",
              "                                                  SimpleImputer(strategy=&#x27;most_frequent&#x27;)),\n",
              "                                                 (&#x27;onehotencoder&#x27;,\n",
              "                                                  OneHotEncoder(handle_unknown=&#x27;ignore&#x27;,\n",
              "                                                                sparse=False))]),\n",
              "                                 &lt;sklearn.compose._column_transformer.make_column_selector object at 0x7fa1af8e7370&gt;)])</pre><b>Please rerun this cell to show the HTML repr or trust the notebook.</b></div><div class=\"sk-container\" hidden><div class=\"sk-item sk-dashed-wrapped\"><div class=\"sk-label-container\"><div class=\"sk-label sk-toggleable\"><input class=\"sk-toggleable__control sk-hidden--visually\" id=\"4ca275b9-6133-4a1d-ae48-cfff804b00a3\" type=\"checkbox\" ><label for=\"4ca275b9-6133-4a1d-ae48-cfff804b00a3\" class=\"sk-toggleable__label sk-toggleable__label-arrow\">ColumnTransformer</label><div class=\"sk-toggleable__content\"><pre>ColumnTransformer(remainder=&#x27;passthrough&#x27;,\n",
              "                  transformers=[(&#x27;pipeline-1&#x27;,\n",
              "                                 Pipeline(steps=[(&#x27;simpleimputer&#x27;,\n",
              "                                                  SimpleImputer()),\n",
              "                                                 (&#x27;standardscaler&#x27;,\n",
              "                                                  StandardScaler())]),\n",
              "                                 &lt;sklearn.compose._column_transformer.make_column_selector object at 0x7fa1af8e7130&gt;),\n",
              "                                (&#x27;pipeline-2&#x27;,\n",
              "                                 Pipeline(steps=[(&#x27;simpleimputer&#x27;,\n",
              "                                                  SimpleImputer(strategy=&#x27;most_frequent&#x27;)),\n",
              "                                                 (&#x27;onehotencoder&#x27;,\n",
              "                                                  OneHotEncoder(handle_unknown=&#x27;ignore&#x27;,\n",
              "                                                                sparse=False))]),\n",
              "                                 &lt;sklearn.compose._column_transformer.make_column_selector object at 0x7fa1af8e7370&gt;)])</pre></div></div></div><div class=\"sk-parallel\"><div class=\"sk-parallel-item\"><div class=\"sk-item\"><div class=\"sk-label-container\"><div class=\"sk-label sk-toggleable\"><input class=\"sk-toggleable__control sk-hidden--visually\" id=\"12603a3f-5bf4-4050-9d75-e1436f920ecc\" type=\"checkbox\" ><label for=\"12603a3f-5bf4-4050-9d75-e1436f920ecc\" class=\"sk-toggleable__label sk-toggleable__label-arrow\">pipeline-1</label><div class=\"sk-toggleable__content\"><pre>&lt;sklearn.compose._column_transformer.make_column_selector object at 0x7fa1af8e7130&gt;</pre></div></div></div><div class=\"sk-serial\"><div class=\"sk-item\"><div class=\"sk-serial\"><div class=\"sk-item\"><div class=\"sk-estimator sk-toggleable\"><input class=\"sk-toggleable__control sk-hidden--visually\" id=\"047445b6-fa36-4060-8129-81e518c63c71\" type=\"checkbox\" ><label for=\"047445b6-fa36-4060-8129-81e518c63c71\" class=\"sk-toggleable__label sk-toggleable__label-arrow\">SimpleImputer</label><div class=\"sk-toggleable__content\"><pre>SimpleImputer()</pre></div></div></div><div class=\"sk-item\"><div class=\"sk-estimator sk-toggleable\"><input class=\"sk-toggleable__control sk-hidden--visually\" id=\"b0bd5285-ad7f-450f-842a-df09d5180036\" type=\"checkbox\" ><label for=\"b0bd5285-ad7f-450f-842a-df09d5180036\" class=\"sk-toggleable__label sk-toggleable__label-arrow\">StandardScaler</label><div class=\"sk-toggleable__content\"><pre>StandardScaler()</pre></div></div></div></div></div></div></div></div><div class=\"sk-parallel-item\"><div class=\"sk-item\"><div class=\"sk-label-container\"><div class=\"sk-label sk-toggleable\"><input class=\"sk-toggleable__control sk-hidden--visually\" id=\"1ac18d15-ade3-4f32-8e24-f09cda32f27f\" type=\"checkbox\" ><label for=\"1ac18d15-ade3-4f32-8e24-f09cda32f27f\" class=\"sk-toggleable__label sk-toggleable__label-arrow\">pipeline-2</label><div class=\"sk-toggleable__content\"><pre>&lt;sklearn.compose._column_transformer.make_column_selector object at 0x7fa1af8e7370&gt;</pre></div></div></div><div class=\"sk-serial\"><div class=\"sk-item\"><div class=\"sk-serial\"><div class=\"sk-item\"><div class=\"sk-estimator sk-toggleable\"><input class=\"sk-toggleable__control sk-hidden--visually\" id=\"a0570fb5-0820-454a-8a0d-906d0df751a2\" type=\"checkbox\" ><label for=\"a0570fb5-0820-454a-8a0d-906d0df751a2\" class=\"sk-toggleable__label sk-toggleable__label-arrow\">SimpleImputer</label><div class=\"sk-toggleable__content\"><pre>SimpleImputer(strategy=&#x27;most_frequent&#x27;)</pre></div></div></div><div class=\"sk-item\"><div class=\"sk-estimator sk-toggleable\"><input class=\"sk-toggleable__control sk-hidden--visually\" id=\"2a308ec5-ca03-4af3-89f9-6130c0497df2\" type=\"checkbox\" ><label for=\"2a308ec5-ca03-4af3-89f9-6130c0497df2\" class=\"sk-toggleable__label sk-toggleable__label-arrow\">OneHotEncoder</label><div class=\"sk-toggleable__content\"><pre>OneHotEncoder(handle_unknown=&#x27;ignore&#x27;, sparse=False)</pre></div></div></div></div></div></div></div></div><div class=\"sk-parallel-item\"><div class=\"sk-item\"><div class=\"sk-label-container\"><div class=\"sk-label sk-toggleable\"><input class=\"sk-toggleable__control sk-hidden--visually\" id=\"712ee8a6-023c-4b1a-a865-1be833f98304\" type=\"checkbox\" ><label for=\"712ee8a6-023c-4b1a-a865-1be833f98304\" class=\"sk-toggleable__label sk-toggleable__label-arrow\">remainder</label><div class=\"sk-toggleable__content\"><pre></pre></div></div></div><div class=\"sk-serial\"><div class=\"sk-item\"><div class=\"sk-estimator sk-toggleable\"><input class=\"sk-toggleable__control sk-hidden--visually\" id=\"4fcad148-86af-428e-afd8-962695ddc7ec\" type=\"checkbox\" ><label for=\"4fcad148-86af-428e-afd8-962695ddc7ec\" class=\"sk-toggleable__label sk-toggleable__label-arrow\">passthrough</label><div class=\"sk-toggleable__content\"><pre>passthrough</pre></div></div></div></div></div></div></div></div></div></div>"
            ]
          },
          "metadata": {},
          "execution_count": 18
        }
      ]
    },
    {
      "cell_type": "code",
      "source": [
        "#Fit Transformer\n",
        "preprocessor.fit(X_train)"
      ],
      "metadata": {
        "colab": {
          "base_uri": "https://localhost:8080/",
          "height": 153
        },
        "id": "qU6UP3b_2TgW",
        "outputId": "070d17e1-f219-4890-bf03-a89734a87947"
      },
      "execution_count": 19,
      "outputs": [
        {
          "output_type": "execute_result",
          "data": {
            "text/plain": [
              "ColumnTransformer(remainder='passthrough',\n",
              "                  transformers=[('pipeline-1',\n",
              "                                 Pipeline(steps=[('simpleimputer',\n",
              "                                                  SimpleImputer()),\n",
              "                                                 ('standardscaler',\n",
              "                                                  StandardScaler())]),\n",
              "                                 <sklearn.compose._column_transformer.make_column_selector object at 0x7fa1af8e7130>),\n",
              "                                ('pipeline-2',\n",
              "                                 Pipeline(steps=[('simpleimputer',\n",
              "                                                  SimpleImputer(strategy='most_frequent')),\n",
              "                                                 ('onehotencoder',\n",
              "                                                  OneHotEncoder(handle_unknown='ignore',\n",
              "                                                                sparse=False))]),\n",
              "                                 <sklearn.compose._column_transformer.make_column_selector object at 0x7fa1af8e7370>)])"
            ],
            "text/html": [
              "<style>#sk-44d42b08-7c02-432c-84b2-b95077bbe4af {color: black;background-color: white;}#sk-44d42b08-7c02-432c-84b2-b95077bbe4af pre{padding: 0;}#sk-44d42b08-7c02-432c-84b2-b95077bbe4af div.sk-toggleable {background-color: white;}#sk-44d42b08-7c02-432c-84b2-b95077bbe4af label.sk-toggleable__label {cursor: pointer;display: block;width: 100%;margin-bottom: 0;padding: 0.3em;box-sizing: border-box;text-align: center;}#sk-44d42b08-7c02-432c-84b2-b95077bbe4af label.sk-toggleable__label-arrow:before {content: \"▸\";float: left;margin-right: 0.25em;color: #696969;}#sk-44d42b08-7c02-432c-84b2-b95077bbe4af label.sk-toggleable__label-arrow:hover:before {color: black;}#sk-44d42b08-7c02-432c-84b2-b95077bbe4af div.sk-estimator:hover label.sk-toggleable__label-arrow:before {color: black;}#sk-44d42b08-7c02-432c-84b2-b95077bbe4af div.sk-toggleable__content {max-height: 0;max-width: 0;overflow: hidden;text-align: left;background-color: #f0f8ff;}#sk-44d42b08-7c02-432c-84b2-b95077bbe4af div.sk-toggleable__content pre {margin: 0.2em;color: black;border-radius: 0.25em;background-color: #f0f8ff;}#sk-44d42b08-7c02-432c-84b2-b95077bbe4af input.sk-toggleable__control:checked~div.sk-toggleable__content {max-height: 200px;max-width: 100%;overflow: auto;}#sk-44d42b08-7c02-432c-84b2-b95077bbe4af input.sk-toggleable__control:checked~label.sk-toggleable__label-arrow:before {content: \"▾\";}#sk-44d42b08-7c02-432c-84b2-b95077bbe4af div.sk-estimator input.sk-toggleable__control:checked~label.sk-toggleable__label {background-color: #d4ebff;}#sk-44d42b08-7c02-432c-84b2-b95077bbe4af div.sk-label input.sk-toggleable__control:checked~label.sk-toggleable__label {background-color: #d4ebff;}#sk-44d42b08-7c02-432c-84b2-b95077bbe4af input.sk-hidden--visually {border: 0;clip: rect(1px 1px 1px 1px);clip: rect(1px, 1px, 1px, 1px);height: 1px;margin: -1px;overflow: hidden;padding: 0;position: absolute;width: 1px;}#sk-44d42b08-7c02-432c-84b2-b95077bbe4af div.sk-estimator {font-family: monospace;background-color: #f0f8ff;border: 1px dotted black;border-radius: 0.25em;box-sizing: border-box;margin-bottom: 0.5em;}#sk-44d42b08-7c02-432c-84b2-b95077bbe4af div.sk-estimator:hover {background-color: #d4ebff;}#sk-44d42b08-7c02-432c-84b2-b95077bbe4af div.sk-parallel-item::after {content: \"\";width: 100%;border-bottom: 1px solid gray;flex-grow: 1;}#sk-44d42b08-7c02-432c-84b2-b95077bbe4af div.sk-label:hover label.sk-toggleable__label {background-color: #d4ebff;}#sk-44d42b08-7c02-432c-84b2-b95077bbe4af div.sk-serial::before {content: \"\";position: absolute;border-left: 1px solid gray;box-sizing: border-box;top: 2em;bottom: 0;left: 50%;}#sk-44d42b08-7c02-432c-84b2-b95077bbe4af div.sk-serial {display: flex;flex-direction: column;align-items: center;background-color: white;padding-right: 0.2em;padding-left: 0.2em;}#sk-44d42b08-7c02-432c-84b2-b95077bbe4af div.sk-item {z-index: 1;}#sk-44d42b08-7c02-432c-84b2-b95077bbe4af div.sk-parallel {display: flex;align-items: stretch;justify-content: center;background-color: white;}#sk-44d42b08-7c02-432c-84b2-b95077bbe4af div.sk-parallel::before {content: \"\";position: absolute;border-left: 1px solid gray;box-sizing: border-box;top: 2em;bottom: 0;left: 50%;}#sk-44d42b08-7c02-432c-84b2-b95077bbe4af div.sk-parallel-item {display: flex;flex-direction: column;position: relative;background-color: white;}#sk-44d42b08-7c02-432c-84b2-b95077bbe4af div.sk-parallel-item:first-child::after {align-self: flex-end;width: 50%;}#sk-44d42b08-7c02-432c-84b2-b95077bbe4af div.sk-parallel-item:last-child::after {align-self: flex-start;width: 50%;}#sk-44d42b08-7c02-432c-84b2-b95077bbe4af div.sk-parallel-item:only-child::after {width: 0;}#sk-44d42b08-7c02-432c-84b2-b95077bbe4af div.sk-dashed-wrapped {border: 1px dashed gray;margin: 0 0.4em 0.5em 0.4em;box-sizing: border-box;padding-bottom: 0.4em;background-color: white;position: relative;}#sk-44d42b08-7c02-432c-84b2-b95077bbe4af div.sk-label label {font-family: monospace;font-weight: bold;background-color: white;display: inline-block;line-height: 1.2em;}#sk-44d42b08-7c02-432c-84b2-b95077bbe4af div.sk-label-container {position: relative;z-index: 2;text-align: center;}#sk-44d42b08-7c02-432c-84b2-b95077bbe4af div.sk-container {/* jupyter's `normalize.less` sets `[hidden] { display: none; }` but bootstrap.min.css set `[hidden] { display: none !important; }` so we also need the `!important` here to be able to override the default hidden behavior on the sphinx rendered scikit-learn.org. See: https://github.com/scikit-learn/scikit-learn/issues/21755 */display: inline-block !important;position: relative;}#sk-44d42b08-7c02-432c-84b2-b95077bbe4af div.sk-text-repr-fallback {display: none;}</style><div id=\"sk-44d42b08-7c02-432c-84b2-b95077bbe4af\" class=\"sk-top-container\"><div class=\"sk-text-repr-fallback\"><pre>ColumnTransformer(remainder=&#x27;passthrough&#x27;,\n",
              "                  transformers=[(&#x27;pipeline-1&#x27;,\n",
              "                                 Pipeline(steps=[(&#x27;simpleimputer&#x27;,\n",
              "                                                  SimpleImputer()),\n",
              "                                                 (&#x27;standardscaler&#x27;,\n",
              "                                                  StandardScaler())]),\n",
              "                                 &lt;sklearn.compose._column_transformer.make_column_selector object at 0x7fa1af8e7130&gt;),\n",
              "                                (&#x27;pipeline-2&#x27;,\n",
              "                                 Pipeline(steps=[(&#x27;simpleimputer&#x27;,\n",
              "                                                  SimpleImputer(strategy=&#x27;most_frequent&#x27;)),\n",
              "                                                 (&#x27;onehotencoder&#x27;,\n",
              "                                                  OneHotEncoder(handle_unknown=&#x27;ignore&#x27;,\n",
              "                                                                sparse=False))]),\n",
              "                                 &lt;sklearn.compose._column_transformer.make_column_selector object at 0x7fa1af8e7370&gt;)])</pre><b>Please rerun this cell to show the HTML repr or trust the notebook.</b></div><div class=\"sk-container\" hidden><div class=\"sk-item sk-dashed-wrapped\"><div class=\"sk-label-container\"><div class=\"sk-label sk-toggleable\"><input class=\"sk-toggleable__control sk-hidden--visually\" id=\"109cbe1b-9ba6-43c8-a1b3-84c161160531\" type=\"checkbox\" ><label for=\"109cbe1b-9ba6-43c8-a1b3-84c161160531\" class=\"sk-toggleable__label sk-toggleable__label-arrow\">ColumnTransformer</label><div class=\"sk-toggleable__content\"><pre>ColumnTransformer(remainder=&#x27;passthrough&#x27;,\n",
              "                  transformers=[(&#x27;pipeline-1&#x27;,\n",
              "                                 Pipeline(steps=[(&#x27;simpleimputer&#x27;,\n",
              "                                                  SimpleImputer()),\n",
              "                                                 (&#x27;standardscaler&#x27;,\n",
              "                                                  StandardScaler())]),\n",
              "                                 &lt;sklearn.compose._column_transformer.make_column_selector object at 0x7fa1af8e7130&gt;),\n",
              "                                (&#x27;pipeline-2&#x27;,\n",
              "                                 Pipeline(steps=[(&#x27;simpleimputer&#x27;,\n",
              "                                                  SimpleImputer(strategy=&#x27;most_frequent&#x27;)),\n",
              "                                                 (&#x27;onehotencoder&#x27;,\n",
              "                                                  OneHotEncoder(handle_unknown=&#x27;ignore&#x27;,\n",
              "                                                                sparse=False))]),\n",
              "                                 &lt;sklearn.compose._column_transformer.make_column_selector object at 0x7fa1af8e7370&gt;)])</pre></div></div></div><div class=\"sk-parallel\"><div class=\"sk-parallel-item\"><div class=\"sk-item\"><div class=\"sk-label-container\"><div class=\"sk-label sk-toggleable\"><input class=\"sk-toggleable__control sk-hidden--visually\" id=\"168f15bc-893e-45d4-9350-87b9f3cfe682\" type=\"checkbox\" ><label for=\"168f15bc-893e-45d4-9350-87b9f3cfe682\" class=\"sk-toggleable__label sk-toggleable__label-arrow\">pipeline-1</label><div class=\"sk-toggleable__content\"><pre>&lt;sklearn.compose._column_transformer.make_column_selector object at 0x7fa1af8e7130&gt;</pre></div></div></div><div class=\"sk-serial\"><div class=\"sk-item\"><div class=\"sk-serial\"><div class=\"sk-item\"><div class=\"sk-estimator sk-toggleable\"><input class=\"sk-toggleable__control sk-hidden--visually\" id=\"9218cde6-0d94-4cd2-83b8-adee2a50affb\" type=\"checkbox\" ><label for=\"9218cde6-0d94-4cd2-83b8-adee2a50affb\" class=\"sk-toggleable__label sk-toggleable__label-arrow\">SimpleImputer</label><div class=\"sk-toggleable__content\"><pre>SimpleImputer()</pre></div></div></div><div class=\"sk-item\"><div class=\"sk-estimator sk-toggleable\"><input class=\"sk-toggleable__control sk-hidden--visually\" id=\"6cf145f4-8591-4aee-aa3a-3c023b9bf287\" type=\"checkbox\" ><label for=\"6cf145f4-8591-4aee-aa3a-3c023b9bf287\" class=\"sk-toggleable__label sk-toggleable__label-arrow\">StandardScaler</label><div class=\"sk-toggleable__content\"><pre>StandardScaler()</pre></div></div></div></div></div></div></div></div><div class=\"sk-parallel-item\"><div class=\"sk-item\"><div class=\"sk-label-container\"><div class=\"sk-label sk-toggleable\"><input class=\"sk-toggleable__control sk-hidden--visually\" id=\"14120d4b-34cb-408c-97de-177eac18c82f\" type=\"checkbox\" ><label for=\"14120d4b-34cb-408c-97de-177eac18c82f\" class=\"sk-toggleable__label sk-toggleable__label-arrow\">pipeline-2</label><div class=\"sk-toggleable__content\"><pre>&lt;sklearn.compose._column_transformer.make_column_selector object at 0x7fa1af8e7370&gt;</pre></div></div></div><div class=\"sk-serial\"><div class=\"sk-item\"><div class=\"sk-serial\"><div class=\"sk-item\"><div class=\"sk-estimator sk-toggleable\"><input class=\"sk-toggleable__control sk-hidden--visually\" id=\"b7f21cde-1457-4624-9d51-53d06a907011\" type=\"checkbox\" ><label for=\"b7f21cde-1457-4624-9d51-53d06a907011\" class=\"sk-toggleable__label sk-toggleable__label-arrow\">SimpleImputer</label><div class=\"sk-toggleable__content\"><pre>SimpleImputer(strategy=&#x27;most_frequent&#x27;)</pre></div></div></div><div class=\"sk-item\"><div class=\"sk-estimator sk-toggleable\"><input class=\"sk-toggleable__control sk-hidden--visually\" id=\"d8d7a57d-94d2-4d59-8fed-d615ac5ed20a\" type=\"checkbox\" ><label for=\"d8d7a57d-94d2-4d59-8fed-d615ac5ed20a\" class=\"sk-toggleable__label sk-toggleable__label-arrow\">OneHotEncoder</label><div class=\"sk-toggleable__content\"><pre>OneHotEncoder(handle_unknown=&#x27;ignore&#x27;, sparse=False)</pre></div></div></div></div></div></div></div></div><div class=\"sk-parallel-item\"><div class=\"sk-item\"><div class=\"sk-label-container\"><div class=\"sk-label sk-toggleable\"><input class=\"sk-toggleable__control sk-hidden--visually\" id=\"e485e684-61a5-4fb8-80ff-ac754a3b7d36\" type=\"checkbox\" ><label for=\"e485e684-61a5-4fb8-80ff-ac754a3b7d36\" class=\"sk-toggleable__label sk-toggleable__label-arrow\">remainder</label><div class=\"sk-toggleable__content\"><pre>[]</pre></div></div></div><div class=\"sk-serial\"><div class=\"sk-item\"><div class=\"sk-estimator sk-toggleable\"><input class=\"sk-toggleable__control sk-hidden--visually\" id=\"817c48c0-9401-45a7-801e-755b483d9c41\" type=\"checkbox\" ><label for=\"817c48c0-9401-45a7-801e-755b483d9c41\" class=\"sk-toggleable__label sk-toggleable__label-arrow\">passthrough</label><div class=\"sk-toggleable__content\"><pre>passthrough</pre></div></div></div></div></div></div></div></div></div></div>"
            ]
          },
          "metadata": {},
          "execution_count": 19
        }
      ]
    },
    {
      "cell_type": "code",
      "source": [
        "#Transform\n",
        "X_train_processed = preprocessor.transform(X_train)\n",
        "X_test_processed = preprocessor.transform(X_test)"
      ],
      "metadata": {
        "id": "Mrzs5KGd2cGi"
      },
      "execution_count": 20,
      "outputs": []
    },
    {
      "cell_type": "code",
      "source": [
        "# Check for missing values and that data is scaled and one-hot encoded\n",
        "print(np.isnan(X_train_processed).sum().sum(), 'missing values in training data')\n",
        "print(np.isnan(X_test_processed).sum().sum(), 'missing values in testing data')\n",
        "print('\\n')\n",
        "print('All data in X_train_processed are', X_train_processed.dtype)\n",
        "print('All data in X_test_processed are', X_test_processed.dtype)\n",
        "print('\\n')\n",
        "print('shape of data is', X_train_processed.shape)\n",
        "print('shape of data is', X_test_processed.shape)\n",
        "print('\\n')\n",
        "X_train_processed[:5]\n"
      ],
      "metadata": {
        "colab": {
          "base_uri": "https://localhost:8080/"
        },
        "id": "hmb8GUEP2qOx",
        "outputId": "55078909-1b1e-4d22-ab41-4aea35eddb70"
      },
      "execution_count": 21,
      "outputs": [
        {
          "output_type": "stream",
          "name": "stdout",
          "text": [
            "0 missing values in training data\n",
            "0 missing values in testing data\n",
            "\n",
            "\n",
            "All data in X_train_processed are float64\n",
            "All data in X_test_processed are float64\n",
            "\n",
            "\n",
            "shape of data is (6392, 1595)\n",
            "shape of data is (2131, 1595)\n",
            "\n",
            "\n"
          ]
        },
        {
          "output_type": "execute_result",
          "data": {
            "text/plain": [
              "array([[ 0.81724868, -0.71277507,  1.82810922, ...,  0.        ,\n",
              "         1.        ,  0.        ],\n",
              "       [ 0.5563395 , -1.29105225,  0.60336888, ...,  0.        ,\n",
              "         1.        ,  0.        ],\n",
              "       [-0.13151196,  1.81331864,  0.24454056, ...,  1.        ,\n",
              "         0.        ,  0.        ],\n",
              "       [-1.1692189 , -1.00493112, -0.95259072, ...,  1.        ,\n",
              "         0.        ,  0.        ],\n",
              "       [ 1.52881915, -0.96548425, -0.33646004, ...,  1.        ,\n",
              "         0.        ,  0.        ]])"
            ]
          },
          "metadata": {},
          "execution_count": 21
        }
      ]
    }
  ]
}