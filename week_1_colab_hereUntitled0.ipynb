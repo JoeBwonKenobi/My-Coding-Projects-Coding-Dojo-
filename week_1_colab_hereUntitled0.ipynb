{
  "nbformat": 4,
  "nbformat_minor": 0,
  "metadata": {
    "colab": {
      "provenance": [],
      "collapsed_sections": [],
      "authorship_tag": "ABX9TyNlT7noeOk0AkscDGesaXzo",
      "include_colab_link": true
    },
    "kernelspec": {
      "name": "python3",
      "display_name": "Python 3"
    },
    "language_info": {
      "name": "python"
    }
  },
  "cells": [
    {
      "cell_type": "markdown",
      "metadata": {
        "id": "view-in-github",
        "colab_type": "text"
      },
      "source": [
        "<a href=\"https://colab.research.google.com/github/JoeBwonKenobi/Project-1--Part-1-Joe-Lardie/blob/main/week_1_colab_hereUntitled0.ipynb\" target=\"_parent\"><img src=\"https://colab.research.google.com/assets/colab-badge.svg\" alt=\"Open In Colab\"/></a>"
      ]
    },
    {
      "cell_type": "code",
      "source": [
        "# add 2 integers together"
      ],
      "metadata": {
        "id": "tcFtqGvXbn_D"
      },
      "execution_count": null,
      "outputs": []
    },
    {
      "cell_type": "code",
      "execution_count": null,
      "metadata": {
        "colab": {
          "base_uri": "https://localhost:8080/"
        },
        "id": "V5NXI4pZZ7BV",
        "outputId": "57a73e82-c4ee-4339-e8f2-dd17123fa004"
      },
      "outputs": [
        {
          "output_type": "execute_result",
          "data": {
            "text/plain": [
              "2"
            ]
          },
          "metadata": {},
          "execution_count": 1
        }
      ],
      "source": [
        "1+1"
      ]
    },
    {
      "cell_type": "code",
      "source": [
        "#Find the diffence between the two numbers"
      ],
      "metadata": {
        "id": "uILaLPNWbd7i"
      },
      "execution_count": null,
      "outputs": []
    },
    {
      "cell_type": "code",
      "source": [
        "4-1"
      ],
      "metadata": {
        "colab": {
          "base_uri": "https://localhost:8080/"
        },
        "id": "n4-4HrYzbnAo",
        "outputId": "7c58d05a-6e12-4464-eecc-3d0826e2dd00"
      },
      "execution_count": null,
      "outputs": [
        {
          "output_type": "execute_result",
          "data": {
            "text/plain": [
              "3"
            ]
          },
          "metadata": {},
          "execution_count": 2
        }
      ]
    },
    {
      "cell_type": "code",
      "source": [
        "#Exponentiation\n",
        "#This operator raises the number to its left to the number to its right\n",
        "2**4"
      ],
      "metadata": {
        "colab": {
          "base_uri": "https://localhost:8080/"
        },
        "id": "Vy-o_YCOcInB",
        "outputId": "38d8095c-7c85-40f8-825b-0f3f77b81e1a"
      },
      "execution_count": null,
      "outputs": [
        {
          "output_type": "execute_result",
          "data": {
            "text/plain": [
              "16"
            ]
          },
          "metadata": {},
          "execution_count": 3
        }
      ]
    },
    {
      "cell_type": "code",
      "source": [
        "#Multiplication\n",
        "2*3"
      ],
      "metadata": {
        "colab": {
          "base_uri": "https://localhost:8080/"
        },
        "id": "52L9I6HwcmB5",
        "outputId": "439c6cff-fbb9-4790-e863-867712acc8fd"
      },
      "execution_count": null,
      "outputs": [
        {
          "output_type": "execute_result",
          "data": {
            "text/plain": [
              "6"
            ]
          },
          "metadata": {},
          "execution_count": 4
        }
      ]
    },
    {
      "cell_type": "code",
      "source": [
        "#Division\n",
        "#devide the number on the left by the number on the right\n",
        "129/2"
      ],
      "metadata": {
        "colab": {
          "base_uri": "https://localhost:8080/"
        },
        "id": "mOg_oydEcy6g",
        "outputId": "80d746d7-6a92-40d9-c9f5-255cf4f6b01b"
      },
      "execution_count": null,
      "outputs": [
        {
          "output_type": "execute_result",
          "data": {
            "text/plain": [
              "64.5"
            ]
          },
          "metadata": {},
          "execution_count": 6
        }
      ]
    },
    {
      "cell_type": "code",
      "source": [
        "#modulo (%) operator returns the remainder of the division\n",
        "20%3"
      ],
      "metadata": {
        "colab": {
          "base_uri": "https://localhost:8080/"
        },
        "id": "Gm8FEcQudTwE",
        "outputId": "1f9da789-ccc5-4114-e41b-9a399104a624"
      },
      "execution_count": null,
      "outputs": [
        {
          "output_type": "execute_result",
          "data": {
            "text/plain": [
              "2"
            ]
          },
          "metadata": {},
          "execution_count": 7
        }
      ]
    },
    {
      "cell_type": "code",
      "source": [
        "#Floor division \n",
        "#Divide the number on the left by the number on the right and drop the remainder\n",
        "20//3"
      ],
      "metadata": {
        "colab": {
          "base_uri": "https://localhost:8080/"
        },
        "id": "lAaRPH48d28e",
        "outputId": "985ee922-d85f-4e41-ec1f-02436218ea7a"
      },
      "execution_count": null,
      "outputs": [
        {
          "output_type": "execute_result",
          "data": {
            "text/plain": [
              "6"
            ]
          },
          "metadata": {},
          "execution_count": 8
        }
      ]
    },
    {
      "cell_type": "code",
      "source": [
        "(1+4)/2"
      ],
      "metadata": {
        "colab": {
          "base_uri": "https://localhost:8080/"
        },
        "id": "LrOK7myRem_w",
        "outputId": "bf6e7ef6-7a2d-40f9-bdbc-01d9e497891e"
      },
      "execution_count": null,
      "outputs": [
        {
          "output_type": "execute_result",
          "data": {
            "text/plain": [
              "2.5"
            ]
          },
          "metadata": {},
          "execution_count": 9
        }
      ]
    },
    {
      "cell_type": "code",
      "source": [
        "1+4/2"
      ],
      "metadata": {
        "colab": {
          "base_uri": "https://localhost:8080/"
        },
        "id": "UyzEVnZOe-Ws",
        "outputId": "cfad29e4-08e5-4007-c747-78725740596b"
      },
      "execution_count": null,
      "outputs": [
        {
          "output_type": "execute_result",
          "data": {
            "text/plain": [
              "3.0"
            ]
          },
          "metadata": {},
          "execution_count": 10
        }
      ]
    },
    {
      "cell_type": "code",
      "source": [
        "# Round to keep two places after decimal\n",
        "round(10/3,2)"
      ],
      "metadata": {
        "colab": {
          "base_uri": "https://localhost:8080/"
        },
        "id": "heZBUBk6hoFp",
        "outputId": "f825b24d-6b5f-4227-f3d5-aa34f4244deb"
      },
      "execution_count": null,
      "outputs": [
        {
          "output_type": "execute_result",
          "data": {
            "text/plain": [
              "3.33"
            ]
          },
          "metadata": {},
          "execution_count": 11
        }
      ]
    },
    {
      "cell_type": "code",
      "source": [
        "#define a bool\n",
        "12==(3*4)"
      ],
      "metadata": {
        "colab": {
          "base_uri": "https://localhost:8080/"
        },
        "id": "EDrfNcYch9M4",
        "outputId": "87e9b373-ce3c-40ec-fce3-d80a77027648"
      },
      "execution_count": null,
      "outputs": [
        {
          "output_type": "execute_result",
          "data": {
            "text/plain": [
              "True"
            ]
          },
          "metadata": {},
          "execution_count": 12
        }
      ]
    },
    {
      "cell_type": "code",
      "source": [
        "12==(7*7)"
      ],
      "metadata": {
        "colab": {
          "base_uri": "https://localhost:8080/"
        },
        "id": "KoFEZlHgiKNu",
        "outputId": "42c4fcff-d071-47c7-abc4-09ff7280f81d"
      },
      "execution_count": null,
      "outputs": [
        {
          "output_type": "execute_result",
          "data": {
            "text/plain": [
              "False"
            ]
          },
          "metadata": {},
          "execution_count": 13
        }
      ]
    },
    {
      "cell_type": "code",
      "source": [
        "#demo line breaks\n",
        "print(\"I\\nLove\\nCoding\")"
      ],
      "metadata": {
        "colab": {
          "base_uri": "https://localhost:8080/"
        },
        "id": "gO2FJyN9iUWU",
        "outputId": "8ffc6484-dc01-459f-c74c-738b73ca2187"
      },
      "execution_count": null,
      "outputs": [
        {
          "output_type": "stream",
          "name": "stdout",
          "text": [
            "I\n",
            "Love\n",
            "Coding\n"
          ]
        }
      ]
    },
    {
      "cell_type": "code",
      "source": [
        "#check data type\n",
        "type(6)"
      ],
      "metadata": {
        "colab": {
          "base_uri": "https://localhost:8080/"
        },
        "id": "ViLQcBpui9Kh",
        "outputId": "e3c466f0-203a-4a34-c024-5d78436205ab"
      },
      "execution_count": null,
      "outputs": [
        {
          "output_type": "execute_result",
          "data": {
            "text/plain": [
              "int"
            ]
          },
          "metadata": {},
          "execution_count": 15
        }
      ]
    },
    {
      "cell_type": "code",
      "source": [
        "#data type\n",
        "type(\"Welcome to coding dojo\")"
      ],
      "metadata": {
        "colab": {
          "base_uri": "https://localhost:8080/"
        },
        "id": "RcupqIQmjGCj",
        "outputId": "3d8dfa95-c7c2-4ad7-980a-bb3360aa295e"
      },
      "execution_count": null,
      "outputs": [
        {
          "output_type": "execute_result",
          "data": {
            "text/plain": [
              "str"
            ]
          },
          "metadata": {},
          "execution_count": 16
        }
      ]
    },
    {
      "cell_type": "code",
      "source": [
        "#check type\n",
        "type(6*.5)"
      ],
      "metadata": {
        "colab": {
          "base_uri": "https://localhost:8080/"
        },
        "id": "FxkfCtn2jWoT",
        "outputId": "8686b983-1ad1-44a7-e138-04b0cb930576"
      },
      "execution_count": null,
      "outputs": [
        {
          "output_type": "execute_result",
          "data": {
            "text/plain": [
              "float"
            ]
          },
          "metadata": {},
          "execution_count": 17
        }
      ]
    },
    {
      "cell_type": "code",
      "source": [
        "#Run this cell to decaler the variable and print what the variable \"a\" points to\n",
        "#Decale a variable, a , and assign it to 9\n",
        "a=9\n",
        "print(a)"
      ],
      "metadata": {
        "colab": {
          "base_uri": "https://localhost:8080/"
        },
        "id": "TDr2V3pVjiIC",
        "outputId": "3a72161b-63c1-4b71-f4cb-ff44db02dc85"
      },
      "execution_count": null,
      "outputs": [
        {
          "output_type": "stream",
          "name": "stdout",
          "text": [
            "9\n"
          ]
        }
      ]
    },
    {
      "cell_type": "code",
      "source": [
        "#Declare a variable, b, and point it to 14\n",
        "b=14\n",
        "print(b)"
      ],
      "metadata": {
        "colab": {
          "base_uri": "https://localhost:8080/"
        },
        "id": "ANqH68QNmCMp",
        "outputId": "ae1f4a5f-680b-49d0-84a7-fb15e0f9c5de"
      },
      "execution_count": null,
      "outputs": [
        {
          "output_type": "stream",
          "name": "stdout",
          "text": [
            "14\n"
          ]
        }
      ]
    },
    {
      "cell_type": "code",
      "source": [
        "#Run this cell to declare the variable max_value as the value that max(a.b) returns\n",
        "max_value=max(a,b)\n",
        "print(max_value)"
      ],
      "metadata": {
        "colab": {
          "base_uri": "https://localhost:8080/"
        },
        "id": "4snUF19MmbV8",
        "outputId": "8d732df3-b812-45d9-9be8-289617187f37"
      },
      "execution_count": null,
      "outputs": [
        {
          "output_type": "stream",
          "name": "stdout",
          "text": [
            "14\n"
          ]
        }
      ]
    },
    {
      "cell_type": "code",
      "source": [
        "#Run cell to determine diffence between a and b\n",
        "difference= b-a\n",
        "print(difference)"
      ],
      "metadata": {
        "colab": {
          "base_uri": "https://localhost:8080/"
        },
        "id": "U9YSFPdTnPwa",
        "outputId": "082f7ecb-9be3-4777-c786-1d68a7b00e40"
      },
      "execution_count": null,
      "outputs": [
        {
          "output_type": "stream",
          "name": "stdout",
          "text": [
            "5\n"
          ]
        }
      ]
    },
    {
      "cell_type": "code",
      "source": [
        "#doec .upper return avalue or change a value in place"
      ],
      "metadata": {
        "id": "h5C5fxS7nPUn"
      },
      "execution_count": null,
      "outputs": []
    },
    {
      "cell_type": "code",
      "source": [
        "message=\"hello\"\n",
        "caps=message.upper()\n",
        "print(message)\n",
        "print(caps)"
      ],
      "metadata": {
        "colab": {
          "base_uri": "https://localhost:8080/"
        },
        "id": "EZhW7tCroSID",
        "outputId": "bc548572-1276-4bbe-b86f-4382a668588e"
      },
      "execution_count": null,
      "outputs": [
        {
          "output_type": "stream",
          "name": "stdout",
          "text": [
            "hello\n",
            "HELLO\n"
          ]
        }
      ]
    },
    {
      "cell_type": "code",
      "source": [
        "#how to overwrite an immuteable object\n",
        "message='hello'\n",
        "message= message.upper()\n",
        "print(message)"
      ],
      "metadata": {
        "colab": {
          "base_uri": "https://localhost:8080/"
        },
        "id": "WmlHXYTtoq19",
        "outputId": "2ed8ea1e-d3b0-4d45-a7a6-133920d47db3"
      },
      "execution_count": null,
      "outputs": [
        {
          "output_type": "stream",
          "name": "stdout",
          "text": [
            "HELLO\n"
          ]
        }
      ]
    },
    {
      "cell_type": "code",
      "source": [
        "#Use an F string to insert variable values\n",
        "regular_price = 300\n",
        "sale = .2\n",
        "sale_price = (1-sale)*regular_price\n",
        "statement = f'The orignal cost was ${regular_price}, but I purchased it on sale for ${sale_price}.'\n",
        "print(statement)"
      ],
      "metadata": {
        "colab": {
          "base_uri": "https://localhost:8080/"
        },
        "id": "QC3SX6n4pRjJ",
        "outputId": "5d560311-0fde-4adb-9731-d1602ab98b97"
      },
      "execution_count": null,
      "outputs": [
        {
          "output_type": "stream",
          "name": "stdout",
          "text": [
            "The orignal cost was $300, but I purchased it on sale for $240.0.\n"
          ]
        }
      ]
    },
    {
      "cell_type": "code",
      "source": [
        "#create a list object declared as the variable grocery"
      ],
      "metadata": {
        "id": "S5jcojVZwrrq"
      },
      "execution_count": null,
      "outputs": []
    },
    {
      "cell_type": "code",
      "source": [
        "grocery = ['eggs','milk']\n",
        "print(grocery)"
      ],
      "metadata": {
        "colab": {
          "base_uri": "https://localhost:8080/"
        },
        "id": "e5W0wGWkrvtW",
        "outputId": "1fd174ab-9a0d-45a5-dbd9-4c3d2b9e46eb"
      },
      "execution_count": null,
      "outputs": [
        {
          "output_type": "stream",
          "name": "stdout",
          "text": [
            "['eggs', 'milk']\n"
          ]
        }
      ]
    },
    {
      "cell_type": "code",
      "source": [
        "#add \"cheese\" to our list. Does this change the object in place?\n",
        "grocery.append('cheese')\n",
        "print(grocery)"
      ],
      "metadata": {
        "colab": {
          "base_uri": "https://localhost:8080/"
        },
        "id": "jwsEANGexCNm",
        "outputId": "c91910a9-1f0b-468a-adac-dc9b36a37294"
      },
      "execution_count": null,
      "outputs": [
        {
          "output_type": "stream",
          "name": "stdout",
          "text": [
            "['eggs', 'milk', 'cheese']\n"
          ]
        }
      ]
    },
    {
      "cell_type": "code",
      "source": [
        "#define the variables\n",
        "regular_price = 300\n",
        "sale = .2\n",
        "sale_price = (1-sale) *regular_price"
      ],
      "metadata": {
        "id": "DR6jxECsx8Yy"
      },
      "execution_count": null,
      "outputs": []
    },
    {
      "cell_type": "code",
      "source": [
        "#check data type of regular price\n",
        "type(regular_price)"
      ],
      "metadata": {
        "colab": {
          "base_uri": "https://localhost:8080/"
        },
        "id": "oS41oZ9TybsD",
        "outputId": "8fdc93b0-21ba-474e-a19e-039c96e4df65"
      },
      "execution_count": null,
      "outputs": [
        {
          "output_type": "execute_result",
          "data": {
            "text/plain": [
              "int"
            ]
          },
          "metadata": {},
          "execution_count": 42
        }
      ]
    },
    {
      "cell_type": "code",
      "source": [
        "#data type of sale\n",
        "type(sale)"
      ],
      "metadata": {
        "colab": {
          "base_uri": "https://localhost:8080/"
        },
        "id": "KClAqsBRyo2N",
        "outputId": "ffd6304a-515e-4980-a8f7-fda44b170909"
      },
      "execution_count": null,
      "outputs": [
        {
          "output_type": "execute_result",
          "data": {
            "text/plain": [
              "float"
            ]
          },
          "metadata": {},
          "execution_count": 43
        }
      ]
    },
    {
      "cell_type": "code",
      "source": [
        "type(sale_price)"
      ],
      "metadata": {
        "colab": {
          "base_uri": "https://localhost:8080/"
        },
        "id": "S36WU1lkytl5",
        "outputId": "dcca38a6-3360-4e45-8834-a725d17fdf83"
      },
      "execution_count": null,
      "outputs": [
        {
          "output_type": "execute_result",
          "data": {
            "text/plain": [
              "float"
            ]
          },
          "metadata": {},
          "execution_count": 44
        }
      ]
    },
    {
      "cell_type": "code",
      "source": [
        "#declare a whole number value (It will default to data type int)\n",
        "amount= 6\n",
        "type(amount)"
      ],
      "metadata": {
        "colab": {
          "base_uri": "https://localhost:8080/"
        },
        "id": "vnyWLDl_y-GK",
        "outputId": "728f3f0e-768b-4116-b394-1352d09f454e"
      },
      "execution_count": null,
      "outputs": [
        {
          "output_type": "execute_result",
          "data": {
            "text/plain": [
              "int"
            ]
          },
          "metadata": {},
          "execution_count": 46
        }
      ]
    },
    {
      "cell_type": "code",
      "source": [
        "#recast the amount variable as a float\n",
        "amount= float(amount)\n",
        "type(amount)"
      ],
      "metadata": {
        "colab": {
          "base_uri": "https://localhost:8080/"
        },
        "id": "qWYTcfKXztx_",
        "outputId": "2166968f-c82a-46c1-dfc0-5dcc507b32a4"
      },
      "execution_count": null,
      "outputs": [
        {
          "output_type": "execute_result",
          "data": {
            "text/plain": [
              "float"
            ]
          },
          "metadata": {},
          "execution_count": 48
        }
      ]
    },
    {
      "cell_type": "code",
      "source": [
        "#declare a decimal value (it will defaukt to data type float)\n",
        "value= 23.85\n",
        "type(value)"
      ],
      "metadata": {
        "colab": {
          "base_uri": "https://localhost:8080/"
        },
        "id": "R8t9-Nbw0Wx-",
        "outputId": "91f397ed-7672-4b18-bb08-2359c8126dd2"
      },
      "execution_count": null,
      "outputs": [
        {
          "output_type": "execute_result",
          "data": {
            "text/plain": [
              "float"
            ]
          },
          "metadata": {},
          "execution_count": 49
        }
      ]
    },
    {
      "cell_type": "code",
      "source": [
        "#create a new value where data has been converted to an int\n",
        "value_int= int(value)\n",
        "type(value_int)"
      ],
      "metadata": {
        "colab": {
          "base_uri": "https://localhost:8080/"
        },
        "id": "i-GKPROA0u6J",
        "outputId": "2e60025c-c814-4dfd-c75b-dbdd0fc31d29"
      },
      "execution_count": null,
      "outputs": [
        {
          "output_type": "execute_result",
          "data": {
            "text/plain": [
              "int"
            ]
          },
          "metadata": {},
          "execution_count": 53
        }
      ]
    },
    {
      "cell_type": "code",
      "source": [
        "print(value_int)"
      ],
      "metadata": {
        "colab": {
          "base_uri": "https://localhost:8080/"
        },
        "id": "tLhZcckg1OnR",
        "outputId": "bd17fbb9-a204-4bb7-bf0d-6834057789d7"
      },
      "execution_count": null,
      "outputs": [
        {
          "output_type": "stream",
          "name": "stdout",
          "text": [
            "23\n"
          ]
        }
      ]
    },
    {
      "cell_type": "code",
      "source": [
        "round(value)"
      ],
      "metadata": {
        "colab": {
          "base_uri": "https://localhost:8080/"
        },
        "id": "L9AyYCXn1rcc",
        "outputId": "9ff61bd2-a925-47f4-b24f-90761b9d802e"
      },
      "execution_count": null,
      "outputs": [
        {
          "output_type": "execute_result",
          "data": {
            "text/plain": [
              "24"
            ]
          },
          "metadata": {},
          "execution_count": 55
        }
      ]
    },
    {
      "cell_type": "code",
      "source": [
        "#Run this cell to see what value the function returns\n",
        "max(5,7)"
      ],
      "metadata": {
        "colab": {
          "base_uri": "https://localhost:8080/"
        },
        "id": "dv2UgyYh97eU",
        "outputId": "62fcaf46-c466-4dad-c846-965923baf596"
      },
      "execution_count": null,
      "outputs": [
        {
          "output_type": "execute_result",
          "data": {
            "text/plain": [
              "7"
            ]
          },
          "metadata": {},
          "execution_count": 56
        }
      ]
    },
    {
      "cell_type": "code",
      "source": [
        "#Run this cell to get the minimun of 3 and 2.\n",
        "min(3,2)"
      ],
      "metadata": {
        "colab": {
          "base_uri": "https://localhost:8080/"
        },
        "id": "yx483vOB-thu",
        "outputId": "e4e8c40e-4070-442a-8204-5da803e2b44c"
      },
      "execution_count": null,
      "outputs": [
        {
          "output_type": "execute_result",
          "data": {
            "text/plain": [
              "2"
            ]
          },
          "metadata": {},
          "execution_count": 57
        }
      ]
    },
    {
      "cell_type": "code",
      "source": [
        "#Run this cel to return the maximum of the minimum of 10 and 3 and the minimum of 5 and 7\n",
        "max(min(10,3), min(5,7))"
      ],
      "metadata": {
        "colab": {
          "base_uri": "https://localhost:8080/"
        },
        "id": "5PnODU8T-147",
        "outputId": "5d3b6de1-9862-4ec4-a2bf-c4176a4cfeb4"
      },
      "execution_count": null,
      "outputs": [
        {
          "output_type": "execute_result",
          "data": {
            "text/plain": [
              "5"
            ]
          },
          "metadata": {},
          "execution_count": 58
        }
      ]
    },
    {
      "cell_type": "code",
      "source": [
        "#Run this cell to return a lower case string\n",
        "txt = 'Hello'\n",
        "txt.lower()"
      ],
      "metadata": {
        "colab": {
          "base_uri": "https://localhost:8080/",
          "height": 35
        },
        "id": "Dhqw2RCBBHej",
        "outputId": "069fde0b-b772-4b54-88aa-c9847467f54d"
      },
      "execution_count": null,
      "outputs": [
        {
          "output_type": "execute_result",
          "data": {
            "text/plain": [
              "'hello'"
            ],
            "application/vnd.google.colaboratory.intrinsic+json": {
              "type": "string"
            }
          },
          "metadata": {},
          "execution_count": 59
        }
      ]
    },
    {
      "cell_type": "code",
      "source": [
        "#Run this cell to return an upper case string\n",
        "txt.upper()"
      ],
      "metadata": {
        "colab": {
          "base_uri": "https://localhost:8080/",
          "height": 35
        },
        "id": "DEXI5FsnBdCI",
        "outputId": "c826f0f2-6bcb-477e-9216-885b32e835f4"
      },
      "execution_count": null,
      "outputs": [
        {
          "output_type": "execute_result",
          "data": {
            "text/plain": [
              "'HELLO'"
            ],
            "application/vnd.google.colaboratory.intrinsic+json": {
              "type": "string"
            }
          },
          "metadata": {},
          "execution_count": 60
        }
      ]
    },
    {
      "cell_type": "code",
      "source": [
        "#Replace h with j in the string\n",
        "txt.replace('H','j')"
      ],
      "metadata": {
        "colab": {
          "base_uri": "https://localhost:8080/",
          "height": 35
        },
        "id": "Yded9TEIBcwg",
        "outputId": "8bb8d94f-6faa-4c5c-cfa4-12d67d9bfe7c"
      },
      "execution_count": null,
      "outputs": [
        {
          "output_type": "execute_result",
          "data": {
            "text/plain": [
              "'jello'"
            ],
            "application/vnd.google.colaboratory.intrinsic+json": {
              "type": "string"
            }
          },
          "metadata": {},
          "execution_count": 62
        }
      ]
    },
    {
      "cell_type": "code",
      "source": [
        "Word_list= ['this', 'is', 'a', 'list', 'of', 'strings']\n",
        "random_list= [12, 'frog',['this', 'is', 'a', 'list', 'in', 'a', 'list'], True, 3.14]\n",
        "print(Word_list)\n",
        "print(random_list)"
      ],
      "metadata": {
        "colab": {
          "base_uri": "https://localhost:8080/"
        },
        "id": "R2_Tz_s23cpg",
        "outputId": "330de889-d546-4a95-c9f4-9c688fd71bdc"
      },
      "execution_count": null,
      "outputs": [
        {
          "output_type": "stream",
          "name": "stdout",
          "text": [
            "['this', 'is', 'a', 'list', 'of', 'strings']\n",
            "[12, 'frog', ['this', 'is', 'a', 'list', 'in', 'a', 'list'], True, 3.14]\n"
          ]
        }
      ]
    },
    {
      "cell_type": "code",
      "source": [
        "#Use .remove() on word_list\n",
        "Word_list.remove('a')\n",
        "print(Word_list)"
      ],
      "metadata": {
        "colab": {
          "base_uri": "https://localhost:8080/"
        },
        "id": "Q04pdeYT6xLg",
        "outputId": "b4ebad21-5ce3-423d-806e-1cf7afd4aa2c"
      },
      "execution_count": null,
      "outputs": [
        {
          "output_type": "stream",
          "name": "stdout",
          "text": [
            "['this', 'is', 'list', 'of', 'strings']\n"
          ]
        }
      ]
    },
    {
      "cell_type": "code",
      "source": [
        "#Select first item from the list\n",
        "print(random_list[0])"
      ],
      "metadata": {
        "colab": {
          "base_uri": "https://localhost:8080/"
        },
        "id": "70ivSkdv7d0E",
        "outputId": "612533fb-d815-470a-a1fb-27e065f463ef"
      },
      "execution_count": null,
      "outputs": [
        {
          "output_type": "stream",
          "name": "stdout",
          "text": [
            "12\n"
          ]
        }
      ]
    },
    {
      "cell_type": "code",
      "source": [
        "#negative indexing\n",
        "print(random_list[-1])"
      ],
      "metadata": {
        "colab": {
          "base_uri": "https://localhost:8080/"
        },
        "id": "ZYcfK-ca733G",
        "outputId": "cbbaa623-2a25-41c7-c0db-18e5b826d1f8"
      },
      "execution_count": null,
      "outputs": [
        {
          "output_type": "stream",
          "name": "stdout",
          "text": [
            "3.14\n"
          ]
        }
      ]
    },
    {
      "cell_type": "code",
      "source": [
        "#Combine two lists using operator+\n",
        "Word_list + random_list"
      ],
      "metadata": {
        "colab": {
          "base_uri": "https://localhost:8080/"
        },
        "id": "gGpmTLBy8Kmp",
        "outputId": "13e48889-ea8c-450b-c188-d2ff3094be12"
      },
      "execution_count": null,
      "outputs": [
        {
          "output_type": "execute_result",
          "data": {
            "text/plain": [
              "['this',\n",
              " 'is',\n",
              " 'list',\n",
              " 'of',\n",
              " 'strings',\n",
              " 12,\n",
              " 'frog',\n",
              " ['this', 'is', 'a', 'list', 'in', 'a', 'list'],\n",
              " True,\n",
              " 3.14]"
            ]
          },
          "metadata": {},
          "execution_count": 13
        }
      ]
    },
    {
      "cell_type": "code",
      "source": [],
      "metadata": {
        "id": "si9qBrOC8Wy6"
      },
      "execution_count": null,
      "outputs": []
    },
    {
      "cell_type": "code",
      "source": [
        "#demo of tuples of the same data type or mixed data types\n",
        "integer_tuple= (1,2,3,4,5)\n",
        "random_tuple= (1, 'horse',integer_tuple, Word_list, False)\n",
        "print(integer_tuple)\n",
        "print(random_tuple)"
      ],
      "metadata": {
        "colab": {
          "base_uri": "https://localhost:8080/"
        },
        "id": "tEs9pTLt9Apy",
        "outputId": "2678c940-0318-417b-f8f4-b23b3ccd0543"
      },
      "execution_count": null,
      "outputs": [
        {
          "output_type": "stream",
          "name": "stdout",
          "text": [
            "(1, 2, 3, 4, 5)\n",
            "(1, 'horse', (1, 2, 3, 4, 5), ['this', 'is', 'list', 'of', 'strings'], False)\n"
          ]
        }
      ]
    },
    {
      "cell_type": "code",
      "source": [
        "#indexing a range from a tuple\n",
        "print(random_tuple[0:2])"
      ],
      "metadata": {
        "colab": {
          "base_uri": "https://localhost:8080/"
        },
        "id": "Eua00F7b-Ffg",
        "outputId": "c30b68b1-42f1-46d7-efcf-825e977615e4"
      },
      "execution_count": null,
      "outputs": [
        {
          "output_type": "stream",
          "name": "stdout",
          "text": [
            "(1, 'horse')\n"
          ]
        }
      ]
    },
    {
      "cell_type": "code",
      "source": [
        "#dictionary of states and capitals\n",
        "state_caps = {'Ohio':'Columbus','Alabama':'Montgomery','Washinton':'Olympia'}\n",
        "#look up value using the key\n",
        "print(state_caps['Washinton'])"
      ],
      "metadata": {
        "colab": {
          "base_uri": "https://localhost:8080/"
        },
        "id": "4VMFHag8J7JR",
        "outputId": "f3adc8d4-30aa-40d2-f34a-f9f087d6e81c"
      },
      "execution_count": null,
      "outputs": [
        {
          "output_type": "stream",
          "name": "stdout",
          "text": [
            "Olympia\n"
          ]
        }
      ]
    },
    {
      "cell_type": "code",
      "source": [
        "#add new key value pair\n",
        "state_caps['Utah']= 'Salt Lake'\n",
        "print(state_caps)"
      ],
      "metadata": {
        "colab": {
          "base_uri": "https://localhost:8080/"
        },
        "id": "h30spQm7NC0c",
        "outputId": "3ea9c3ee-f776-4594-e705-e43d6ce4a5fd"
      },
      "execution_count": null,
      "outputs": [
        {
          "output_type": "stream",
          "name": "stdout",
          "text": [
            "{'Ohio': 'Columbus', 'Alabama': 'Montgomery', 'Washinton': 'Olympia', 'Utah': 'Salt Lake'}\n"
          ]
        }
      ]
    },
    {
      "cell_type": "code",
      "source": [
        "#change the value associated with the key\n",
        "state_caps['Utah']= 'Salt Lake City'\n",
        "print(state_caps)"
      ],
      "metadata": {
        "colab": {
          "base_uri": "https://localhost:8080/"
        },
        "id": "hFSbbQg_NxY3",
        "outputId": "48045de2-71da-4e0e-a2ab-03219b5dadce"
      },
      "execution_count": null,
      "outputs": [
        {
          "output_type": "stream",
          "name": "stdout",
          "text": [
            "{'Ohio': 'Columbus', 'Alabama': 'Montgomery', 'Washinton': 'Olympia', 'Utah': 'Salt Lake City'}\n"
          ]
        }
      ]
    },
    {
      "cell_type": "code",
      "source": [
        "#Remove a key value pair with the .pop()\n",
        "state_caps.pop('Ohio')\n",
        "print(f'After popping the dictionary now looks like this;{state_caps}.')"
      ],
      "metadata": {
        "colab": {
          "base_uri": "https://localhost:8080/"
        },
        "id": "DJUgLvn2OEqh",
        "outputId": "2a830f93-0bff-4cec-c969-018dde0d891d"
      },
      "execution_count": null,
      "outputs": [
        {
          "output_type": "stream",
          "name": "stdout",
          "text": [
            "After popping the dictionary now looks like this;{'Alabama': 'Montgomery', 'Washinton': 'Olympia', 'Utah': 'Salt Lake City'}.\n"
          ]
        }
      ]
    },
    {
      "cell_type": "code",
      "source": [
        "#Create a list of states and capitals\n",
        "states_list=['Indiana','Kentucky','Texas','Idaho']\n",
        "capital_list=['Indianapolis','Frankfort','Austin','Boise']\n",
        "zip_dict= dict(zip(states_list,capital_list))\n",
        "print(f'We created the following dictionary;{zip_dict}')"
      ],
      "metadata": {
        "colab": {
          "base_uri": "https://localhost:8080/"
        },
        "id": "8KQCfp01PGO5",
        "outputId": "d092eb9f-dc3c-4656-b5d9-f59ea103b843"
      },
      "execution_count": null,
      "outputs": [
        {
          "output_type": "stream",
          "name": "stdout",
          "text": [
            "We created the following dictionary;{'Indiana': 'Indianapolis', 'Kentucky': 'Frankfort', 'Texas': 'Austin', 'Idaho': 'Boise'}\n"
          ]
        }
      ]
    },
    {
      "cell_type": "code",
      "source": [
        "#Adding one dictionary to another\n",
        "state_caps.update(zip_dict)\n",
        "print(state_caps)"
      ],
      "metadata": {
        "colab": {
          "base_uri": "https://localhost:8080/"
        },
        "id": "omt_GzQZQ8Le",
        "outputId": "c1c0f2d1-d0c5-423a-ff71-678f3120f5c8"
      },
      "execution_count": null,
      "outputs": [
        {
          "output_type": "stream",
          "name": "stdout",
          "text": [
            "{'Alabama': 'Montgomery', 'Washinton': 'Olympia', 'Utah': 'Salt Lake City', 'Indiana': 'Indianapolis', 'Kentucky': 'Frankfort', 'Texas': 'Austin', 'Idaho': 'Boise'}\n"
          ]
        }
      ]
    },
    {
      "cell_type": "code",
      "source": [
        "#Example of if statement (condition is True)\n",
        "a=10\n",
        "b=10\n",
        "if a <b:\n",
        "  print('a is less than b')"
      ],
      "metadata": {
        "id": "guEuGEqJRW7q"
      },
      "execution_count": null,
      "outputs": []
    },
    {
      "cell_type": "code",
      "source": [
        "#Example of if statement (condition is false)\n",
        "if a > b:\n",
        "   print('a is not less than b')\n",
        "  "
      ],
      "metadata": {
        "id": "Ql1OsbCnphtN"
      },
      "execution_count": null,
      "outputs": []
    },
    {
      "cell_type": "code",
      "source": [
        "#Example of an if and else statement\n",
        "if a > b:\n",
        "  print('a is less than b')\n",
        "else:\n",
        "  print('a is not less than b')"
      ],
      "metadata": {
        "colab": {
          "base_uri": "https://localhost:8080/"
        },
        "id": "y8QpyWPRrAsG",
        "outputId": "89fe407f-1a45-4fa9-a065-ae2b85110af3"
      },
      "execution_count": null,
      "outputs": [
        {
          "output_type": "stream",
          "name": "stdout",
          "text": [
            "a is not less than b\n"
          ]
        }
      ]
    },
    {
      "cell_type": "code",
      "source": [
        "#Redifine a\n",
        "a = 30\n",
        "b = 20\n",
        "#Example of an if and else statement\n",
        "if a < b:\n",
        "  print('a is less than b')\n",
        "else:\n",
        "  print('a is not less than b')"
      ],
      "metadata": {
        "colab": {
          "base_uri": "https://localhost:8080/"
        },
        "id": "yu0icXAXreNx",
        "outputId": "56a29935-646d-4606-e40c-74e79a011f09"
      },
      "execution_count": null,
      "outputs": [
        {
          "output_type": "stream",
          "name": "stdout",
          "text": [
            "a is not less than b\n"
          ]
        }
      ]
    },
    {
      "cell_type": "code",
      "source": [
        "#Examples of an if/elif/else statement\n",
        "if a < b:\n",
        "  print('a is less than b')\n",
        "elif a == b:\n",
        "  print('a is equal to b')\n",
        "else:\n",
        "  print('a is greater than b')\n"
      ],
      "metadata": {
        "colab": {
          "base_uri": "https://localhost:8080/"
        },
        "id": "P2BW7z_Ar9EW",
        "outputId": "490db122-cb7b-46cc-e6a1-8be3f211b3c9"
      },
      "execution_count": null,
      "outputs": [
        {
          "output_type": "stream",
          "name": "stdout",
          "text": [
            "a is greater than b\n"
          ]
        }
      ]
    },
    {
      "cell_type": "code",
      "source": [
        "#Redefine a\n",
        "a = 20\n",
        "b = 20\n",
        "#Example of an if/elif/else statement\n",
        "if a < b:\n",
        "  print('a is less than b')\n",
        "elif a == b:\n",
        "  print('a is equal to b')\n",
        "else:\n",
        "  print('a is greater than b')"
      ],
      "metadata": {
        "colab": {
          "base_uri": "https://localhost:8080/"
        },
        "id": "IkVap8pBuHyZ",
        "outputId": "0db29622-f713-46c6-801f-6b5132a1669f"
      },
      "execution_count": null,
      "outputs": [
        {
          "output_type": "stream",
          "name": "stdout",
          "text": [
            "a is equal to b\n"
          ]
        }
      ]
    },
    {
      "cell_type": "code",
      "source": [
        "#Redefine a\n",
        "a = 100\n",
        "b = 20\n",
        "#Example of an if/elif/else statement\n",
        "if a == 100:\n",
        "  print('a is equal to 100')\n",
        "elif a >b:\n",
        "  print('a is greater than b')\n",
        "elif a <b:\n",
        "  print('a is less than b')\n",
        "else:\n",
        "  print('a is equal to b')"
      ],
      "metadata": {
        "colab": {
          "base_uri": "https://localhost:8080/"
        },
        "id": "iB3XOVfMuxHT",
        "outputId": "3a6d1ee4-c756-48d1-fff3-5deff5e4fc4e"
      },
      "execution_count": null,
      "outputs": [
        {
          "output_type": "stream",
          "name": "stdout",
          "text": [
            "a is equal to 100\n"
          ]
        }
      ]
    },
    {
      "cell_type": "code",
      "source": [
        "#Example of two different statements\n",
        "if a == 100:\n",
        "  print('a is equal to 100')\n",
        "if a > b:\n",
        "   =\"function call from-rainbow\">print('a is greater than b')\n",
        "elif a < b:\n",
        "  print('a is less than b')\n",
        "else:\n",
        "  print('a is equal to b')"
      ],
      "metadata": {
        "colab": {
          "base_uri": "https://localhost:8080/",
          "height": 130
        },
        "id": "EUDwDve-v0MB",
        "outputId": "b502cee9-30b1-48ce-f03c-de01aaabeb7b"
      },
      "execution_count": null,
      "outputs": [
        {
          "output_type": "error",
          "ename": "SyntaxError",
          "evalue": "ignored",
          "traceback": [
            "\u001b[0;36m  File \u001b[0;32m\"<ipython-input-42-27cc85a5e543>\"\u001b[0;36m, line \u001b[0;32m5\u001b[0m\n\u001b[0;31m    =\"function call from-rainbow\">print('a is greater than b')\u001b[0m\n\u001b[0m    ^\u001b[0m\n\u001b[0;31mSyntaxError\u001b[0m\u001b[0;31m:\u001b[0m invalid syntax\n"
          ]
        }
      ]
    },
    {
      "cell_type": "code",
      "source": [],
      "metadata": {
        "id": "cKu5cr4Vxsn0"
      },
      "execution_count": null,
      "outputs": []
    },
    {
      "cell_type": "code",
      "source": [
        "#Nested Conditional Statements\n",
        "age = 17\n",
        "provisional = True#Nested conditions for driving eligibility\n",
        "if age < 16:\n",
        "  print('You are too young to drive')\n",
        "elif age >= 18:\n",
        "  print('You are eligible to drive without a provisional license')\n",
        "else:\n",
        "  if provisional == True:\n",
        "    print('You are able to drive with your provisional license')\n",
        "  else:\n",
        "    print('You need a provisional license to be eligible to drive')"
      ],
      "metadata": {
        "colab": {
          "base_uri": "https://localhost:8080/"
        },
        "id": "RqNPLL5OyJgM",
        "outputId": "24ec3c23-5c59-4f68-c022-59652a408d8c"
      },
      "execution_count": null,
      "outputs": [
        {
          "output_type": "stream",
          "name": "stdout",
          "text": [
            "You are able to drive with your provisional license\n"
          ]
        }
      ]
    },
    {
      "cell_type": "code",
      "source": [
        "age = 18\n",
        "provisional = False\n",
        "#Nested conditions for drivimg eligibility\n",
        "if age < 16:\n",
        "  print('You are not too young too drive')\n",
        "elif age >=18:\n",
        "  print('You are eligibile to drive without a provisional license')\n",
        "else:\n",
        "  if provisional == True:\n",
        "    print('You are able to drive with your provisional license')\n",
        "  else:\n",
        "      print('You need a provisional license to be eligible to drive')"
      ],
      "metadata": {
        "colab": {
          "base_uri": "https://localhost:8080/"
        },
        "id": "N062uYDdzdOg",
        "outputId": "61816e45-452d-4667-c033-abfa008bff5c"
      },
      "execution_count": null,
      "outputs": [
        {
          "output_type": "stream",
          "name": "stdout",
          "text": [
            "You are eligibile to drive without a provisional license\n"
          ]
        }
      ]
    },
    {
      "cell_type": "code",
      "source": [
        "#Write consition to evaluate if a number is BOTH greater than 10 AND odd\n",
        "num = 13\n",
        "if (num > 10) & (num % 2 !=0):\n",
        "  print('number is greater than 10 and odd')"
      ],
      "metadata": {
        "colab": {
          "base_uri": "https://localhost:8080/"
        },
        "id": "An2CPwL_0muw",
        "outputId": "083a22e6-064f-4e08-8d9a-d45dcfa4a13e"
      },
      "execution_count": null,
      "outputs": [
        {
          "output_type": "stream",
          "name": "stdout",
          "text": [
            "number is greater than 10 and odd\n"
          ]
        }
      ]
    },
    {
      "cell_type": "code",
      "source": [
        "#Write condition to evaluate if a number is BOTH greater than 10 AND odd\n",
        "num = 4\n",
        "if (num > 10) & (num %2 !=0):\n",
        "  print('number is greater than 10 and odd')\n",
        "elif (num> 10):\n",
        "  print('number is greater than 10 and even')\n",
        "elif (num % 2 !=0):\n",
        "  print('number is less than or equal to ten and odd')\n",
        "else:\n",
        "  print('number is less than ten and even')"
      ],
      "metadata": {
        "colab": {
          "base_uri": "https://localhost:8080/"
        },
        "id": "kL3VLor91070",
        "outputId": "98b7b377-71a5-4c10-b9de-614e81186a58"
      },
      "execution_count": null,
      "outputs": [
        {
          "output_type": "stream",
          "name": "stdout",
          "text": [
            "number is less than ten and even\n"
          ]
        }
      ]
    },
    {
      "cell_type": "code",
      "source": [
        "#Write conditions to evaluate if a number is EITHER greater than OR odd(or both)\n",
        "num = 3\n",
        "if (num >10) | (num % 2 != 0):\n",
        "  print('number is either greater than 10, odd, or both')"
      ],
      "metadata": {
        "colab": {
          "base_uri": "https://localhost:8080/"
        },
        "id": "HSTsnZWK3fSF",
        "outputId": "440ca6f7-8291-44c0-8ee2-09e68a245922"
      },
      "execution_count": null,
      "outputs": [
        {
          "output_type": "stream",
          "name": "stdout",
          "text": [
            "number is either greater than 10, odd, or both\n"
          ]
        }
      ]
    },
    {
      "cell_type": "code",
      "source": [
        "num = 2\n",
        "if (num > 10) | (num % 2 != 0):\n",
        " print('number is either greater than 10, odd or both')"
      ],
      "metadata": {
        "id": "FxMaM64a4LhA"
      },
      "execution_count": null,
      "outputs": []
    },
    {
      "cell_type": "code",
      "source": [
        "#define the inital value of 1\n",
        "#define the while condition (we want the loop to repeat while this condition is still True)\n",
        "#indicate what the loop will do\n",
        "#print each iteration\n",
        "i=0\n",
        "while i<5:\n",
        "  i+=1\n",
        "  print(i)"
      ],
      "metadata": {
        "colab": {
          "base_uri": "https://localhost:8080/"
        },
        "id": "XvBBTKzG5DXI",
        "outputId": "4744504b-77b2-4401-8285-8d04968d8f26"
      },
      "execution_count": null,
      "outputs": [
        {
          "output_type": "stream",
          "name": "stdout",
          "text": [
            "1\n",
            "2\n",
            "3\n",
            "4\n",
            "5\n"
          ]
        }
      ]
    },
    {
      "cell_type": "code",
      "source": [
        "i=0\n",
        "while i<5:\n",
        "  i+=1\n",
        "print(i)"
      ],
      "metadata": {
        "colab": {
          "base_uri": "https://localhost:8080/"
        },
        "id": "9hZCBGltPvDc",
        "outputId": "90d14fa4-bd75-4060-afce-a6ddaddd78d2"
      },
      "execution_count": null,
      "outputs": [
        {
          "output_type": "stream",
          "name": "stdout",
          "text": [
            "5\n"
          ]
        }
      ]
    },
    {
      "cell_type": "code",
      "source": [
        "#define the initial object to be iterated on\n",
        "X = [1,2,3,4,5]\n",
        "#Write a for loop\n",
        "for num in X:\n",
        "  double_num = num*2\n",
        "  print(double_num)"
      ],
      "metadata": {
        "id": "mvLddv7ZQhCj",
        "colab": {
          "base_uri": "https://localhost:8080/"
        },
        "outputId": "e3c00fa1-bf2c-4b70-80aa-4e331ebd8e50"
      },
      "execution_count": null,
      "outputs": [
        {
          "output_type": "stream",
          "name": "stdout",
          "text": [
            "2\n",
            "4\n",
            "6\n",
            "8\n",
            "10\n"
          ]
        }
      ]
    },
    {
      "cell_type": "code",
      "source": [
        "print(X)"
      ],
      "metadata": {
        "colab": {
          "base_uri": "https://localhost:8080/"
        },
        "id": "sXz7Y_zTndsY",
        "outputId": "978ba2bf-64dc-4364-d1b0-00fa3eb9abe3"
      },
      "execution_count": null,
      "outputs": [
        {
          "output_type": "stream",
          "name": "stdout",
          "text": [
            "[1, 2, 3, 4, 5]\n"
          ]
        }
      ]
    },
    {
      "cell_type": "code",
      "source": [
        "#Create an empty list to store the new values\n",
        "X_double = []"
      ],
      "metadata": {
        "id": "EUsuL0fQnjte"
      },
      "execution_count": null,
      "outputs": []
    },
    {
      "cell_type": "code",
      "source": [
        "for num in X:\n",
        "  double_num = num*2\n",
        "  X_double.append(double_num)"
      ],
      "metadata": {
        "id": "vXUqtqDDoEAe"
      },
      "execution_count": null,
      "outputs": []
    },
    {
      "cell_type": "code",
      "source": [
        "#Print the new list\n",
        "print(X_double)"
      ],
      "metadata": {
        "colab": {
          "base_uri": "https://localhost:8080/"
        },
        "id": "nI-mzOH_oZKS",
        "outputId": "936f13fb-d058-4abe-f9da-cffa26f9887a"
      },
      "execution_count": null,
      "outputs": [
        {
          "output_type": "stream",
          "name": "stdout",
          "text": [
            "[2, 4, 6, 8, 10]\n"
          ]
        }
      ]
    },
    {
      "cell_type": "code",
      "source": [
        "#Using a list comprehension instead of a for loop\n",
        "[num*2 for num in X]"
      ],
      "metadata": {
        "id": "j7hSOGG2rmxl",
        "colab": {
          "base_uri": "https://localhost:8080/"
        },
        "outputId": "88454c73-ce7d-4bb3-e3a1-8ca6e7abf92d"
      },
      "execution_count": null,
      "outputs": [
        {
          "output_type": "execute_result",
          "data": {
            "text/plain": [
              "[2, 4, 6, 8, 10]"
            ]
          },
          "metadata": {},
          "execution_count": 10
        }
      ]
    },
    {
      "cell_type": "code",
      "source": [
        "#Savimg the result of the list comprehension\n",
        "X_double = [num*2 for num in X]\n",
        "X_double"
      ],
      "metadata": {
        "colab": {
          "base_uri": "https://localhost:8080/"
        },
        "id": "ycd4sOBf1S3N",
        "outputId": "84e63a84-ec18-4e50-8724-83f09b1d9f0b"
      },
      "execution_count": null,
      "outputs": [
        {
          "output_type": "execute_result",
          "data": {
            "text/plain": [
              "[2, 4, 6, 8, 10]"
            ]
          },
          "metadata": {},
          "execution_count": 11
        }
      ]
    },
    {
      "cell_type": "code",
      "source": [
        "#Initialize variables\n",
        "fahrenheit_temps = [65,60,55,72,67,84]\n",
        "celsius_temps = []"
      ],
      "metadata": {
        "id": "ZZB9IyHs28TT"
      },
      "execution_count": null,
      "outputs": []
    },
    {
      "cell_type": "code",
      "source": [
        "#Loop over Fahrenheit temps, convert them, and append the result to celsius temps\n",
        "for f_temps in fahrenheit_temps:\n",
        "  #Convert Farheneit to Celsius\n",
        "  c_temp = (f_temps - 32) * (5/9)\n",
        "  #Round Celsius to 2 decimal places\n",
        "  c_temp = round(c_temp, 2)\n",
        "  #Append Celsius temp to list of Celsius temps\n",
        "  celsius_temps.append(c_temp)\n",
        "print(celsius_temps)"
      ],
      "metadata": {
        "colab": {
          "base_uri": "https://localhost:8080/"
        },
        "id": "M-IvE4YH3bU2",
        "outputId": "6ff29786-ffac-4754-c35f-23e68248133e"
      },
      "execution_count": null,
      "outputs": [
        {
          "output_type": "stream",
          "name": "stdout",
          "text": [
            "[18.33, 15.56, 12.78, 22.22, 19.44, 28.89]\n"
          ]
        }
      ]
    },
    {
      "cell_type": "code",
      "source": [
        "#List comprehension way - NOT RECOMEMENDED!!\n",
        "celsius_temps= [round((f_temps - 32)*(5/9),2) for f_temp in fehrenheit_temps]"
      ],
      "metadata": {
        "colab": {
          "base_uri": "https://localhost:8080/",
          "height": 183
        },
        "id": "2x8xQmMA7I6h",
        "outputId": "b4093747-56c2-46b4-dd93-ebcf9f748a58"
      },
      "execution_count": null,
      "outputs": [
        {
          "output_type": "error",
          "ename": "NameError",
          "evalue": "ignored",
          "traceback": [
            "\u001b[0;31m---------------------------------------------------------------------------\u001b[0m",
            "\u001b[0;31mNameError\u001b[0m                                 Traceback (most recent call last)",
            "\u001b[0;32m<ipython-input-22-4863df328306>\u001b[0m in \u001b[0;36m<module>\u001b[0;34m\u001b[0m\n\u001b[1;32m      1\u001b[0m \u001b[0;31m#List comprehension way - NOT RECOMEMENDED!!\u001b[0m\u001b[0;34m\u001b[0m\u001b[0;34m\u001b[0m\u001b[0;34m\u001b[0m\u001b[0m\n\u001b[0;32m----> 2\u001b[0;31m \u001b[0mcelsius_temps\u001b[0m\u001b[0;34m=\u001b[0m \u001b[0;34m[\u001b[0m\u001b[0mround\u001b[0m\u001b[0;34m(\u001b[0m\u001b[0;34m(\u001b[0m\u001b[0mf_temps\u001b[0m \u001b[0;34m-\u001b[0m \u001b[0;36m32\u001b[0m\u001b[0;34m)\u001b[0m\u001b[0;34m*\u001b[0m\u001b[0;34m(\u001b[0m\u001b[0;36m5\u001b[0m\u001b[0;34m/\u001b[0m\u001b[0;36m9\u001b[0m\u001b[0;34m)\u001b[0m\u001b[0;34m,\u001b[0m\u001b[0;36m2\u001b[0m\u001b[0;34m)\u001b[0m \u001b[0;32mfor\u001b[0m \u001b[0mf_temp\u001b[0m \u001b[0;32min\u001b[0m \u001b[0mfehrenheit_temps\u001b[0m\u001b[0;34m]\u001b[0m\u001b[0;34m\u001b[0m\u001b[0;34m\u001b[0m\u001b[0m\n\u001b[0m",
            "\u001b[0;31mNameError\u001b[0m: name 'fehrenheit_temps' is not defined"
          ]
        }
      ]
    },
    {
      "cell_type": "code",
      "source": [
        "#Create a sequance 1-10 that goes up in increments of 2\n",
        "demo_range = range(2,11,2)\n",
        "# View wach value in the range\n",
        "for i in demo_range:\n",
        "  print(i)"
      ],
      "metadata": {
        "colab": {
          "base_uri": "https://localhost:8080/"
        },
        "id": "OvuQDCUg7vam",
        "outputId": "9714a826-d54a-4053-d839-4ad0cd7a534b"
      },
      "execution_count": null,
      "outputs": [
        {
          "output_type": "stream",
          "name": "stdout",
          "text": [
            "2\n",
            "4\n",
            "6\n",
            "8\n",
            "10\n"
          ]
        }
      ]
    },
    {
      "cell_type": "code",
      "source": [
        "#Put only the end value and use defaults of start at 0, increment by 1\n",
        "default_range = range(7)\n",
        "for i in default_range:\n",
        "  print(i)"
      ],
      "metadata": {
        "colab": {
          "base_uri": "https://localhost:8080/"
        },
        "id": "Mfe-mA648sRe",
        "outputId": "14fd399f-b083-4525-b3cc-ab54ee0e66f8"
      },
      "execution_count": null,
      "outputs": [
        {
          "output_type": "stream",
          "name": "stdout",
          "text": [
            "0\n",
            "1\n",
            "2\n",
            "3\n",
            "4\n",
            "5\n",
            "6\n"
          ]
        }
      ]
    },
    {
      "cell_type": "code",
      "source": [
        "#View range objects in a list\n",
        "list(default_range)"
      ],
      "metadata": {
        "colab": {
          "base_uri": "https://localhost:8080/"
        },
        "id": "s21ZVv-s9JZ-",
        "outputId": "fdcde854-2675-422c-e144-bd83d3803851"
      },
      "execution_count": null,
      "outputs": [
        {
          "output_type": "execute_result",
          "data": {
            "text/plain": [
              "[0, 1, 2, 3, 4, 5, 6]"
            ]
          },
          "metadata": {},
          "execution_count": 25
        }
      ]
    },
    {
      "cell_type": "code",
      "source": [
        "#Stop the loop once the value is > 5\n",
        "for i in demo_range:\n",
        "  print(i)\n",
        "  if i > 5:\n",
        "    break"
      ],
      "metadata": {
        "colab": {
          "base_uri": "https://localhost:8080/"
        },
        "id": "6mTgv4r39eFj",
        "outputId": "d98aaa66-484e-496a-c04f-1badde963afe"
      },
      "execution_count": null,
      "outputs": [
        {
          "output_type": "stream",
          "name": "stdout",
          "text": [
            "2\n",
            "4\n",
            "6\n"
          ]
        }
      ]
    },
    {
      "cell_type": "code",
      "source": [
        "#Define a custom function to sum two variables\n",
        "def return_sum(a,b):\n",
        "  return a + b"
      ],
      "metadata": {
        "id": "MDLtp2zM9xpR"
      },
      "execution_count": null,
      "outputs": []
    },
    {
      "cell_type": "code",
      "source": [
        "#Call function\n",
        "return_sum(3,8)"
      ],
      "metadata": {
        "colab": {
          "base_uri": "https://localhost:8080/"
        },
        "id": "R5uyoozOXbCf",
        "outputId": "ce766bfe-da0b-4f2d-d313-3d5afde0e0ed"
      },
      "execution_count": null,
      "outputs": [
        {
          "output_type": "execute_result",
          "data": {
            "text/plain": [
              "11"
            ]
          },
          "metadata": {},
          "execution_count": 30
        }
      ]
    },
    {
      "cell_type": "code",
      "source": [
        "#Define a variable based on the return of our custom function\n",
        "c = return_sum(4,5)\n",
        "print(c)"
      ],
      "metadata": {
        "colab": {
          "base_uri": "https://localhost:8080/"
        },
        "id": "BngSb4ItXmn4",
        "outputId": "74f26c82-9e3d-470e-a46a-eec43c422def"
      },
      "execution_count": null,
      "outputs": [
        {
          "output_type": "stream",
          "name": "stdout",
          "text": [
            "9\n"
          ]
        }
      ]
    },
    {
      "cell_type": "code",
      "source": [
        "#Define a personalized greetimg function\n",
        "def greet_name(name):\n",
        "  print(f'Hello {name}!')"
      ],
      "metadata": {
        "id": "KvTsc-KGYHAD"
      },
      "execution_count": null,
      "outputs": []
    },
    {
      "cell_type": "code",
      "source": [
        "#Call it\n",
        "greet_name('Bob')"
      ],
      "metadata": {
        "colab": {
          "base_uri": "https://localhost:8080/"
        },
        "id": "Wri3fyzqYZnt",
        "outputId": "7e9d5fba-6885-4487-c6b0-b1e055faa597"
      },
      "execution_count": null,
      "outputs": [
        {
          "output_type": "stream",
          "name": "stdout",
          "text": [
            "Hello Bob!\n"
          ]
        }
      ]
    },
    {
      "cell_type": "code",
      "source": [
        "#Create a list and to demo the len() function on a list\n",
        "subjects = ['Math', 'Science','English', 'Social Studies']\n",
        "len(subjects)"
      ],
      "metadata": {
        "colab": {
          "base_uri": "https://localhost:8080/"
        },
        "id": "cptbHVUUYl5m",
        "outputId": "04f42feb-ce53-4cb8-c42f-6a6c55ccdf87"
      },
      "execution_count": null,
      "outputs": [
        {
          "output_type": "execute_result",
          "data": {
            "text/plain": [
              "4"
            ]
          },
          "metadata": {},
          "execution_count": 35
        }
      ]
    },
    {
      "cell_type": "code",
      "source": [
        "#length of string\n",
        "len('Sarah')"
      ],
      "metadata": {
        "colab": {
          "base_uri": "https://localhost:8080/"
        },
        "id": "Itx-rCmBZJUH",
        "outputId": "e37973ae-9941-443a-c73e-984932d789c3"
      },
      "execution_count": null,
      "outputs": [
        {
          "output_type": "execute_result",
          "data": {
            "text/plain": [
              "5"
            ]
          },
          "metadata": {},
          "execution_count": 36
        }
      ]
    },
    {
      "cell_type": "code",
      "source": [
        "#Define function to print greeting and if name is short or long\n",
        "def greet_count(name):\n",
        "  print(f'Hello {name}!')\n",
        "  if len(name) < 7:\n",
        "    print('short name')\n",
        "  else:\n",
        "    print('long name')\n",
        "\n"
      ],
      "metadata": {
        "id": "9vS7-yicZjEN"
      },
      "execution_count": null,
      "outputs": []
    },
    {
      "cell_type": "code",
      "source": [
        "greet_count('Stephanie')"
      ],
      "metadata": {
        "colab": {
          "base_uri": "https://localhost:8080/"
        },
        "id": "JxAHYmacahow",
        "outputId": "d1087ae8-d19c-4a19-ceed-6ffc1e7c99c3"
      },
      "execution_count": null,
      "outputs": [
        {
          "output_type": "stream",
          "name": "stdout",
          "text": [
            "Hello Stephanie!\n",
            "long name\n"
          ]
        }
      ]
    },
    {
      "cell_type": "code",
      "source": [
        "#Create dictionary of sellers and a number of policies sold each month\n",
        "sales_data = {'Amrita': [20,10,40,50,20,50],\n",
        "              'Joseph':[15,80,45,38,15,83],\n",
        "              'Xian': [55,89,22,34,45,32],\n",
        "              'Gustav': [102,12,32,63,87,34],\n",
        "              'Terracita': [13,21,2,87,5,37],\n",
        "              'Faith': [65,34,82,12,3,54]}"
      ],
      "metadata": {
        "id": "HtOoFZD5ehNs"
      },
      "execution_count": null,
      "outputs": []
    },
    {
      "cell_type": "code",
      "source": [
        "#Functions\n",
        "#Return mean of the list\n",
        "def mean_calc(num_list):\n",
        "  return sum(num_list) / len(num_list)"
      ],
      "metadata": {
        "id": "0wFC1Mameg_o"
      },
      "execution_count": null,
      "outputs": []
    },
    {
      "cell_type": "code",
      "source": [
        "#Sample tester\n",
        "num_list = [1,2,3,4]\n",
        "#Call our function\n",
        "mean_calc(num_list)"
      ],
      "metadata": {
        "colab": {
          "base_uri": "https://localhost:8080/"
        },
        "id": "AkP-kjNzk83M",
        "outputId": "2a60c1ad-a6d8-4951-82b8-368a6be67729"
      },
      "execution_count": null,
      "outputs": [
        {
          "output_type": "execute_result",
          "data": {
            "text/plain": [
              "2.5"
            ]
          },
          "metadata": {},
          "execution_count": 52
        }
      ]
    },
    {
      "cell_type": "code",
      "source": [
        "#Specify the keys os a dictionary\n",
        "sales_data.keys()"
      ],
      "metadata": {
        "colab": {
          "base_uri": "https://localhost:8080/"
        },
        "id": "JqEU0R3llaFc",
        "outputId": "f481f638-ed38-4e30-e049-0e719350a85d"
      },
      "execution_count": null,
      "outputs": [
        {
          "output_type": "execute_result",
          "data": {
            "text/plain": [
              "dict_keys(['Amrita', 'Joseph', 'Xian', 'Gustav', 'Terracita', 'Faith'])"
            ]
          },
          "metadata": {},
          "execution_count": 53
        }
      ]
    },
    {
      "cell_type": "code",
      "source": [
        "#Testing our iterations through the dictionary\n",
        "for seller in sales_data.keys():\n",
        "  print(mean_calc(sales_data[seller]))"
      ],
      "metadata": {
        "colab": {
          "base_uri": "https://localhost:8080/"
        },
        "id": "5zQ0M9TbljFv",
        "outputId": "54f74fa4-7192-4a28-e014-440ebf429204"
      },
      "execution_count": null,
      "outputs": [
        {
          "output_type": "stream",
          "name": "stdout",
          "text": [
            "31.666666666666668\n",
            "46.0\n",
            "46.166666666666664\n",
            "55.0\n",
            "27.5\n",
            "41.666666666666664\n"
          ]
        }
      ]
    },
    {
      "cell_type": "code",
      "source": [
        "#Initialize an empty dictionary to store our sellers and averages\n",
        "averages = {}\n",
        "#Iterate over the keys in the sales_data dictionary\n",
        "for seller in sales_data.keys():\n",
        "#Add the seller name and the average of the their sales to the averages dictionary\n",
        "  averages[seller] = mean_calc(sales_data[seller])\n",
        "#inspect our new dictionary\n",
        "print(averages)"
      ],
      "metadata": {
        "colab": {
          "base_uri": "https://localhost:8080/"
        },
        "id": "waJIY5cjmCrz",
        "outputId": "51705008-e00a-47b4-84fc-a152aa59f3b9"
      },
      "execution_count": null,
      "outputs": [
        {
          "output_type": "stream",
          "name": "stdout",
          "text": [
            "{'Amrita': 31.666666666666668, 'Joseph': 46.0, 'Xian': 46.166666666666664, 'Gustav': 55.0, 'Terracita': 27.5, 'Faith': 41.666666666666664}\n"
          ]
        }
      ]
    },
    {
      "cell_type": "code",
      "source": [
        "def sales_avgs(sales_data):\n",
        "  #Create a new, empty dictionary to store the sales averages in\n",
        "  averages:{}\n",
        "  #Iterate over the keys in the sales_data dictionary\n",
        "  for seller in sales_data.keys():\n",
        "    #Add the seller name and the average of their sales to the averages dictionary\n",
        "   averages[seller] = mean_calc(sales_data[seller])\n",
        "    #Return averages"
      ],
      "metadata": {
        "id": "2RLYNGJYnOCh"
      },
      "execution_count": 13,
      "outputs": []
    },
    {
      "cell_type": "code",
      "source": [
        "#Test the function\n",
        "test_dict= {'Abe':[2,3,4], 'Zoe':[4,2,1]}\n",
        "sales_avgs(test_dict)"
      ],
      "metadata": {
        "colab": {
          "base_uri": "https://localhost:8080/",
          "height": 304
        },
        "id": "MCqq4mL9oDMA",
        "outputId": "adfe903a-3c63-4d08-d391-41ddebf4ade2"
      },
      "execution_count": 14,
      "outputs": [
        {
          "output_type": "error",
          "ename": "NameError",
          "evalue": "ignored",
          "traceback": [
            "\u001b[0;31m---------------------------------------------------------------------------\u001b[0m",
            "\u001b[0;31mNameError\u001b[0m                                 Traceback (most recent call last)",
            "\u001b[0;32m<ipython-input-14-8760eb64fbeb>\u001b[0m in \u001b[0;36m<module>\u001b[0;34m\u001b[0m\n\u001b[1;32m      1\u001b[0m \u001b[0;31m#Test the function\u001b[0m\u001b[0;34m\u001b[0m\u001b[0;34m\u001b[0m\u001b[0;34m\u001b[0m\u001b[0m\n\u001b[1;32m      2\u001b[0m \u001b[0mtest_dict\u001b[0m\u001b[0;34m=\u001b[0m \u001b[0;34m{\u001b[0m\u001b[0;34m'Abe'\u001b[0m\u001b[0;34m:\u001b[0m\u001b[0;34m[\u001b[0m\u001b[0;36m2\u001b[0m\u001b[0;34m,\u001b[0m\u001b[0;36m3\u001b[0m\u001b[0;34m,\u001b[0m\u001b[0;36m4\u001b[0m\u001b[0;34m]\u001b[0m\u001b[0;34m,\u001b[0m \u001b[0;34m'Zoe'\u001b[0m\u001b[0;34m:\u001b[0m\u001b[0;34m[\u001b[0m\u001b[0;36m4\u001b[0m\u001b[0;34m,\u001b[0m\u001b[0;36m2\u001b[0m\u001b[0;34m,\u001b[0m\u001b[0;36m1\u001b[0m\u001b[0;34m]\u001b[0m\u001b[0;34m}\u001b[0m\u001b[0;34m\u001b[0m\u001b[0;34m\u001b[0m\u001b[0m\n\u001b[0;32m----> 3\u001b[0;31m \u001b[0msales_avgs\u001b[0m\u001b[0;34m(\u001b[0m\u001b[0mtest_dict\u001b[0m\u001b[0;34m)\u001b[0m\u001b[0;34m\u001b[0m\u001b[0;34m\u001b[0m\u001b[0m\n\u001b[0m",
            "\u001b[0;32m<ipython-input-13-ea2a7c044e90>\u001b[0m in \u001b[0;36msales_avgs\u001b[0;34m(sales_data)\u001b[0m\n\u001b[1;32m      5\u001b[0m   \u001b[0;32mfor\u001b[0m \u001b[0mseller\u001b[0m \u001b[0;32min\u001b[0m \u001b[0msales_data\u001b[0m\u001b[0;34m.\u001b[0m\u001b[0mkeys\u001b[0m\u001b[0;34m(\u001b[0m\u001b[0;34m)\u001b[0m\u001b[0;34m:\u001b[0m\u001b[0;34m\u001b[0m\u001b[0;34m\u001b[0m\u001b[0m\n\u001b[1;32m      6\u001b[0m     \u001b[0;31m#Add the seller name and the average of their sales to the averages dictionary\u001b[0m\u001b[0;34m\u001b[0m\u001b[0;34m\u001b[0m\u001b[0;34m\u001b[0m\u001b[0m\n\u001b[0;32m----> 7\u001b[0;31m    \u001b[0maverages\u001b[0m\u001b[0;34m[\u001b[0m\u001b[0mseller\u001b[0m\u001b[0;34m]\u001b[0m \u001b[0;34m=\u001b[0m \u001b[0mmean_calc\u001b[0m\u001b[0;34m(\u001b[0m\u001b[0msales_data\u001b[0m\u001b[0;34m[\u001b[0m\u001b[0mseller\u001b[0m\u001b[0;34m]\u001b[0m\u001b[0;34m)\u001b[0m\u001b[0;34m\u001b[0m\u001b[0;34m\u001b[0m\u001b[0m\n\u001b[0m\u001b[1;32m      8\u001b[0m     \u001b[0;31m#Return averages\u001b[0m\u001b[0;34m\u001b[0m\u001b[0;34m\u001b[0m\u001b[0;34m\u001b[0m\u001b[0m\n",
            "\u001b[0;31mNameError\u001b[0m: name 'mean_calc' is not defined"
          ]
        }
      ]
    },
    {
      "cell_type": "code",
      "source": [
        "#Define a custom function to print the highest and lowest performers, on average, along with their average number of monthly sales.\n",
        "def lowest_and_highest(average_sales):\n",
        "  lowest_seller = min(average_sales, key = average_sales.get)\n",
        "  lowest_sold = average_sales[lowest-seller]\n",
        "  highest_seller = max(average_sales, key = average_sales.get)\n",
        "  highest_sold = average_sales[highest_seller]\n",
        "  print(f'The lowest seller was {lowest_seller}with{lowest_sold} sales.')\n",
        "  print(f'The highest sller was{highest_seller} with {highest_sold} sales.')"
      ],
      "metadata": {
        "id": "HTZKZm6ICH4U"
      },
      "execution_count": 1,
      "outputs": []
    },
    {
      "cell_type": "code",
      "source": [
        "#Rename ' lowest_highest '\n",
        "#add an argument called 'which' that will control which result the function calculates & prints:\n",
        "#Highest will cause the function to rturn the highest selling broker\n",
        "#Lowest will cause the function to return the lowest selling broker\n",
        "# Within the body of the function, we now set up two conditional (if)statements.\n",
        "#We also move the first print statement to the appropriate location.\n",
        "#Take some time to compare the new verion of this function to the previous version.\n",
        "#Define a custom function to peint the highest or lowest performers on average along with their average number of sales\n",
        "def lowest_or_highest(average_sales,which):\n",
        "  if which == 'lowest':\n",
        "    lowest_seller = min(average_sales,key = average_sales.get)\n",
        "    lowest_sold = average_sales[lowest_seller]\n",
        "    print(f'The lowest seller was {lowest_seller} with {lowest_sold} sales.')\n",
        "  if which == 'highest':\n",
        "    highest_seller = max(average_sales, key = average_sales.get)\n",
        "    higest_sold = average_sales[highest_seller]\n",
        "    print(f'The highest seller was {highest_seller} with {highest_sold} sales.')"
      ],
      "metadata": {
        "id": "v4Z_lWRcE4AH"
      },
      "execution_count": 5,
      "outputs": []
    },
    {
      "cell_type": "code",
      "source": [
        "#Test function\n",
        "lowest_or_highest(average_sales, 'lowest')"
      ],
      "metadata": {
        "colab": {
          "base_uri": "https://localhost:8080/",
          "height": 183
        },
        "id": "lVRSREMyIg0t",
        "outputId": "634b4a8f-3139-4a87-f63b-57942149a32d"
      },
      "execution_count": 6,
      "outputs": [
        {
          "output_type": "error",
          "ename": "NameError",
          "evalue": "ignored",
          "traceback": [
            "\u001b[0;31m---------------------------------------------------------------------------\u001b[0m",
            "\u001b[0;31mNameError\u001b[0m                                 Traceback (most recent call last)",
            "\u001b[0;32m<ipython-input-6-062ee6133d0e>\u001b[0m in \u001b[0;36m<module>\u001b[0;34m\u001b[0m\n\u001b[1;32m      1\u001b[0m \u001b[0;31m#Test function\u001b[0m\u001b[0;34m\u001b[0m\u001b[0;34m\u001b[0m\u001b[0;34m\u001b[0m\u001b[0m\n\u001b[0;32m----> 2\u001b[0;31m \u001b[0mlowest_or_highest\u001b[0m\u001b[0;34m(\u001b[0m\u001b[0maverage_sales\u001b[0m\u001b[0;34m,\u001b[0m \u001b[0;34m'lowest'\u001b[0m\u001b[0;34m)\u001b[0m\u001b[0;34m\u001b[0m\u001b[0;34m\u001b[0m\u001b[0m\n\u001b[0m",
            "\u001b[0;31mNameError\u001b[0m: name 'average_sales' is not defined"
          ]
        }
      ]
    },
    {
      "cell_type": "code",
      "source": [
        "#Test function for highest\n",
        "lowest_or_highest(average_sales, 'highest')"
      ],
      "metadata": {
        "colab": {
          "base_uri": "https://localhost:8080/",
          "height": 183
        },
        "id": "TkvcWtkbXsWW",
        "outputId": "72069ff8-546c-4be2-b727-96ccfea69449"
      },
      "execution_count": 7,
      "outputs": [
        {
          "output_type": "error",
          "ename": "NameError",
          "evalue": "ignored",
          "traceback": [
            "\u001b[0;31m---------------------------------------------------------------------------\u001b[0m",
            "\u001b[0;31mNameError\u001b[0m                                 Traceback (most recent call last)",
            "\u001b[0;32m<ipython-input-7-8ee4b2f7a3f4>\u001b[0m in \u001b[0;36m<module>\u001b[0;34m\u001b[0m\n\u001b[1;32m      1\u001b[0m \u001b[0;31m#Test function for highest\u001b[0m\u001b[0;34m\u001b[0m\u001b[0;34m\u001b[0m\u001b[0;34m\u001b[0m\u001b[0m\n\u001b[0;32m----> 2\u001b[0;31m \u001b[0mlowest_or_highest\u001b[0m\u001b[0;34m(\u001b[0m\u001b[0maverage_sales\u001b[0m\u001b[0;34m,\u001b[0m \u001b[0;34m'highest'\u001b[0m\u001b[0;34m)\u001b[0m\u001b[0;34m\u001b[0m\u001b[0;34m\u001b[0m\u001b[0m\n\u001b[0m",
            "\u001b[0;31mNameError\u001b[0m: name 'average_sales' is not defined"
          ]
        }
      ]
    },
    {
      "cell_type": "code",
      "source": [
        "#Define a custom function to print the highest or lowest performers on average along with their average number of sales\n",
        "def lowest_or_highest(average_sales,which):\n",
        "\n",
        "  if (which =='lowest') | (which == 'both'):\n",
        "    lowest_seller = min (average_sales, key = average_sales.get)\n",
        "    lowest_sold = average_sales[lowest_seller]\n",
        "    print(f'The lowest seller was {lowest_seller} with{lowest_sold} sales.')\n",
        "  if (which == 'highest') | (which == 'both'):\n",
        "    highest_seller = max(average_sales,key =average_sales.get)\n",
        "    highest_sold = average_sales[highest_seller]\n",
        "    print(f'The highest seller was{highest_seller} with {highest_sold} sales.')"
      ],
      "metadata": {
        "id": "WB-mZuDwX8Uz"
      },
      "execution_count": 10,
      "outputs": []
    },
    {
      "cell_type": "code",
      "source": [
        "#Test function for lowest\n",
        "lowest_or_highest(average_sales, 'lowest')"
      ],
      "metadata": {
        "colab": {
          "base_uri": "https://localhost:8080/",
          "height": 183
        },
        "id": "-SMOYx3maU4W",
        "outputId": "0eccfcad-140f-4233-d986-6119c36c40b6"
      },
      "execution_count": 11,
      "outputs": [
        {
          "output_type": "error",
          "ename": "NameError",
          "evalue": "ignored",
          "traceback": [
            "\u001b[0;31m---------------------------------------------------------------------------\u001b[0m",
            "\u001b[0;31mNameError\u001b[0m                                 Traceback (most recent call last)",
            "\u001b[0;32m<ipython-input-11-ae9ad9018e56>\u001b[0m in \u001b[0;36m<module>\u001b[0;34m\u001b[0m\n\u001b[1;32m      1\u001b[0m \u001b[0;31m#Test function for lowest\u001b[0m\u001b[0;34m\u001b[0m\u001b[0;34m\u001b[0m\u001b[0;34m\u001b[0m\u001b[0m\n\u001b[0;32m----> 2\u001b[0;31m \u001b[0mlowest_or_highest\u001b[0m\u001b[0;34m(\u001b[0m\u001b[0maverage_sales\u001b[0m\u001b[0;34m,\u001b[0m \u001b[0;34m'lowest'\u001b[0m\u001b[0;34m)\u001b[0m\u001b[0;34m\u001b[0m\u001b[0;34m\u001b[0m\u001b[0m\n\u001b[0m",
            "\u001b[0;31mNameError\u001b[0m: name 'average_sales' is not defined"
          ]
        }
      ]
    },
    {
      "cell_type": "code",
      "source": [
        "#test function for highest\n",
        "lowest_or_highest(average_sales, 'highest')\n",
        "\n",
        "#Test for both\n",
        "lowest_or_highest(average_sales, 'both')\n"
      ],
      "metadata": {
        "id": "od6epe9CapAx"
      },
      "execution_count": null,
      "outputs": []
    },
    {
      "cell_type": "code",
      "source": [
        "#Calling the function withoiut a value for 'which'\n",
        "lowest_or_highest(average_sales)"
      ],
      "metadata": {
        "colab": {
          "base_uri": "https://localhost:8080/",
          "height": 183
        },
        "id": "U959mI0IbUdf",
        "outputId": "bc82953a-3f4a-4f78-84ee-67dc7ebd493b"
      },
      "execution_count": 12,
      "outputs": [
        {
          "output_type": "error",
          "ename": "NameError",
          "evalue": "ignored",
          "traceback": [
            "\u001b[0;31m---------------------------------------------------------------------------\u001b[0m",
            "\u001b[0;31mNameError\u001b[0m                                 Traceback (most recent call last)",
            "\u001b[0;32m<ipython-input-12-35587fe954c1>\u001b[0m in \u001b[0;36m<module>\u001b[0;34m\u001b[0m\n\u001b[1;32m      1\u001b[0m \u001b[0;31m#Calling the function withoiut a value for 'which'\u001b[0m\u001b[0;34m\u001b[0m\u001b[0;34m\u001b[0m\u001b[0;34m\u001b[0m\u001b[0m\n\u001b[0;32m----> 2\u001b[0;31m \u001b[0mlowest_or_highest\u001b[0m\u001b[0;34m(\u001b[0m\u001b[0maverage_sales\u001b[0m\u001b[0;34m)\u001b[0m\u001b[0;34m\u001b[0m\u001b[0;34m\u001b[0m\u001b[0m\n\u001b[0m",
            "\u001b[0;31mNameError\u001b[0m: name 'average_sales' is not defined"
          ]
        }
      ]
    },
    {
      "cell_type": "code",
      "source": [],
      "metadata": {
        "id": "QqBwbpaodzYi"
      },
      "execution_count": null,
      "outputs": []
    },
    {
      "cell_type": "code",
      "source": [
        "def lowest_or_highest(average_sales, which ='both'):\n",
        "\n",
        "  if (which == 'lowest') | (which == 'both'):\n",
        "    lowest_seller = min(average_sales, key =average_sales.get)\n",
        "    loest_sold = average_sales[lowest_seller]\n",
        "    print(f'THe lowest seller was {lowest_seller} with {lowest_sold} sales.')\n",
        "  if (which == 'highest') | (which == ' both'):\n",
        "    highest_seller = max(average-sales, key = average_sales.get)\n",
        "    highest_sold = average_sales[highest_seller]\n",
        "    print(f'The highest sller was {highest_seller} with {highest_sold} sales.')\n",
        "#Testing our function - not providing a value for which\n",
        "lowest_or_highest(average-sales)\n"
      ],
      "metadata": {
        "id": "YdpN8mkqgR7U"
      },
      "execution_count": null,
      "outputs": []
    }
  ]
}